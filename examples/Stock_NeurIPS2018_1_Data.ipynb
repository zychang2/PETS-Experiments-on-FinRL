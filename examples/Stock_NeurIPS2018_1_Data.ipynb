{
  "cells": [
    {
      "cell_type": "markdown",
      "metadata": {
        "id": "Sy8r7_g5WjAT"
      },
      "source": [
        "# Stock NeurIPS2018 Part 1. Data\n",
        "This series is a reproduction of paper *the process in the paper Practical Deep Reinforcement Learning Approach for Stock Trading*. \n",
        "\n",
        "This is the first part of the NeurIPS2018 series, introducing how to use FinRL to fetch and process data that we need for ML/RL trading.\n",
        "\n",
        "Other demos can be found at the repo of [FinRL-Tutorials]((https://github.com/AI4Finance-Foundation/FinRL-Tutorials))."
      ]
    },
    {
      "cell_type": "markdown",
      "metadata": {
        "id": "2uH1KXctgnoJ"
      },
      "source": [
        "# Part 1. Install Packages"
      ]
    },
    {
      "cell_type": "code",
      "execution_count": 1,
      "metadata": {
        "id": "a2oD49e_N_05"
      },
      "outputs": [
        {
          "name": "stdout",
          "output_type": "stream",
          "text": [
            "Collecting git+https://github.com/AI4Finance-Foundation/FinRL.git\n",
            "  Cloning https://github.com/AI4Finance-Foundation/FinRL.git to /scratch/961756/pip-req-build-74ja2yib\n",
            "  Running command git clone --filter=blob:none --quiet https://github.com/AI4Finance-Foundation/FinRL.git /scratch/961756/pip-req-build-74ja2yib\n",
            "  Resolved https://github.com/AI4Finance-Foundation/FinRL.git to commit 0496601ee2824ca675beb5a220afd9109ac02ffa\n",
            "  Installing build dependencies ... \u001b[?25ldone\n",
            "\u001b[?25h  Getting requirements to build wheel ... \u001b[?25ldone\n",
            "\u001b[?25h  Preparing metadata (pyproject.toml) ... \u001b[?25ldone\n",
            "\u001b[?25hCollecting elegantrl@ git+https://github.com/AI4Finance-Foundation/ElegantRL.git#egg=elegantrl (from finrl==0.3.6)\n",
            "  Cloning https://github.com/AI4Finance-Foundation/ElegantRL.git to /scratch/961756/pip-install-si2_crzm/elegantrl_ca97c9b815314025977fb9dca3f85e13\n",
            "  Running command git clone --filter=blob:none --quiet https://github.com/AI4Finance-Foundation/ElegantRL.git /scratch/961756/pip-install-si2_crzm/elegantrl_ca97c9b815314025977fb9dca3f85e13\n",
            "  Resolved https://github.com/AI4Finance-Foundation/ElegantRL.git to commit c2939fefe0e3ec55601ded49e39fdf9d7d781ea0\n",
            "  Preparing metadata (setup.py) ... \u001b[?25ldone\n",
            "\u001b[?25hRequirement already satisfied: alpaca-trade-api<4,>=3 in /storage/ice1/9/3/skamath36/.conda/envs/cs8803drl_hw2/lib/python3.10/site-packages (from finrl==0.3.6) (3.2.0)\n",
            "Requirement already satisfied: ccxt<4,>=3 in /storage/ice1/9/3/skamath36/.conda/envs/cs8803drl_hw2/lib/python3.10/site-packages (from finrl==0.3.6) (3.1.60)\n",
            "Requirement already satisfied: exchange-calendars<5,>=4 in /storage/ice1/9/3/skamath36/.conda/envs/cs8803drl_hw2/lib/python3.10/site-packages (from finrl==0.3.6) (4.5.8)\n",
            "Requirement already satisfied: jqdatasdk<2,>=1 in /storage/ice1/9/3/skamath36/.conda/envs/cs8803drl_hw2/lib/python3.10/site-packages (from finrl==0.3.6) (1.9.6)\n",
            "Requirement already satisfied: pyfolio<0.10,>=0.9 in /storage/ice1/9/3/skamath36/.conda/envs/cs8803drl_hw2/lib/python3.10/site-packages (from finrl==0.3.6) (0.9.2)\n",
            "Requirement already satisfied: pyportfolioopt<2,>=1 in /storage/ice1/9/3/skamath36/.conda/envs/cs8803drl_hw2/lib/python3.10/site-packages (from finrl==0.3.6) (1.5.5)\n",
            "Requirement already satisfied: ray<3,>=2 in /storage/ice1/9/3/skamath36/.conda/envs/cs8803drl_hw2/lib/python3.10/site-packages (from ray[default,tune]<3,>=2->finrl==0.3.6) (2.39.0)\n",
            "Requirement already satisfied: scikit-learn<2,>=1 in /storage/ice1/9/3/skamath36/.conda/envs/cs8803drl_hw2/lib/python3.10/site-packages (from finrl==0.3.6) (1.5.2)\n",
            "Requirement already satisfied: stable-baselines3>=2.0.0a5 in /storage/ice1/9/3/skamath36/.conda/envs/cs8803drl_hw2/lib/python3.10/site-packages (from stable-baselines3[extra]>=2.0.0a5->finrl==0.3.6) (2.5.0a0)\n",
            "Requirement already satisfied: stockstats<0.6,>=0.5 in /storage/ice1/9/3/skamath36/.conda/envs/cs8803drl_hw2/lib/python3.10/site-packages (from finrl==0.3.6) (0.5.4)\n",
            "Requirement already satisfied: wrds<4,>=3 in /storage/ice1/9/3/skamath36/.conda/envs/cs8803drl_hw2/lib/python3.10/site-packages (from finrl==0.3.6) (3.2.0)\n",
            "Requirement already satisfied: yfinance<0.3,>=0.2 in /storage/ice1/9/3/skamath36/.conda/envs/cs8803drl_hw2/lib/python3.10/site-packages (from finrl==0.3.6) (0.2.50)\n",
            "Requirement already satisfied: pandas>=0.18.1 in /storage/ice1/9/3/skamath36/.conda/envs/cs8803drl_hw2/lib/python3.10/site-packages (from alpaca-trade-api<4,>=3->finrl==0.3.6) (2.2.3)\n",
            "Requirement already satisfied: numpy>=1.11.1 in /storage/ice1/9/3/skamath36/.conda/envs/cs8803drl_hw2/lib/python3.10/site-packages (from alpaca-trade-api<4,>=3->finrl==0.3.6) (1.26.4)\n",
            "Requirement already satisfied: requests<3,>2 in /storage/ice1/9/3/skamath36/.conda/envs/cs8803drl_hw2/lib/python3.10/site-packages (from alpaca-trade-api<4,>=3->finrl==0.3.6) (2.32.3)\n",
            "Requirement already satisfied: urllib3<2,>1.24 in /storage/ice1/9/3/skamath36/.conda/envs/cs8803drl_hw2/lib/python3.10/site-packages (from alpaca-trade-api<4,>=3->finrl==0.3.6) (1.26.20)\n",
            "Requirement already satisfied: websocket-client<2,>=0.56.0 in /storage/ice1/9/3/skamath36/.conda/envs/cs8803drl_hw2/lib/python3.10/site-packages (from alpaca-trade-api<4,>=3->finrl==0.3.6) (1.8.0)\n",
            "Requirement already satisfied: websockets<11,>=9.0 in /storage/ice1/9/3/skamath36/.conda/envs/cs8803drl_hw2/lib/python3.10/site-packages (from alpaca-trade-api<4,>=3->finrl==0.3.6) (10.4)\n",
            "Requirement already satisfied: msgpack==1.0.3 in /storage/ice1/9/3/skamath36/.conda/envs/cs8803drl_hw2/lib/python3.10/site-packages (from alpaca-trade-api<4,>=3->finrl==0.3.6) (1.0.3)\n",
            "Requirement already satisfied: aiohttp<4,>=3.8.3 in /storage/ice1/9/3/skamath36/.conda/envs/cs8803drl_hw2/lib/python3.10/site-packages (from alpaca-trade-api<4,>=3->finrl==0.3.6) (3.11.7)\n",
            "Requirement already satisfied: PyYAML==6.0.1 in /storage/ice1/9/3/skamath36/.conda/envs/cs8803drl_hw2/lib/python3.10/site-packages (from alpaca-trade-api<4,>=3->finrl==0.3.6) (6.0.1)\n",
            "Requirement already satisfied: deprecation==2.1.0 in /storage/ice1/9/3/skamath36/.conda/envs/cs8803drl_hw2/lib/python3.10/site-packages (from alpaca-trade-api<4,>=3->finrl==0.3.6) (2.1.0)\n",
            "Requirement already satisfied: packaging in /storage/ice1/9/3/skamath36/.conda/envs/cs8803drl_hw2/lib/python3.10/site-packages (from deprecation==2.1.0->alpaca-trade-api<4,>=3->finrl==0.3.6) (23.2)\n",
            "Requirement already satisfied: setuptools>=60.9.0 in /storage/ice1/9/3/skamath36/.conda/envs/cs8803drl_hw2/lib/python3.10/site-packages (from ccxt<4,>=3->finrl==0.3.6) (75.1.0)\n",
            "Requirement already satisfied: certifi>=2018.1.18 in /storage/ice1/9/3/skamath36/.conda/envs/cs8803drl_hw2/lib/python3.10/site-packages (from ccxt<4,>=3->finrl==0.3.6) (2024.8.30)\n",
            "Requirement already satisfied: cryptography>=2.6.1 in /storage/ice1/9/3/skamath36/.conda/envs/cs8803drl_hw2/lib/python3.10/site-packages (from ccxt<4,>=3->finrl==0.3.6) (43.0.3)\n",
            "Requirement already satisfied: aiodns>=1.1.1 in /storage/ice1/9/3/skamath36/.conda/envs/cs8803drl_hw2/lib/python3.10/site-packages (from ccxt<4,>=3->finrl==0.3.6) (3.2.0)\n",
            "Requirement already satisfied: yarl>=1.7.2 in /storage/ice1/9/3/skamath36/.conda/envs/cs8803drl_hw2/lib/python3.10/site-packages (from ccxt<4,>=3->finrl==0.3.6) (1.18.0)\n",
            "Requirement already satisfied: pyluach in /storage/ice1/9/3/skamath36/.conda/envs/cs8803drl_hw2/lib/python3.10/site-packages (from exchange-calendars<5,>=4->finrl==0.3.6) (2.2.0)\n",
            "Requirement already satisfied: toolz in /storage/ice1/9/3/skamath36/.conda/envs/cs8803drl_hw2/lib/python3.10/site-packages (from exchange-calendars<5,>=4->finrl==0.3.6) (1.0.0)\n",
            "Requirement already satisfied: tzdata in /storage/ice1/9/3/skamath36/.conda/envs/cs8803drl_hw2/lib/python3.10/site-packages (from exchange-calendars<5,>=4->finrl==0.3.6) (2024.2)\n",
            "Requirement already satisfied: korean-lunar-calendar in /storage/ice1/9/3/skamath36/.conda/envs/cs8803drl_hw2/lib/python3.10/site-packages (from exchange-calendars<5,>=4->finrl==0.3.6) (0.3.1)\n",
            "Requirement already satisfied: six in /storage/ice1/9/3/skamath36/.conda/envs/cs8803drl_hw2/lib/python3.10/site-packages (from jqdatasdk<2,>=1->finrl==0.3.6) (1.16.0)\n",
            "Requirement already satisfied: SQLAlchemy>=1.2.8 in /storage/ice1/9/3/skamath36/.conda/envs/cs8803drl_hw2/lib/python3.10/site-packages (from jqdatasdk<2,>=1->finrl==0.3.6) (2.0.36)\n",
            "Requirement already satisfied: pymysql>=0.7.6 in /storage/ice1/9/3/skamath36/.conda/envs/cs8803drl_hw2/lib/python3.10/site-packages (from jqdatasdk<2,>=1->finrl==0.3.6) (1.1.1)\n",
            "Requirement already satisfied: thriftpy2!=0.5.1,>=0.3.9 in /storage/ice1/9/3/skamath36/.conda/envs/cs8803drl_hw2/lib/python3.10/site-packages (from jqdatasdk<2,>=1->finrl==0.3.6) (0.5.2)\n",
            "Requirement already satisfied: ipython>=3.2.3 in /storage/ice1/9/3/skamath36/.conda/envs/cs8803drl_hw2/lib/python3.10/site-packages (from pyfolio<0.10,>=0.9->finrl==0.3.6) (8.29.0)\n",
            "Requirement already satisfied: matplotlib>=1.4.0 in /storage/ice1/9/3/skamath36/.conda/envs/cs8803drl_hw2/lib/python3.10/site-packages (from pyfolio<0.10,>=0.9->finrl==0.3.6) (3.9.2)\n",
            "Requirement already satisfied: pytz>=2014.10 in /storage/ice1/9/3/skamath36/.conda/envs/cs8803drl_hw2/lib/python3.10/site-packages (from pyfolio<0.10,>=0.9->finrl==0.3.6) (2024.2)\n",
            "Requirement already satisfied: scipy>=0.14.0 in /storage/ice1/9/3/skamath36/.conda/envs/cs8803drl_hw2/lib/python3.10/site-packages (from pyfolio<0.10,>=0.9->finrl==0.3.6) (1.12.0)\n",
            "Requirement already satisfied: seaborn>=0.7.1 in /storage/ice1/9/3/skamath36/.conda/envs/cs8803drl_hw2/lib/python3.10/site-packages (from pyfolio<0.10,>=0.9->finrl==0.3.6) (0.13.2)\n",
            "Requirement already satisfied: empyrical>=0.5.0 in /storage/ice1/9/3/skamath36/.conda/envs/cs8803drl_hw2/lib/python3.10/site-packages (from pyfolio<0.10,>=0.9->finrl==0.3.6) (0.5.5)\n",
            "Requirement already satisfied: cvxpy<2.0.0,>=1.1.19 in /storage/ice1/9/3/skamath36/.conda/envs/cs8803drl_hw2/lib/python3.10/site-packages (from pyportfolioopt<2,>=1->finrl==0.3.6) (1.6.0)\n",
            "Requirement already satisfied: click>=7.0 in /storage/ice1/9/3/skamath36/.conda/envs/cs8803drl_hw2/lib/python3.10/site-packages (from ray<3,>=2->ray[default,tune]<3,>=2->finrl==0.3.6) (8.1.7)\n",
            "Requirement already satisfied: filelock in /storage/ice1/9/3/skamath36/.conda/envs/cs8803drl_hw2/lib/python3.10/site-packages (from ray<3,>=2->ray[default,tune]<3,>=2->finrl==0.3.6) (3.13.1)\n",
            "Requirement already satisfied: jsonschema in /storage/ice1/9/3/skamath36/.conda/envs/cs8803drl_hw2/lib/python3.10/site-packages (from ray<3,>=2->ray[default,tune]<3,>=2->finrl==0.3.6) (4.23.0)\n",
            "Requirement already satisfied: protobuf!=3.19.5,>=3.15.3 in /home/hice1/skamath36/.local/lib/python3.10/site-packages (from ray<3,>=2->ray[default,tune]<3,>=2->finrl==0.3.6) (4.25.5)\n",
            "Requirement already satisfied: aiosignal in /storage/ice1/9/3/skamath36/.conda/envs/cs8803drl_hw2/lib/python3.10/site-packages (from ray<3,>=2->ray[default,tune]<3,>=2->finrl==0.3.6) (1.3.1)\n",
            "Requirement already satisfied: frozenlist in /storage/ice1/9/3/skamath36/.conda/envs/cs8803drl_hw2/lib/python3.10/site-packages (from ray<3,>=2->ray[default,tune]<3,>=2->finrl==0.3.6) (1.5.0)\n",
            "Requirement already satisfied: aiohttp-cors in /storage/ice1/9/3/skamath36/.conda/envs/cs8803drl_hw2/lib/python3.10/site-packages (from ray[default,tune]<3,>=2->finrl==0.3.6) (0.7.0)\n",
            "Requirement already satisfied: colorful in /storage/ice1/9/3/skamath36/.conda/envs/cs8803drl_hw2/lib/python3.10/site-packages (from ray[default,tune]<3,>=2->finrl==0.3.6) (0.5.6)\n",
            "Requirement already satisfied: py-spy>=0.2.0 in /storage/ice1/9/3/skamath36/.conda/envs/cs8803drl_hw2/lib/python3.10/site-packages (from ray[default,tune]<3,>=2->finrl==0.3.6) (0.4.0)\n",
            "Requirement already satisfied: opencensus in /storage/ice1/9/3/skamath36/.conda/envs/cs8803drl_hw2/lib/python3.10/site-packages (from ray[default,tune]<3,>=2->finrl==0.3.6) (0.11.4)\n",
            "Requirement already satisfied: pydantic!=2.0.*,!=2.1.*,!=2.2.*,!=2.3.*,!=2.4.*,<3 in /storage/ice1/9/3/skamath36/.conda/envs/cs8803drl_hw2/lib/python3.10/site-packages (from ray[default,tune]<3,>=2->finrl==0.3.6) (2.10.0)\n",
            "Requirement already satisfied: prometheus-client>=0.7.1 in /storage/ice1/9/3/skamath36/.conda/envs/cs8803drl_hw2/lib/python3.10/site-packages (from ray[default,tune]<3,>=2->finrl==0.3.6) (0.21.0)\n",
            "Requirement already satisfied: smart-open in /storage/ice1/9/3/skamath36/.conda/envs/cs8803drl_hw2/lib/python3.10/site-packages (from ray[default,tune]<3,>=2->finrl==0.3.6) (7.0.5)\n",
            "Requirement already satisfied: virtualenv!=20.21.1,>=20.0.24 in /storage/ice1/9/3/skamath36/.conda/envs/cs8803drl_hw2/lib/python3.10/site-packages (from ray[default,tune]<3,>=2->finrl==0.3.6) (20.27.1)\n",
            "Requirement already satisfied: grpcio>=1.42.0 in /home/hice1/skamath36/.local/lib/python3.10/site-packages (from ray[default,tune]<3,>=2->finrl==0.3.6) (1.67.0)\n",
            "Requirement already satisfied: memray in /storage/ice1/9/3/skamath36/.conda/envs/cs8803drl_hw2/lib/python3.10/site-packages (from ray[default,tune]<3,>=2->finrl==0.3.6) (1.14.0)\n",
            "Requirement already satisfied: tensorboardX>=1.9 in /storage/ice1/9/3/skamath36/.conda/envs/cs8803drl_hw2/lib/python3.10/site-packages (from ray[default,tune]<3,>=2->finrl==0.3.6) (2.6.2.2)\n",
            "Requirement already satisfied: pyarrow>=6.0.1 in /storage/ice1/9/3/skamath36/.conda/envs/cs8803drl_hw2/lib/python3.10/site-packages (from ray[default,tune]<3,>=2->finrl==0.3.6) (18.0.0)\n",
            "Requirement already satisfied: fsspec in /storage/ice1/9/3/skamath36/.conda/envs/cs8803drl_hw2/lib/python3.10/site-packages (from ray[default,tune]<3,>=2->finrl==0.3.6) (2024.6.1)\n",
            "Requirement already satisfied: joblib>=1.2.0 in /storage/ice1/9/3/skamath36/.conda/envs/cs8803drl_hw2/lib/python3.10/site-packages (from scikit-learn<2,>=1->finrl==0.3.6) (1.4.2)\n",
            "Requirement already satisfied: threadpoolctl>=3.1.0 in /storage/ice1/9/3/skamath36/.conda/envs/cs8803drl_hw2/lib/python3.10/site-packages (from scikit-learn<2,>=1->finrl==0.3.6) (3.5.0)\n",
            "Requirement already satisfied: gymnasium<1.1.0,>=0.29.1 in /storage/ice1/9/3/skamath36/.conda/envs/cs8803drl_hw2/lib/python3.10/site-packages (from stable-baselines3>=2.0.0a5->stable-baselines3[extra]>=2.0.0a5->finrl==0.3.6) (1.0.0)\n",
            "Requirement already satisfied: torch<3.0,>=2.3 in /storage/ice1/9/3/skamath36/.conda/envs/cs8803drl_hw2/lib/python3.10/site-packages (from stable-baselines3>=2.0.0a5->stable-baselines3[extra]>=2.0.0a5->finrl==0.3.6) (2.3.0.post101)\n",
            "Requirement already satisfied: cloudpickle in /home/hice1/skamath36/.local/lib/python3.10/site-packages (from stable-baselines3>=2.0.0a5->stable-baselines3[extra]>=2.0.0a5->finrl==0.3.6) (3.1.0)\n",
            "Requirement already satisfied: opencv-python in /storage/ice1/9/3/skamath36/.conda/envs/cs8803drl_hw2/lib/python3.10/site-packages (from stable-baselines3[extra]>=2.0.0a5->finrl==0.3.6) (4.10.0.84)\n",
            "Requirement already satisfied: pygame in /storage/ice1/9/3/skamath36/.conda/envs/cs8803drl_hw2/lib/python3.10/site-packages (from stable-baselines3[extra]>=2.0.0a5->finrl==0.3.6) (2.1.3.dev8)\n",
            "Requirement already satisfied: tensorboard>=2.9.1 in /home/hice1/skamath36/.local/lib/python3.10/site-packages (from stable-baselines3[extra]>=2.0.0a5->finrl==0.3.6) (2.17.1)\n",
            "Requirement already satisfied: psutil in /storage/ice1/9/3/skamath36/.conda/envs/cs8803drl_hw2/lib/python3.10/site-packages (from stable-baselines3[extra]>=2.0.0a5->finrl==0.3.6) (6.1.0)\n",
            "Requirement already satisfied: tqdm in /storage/ice1/9/3/skamath36/.conda/envs/cs8803drl_hw2/lib/python3.10/site-packages (from stable-baselines3[extra]>=2.0.0a5->finrl==0.3.6) (4.66.6)\n",
            "Requirement already satisfied: rich in /home/hice1/skamath36/.local/lib/python3.10/site-packages (from stable-baselines3[extra]>=2.0.0a5->finrl==0.3.6) (13.9.2)\n",
            "Requirement already satisfied: ale-py>=0.9.0 in /storage/ice1/9/3/skamath36/.conda/envs/cs8803drl_hw2/lib/python3.10/site-packages (from stable-baselines3[extra]>=2.0.0a5->finrl==0.3.6) (0.10.1)\n",
            "Requirement already satisfied: pillow in /storage/ice1/9/3/skamath36/.conda/envs/cs8803drl_hw2/lib/python3.10/site-packages (from stable-baselines3[extra]>=2.0.0a5->finrl==0.3.6) (11.0.0)\n",
            "Requirement already satisfied: psycopg2-binary<2.10,>=2.9 in /storage/ice1/9/3/skamath36/.conda/envs/cs8803drl_hw2/lib/python3.10/site-packages (from wrds<4,>=3->finrl==0.3.6) (2.9.10)\n",
            "Requirement already satisfied: multitasking>=0.0.7 in /storage/ice1/9/3/skamath36/.conda/envs/cs8803drl_hw2/lib/python3.10/site-packages (from yfinance<0.3,>=0.2->finrl==0.3.6) (0.0.11)\n",
            "Requirement already satisfied: lxml>=4.9.1 in /storage/ice1/9/3/skamath36/.conda/envs/cs8803drl_hw2/lib/python3.10/site-packages (from yfinance<0.3,>=0.2->finrl==0.3.6) (5.3.0)\n",
            "Requirement already satisfied: platformdirs>=2.0.0 in /storage/ice1/9/3/skamath36/.conda/envs/cs8803drl_hw2/lib/python3.10/site-packages (from yfinance<0.3,>=0.2->finrl==0.3.6) (4.3.6)\n",
            "Requirement already satisfied: frozendict>=2.3.4 in /storage/ice1/9/3/skamath36/.conda/envs/cs8803drl_hw2/lib/python3.10/site-packages (from yfinance<0.3,>=0.2->finrl==0.3.6) (2.4.6)\n",
            "Requirement already satisfied: peewee>=3.16.2 in /storage/ice1/9/3/skamath36/.conda/envs/cs8803drl_hw2/lib/python3.10/site-packages (from yfinance<0.3,>=0.2->finrl==0.3.6) (3.17.8)\n",
            "Requirement already satisfied: beautifulsoup4>=4.11.1 in /storage/ice1/9/3/skamath36/.conda/envs/cs8803drl_hw2/lib/python3.10/site-packages (from yfinance<0.3,>=0.2->finrl==0.3.6) (4.12.3)\n",
            "Requirement already satisfied: html5lib>=1.1 in /storage/ice1/9/3/skamath36/.conda/envs/cs8803drl_hw2/lib/python3.10/site-packages (from yfinance<0.3,>=0.2->finrl==0.3.6) (1.1)\n",
            "Requirement already satisfied: th in /storage/ice1/9/3/skamath36/.conda/envs/cs8803drl_hw2/lib/python3.10/site-packages (from elegantrl@ git+https://github.com/AI4Finance-Foundation/ElegantRL.git#egg=elegantrl->finrl==0.3.6) (0.4.1)\n",
            "Requirement already satisfied: pycares>=4.0.0 in /storage/ice1/9/3/skamath36/.conda/envs/cs8803drl_hw2/lib/python3.10/site-packages (from aiodns>=1.1.1->ccxt<4,>=3->finrl==0.3.6) (4.4.0)\n",
            "Requirement already satisfied: aiohappyeyeballs>=2.3.0 in /storage/ice1/9/3/skamath36/.conda/envs/cs8803drl_hw2/lib/python3.10/site-packages (from aiohttp<4,>=3.8.3->alpaca-trade-api<4,>=3->finrl==0.3.6) (2.4.3)\n",
            "Requirement already satisfied: async-timeout<6.0,>=4.0 in /storage/ice1/9/3/skamath36/.conda/envs/cs8803drl_hw2/lib/python3.10/site-packages (from aiohttp<4,>=3.8.3->alpaca-trade-api<4,>=3->finrl==0.3.6) (5.0.1)\n",
            "Requirement already satisfied: attrs>=17.3.0 in /storage/ice1/9/3/skamath36/.conda/envs/cs8803drl_hw2/lib/python3.10/site-packages (from aiohttp<4,>=3.8.3->alpaca-trade-api<4,>=3->finrl==0.3.6) (24.2.0)\n",
            "Requirement already satisfied: multidict<7.0,>=4.5 in /storage/ice1/9/3/skamath36/.conda/envs/cs8803drl_hw2/lib/python3.10/site-packages (from aiohttp<4,>=3.8.3->alpaca-trade-api<4,>=3->finrl==0.3.6) (6.1.0)\n",
            "Requirement already satisfied: propcache>=0.2.0 in /storage/ice1/9/3/skamath36/.conda/envs/cs8803drl_hw2/lib/python3.10/site-packages (from aiohttp<4,>=3.8.3->alpaca-trade-api<4,>=3->finrl==0.3.6) (0.2.0)\n",
            "Requirement already satisfied: typing-extensions in /storage/ice1/9/3/skamath36/.conda/envs/cs8803drl_hw2/lib/python3.10/site-packages (from ale-py>=0.9.0->stable-baselines3[extra]>=2.0.0a5->finrl==0.3.6) (4.12.2)\n",
            "Requirement already satisfied: soupsieve>1.2 in /storage/ice1/9/3/skamath36/.conda/envs/cs8803drl_hw2/lib/python3.10/site-packages (from beautifulsoup4>=4.11.1->yfinance<0.3,>=0.2->finrl==0.3.6) (2.6)\n",
            "Requirement already satisfied: cffi>=1.12 in /storage/ice1/9/3/skamath36/.conda/envs/cs8803drl_hw2/lib/python3.10/site-packages (from cryptography>=2.6.1->ccxt<4,>=3->finrl==0.3.6) (1.17.1)\n",
            "Requirement already satisfied: osqp>=0.6.2 in /storage/ice1/9/3/skamath36/.conda/envs/cs8803drl_hw2/lib/python3.10/site-packages (from cvxpy<2.0.0,>=1.1.19->pyportfolioopt<2,>=1->finrl==0.3.6) (0.6.7.post3)\n",
            "Requirement already satisfied: clarabel>=0.5.0 in /storage/ice1/9/3/skamath36/.conda/envs/cs8803drl_hw2/lib/python3.10/site-packages (from cvxpy<2.0.0,>=1.1.19->pyportfolioopt<2,>=1->finrl==0.3.6) (0.9.0)\n",
            "Requirement already satisfied: scs>=3.2.4.post1 in /storage/ice1/9/3/skamath36/.conda/envs/cs8803drl_hw2/lib/python3.10/site-packages (from cvxpy<2.0.0,>=1.1.19->pyportfolioopt<2,>=1->finrl==0.3.6) (3.2.7)\n",
            "Requirement already satisfied: pandas-datareader>=0.2 in /storage/ice1/9/3/skamath36/.conda/envs/cs8803drl_hw2/lib/python3.10/site-packages (from empyrical>=0.5.0->pyfolio<0.10,>=0.9->finrl==0.3.6) (0.10.0)\n",
            "Requirement already satisfied: farama-notifications>=0.0.1 in /storage/ice1/9/3/skamath36/.conda/envs/cs8803drl_hw2/lib/python3.10/site-packages (from gymnasium<1.1.0,>=0.29.1->stable-baselines3>=2.0.0a5->stable-baselines3[extra]>=2.0.0a5->finrl==0.3.6) (0.0.4)\n",
            "Requirement already satisfied: webencodings in /storage/ice1/9/3/skamath36/.conda/envs/cs8803drl_hw2/lib/python3.10/site-packages (from html5lib>=1.1->yfinance<0.3,>=0.2->finrl==0.3.6) (0.5.1)\n",
            "Requirement already satisfied: decorator in /storage/ice1/9/3/skamath36/.conda/envs/cs8803drl_hw2/lib/python3.10/site-packages (from ipython>=3.2.3->pyfolio<0.10,>=0.9->finrl==0.3.6) (5.1.1)\n",
            "Requirement already satisfied: jedi>=0.16 in /storage/ice1/9/3/skamath36/.conda/envs/cs8803drl_hw2/lib/python3.10/site-packages (from ipython>=3.2.3->pyfolio<0.10,>=0.9->finrl==0.3.6) (0.19.1)\n",
            "Requirement already satisfied: matplotlib-inline in /storage/ice1/9/3/skamath36/.conda/envs/cs8803drl_hw2/lib/python3.10/site-packages (from ipython>=3.2.3->pyfolio<0.10,>=0.9->finrl==0.3.6) (0.1.7)\n",
            "Requirement already satisfied: prompt-toolkit<3.1.0,>=3.0.41 in /storage/ice1/9/3/skamath36/.conda/envs/cs8803drl_hw2/lib/python3.10/site-packages (from ipython>=3.2.3->pyfolio<0.10,>=0.9->finrl==0.3.6) (3.0.48)\n",
            "Requirement already satisfied: pygments>=2.4.0 in /storage/ice1/9/3/skamath36/.conda/envs/cs8803drl_hw2/lib/python3.10/site-packages (from ipython>=3.2.3->pyfolio<0.10,>=0.9->finrl==0.3.6) (2.18.0)\n",
            "Requirement already satisfied: stack-data in /storage/ice1/9/3/skamath36/.conda/envs/cs8803drl_hw2/lib/python3.10/site-packages (from ipython>=3.2.3->pyfolio<0.10,>=0.9->finrl==0.3.6) (0.6.3)\n",
            "Requirement already satisfied: traitlets>=5.13.0 in /storage/ice1/9/3/skamath36/.conda/envs/cs8803drl_hw2/lib/python3.10/site-packages (from ipython>=3.2.3->pyfolio<0.10,>=0.9->finrl==0.3.6) (5.14.3)\n",
            "Requirement already satisfied: exceptiongroup in /storage/ice1/9/3/skamath36/.conda/envs/cs8803drl_hw2/lib/python3.10/site-packages (from ipython>=3.2.3->pyfolio<0.10,>=0.9->finrl==0.3.6) (1.2.2)\n",
            "Requirement already satisfied: pexpect>4.3 in /storage/ice1/9/3/skamath36/.conda/envs/cs8803drl_hw2/lib/python3.10/site-packages (from ipython>=3.2.3->pyfolio<0.10,>=0.9->finrl==0.3.6) (4.9.0)\n",
            "Requirement already satisfied: contourpy>=1.0.1 in /storage/ice1/9/3/skamath36/.conda/envs/cs8803drl_hw2/lib/python3.10/site-packages (from matplotlib>=1.4.0->pyfolio<0.10,>=0.9->finrl==0.3.6) (1.3.0)\n",
            "Requirement already satisfied: cycler>=0.10 in /storage/ice1/9/3/skamath36/.conda/envs/cs8803drl_hw2/lib/python3.10/site-packages (from matplotlib>=1.4.0->pyfolio<0.10,>=0.9->finrl==0.3.6) (0.12.1)\n",
            "Requirement already satisfied: fonttools>=4.22.0 in /storage/ice1/9/3/skamath36/.conda/envs/cs8803drl_hw2/lib/python3.10/site-packages (from matplotlib>=1.4.0->pyfolio<0.10,>=0.9->finrl==0.3.6) (4.54.1)\n",
            "Requirement already satisfied: kiwisolver>=1.3.1 in /storage/ice1/9/3/skamath36/.conda/envs/cs8803drl_hw2/lib/python3.10/site-packages (from matplotlib>=1.4.0->pyfolio<0.10,>=0.9->finrl==0.3.6) (1.4.7)\n",
            "Requirement already satisfied: pyparsing>=2.3.1 in /storage/ice1/9/3/skamath36/.conda/envs/cs8803drl_hw2/lib/python3.10/site-packages (from matplotlib>=1.4.0->pyfolio<0.10,>=0.9->finrl==0.3.6) (3.2.0)\n",
            "Requirement already satisfied: python-dateutil>=2.7 in /storage/ice1/9/3/skamath36/.conda/envs/cs8803drl_hw2/lib/python3.10/site-packages (from matplotlib>=1.4.0->pyfolio<0.10,>=0.9->finrl==0.3.6) (2.9.0.post0)\n",
            "Requirement already satisfied: annotated-types>=0.6.0 in /storage/ice1/9/3/skamath36/.conda/envs/cs8803drl_hw2/lib/python3.10/site-packages (from pydantic!=2.0.*,!=2.1.*,!=2.2.*,!=2.3.*,!=2.4.*,<3->ray[default,tune]<3,>=2->finrl==0.3.6) (0.7.0)\n",
            "Requirement already satisfied: pydantic-core==2.27.0 in /storage/ice1/9/3/skamath36/.conda/envs/cs8803drl_hw2/lib/python3.10/site-packages (from pydantic!=2.0.*,!=2.1.*,!=2.2.*,!=2.3.*,!=2.4.*,<3->ray[default,tune]<3,>=2->finrl==0.3.6) (2.27.0)\n",
            "Requirement already satisfied: charset-normalizer<4,>=2 in /storage/ice1/9/3/skamath36/.conda/envs/cs8803drl_hw2/lib/python3.10/site-packages (from requests<3,>2->alpaca-trade-api<4,>=3->finrl==0.3.6) (3.4.0)\n",
            "Requirement already satisfied: idna<4,>=2.5 in /storage/ice1/9/3/skamath36/.conda/envs/cs8803drl_hw2/lib/python3.10/site-packages (from requests<3,>2->alpaca-trade-api<4,>=3->finrl==0.3.6) (3.10)\n",
            "Requirement already satisfied: greenlet!=0.4.17 in /storage/ice1/9/3/skamath36/.conda/envs/cs8803drl_hw2/lib/python3.10/site-packages (from SQLAlchemy>=1.2.8->jqdatasdk<2,>=1->finrl==0.3.6) (3.1.1)\n",
            "Requirement already satisfied: absl-py>=0.4 in /home/hice1/skamath36/.local/lib/python3.10/site-packages (from tensorboard>=2.9.1->stable-baselines3[extra]>=2.0.0a5->finrl==0.3.6) (2.1.0)\n",
            "Requirement already satisfied: markdown>=2.6.8 in /home/hice1/skamath36/.local/lib/python3.10/site-packages (from tensorboard>=2.9.1->stable-baselines3[extra]>=2.0.0a5->finrl==0.3.6) (3.7)\n",
            "Requirement already satisfied: tensorboard-data-server<0.8.0,>=0.7.0 in /home/hice1/skamath36/.local/lib/python3.10/site-packages (from tensorboard>=2.9.1->stable-baselines3[extra]>=2.0.0a5->finrl==0.3.6) (0.7.2)\n",
            "Requirement already satisfied: werkzeug>=1.0.1 in /home/hice1/skamath36/.local/lib/python3.10/site-packages (from tensorboard>=2.9.1->stable-baselines3[extra]>=2.0.0a5->finrl==0.3.6) (3.0.4)\n",
            "Requirement already satisfied: Cython>=3.0.10 in /storage/ice1/9/3/skamath36/.conda/envs/cs8803drl_hw2/lib/python3.10/site-packages (from thriftpy2!=0.5.1,>=0.3.9->jqdatasdk<2,>=1->finrl==0.3.6) (3.0.11)\n",
            "Requirement already satisfied: ply<4.0,>=3.4 in /storage/ice1/9/3/skamath36/.conda/envs/cs8803drl_hw2/lib/python3.10/site-packages (from thriftpy2!=0.5.1,>=0.3.9->jqdatasdk<2,>=1->finrl==0.3.6) (3.11)\n",
            "Requirement already satisfied: sympy in /storage/ice1/9/3/skamath36/.conda/envs/cs8803drl_hw2/lib/python3.10/site-packages (from torch<3.0,>=2.3->stable-baselines3>=2.0.0a5->stable-baselines3[extra]>=2.0.0a5->finrl==0.3.6) (1.13.2)\n",
            "Requirement already satisfied: networkx in /storage/ice1/9/3/skamath36/.conda/envs/cs8803drl_hw2/lib/python3.10/site-packages (from torch<3.0,>=2.3->stable-baselines3>=2.0.0a5->stable-baselines3[extra]>=2.0.0a5->finrl==0.3.6) (3.3)\n",
            "Requirement already satisfied: jinja2 in /storage/ice1/9/3/skamath36/.conda/envs/cs8803drl_hw2/lib/python3.10/site-packages (from torch<3.0,>=2.3->stable-baselines3>=2.0.0a5->stable-baselines3[extra]>=2.0.0a5->finrl==0.3.6) (3.1.4)\n",
            "Requirement already satisfied: distlib<1,>=0.3.7 in /storage/ice1/9/3/skamath36/.conda/envs/cs8803drl_hw2/lib/python3.10/site-packages (from virtualenv!=20.21.1,>=20.0.24->ray[default,tune]<3,>=2->finrl==0.3.6) (0.3.9)\n",
            "Requirement already satisfied: jsonschema-specifications>=2023.03.6 in /storage/ice1/9/3/skamath36/.conda/envs/cs8803drl_hw2/lib/python3.10/site-packages (from jsonschema->ray<3,>=2->ray[default,tune]<3,>=2->finrl==0.3.6) (2024.10.1)\n",
            "Requirement already satisfied: referencing>=0.28.4 in /storage/ice1/9/3/skamath36/.conda/envs/cs8803drl_hw2/lib/python3.10/site-packages (from jsonschema->ray<3,>=2->ray[default,tune]<3,>=2->finrl==0.3.6) (0.35.1)\n",
            "Requirement already satisfied: rpds-py>=0.7.1 in /storage/ice1/9/3/skamath36/.conda/envs/cs8803drl_hw2/lib/python3.10/site-packages (from jsonschema->ray<3,>=2->ray[default,tune]<3,>=2->finrl==0.3.6) (0.21.0)\n",
            "Requirement already satisfied: textual>=0.41.0 in /storage/ice1/9/3/skamath36/.conda/envs/cs8803drl_hw2/lib/python3.10/site-packages (from memray->ray[default,tune]<3,>=2->finrl==0.3.6) (0.86.3)\n",
            "Requirement already satisfied: markdown-it-py>=2.2.0 in /home/hice1/skamath36/.local/lib/python3.10/site-packages (from rich->stable-baselines3[extra]>=2.0.0a5->finrl==0.3.6) (3.0.0)\n",
            "Requirement already satisfied: opencensus-context>=0.1.3 in /storage/ice1/9/3/skamath36/.conda/envs/cs8803drl_hw2/lib/python3.10/site-packages (from opencensus->ray[default,tune]<3,>=2->finrl==0.3.6) (0.1.3)\n",
            "Requirement already satisfied: google-api-core<3.0.0,>=1.0.0 in /storage/ice1/9/3/skamath36/.conda/envs/cs8803drl_hw2/lib/python3.10/site-packages (from opencensus->ray[default,tune]<3,>=2->finrl==0.3.6) (2.23.0)\n",
            "Requirement already satisfied: wrapt in /home/hice1/skamath36/.local/lib/python3.10/site-packages (from smart-open->ray[default,tune]<3,>=2->finrl==0.3.6) (1.16.0)\n",
            "Requirement already satisfied: niltype<2.0,>=0.3 in /storage/ice1/9/3/skamath36/.conda/envs/cs8803drl_hw2/lib/python3.10/site-packages (from th->elegantrl@ git+https://github.com/AI4Finance-Foundation/ElegantRL.git#egg=elegantrl->finrl==0.3.6) (1.0.2)\n",
            "Requirement already satisfied: pycparser in /storage/ice1/9/3/skamath36/.conda/envs/cs8803drl_hw2/lib/python3.10/site-packages (from cffi>=1.12->cryptography>=2.6.1->ccxt<4,>=3->finrl==0.3.6) (2.22)\n",
            "Requirement already satisfied: googleapis-common-protos<2.0.dev0,>=1.56.2 in /storage/ice1/9/3/skamath36/.conda/envs/cs8803drl_hw2/lib/python3.10/site-packages (from google-api-core<3.0.0,>=1.0.0->opencensus->ray[default,tune]<3,>=2->finrl==0.3.6) (1.66.0)\n",
            "Requirement already satisfied: proto-plus<2.0.0dev,>=1.22.3 in /storage/ice1/9/3/skamath36/.conda/envs/cs8803drl_hw2/lib/python3.10/site-packages (from google-api-core<3.0.0,>=1.0.0->opencensus->ray[default,tune]<3,>=2->finrl==0.3.6) (1.25.0)\n",
            "Requirement already satisfied: google-auth<3.0.dev0,>=2.14.1 in /storage/ice1/9/3/skamath36/.conda/envs/cs8803drl_hw2/lib/python3.10/site-packages (from google-api-core<3.0.0,>=1.0.0->opencensus->ray[default,tune]<3,>=2->finrl==0.3.6) (2.36.0)\n",
            "Requirement already satisfied: parso<0.9.0,>=0.8.3 in /storage/ice1/9/3/skamath36/.conda/envs/cs8803drl_hw2/lib/python3.10/site-packages (from jedi>=0.16->ipython>=3.2.3->pyfolio<0.10,>=0.9->finrl==0.3.6) (0.8.4)\n",
            "Requirement already satisfied: MarkupSafe>=2.0 in /storage/ice1/9/3/skamath36/.conda/envs/cs8803drl_hw2/lib/python3.10/site-packages (from jinja2->torch<3.0,>=2.3->stable-baselines3>=2.0.0a5->stable-baselines3[extra]>=2.0.0a5->finrl==0.3.6) (2.1.3)\n",
            "Requirement already satisfied: mdurl~=0.1 in /home/hice1/skamath36/.local/lib/python3.10/site-packages (from markdown-it-py>=2.2.0->rich->stable-baselines3[extra]>=2.0.0a5->finrl==0.3.6) (0.1.2)\n",
            "Requirement already satisfied: qdldl in /storage/ice1/9/3/skamath36/.conda/envs/cs8803drl_hw2/lib/python3.10/site-packages (from osqp>=0.6.2->cvxpy<2.0.0,>=1.1.19->pyportfolioopt<2,>=1->finrl==0.3.6) (0.1.7.post4)\n",
            "Requirement already satisfied: ptyprocess>=0.5 in /storage/ice1/9/3/skamath36/.conda/envs/cs8803drl_hw2/lib/python3.10/site-packages (from pexpect>4.3->ipython>=3.2.3->pyfolio<0.10,>=0.9->finrl==0.3.6) (0.7.0)\n",
            "Requirement already satisfied: wcwidth in /storage/ice1/9/3/skamath36/.conda/envs/cs8803drl_hw2/lib/python3.10/site-packages (from prompt-toolkit<3.1.0,>=3.0.41->ipython>=3.2.3->pyfolio<0.10,>=0.9->finrl==0.3.6) (0.2.13)\n",
            "Requirement already satisfied: executing>=1.2.0 in /storage/ice1/9/3/skamath36/.conda/envs/cs8803drl_hw2/lib/python3.10/site-packages (from stack-data->ipython>=3.2.3->pyfolio<0.10,>=0.9->finrl==0.3.6) (2.1.0)\n",
            "Requirement already satisfied: asttokens>=2.1.0 in /storage/ice1/9/3/skamath36/.conda/envs/cs8803drl_hw2/lib/python3.10/site-packages (from stack-data->ipython>=3.2.3->pyfolio<0.10,>=0.9->finrl==0.3.6) (2.4.1)\n",
            "Requirement already satisfied: pure-eval in /storage/ice1/9/3/skamath36/.conda/envs/cs8803drl_hw2/lib/python3.10/site-packages (from stack-data->ipython>=3.2.3->pyfolio<0.10,>=0.9->finrl==0.3.6) (0.2.3)\n",
            "Requirement already satisfied: mpmath<1.4,>=1.1.0 in /storage/ice1/9/3/skamath36/.conda/envs/cs8803drl_hw2/lib/python3.10/site-packages (from sympy->torch<3.0,>=2.3->stable-baselines3>=2.0.0a5->stable-baselines3[extra]>=2.0.0a5->finrl==0.3.6) (1.3.0)\n",
            "Requirement already satisfied: cachetools<6.0,>=2.0.0 in /storage/ice1/9/3/skamath36/.conda/envs/cs8803drl_hw2/lib/python3.10/site-packages (from google-auth<3.0.dev0,>=2.14.1->google-api-core<3.0.0,>=1.0.0->opencensus->ray[default,tune]<3,>=2->finrl==0.3.6) (5.5.0)\n",
            "Requirement already satisfied: pyasn1-modules>=0.2.1 in /storage/ice1/9/3/skamath36/.conda/envs/cs8803drl_hw2/lib/python3.10/site-packages (from google-auth<3.0.dev0,>=2.14.1->google-api-core<3.0.0,>=1.0.0->opencensus->ray[default,tune]<3,>=2->finrl==0.3.6) (0.4.1)\n",
            "Requirement already satisfied: rsa<5,>=3.1.4 in /storage/ice1/9/3/skamath36/.conda/envs/cs8803drl_hw2/lib/python3.10/site-packages (from google-auth<3.0.dev0,>=2.14.1->google-api-core<3.0.0,>=1.0.0->opencensus->ray[default,tune]<3,>=2->finrl==0.3.6) (4.9)\n",
            "Requirement already satisfied: linkify-it-py<3,>=1 in /storage/ice1/9/3/skamath36/.conda/envs/cs8803drl_hw2/lib/python3.10/site-packages (from markdown-it-py[linkify,plugins]>=2.1.0->textual>=0.41.0->memray->ray[default,tune]<3,>=2->finrl==0.3.6) (2.0.3)\n",
            "Requirement already satisfied: mdit-py-plugins in /storage/ice1/9/3/skamath36/.conda/envs/cs8803drl_hw2/lib/python3.10/site-packages (from markdown-it-py[linkify,plugins]>=2.1.0->textual>=0.41.0->memray->ray[default,tune]<3,>=2->finrl==0.3.6) (0.4.2)\n",
            "Requirement already satisfied: uc-micro-py in /storage/ice1/9/3/skamath36/.conda/envs/cs8803drl_hw2/lib/python3.10/site-packages (from linkify-it-py<3,>=1->markdown-it-py[linkify,plugins]>=2.1.0->textual>=0.41.0->memray->ray[default,tune]<3,>=2->finrl==0.3.6) (1.0.3)\n",
            "Requirement already satisfied: pyasn1<0.7.0,>=0.4.6 in /storage/ice1/9/3/skamath36/.conda/envs/cs8803drl_hw2/lib/python3.10/site-packages (from pyasn1-modules>=0.2.1->google-auth<3.0.dev0,>=2.14.1->google-api-core<3.0.0,>=1.0.0->opencensus->ray[default,tune]<3,>=2->finrl==0.3.6) (0.6.1)\n"
          ]
        }
      ],
      "source": [
        "## install finrl library\n",
        "!pip install git+https://github.com/AI4Finance-Foundation/FinRL.git"
      ]
    },
    {
      "cell_type": "code",
      "execution_count": 2,
      "metadata": {
        "id": "j37flV31OJGW"
      },
      "outputs": [
        {
          "name": "stderr",
          "output_type": "stream",
          "text": [
            "2024-11-21 12:42:37.994640: I tensorflow/core/util/port.cc:153] oneDNN custom operations are on. You may see slightly different numerical results due to floating-point round-off errors from different computation orders. To turn them off, set the environment variable `TF_ENABLE_ONEDNN_OPTS=0`.\n",
            "2024-11-21 12:42:38.408586: I external/local_xla/xla/tsl/cuda/cudart_stub.cc:32] Could not find cuda drivers on your machine, GPU will not be used.\n",
            "2024-11-21 12:42:38.733859: E external/local_xla/xla/stream_executor/cuda/cuda_fft.cc:485] Unable to register cuFFT factory: Attempting to register factory for plugin cuFFT when one has already been registered\n",
            "2024-11-21 12:42:39.015819: E external/local_xla/xla/stream_executor/cuda/cuda_dnn.cc:8454] Unable to register cuDNN factory: Attempting to register factory for plugin cuDNN when one has already been registered\n",
            "2024-11-21 12:42:39.094747: E external/local_xla/xla/stream_executor/cuda/cuda_blas.cc:1452] Unable to register cuBLAS factory: Attempting to register factory for plugin cuBLAS when one has already been registered\n",
            "2024-11-21 12:42:39.678078: I tensorflow/core/platform/cpu_feature_guard.cc:210] This TensorFlow binary is optimized to use available CPU instructions in performance-critical operations.\n",
            "To enable the following instructions: AVX2 AVX512F AVX512_VNNI FMA, in other operations, rebuild TensorFlow with the appropriate compiler flags.\n",
            "2024-11-21 12:42:43.358048: W tensorflow/compiler/tf2tensorrt/utils/py_utils.cc:38] TF-TRT Warning: Could not find TensorRT\n"
          ]
        }
      ],
      "source": [
        "import pandas as pd\n",
        "import numpy as np\n",
        "import datetime\n",
        "import yfinance as yf\n",
        "\n",
        "from finrl.meta.preprocessor.yahoodownloader import YahooDownloader\n",
        "from finrl.meta.preprocessor.preprocessors import FeatureEngineer, data_split\n",
        "from finrl import config_tickers\n",
        "from finrl.config import INDICATORS\n",
        "\n",
        "import itertools"
      ]
    },
    {
      "cell_type": "markdown",
      "metadata": {
        "id": "wxsN8i7tg07U"
      },
      "source": [
        "# Part 2. Fetch data"
      ]
    },
    {
      "cell_type": "markdown",
      "metadata": {
        "id": "fMNm9tCMXy8J"
      },
      "source": [
        "[yfinance](https://github.com/ranaroussi/yfinance) is an open-source library that provides APIs fetching historical data form Yahoo Finance. In FinRL, we have a class called [YahooDownloader](https://github.com/AI4Finance-Foundation/FinRL/blob/master/finrl/meta/preprocessor/yahoodownloader.py) that use yfinance to fetch data from Yahoo Finance."
      ]
    },
    {
      "cell_type": "markdown",
      "metadata": {
        "id": "CWVXUkzaZE8m"
      },
      "source": [
        "**OHLCV**: Data downloaded are in the form of OHLCV, corresponding to **open, high, low, close, volume,** respectively. OHLCV is important because they contain most of numerical information of a stock in time series. From OHLCV, traders can get further judgement and prediction like the momentum, people's interest, market trends, etc."
      ]
    },
    {
      "cell_type": "markdown",
      "metadata": {
        "id": "jRYlbdMpW9Np"
      },
      "source": [
        "## Data for a single ticker"
      ]
    },
    {
      "cell_type": "markdown",
      "metadata": {
        "id": "1wo6pCQYXDbz"
      },
      "source": [
        "Here we provide two ways to fetch data with single ticker, let's take Apple Inc. (AAPL) as an example."
      ]
    },
    {
      "cell_type": "markdown",
      "metadata": {
        "id": "yzVRe90WXLB1"
      },
      "source": [
        "### Using yfinance"
      ]
    },
    {
      "cell_type": "code",
      "execution_count": 3,
      "metadata": {
        "colab": {
          "base_uri": "https://localhost:8080/"
        },
        "id": "SSl6mVV7XNw6",
        "outputId": "460c06eb-c71d-4ebb-fe17-481295d70cff"
      },
      "outputs": [
        {
          "name": "stderr",
          "output_type": "stream",
          "text": [
            "[*********************100%***********************]  1 of 1 completed\n"
          ]
        }
      ],
      "source": [
        "aapl_df_yf = yf.download(tickers = \"aapl\", start='2020-01-01', end='2020-01-31')"
      ]
    },
    {
      "cell_type": "code",
      "execution_count": 4,
      "metadata": {
        "colab": {
          "base_uri": "https://localhost:8080/",
          "height": 238
        },
        "id": "Rjutz22rXrpR",
        "outputId": "62aadc8c-b854-403d-ac73-6cf86d53fa22"
      },
      "outputs": [
        {
          "data": {
            "text/html": [
              "<div>\n",
              "<style scoped>\n",
              "    .dataframe tbody tr th:only-of-type {\n",
              "        vertical-align: middle;\n",
              "    }\n",
              "\n",
              "    .dataframe tbody tr th {\n",
              "        vertical-align: top;\n",
              "    }\n",
              "\n",
              "    .dataframe thead tr th {\n",
              "        text-align: left;\n",
              "    }\n",
              "\n",
              "    .dataframe thead tr:last-of-type th {\n",
              "        text-align: right;\n",
              "    }\n",
              "</style>\n",
              "<table border=\"1\" class=\"dataframe\">\n",
              "  <thead>\n",
              "    <tr>\n",
              "      <th>Price</th>\n",
              "      <th>Adj Close</th>\n",
              "      <th>Close</th>\n",
              "      <th>High</th>\n",
              "      <th>Low</th>\n",
              "      <th>Open</th>\n",
              "      <th>Volume</th>\n",
              "    </tr>\n",
              "    <tr>\n",
              "      <th>Ticker</th>\n",
              "      <th>AAPL</th>\n",
              "      <th>AAPL</th>\n",
              "      <th>AAPL</th>\n",
              "      <th>AAPL</th>\n",
              "      <th>AAPL</th>\n",
              "      <th>AAPL</th>\n",
              "    </tr>\n",
              "    <tr>\n",
              "      <th>Date</th>\n",
              "      <th></th>\n",
              "      <th></th>\n",
              "      <th></th>\n",
              "      <th></th>\n",
              "      <th></th>\n",
              "      <th></th>\n",
              "    </tr>\n",
              "  </thead>\n",
              "  <tbody>\n",
              "    <tr>\n",
              "      <th>2020-01-02</th>\n",
              "      <td>72.796021</td>\n",
              "      <td>75.087502</td>\n",
              "      <td>75.150002</td>\n",
              "      <td>73.797501</td>\n",
              "      <td>74.059998</td>\n",
              "      <td>135480400</td>\n",
              "    </tr>\n",
              "    <tr>\n",
              "      <th>2020-01-03</th>\n",
              "      <td>72.088280</td>\n",
              "      <td>74.357498</td>\n",
              "      <td>75.144997</td>\n",
              "      <td>74.125000</td>\n",
              "      <td>74.287498</td>\n",
              "      <td>146322800</td>\n",
              "    </tr>\n",
              "    <tr>\n",
              "      <th>2020-01-06</th>\n",
              "      <td>72.662720</td>\n",
              "      <td>74.949997</td>\n",
              "      <td>74.989998</td>\n",
              "      <td>73.187500</td>\n",
              "      <td>73.447502</td>\n",
              "      <td>118387200</td>\n",
              "    </tr>\n",
              "    <tr>\n",
              "      <th>2020-01-07</th>\n",
              "      <td>72.320976</td>\n",
              "      <td>74.597504</td>\n",
              "      <td>75.224998</td>\n",
              "      <td>74.370003</td>\n",
              "      <td>74.959999</td>\n",
              "      <td>108872000</td>\n",
              "    </tr>\n",
              "    <tr>\n",
              "      <th>2020-01-08</th>\n",
              "      <td>73.484344</td>\n",
              "      <td>75.797501</td>\n",
              "      <td>76.110001</td>\n",
              "      <td>74.290001</td>\n",
              "      <td>74.290001</td>\n",
              "      <td>132079200</td>\n",
              "    </tr>\n",
              "  </tbody>\n",
              "</table>\n",
              "</div>"
            ],
            "text/plain": [
              "Price       Adj Close      Close       High        Low       Open     Volume\n",
              "Ticker           AAPL       AAPL       AAPL       AAPL       AAPL       AAPL\n",
              "Date                                                                        \n",
              "2020-01-02  72.796021  75.087502  75.150002  73.797501  74.059998  135480400\n",
              "2020-01-03  72.088280  74.357498  75.144997  74.125000  74.287498  146322800\n",
              "2020-01-06  72.662720  74.949997  74.989998  73.187500  73.447502  118387200\n",
              "2020-01-07  72.320976  74.597504  75.224998  74.370003  74.959999  108872000\n",
              "2020-01-08  73.484344  75.797501  76.110001  74.290001  74.290001  132079200"
            ]
          },
          "execution_count": 4,
          "metadata": {},
          "output_type": "execute_result"
        }
      ],
      "source": [
        "aapl_df_yf.head()"
      ]
    },
    {
      "cell_type": "markdown",
      "metadata": {
        "id": "fHZLDmnsXOK0"
      },
      "source": [
        "### Using FinRL"
      ]
    },
    {
      "cell_type": "markdown",
      "metadata": {
        "id": "VFB77ohNbXCc"
      },
      "source": [
        "In FinRL's YahooDownloader, we modified the data frame to the form that convenient for further data processing process. We use adjusted close price instead of close price, and add a column representing the day of a week (0-4 corresponding to Monday-Friday)."
      ]
    },
    {
      "cell_type": "code",
      "execution_count": 5,
      "metadata": {
        "colab": {
          "base_uri": "https://localhost:8080/"
        },
        "id": "7ufDHvt4XBWT",
        "outputId": "41603042-4f14-4814-c569-305d85fa7f9d"
      },
      "outputs": [
        {
          "name": "stderr",
          "output_type": "stream",
          "text": [
            "[*********************100%***********************]  1 of 1 completed"
          ]
        },
        {
          "name": "stdout",
          "output_type": "stream",
          "text": [
            "Shape of DataFrame:  (20, 8)\n"
          ]
        },
        {
          "name": "stderr",
          "output_type": "stream",
          "text": [
            "\n"
          ]
        }
      ],
      "source": [
        "aapl_df_finrl = YahooDownloader(start_date = '2020-01-01',\n",
        "                                end_date = '2020-01-31',\n",
        "                                ticker_list = ['aapl']).fetch_data()"
      ]
    },
    {
      "cell_type": "code",
      "execution_count": 6,
      "metadata": {
        "colab": {
          "base_uri": "https://localhost:8080/",
          "height": 206
        },
        "id": "_TgEjXxhXtT_",
        "outputId": "a8e8a9e2-a1ea-472e-eddf-2227e6c901d8"
      },
      "outputs": [
        {
          "data": {
            "text/html": [
              "<div>\n",
              "<style scoped>\n",
              "    .dataframe tbody tr th:only-of-type {\n",
              "        vertical-align: middle;\n",
              "    }\n",
              "\n",
              "    .dataframe tbody tr th {\n",
              "        vertical-align: top;\n",
              "    }\n",
              "\n",
              "    .dataframe thead th {\n",
              "        text-align: right;\n",
              "    }\n",
              "</style>\n",
              "<table border=\"1\" class=\"dataframe\">\n",
              "  <thead>\n",
              "    <tr style=\"text-align: right;\">\n",
              "      <th></th>\n",
              "      <th>date</th>\n",
              "      <th>open</th>\n",
              "      <th>high</th>\n",
              "      <th>low</th>\n",
              "      <th>close</th>\n",
              "      <th>volume</th>\n",
              "      <th>tic</th>\n",
              "      <th>day</th>\n",
              "    </tr>\n",
              "  </thead>\n",
              "  <tbody>\n",
              "    <tr>\n",
              "      <th>0</th>\n",
              "      <td>2020-01-02</td>\n",
              "      <td>72.796021</td>\n",
              "      <td>75.087502</td>\n",
              "      <td>75.150002</td>\n",
              "      <td>74.059998</td>\n",
              "      <td>135480400</td>\n",
              "      <td>aapl</td>\n",
              "      <td>3</td>\n",
              "    </tr>\n",
              "    <tr>\n",
              "      <th>1</th>\n",
              "      <td>2020-01-03</td>\n",
              "      <td>72.088280</td>\n",
              "      <td>74.357498</td>\n",
              "      <td>75.144997</td>\n",
              "      <td>74.287498</td>\n",
              "      <td>146322800</td>\n",
              "      <td>aapl</td>\n",
              "      <td>4</td>\n",
              "    </tr>\n",
              "    <tr>\n",
              "      <th>2</th>\n",
              "      <td>2020-01-06</td>\n",
              "      <td>72.662720</td>\n",
              "      <td>74.949997</td>\n",
              "      <td>74.989998</td>\n",
              "      <td>73.447502</td>\n",
              "      <td>118387200</td>\n",
              "      <td>aapl</td>\n",
              "      <td>0</td>\n",
              "    </tr>\n",
              "    <tr>\n",
              "      <th>3</th>\n",
              "      <td>2020-01-07</td>\n",
              "      <td>72.320976</td>\n",
              "      <td>74.597504</td>\n",
              "      <td>75.224998</td>\n",
              "      <td>74.959999</td>\n",
              "      <td>108872000</td>\n",
              "      <td>aapl</td>\n",
              "      <td>1</td>\n",
              "    </tr>\n",
              "    <tr>\n",
              "      <th>4</th>\n",
              "      <td>2020-01-08</td>\n",
              "      <td>73.484344</td>\n",
              "      <td>75.797501</td>\n",
              "      <td>76.110001</td>\n",
              "      <td>74.290001</td>\n",
              "      <td>132079200</td>\n",
              "      <td>aapl</td>\n",
              "      <td>2</td>\n",
              "    </tr>\n",
              "  </tbody>\n",
              "</table>\n",
              "</div>"
            ],
            "text/plain": [
              "         date       open       high        low      close     volume   tic  \\\n",
              "0  2020-01-02  72.796021  75.087502  75.150002  74.059998  135480400  aapl   \n",
              "1  2020-01-03  72.088280  74.357498  75.144997  74.287498  146322800  aapl   \n",
              "2  2020-01-06  72.662720  74.949997  74.989998  73.447502  118387200  aapl   \n",
              "3  2020-01-07  72.320976  74.597504  75.224998  74.959999  108872000  aapl   \n",
              "4  2020-01-08  73.484344  75.797501  76.110001  74.290001  132079200  aapl   \n",
              "\n",
              "   day  \n",
              "0    3  \n",
              "1    4  \n",
              "2    0  \n",
              "3    1  \n",
              "4    2  "
            ]
          },
          "execution_count": 6,
          "metadata": {},
          "output_type": "execute_result"
        }
      ],
      "source": [
        "aapl_df_finrl.head()"
      ]
    },
    {
      "cell_type": "markdown",
      "metadata": {
        "id": "9kcOE5nbic6R"
      },
      "source": [
        "## Data for the chosen tickers"
      ]
    },
    {
      "cell_type": "code",
      "execution_count": 7,
      "metadata": {
        "colab": {
          "base_uri": "https://localhost:8080/"
        },
        "id": "FKBjtAo2uIq5",
        "outputId": "927f682a-9cc3-4c11-c3f1-094ae811af6b"
      },
      "outputs": [
        {
          "data": {
            "text/plain": [
              "['AXP',\n",
              " 'AMGN',\n",
              " 'AAPL',\n",
              " 'BA',\n",
              " 'CAT',\n",
              " 'CSCO',\n",
              " 'CVX',\n",
              " 'GS',\n",
              " 'HD',\n",
              " 'HON',\n",
              " 'IBM',\n",
              " 'INTC',\n",
              " 'JNJ',\n",
              " 'KO',\n",
              " 'JPM',\n",
              " 'MCD',\n",
              " 'MMM',\n",
              " 'MRK',\n",
              " 'MSFT',\n",
              " 'NKE',\n",
              " 'PG',\n",
              " 'TRV',\n",
              " 'UNH',\n",
              " 'CRM',\n",
              " 'VZ',\n",
              " 'V',\n",
              " 'WBA',\n",
              " 'WMT',\n",
              " 'DIS',\n",
              " 'DOW']"
            ]
          },
          "execution_count": 7,
          "metadata": {},
          "output_type": "execute_result"
        }
      ],
      "source": [
        "config_tickers.DOW_30_TICKER"
      ]
    },
    {
      "cell_type": "code",
      "execution_count": 8,
      "metadata": {
        "id": "9xTPG4Fhc-zL"
      },
      "outputs": [],
      "source": [
        "TRAIN_START_DATE = '2009-01-01'\n",
        "TRAIN_END_DATE = '2020-07-01'\n",
        "TRADE_START_DATE = '2020-07-01'\n",
        "TRADE_END_DATE = '2021-10-29'"
      ]
    },
    {
      "cell_type": "code",
      "execution_count": 9,
      "metadata": {
        "colab": {
          "base_uri": "https://localhost:8080/"
        },
        "id": "9LblMI8CO0F3",
        "outputId": "7be76385-50eb-4e8d-f2e5-1795d77b70ba"
      },
      "outputs": [
        {
          "name": "stderr",
          "output_type": "stream",
          "text": [
            "[*********************100%***********************]  1 of 1 completed\n",
            "[*********************100%***********************]  1 of 1 completed\n",
            "[*********************100%***********************]  1 of 1 completed\n",
            "[*********************100%***********************]  1 of 1 completed\n",
            "[*********************100%***********************]  1 of 1 completed\n",
            "[*********************100%***********************]  1 of 1 completed\n",
            "[*********************100%***********************]  1 of 1 completed\n",
            "[*********************100%***********************]  1 of 1 completed\n",
            "[*********************100%***********************]  1 of 1 completed\n",
            "[*********************100%***********************]  1 of 1 completed\n",
            "[*********************100%***********************]  1 of 1 completed\n",
            "[*********************100%***********************]  1 of 1 completed\n",
            "[*********************100%***********************]  1 of 1 completed\n",
            "[*********************100%***********************]  1 of 1 completed\n",
            "[*********************100%***********************]  1 of 1 completed\n",
            "[*********************100%***********************]  1 of 1 completed\n",
            "[*********************100%***********************]  1 of 1 completed\n",
            "[*********************100%***********************]  1 of 1 completed\n",
            "[*********************100%***********************]  1 of 1 completed\n",
            "[*********************100%***********************]  1 of 1 completed\n",
            "[*********************100%***********************]  1 of 1 completed\n",
            "[*********************100%***********************]  1 of 1 completed\n",
            "[*********************100%***********************]  1 of 1 completed\n",
            "[*********************100%***********************]  1 of 1 completed\n",
            "[*********************100%***********************]  1 of 1 completed\n",
            "[*********************100%***********************]  1 of 1 completed\n",
            "[*********************100%***********************]  1 of 1 completed\n",
            "[*********************100%***********************]  1 of 1 completed\n",
            "[*********************100%***********************]  1 of 1 completed\n",
            "[*********************100%***********************]  1 of 1 completed\n"
          ]
        },
        {
          "name": "stdout",
          "output_type": "stream",
          "text": [
            "Shape of DataFrame:  (94301, 8)\n"
          ]
        }
      ],
      "source": [
        "df_raw = YahooDownloader(start_date = TRAIN_START_DATE,\n",
        "                     end_date = TRADE_END_DATE,\n",
        "                     ticker_list = config_tickers.DOW_30_TICKER).fetch_data()"
      ]
    },
    {
      "cell_type": "code",
      "execution_count": 10,
      "metadata": {
        "colab": {
          "base_uri": "https://localhost:8080/",
          "height": 206
        },
        "id": "RD9cjHzt8X3A",
        "outputId": "051acda5-c8fd-440a-a5af-6be04cfdc018"
      },
      "outputs": [
        {
          "data": {
            "text/html": [
              "<div>\n",
              "<style scoped>\n",
              "    .dataframe tbody tr th:only-of-type {\n",
              "        vertical-align: middle;\n",
              "    }\n",
              "\n",
              "    .dataframe tbody tr th {\n",
              "        vertical-align: top;\n",
              "    }\n",
              "\n",
              "    .dataframe thead th {\n",
              "        text-align: right;\n",
              "    }\n",
              "</style>\n",
              "<table border=\"1\" class=\"dataframe\">\n",
              "  <thead>\n",
              "    <tr style=\"text-align: right;\">\n",
              "      <th></th>\n",
              "      <th>date</th>\n",
              "      <th>open</th>\n",
              "      <th>high</th>\n",
              "      <th>low</th>\n",
              "      <th>close</th>\n",
              "      <th>volume</th>\n",
              "      <th>tic</th>\n",
              "      <th>day</th>\n",
              "    </tr>\n",
              "  </thead>\n",
              "  <tbody>\n",
              "    <tr>\n",
              "      <th>0</th>\n",
              "      <td>2009-01-02</td>\n",
              "      <td>2.733995</td>\n",
              "      <td>3.241071</td>\n",
              "      <td>3.251429</td>\n",
              "      <td>3.067143</td>\n",
              "      <td>746015200</td>\n",
              "      <td>AAPL</td>\n",
              "      <td>4</td>\n",
              "    </tr>\n",
              "    <tr>\n",
              "      <th>1</th>\n",
              "      <td>2009-01-02</td>\n",
              "      <td>41.484413</td>\n",
              "      <td>58.990002</td>\n",
              "      <td>59.080002</td>\n",
              "      <td>58.590000</td>\n",
              "      <td>6547900</td>\n",
              "      <td>AMGN</td>\n",
              "      <td>4</td>\n",
              "    </tr>\n",
              "    <tr>\n",
              "      <th>2</th>\n",
              "      <td>2009-01-02</td>\n",
              "      <td>15.014072</td>\n",
              "      <td>19.330000</td>\n",
              "      <td>19.520000</td>\n",
              "      <td>18.570000</td>\n",
              "      <td>10955700</td>\n",
              "      <td>AXP</td>\n",
              "      <td>4</td>\n",
              "    </tr>\n",
              "    <tr>\n",
              "      <th>3</th>\n",
              "      <td>2009-01-02</td>\n",
              "      <td>33.941097</td>\n",
              "      <td>45.250000</td>\n",
              "      <td>45.560001</td>\n",
              "      <td>42.799999</td>\n",
              "      <td>7010200</td>\n",
              "      <td>BA</td>\n",
              "      <td>4</td>\n",
              "    </tr>\n",
              "    <tr>\n",
              "      <th>4</th>\n",
              "      <td>2009-01-02</td>\n",
              "      <td>30.602568</td>\n",
              "      <td>46.910000</td>\n",
              "      <td>46.980000</td>\n",
              "      <td>44.910000</td>\n",
              "      <td>7117200</td>\n",
              "      <td>CAT</td>\n",
              "      <td>4</td>\n",
              "    </tr>\n",
              "  </tbody>\n",
              "</table>\n",
              "</div>"
            ],
            "text/plain": [
              "         date       open       high        low      close     volume   tic  \\\n",
              "0  2009-01-02   2.733995   3.241071   3.251429   3.067143  746015200  AAPL   \n",
              "1  2009-01-02  41.484413  58.990002  59.080002  58.590000    6547900  AMGN   \n",
              "2  2009-01-02  15.014072  19.330000  19.520000  18.570000   10955700   AXP   \n",
              "3  2009-01-02  33.941097  45.250000  45.560001  42.799999    7010200    BA   \n",
              "4  2009-01-02  30.602568  46.910000  46.980000  44.910000    7117200   CAT   \n",
              "\n",
              "   day  \n",
              "0    4  \n",
              "1    4  \n",
              "2    4  \n",
              "3    4  \n",
              "4    4  "
            ]
          },
          "execution_count": 10,
          "metadata": {},
          "output_type": "execute_result"
        }
      ],
      "source": [
        "df_raw.head()"
      ]
    },
    {
      "cell_type": "markdown",
      "metadata": {
        "id": "uqC6c40Zh1iH"
      },
      "source": [
        "# Part 3: Preprocess Data\n",
        "We need to check for missing data and do feature engineering to convert the data point into a state.\n",
        "* **Adding technical indicators**. In practical trading, various information needs to be taken into account, such as historical prices, current holding shares, technical indicators, etc. Here, we demonstrate two trend-following technical indicators: MACD and RSI.\n",
        "* **Adding turbulence index**. Risk-aversion reflects whether an investor prefers to protect the capital. It also influences one's trading strategy when facing different market volatility level. To control the risk in a worst-case scenario, such as financial crisis of 2007–2008, FinRL employs the turbulence index that measures extreme fluctuation of asset price."
      ]
    },
    {
      "cell_type": "markdown",
      "metadata": {
        "id": "1lQxLyWpdbAd"
      },
      "source": [
        "Hear let's take **MACD** as an example. Moving average convergence/divergence (MACD) is one of the most commonly used indicator showing bull and bear market. Its calculation is based on EMA (Exponential Moving Average indicator, measuring trend direction over a period of time.)"
      ]
    },
    {
      "cell_type": "code",
      "execution_count": 11,
      "metadata": {
        "colab": {
          "base_uri": "https://localhost:8080/"
        },
        "id": "PmKP-1ii3RLS",
        "outputId": "d514cf1a-8609-402e-ad58-df5f9100ec85"
      },
      "outputs": [
        {
          "name": "stdout",
          "output_type": "stream",
          "text": [
            "Successfully added technical indicators\n"
          ]
        },
        {
          "name": "stderr",
          "output_type": "stream",
          "text": [
            "[*********************100%***********************]  1 of 1 completed\n"
          ]
        },
        {
          "name": "stdout",
          "output_type": "stream",
          "text": [
            "Shape of DataFrame:  (3228, 8)\n",
            "Successfully added vix\n",
            "Successfully added turbulence index\n"
          ]
        }
      ],
      "source": [
        "fe = FeatureEngineer(use_technical_indicator=True,\n",
        "                     tech_indicator_list = INDICATORS,\n",
        "                     use_vix=True,\n",
        "                     use_turbulence=True,\n",
        "                     user_defined_feature = False)\n",
        "\n",
        "processed = fe.preprocess_data(df_raw)"
      ]
    },
    {
      "cell_type": "code",
      "execution_count": 12,
      "metadata": {
        "id": "Kixon2tR3RLT"
      },
      "outputs": [],
      "source": [
        "list_ticker = processed[\"tic\"].unique().tolist()\n",
        "list_date = list(pd.date_range(processed['date'].min(),processed['date'].max()).astype(str))\n",
        "combination = list(itertools.product(list_date,list_ticker))\n",
        "\n",
        "processed_full = pd.DataFrame(combination,columns=[\"date\",\"tic\"]).merge(processed,on=[\"date\",\"tic\"],how=\"left\")\n",
        "processed_full = processed_full[processed_full['date'].isin(processed['date'])]\n",
        "processed_full = processed_full.sort_values(['date','tic'])\n",
        "\n",
        "processed_full = processed_full.fillna(0)"
      ]
    },
    {
      "cell_type": "code",
      "execution_count": 13,
      "metadata": {
        "colab": {
          "base_uri": "https://localhost:8080/",
          "height": 357
        },
        "id": "HwKJNWJSabNK",
        "outputId": "16c8080e-91b0-4e8d-9a09-44939ac69801"
      },
      "outputs": [
        {
          "data": {
            "text/html": [
              "<div>\n",
              "<style scoped>\n",
              "    .dataframe tbody tr th:only-of-type {\n",
              "        vertical-align: middle;\n",
              "    }\n",
              "\n",
              "    .dataframe tbody tr th {\n",
              "        vertical-align: top;\n",
              "    }\n",
              "\n",
              "    .dataframe thead th {\n",
              "        text-align: right;\n",
              "    }\n",
              "</style>\n",
              "<table border=\"1\" class=\"dataframe\">\n",
              "  <thead>\n",
              "    <tr style=\"text-align: right;\">\n",
              "      <th></th>\n",
              "      <th>date</th>\n",
              "      <th>tic</th>\n",
              "      <th>open</th>\n",
              "      <th>high</th>\n",
              "      <th>low</th>\n",
              "      <th>close</th>\n",
              "      <th>volume</th>\n",
              "      <th>day</th>\n",
              "      <th>macd</th>\n",
              "      <th>boll_ub</th>\n",
              "      <th>boll_lb</th>\n",
              "      <th>rsi_30</th>\n",
              "      <th>cci_30</th>\n",
              "      <th>dx_30</th>\n",
              "      <th>close_30_sma</th>\n",
              "      <th>close_60_sma</th>\n",
              "      <th>vix</th>\n",
              "      <th>turbulence</th>\n",
              "    </tr>\n",
              "  </thead>\n",
              "  <tbody>\n",
              "    <tr>\n",
              "      <th>0</th>\n",
              "      <td>2009-01-02</td>\n",
              "      <td>AAPL</td>\n",
              "      <td>2.733995</td>\n",
              "      <td>3.241071</td>\n",
              "      <td>3.251429</td>\n",
              "      <td>3.067143</td>\n",
              "      <td>746015200.0</td>\n",
              "      <td>4.0</td>\n",
              "      <td>0.0</td>\n",
              "      <td>3.565522</td>\n",
              "      <td>2.829121</td>\n",
              "      <td>100.0</td>\n",
              "      <td>66.666667</td>\n",
              "      <td>100.0</td>\n",
              "      <td>3.067143</td>\n",
              "      <td>3.067143</td>\n",
              "      <td>39.580002</td>\n",
              "      <td>0.0</td>\n",
              "    </tr>\n",
              "    <tr>\n",
              "      <th>1</th>\n",
              "      <td>2009-01-02</td>\n",
              "      <td>AMGN</td>\n",
              "      <td>41.484413</td>\n",
              "      <td>58.990002</td>\n",
              "      <td>59.080002</td>\n",
              "      <td>58.590000</td>\n",
              "      <td>6547900.0</td>\n",
              "      <td>4.0</td>\n",
              "      <td>0.0</td>\n",
              "      <td>3.565522</td>\n",
              "      <td>2.829121</td>\n",
              "      <td>100.0</td>\n",
              "      <td>66.666667</td>\n",
              "      <td>100.0</td>\n",
              "      <td>58.590000</td>\n",
              "      <td>58.590000</td>\n",
              "      <td>39.580002</td>\n",
              "      <td>0.0</td>\n",
              "    </tr>\n",
              "    <tr>\n",
              "      <th>2</th>\n",
              "      <td>2009-01-02</td>\n",
              "      <td>AXP</td>\n",
              "      <td>15.014072</td>\n",
              "      <td>19.330000</td>\n",
              "      <td>19.520000</td>\n",
              "      <td>18.570000</td>\n",
              "      <td>10955700.0</td>\n",
              "      <td>4.0</td>\n",
              "      <td>0.0</td>\n",
              "      <td>3.565522</td>\n",
              "      <td>2.829121</td>\n",
              "      <td>100.0</td>\n",
              "      <td>66.666667</td>\n",
              "      <td>100.0</td>\n",
              "      <td>18.570000</td>\n",
              "      <td>18.570000</td>\n",
              "      <td>39.580002</td>\n",
              "      <td>0.0</td>\n",
              "    </tr>\n",
              "    <tr>\n",
              "      <th>3</th>\n",
              "      <td>2009-01-02</td>\n",
              "      <td>BA</td>\n",
              "      <td>33.941097</td>\n",
              "      <td>45.250000</td>\n",
              "      <td>45.560001</td>\n",
              "      <td>42.799999</td>\n",
              "      <td>7010200.0</td>\n",
              "      <td>4.0</td>\n",
              "      <td>0.0</td>\n",
              "      <td>3.565522</td>\n",
              "      <td>2.829121</td>\n",
              "      <td>100.0</td>\n",
              "      <td>66.666667</td>\n",
              "      <td>100.0</td>\n",
              "      <td>42.799999</td>\n",
              "      <td>42.799999</td>\n",
              "      <td>39.580002</td>\n",
              "      <td>0.0</td>\n",
              "    </tr>\n",
              "    <tr>\n",
              "      <th>4</th>\n",
              "      <td>2009-01-02</td>\n",
              "      <td>CAT</td>\n",
              "      <td>30.602568</td>\n",
              "      <td>46.910000</td>\n",
              "      <td>46.980000</td>\n",
              "      <td>44.910000</td>\n",
              "      <td>7117200.0</td>\n",
              "      <td>4.0</td>\n",
              "      <td>0.0</td>\n",
              "      <td>3.565522</td>\n",
              "      <td>2.829121</td>\n",
              "      <td>100.0</td>\n",
              "      <td>66.666667</td>\n",
              "      <td>100.0</td>\n",
              "      <td>44.910000</td>\n",
              "      <td>44.910000</td>\n",
              "      <td>39.580002</td>\n",
              "      <td>0.0</td>\n",
              "    </tr>\n",
              "  </tbody>\n",
              "</table>\n",
              "</div>"
            ],
            "text/plain": [
              "         date   tic       open       high        low      close       volume  \\\n",
              "0  2009-01-02  AAPL   2.733995   3.241071   3.251429   3.067143  746015200.0   \n",
              "1  2009-01-02  AMGN  41.484413  58.990002  59.080002  58.590000    6547900.0   \n",
              "2  2009-01-02   AXP  15.014072  19.330000  19.520000  18.570000   10955700.0   \n",
              "3  2009-01-02    BA  33.941097  45.250000  45.560001  42.799999    7010200.0   \n",
              "4  2009-01-02   CAT  30.602568  46.910000  46.980000  44.910000    7117200.0   \n",
              "\n",
              "   day  macd   boll_ub   boll_lb  rsi_30     cci_30  dx_30  close_30_sma  \\\n",
              "0  4.0   0.0  3.565522  2.829121   100.0  66.666667  100.0      3.067143   \n",
              "1  4.0   0.0  3.565522  2.829121   100.0  66.666667  100.0     58.590000   \n",
              "2  4.0   0.0  3.565522  2.829121   100.0  66.666667  100.0     18.570000   \n",
              "3  4.0   0.0  3.565522  2.829121   100.0  66.666667  100.0     42.799999   \n",
              "4  4.0   0.0  3.565522  2.829121   100.0  66.666667  100.0     44.910000   \n",
              "\n",
              "   close_60_sma        vix  turbulence  \n",
              "0      3.067143  39.580002         0.0  \n",
              "1     58.590000  39.580002         0.0  \n",
              "2     18.570000  39.580002         0.0  \n",
              "3     42.799999  39.580002         0.0  \n",
              "4     44.910000  39.580002         0.0  "
            ]
          },
          "execution_count": 13,
          "metadata": {},
          "output_type": "execute_result"
        }
      ],
      "source": [
        "processed_full.head()"
      ]
    },
    {
      "cell_type": "markdown",
      "metadata": {
        "id": "ydLNxwdPIJhW"
      },
      "source": [
        "# Part 4: Save the Data"
      ]
    },
    {
      "cell_type": "markdown",
      "metadata": {
        "id": "VbMDnfukILc_"
      },
      "source": [
        "### Split the data for training and trading"
      ]
    },
    {
      "cell_type": "code",
      "execution_count": 14,
      "metadata": {
        "colab": {
          "base_uri": "https://localhost:8080/"
        },
        "id": "iEiXDdUhZP7R",
        "outputId": "554b1c09-6d6f-48fb-c724-351b40a2ddaf"
      },
      "outputs": [
        {
          "name": "stdout",
          "output_type": "stream",
          "text": [
            "83897\n",
            "9715\n"
          ]
        }
      ],
      "source": [
        "train = data_split(processed_full, TRAIN_START_DATE,TRAIN_END_DATE)\n",
        "trade = data_split(processed_full, TRADE_START_DATE,TRADE_END_DATE)\n",
        "print(len(train))\n",
        "print(len(trade))"
      ]
    },
    {
      "cell_type": "markdown",
      "metadata": {
        "id": "DflbzEV8IRhF"
      },
      "source": [
        "### Save data to csv file"
      ]
    },
    {
      "cell_type": "markdown",
      "metadata": {
        "id": "Tud3IZDzIUpd"
      },
      "source": [
        "For Colab users, you can open the virtual directory in colab and manually download the files.\n",
        "\n",
        "For users running on your local environment, the csv files should be at the same directory of this notebook."
      ]
    },
    {
      "cell_type": "code",
      "execution_count": 15,
      "metadata": {
        "id": "j2c12CpfHEjE"
      },
      "outputs": [],
      "source": [
        "train.to_csv('train_data.csv')\n",
        "trade.to_csv('trade_data.csv')"
      ]
    }
  ],
  "metadata": {
    "colab": {
      "provenance": []
    },
    "kernelspec": {
      "display_name": "Python 3",
      "name": "python3"
    },
    "language_info": {
      "codemirror_mode": {
        "name": "ipython",
        "version": 3
      },
      "file_extension": ".py",
      "mimetype": "text/x-python",
      "name": "python",
      "nbconvert_exporter": "python",
      "pygments_lexer": "ipython3",
      "version": "3.10.15"
    }
  },
  "nbformat": 4,
  "nbformat_minor": 0
}
