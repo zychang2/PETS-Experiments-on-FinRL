{
 "cells": [
  {
   "cell_type": "markdown",
   "metadata": {
    "id": "Lb9q2_QZgdNk"
   },
   "source": [
    "<a target=\"_blank\" href=\"https://colab.research.google.com/github/AI4Finance-Foundation/FinRL-Tutorials/blob/master/2-Advance/FinRL_Ensemble_StockTrading_ICAIF_2020.ipynb\">\n",
    "  <img src=\"https://colab.research.google.com/assets/colab-badge.svg\" alt=\"Open In Colab\"/>\n",
    "</a>"
   ]
  },
  {
   "cell_type": "markdown",
   "metadata": {
    "id": "nGv01K8Sh1hn"
   },
   "source": [
    "<a id='1.3'></a>\n",
    "## 2.3. Import Packages"
   ]
  },
  {
   "cell_type": "code",
   "execution_count": 1,
   "metadata": {
    "executionInfo": {
     "elapsed": 257,
     "status": "ok",
     "timestamp": 1733376061066,
     "user": {
      "displayName": "Garrett Devaney",
      "userId": "10600170082792839935"
     },
     "user_tz": 300
    },
    "id": "EeMK7Uentj1V"
   },
   "outputs": [],
   "source": [
    "import warnings\n",
    "warnings.filterwarnings(\"ignore\")"
   ]
  },
  {
   "cell_type": "code",
   "execution_count": 4,
   "metadata": {
    "colab": {
     "base_uri": "https://localhost:8080/"
    },
    "executionInfo": {
     "elapsed": 253,
     "status": "ok",
     "timestamp": 1733376065291,
     "user": {
      "displayName": "Garrett Devaney",
      "userId": "10600170082792839935"
     },
     "user_tz": 300
    },
    "id": "jCTgVo5cT5NS",
    "outputId": "478e70ed-8bc2-4826-eedf-2b19c7501432"
   },
   "outputs": [
    {
     "name": "stdout",
     "output_type": "stream",
     "text": [
      "/content/gdrive/My Drive/FinRL-test\n"
     ]
    }
   ],
   "source": [
    "!pwd"
   ]
  },
  {
   "cell_type": "code",
   "execution_count": 2,
   "metadata": {
    "colab": {
     "base_uri": "https://localhost:8080/"
    },
    "executionInfo": {
     "elapsed": 38747,
     "status": "ok",
     "timestamp": 1733376104876,
     "user": {
      "displayName": "Garrett Devaney",
      "userId": "10600170082792839935"
     },
     "user_tz": 300
    },
    "id": "lPqeTTwoh1hn",
    "outputId": "2fceeca2-7bca-4982-cf36-fc6fbcc90cba"
   },
   "outputs": [],
   "source": [
    "import pandas as pd\n",
    "import numpy as np\n",
    "import matplotlib\n",
    "import matplotlib.pyplot as plt\n",
    "# matplotlib.use('Agg')\n",
    "import datetime\n",
    "import importlib\n",
    "\n",
    "%matplotlib inline\n",
    "from finrl.config_tickers import DOW_30_TICKER\n",
    "from finrl.meta.preprocessor import fixed_yahoodownloader # comment this if you chose other path above\n",
    "importlib.reload(fixed_yahoodownloader) # comment this if you chose other path above\n",
    "from finrl.meta.preprocessor.fixed_yahoodownloader import YahooDownloader #comment this if you chose the other path above\n",
    "\n",
    "from finrl.meta.preprocessor.preprocessors import FeatureEngineer, data_split\n",
    "from finrl.meta.preprocessor.preprocessors import FeatureEngineer, data_split\n",
    "from finrl.meta.env_stock_trading.env_stocktrading import StockTradingEnv\n",
    "from finrl.agents.stablebaselines3.models import DRLEnsembleAgent\n",
    "from finrl.agents.stablebaselines3.single_models import DRLSingleAgent\n",
    "from finrl.agents.stablebaselines3.modified_pets_model import ModifiedPETSAgent\n",
    "from finrl.agents.stablebaselines3.mbrl_model import MBRLAgent\n",
    "from finrl.plot import backtest_stats, backtest_plot, get_daily_return, get_baseline\n",
    "\n",
    "from pprint import pprint\n",
    "\n",
    "import sys\n",
    "sys.path.append(\"../FinRL-Library\")\n",
    "\n",
    "import itertools"
   ]
  },
  {
   "cell_type": "markdown",
   "metadata": {
    "id": "T2owTj985RW4"
   },
   "source": [
    "<a id='1.4'></a>\n",
    "## 2.4. Create Folders"
   ]
  },
  {
   "cell_type": "code",
   "execution_count": 3,
   "metadata": {
    "executionInfo": {
     "elapsed": 620,
     "status": "ok",
     "timestamp": 1733376105494,
     "user": {
      "displayName": "Garrett Devaney",
      "userId": "10600170082792839935"
     },
     "user_tz": 300
    },
    "id": "w9A8CN5R5PuZ"
   },
   "outputs": [],
   "source": [
    "import os\n",
    "from finrl.main import check_and_make_directories\n",
    "from finrl.config import (\n",
    "    DATA_SAVE_DIR,\n",
    "    TRAINED_MODEL_DIR,\n",
    "    TENSORBOARD_LOG_DIR,\n",
    "    RESULTS_DIR,\n",
    "    INDICATORS,\n",
    "    TRAIN_START_DATE,\n",
    "    TRAIN_END_DATE,\n",
    "    TEST_START_DATE,\n",
    "    TEST_END_DATE,\n",
    "    TRADE_START_DATE,\n",
    "    TRADE_END_DATE,\n",
    ")\n",
    "\n",
    "check_and_make_directories([DATA_SAVE_DIR, TRAINED_MODEL_DIR, TENSORBOARD_LOG_DIR, RESULTS_DIR])"
   ]
  },
  {
   "cell_type": "markdown",
   "metadata": {
    "id": "A289rQWMh1hq"
   },
   "source": [
    "<a id='2'></a>\n",
    "# Part 3. Download Data\n",
    "Yahoo Finance is a website that provides stock data, financial news, financial reports, etc. All the data provided by Yahoo Finance is free.\n",
    "* FinRL uses a class **YahooDownloader** to fetch data from Yahoo Finance API\n",
    "* Call Limit: Using the Public API (without authentication), you are limited to 2,000 requests per hour per IP (or up to a total of 48,000 requests a day).\n"
   ]
  },
  {
   "cell_type": "markdown",
   "metadata": {
    "id": "NPeQ7iS-LoMm"
   },
   "source": [
    "\n",
    "\n",
    "-----\n",
    "class YahooDownloader:\n",
    "    Provides methods for retrieving daily stock data from\n",
    "    Yahoo Finance API\n",
    "\n",
    "    Attributes\n",
    "    ----------\n",
    "        start_date : str\n",
    "            start date of the data (modified from config.py)\n",
    "        end_date : str\n",
    "            end date of the data (modified from config.py)\n",
    "        ticker_list : list\n",
    "            a list of stock tickers (modified from config.py)\n",
    "\n",
    "    Methods\n",
    "    -------\n",
    "    fetch_data()\n",
    "        Fetches data from yahoo API\n"
   ]
  },
  {
   "cell_type": "code",
   "execution_count": 4,
   "metadata": {
    "colab": {
     "base_uri": "https://localhost:8080/"
    },
    "executionInfo": {
     "elapsed": 3,
     "status": "ok",
     "timestamp": 1733376105495,
     "user": {
      "displayName": "Garrett Devaney",
      "userId": "10600170082792839935"
     },
     "user_tz": 300
    },
    "id": "JzqRRTOX6aFu",
    "outputId": "d8c28005-c36e-4207-e4a7-2ef00ed90fbe"
   },
   "outputs": [
    {
     "name": "stdout",
     "output_type": "stream",
     "text": [
      "['AXP', 'AMGN', 'AAPL', 'BA', 'CAT', 'CSCO', 'CVX', 'GS', 'HD', 'HON', 'IBM', 'INTC', 'JNJ', 'KO', 'JPM', 'MCD', 'MMM', 'MRK', 'MSFT', 'NKE', 'PG', 'TRV', 'UNH', 'CRM', 'VZ', 'V', 'WBA', 'WMT', 'DIS', 'DOW']\n"
     ]
    }
   ],
   "source": [
    "print(DOW_30_TICKER)"
   ]
  },
  {
   "cell_type": "code",
   "execution_count": 5,
   "metadata": {
    "colab": {
     "base_uri": "https://localhost:8080/"
    },
    "collapsed": true,
    "executionInfo": {
     "elapsed": 18760,
     "status": "ok",
     "timestamp": 1733376124253,
     "user": {
      "displayName": "Garrett Devaney",
      "userId": "10600170082792839935"
     },
     "user_tz": 300
    },
    "id": "yCKm4om-s9kE",
    "outputId": "051a9897-48c2-4e0f-eeb1-e2ca38925e69"
   },
   "outputs": [
    {
     "name": "stderr",
     "output_type": "stream",
     "text": [
      "[*********************100%***********************]  1 of 1 completed\n",
      "[*********************100%***********************]  1 of 1 completed\n",
      "[*********************100%***********************]  1 of 1 completed\n",
      "[*********************100%***********************]  1 of 1 completed\n",
      "[*********************100%***********************]  1 of 1 completed\n",
      "[*********************100%***********************]  1 of 1 completed\n",
      "[*********************100%***********************]  1 of 1 completed\n",
      "[*********************100%***********************]  1 of 1 completed\n",
      "[*********************100%***********************]  1 of 1 completed\n",
      "[*********************100%***********************]  1 of 1 completed\n",
      "[*********************100%***********************]  1 of 1 completed\n",
      "[*********************100%***********************]  1 of 1 completed\n",
      "[*********************100%***********************]  1 of 1 completed\n",
      "[*********************100%***********************]  1 of 1 completed\n",
      "[*********************100%***********************]  1 of 1 completed\n",
      "[*********************100%***********************]  1 of 1 completed\n",
      "[*********************100%***********************]  1 of 1 completed\n",
      "[*********************100%***********************]  1 of 1 completed\n",
      "[*********************100%***********************]  1 of 1 completed\n",
      "[*********************100%***********************]  1 of 1 completed\n",
      "[*********************100%***********************]  1 of 1 completed\n",
      "[*********************100%***********************]  1 of 1 completed\n",
      "[*********************100%***********************]  1 of 1 completed\n",
      "[*********************100%***********************]  1 of 1 completed\n",
      "[*********************100%***********************]  1 of 1 completed\n",
      "[*********************100%***********************]  1 of 1 completed\n",
      "[*********************100%***********************]  1 of 1 completed\n",
      "[*********************100%***********************]  1 of 1 completed\n",
      "[*********************100%***********************]  1 of 1 completed\n",
      "[*********************100%***********************]  1 of 1 completed\n"
     ]
    },
    {
     "name": "stdout",
     "output_type": "stream",
     "text": [
      "Shape of DataFrame:  (104573, 8)\n",
      "Display DataFrame:           date      close       high        low       open    volume  tic  day\n",
      "0  2010-01-04  32.906178  41.099998  40.389999  40.810001   6894300  AXP    0\n",
      "1  2010-01-05  32.833813  41.230000  40.369999  40.830002  10641200  AXP    1\n",
      "2  2010-01-06  33.364552  41.669998  41.169998  41.230000   8399400  AXP    2\n",
      "3  2010-01-07  33.905678  42.240002  41.110001  41.259998   8981700  AXP    3\n",
      "4  2010-01-08  33.881458  42.480000  41.400002  41.759998   7907700  AXP    4\n"
     ]
    }
   ],
   "source": [
    "TRAIN_START_DATE = '2010-01-01'\n",
    "TRAIN_END_DATE = '2021-10-01'\n",
    "TEST_START_DATE = '2021-10-01'\n",
    "TEST_END_DATE = '2024-03-01'\n",
    "\n",
    "df = YahooDownloader(start_date = TRAIN_START_DATE,\n",
    "                     end_date = TEST_END_DATE,\n",
    "                     ticker_list = DOW_30_TICKER).fetch_data()"
   ]
  },
  {
   "cell_type": "markdown",
   "metadata": {
    "id": "uqC6c40Zh1iH"
   },
   "source": [
    "# Part 4: Preprocess Data\n",
    "Data preprocessing is a crucial step for training a high quality machine learning model. We need to check for missing data and do feature engineering in order to convert the data into a model-ready state.\n",
    "* Add technical indicators. In practical trading, various information needs to be taken into account, for example the historical stock prices, current holding shares, technical indicators, etc. In this article, we demonstrate two trend-following technical indicators: MACD and RSI.\n",
    "* Add turbulence index. Risk-aversion reflects whether an investor will choose to preserve the capital. It also influences one's trading strategy when facing different market volatility level. To control the risk in a worst-case scenario, such as financial crisis of 2007–2008, FinRL employs the financial turbulence index that measures extreme asset price fluctuation."
   ]
  },
  {
   "cell_type": "code",
   "execution_count": 6,
   "metadata": {
    "executionInfo": {
     "elapsed": 2,
     "status": "ok",
     "timestamp": 1733376136727,
     "user": {
      "displayName": "Garrett Devaney",
      "userId": "10600170082792839935"
     },
     "user_tz": 300
    },
    "id": "kM5bH9uroCeg"
   },
   "outputs": [],
   "source": [
    "INDICATORS = ['macd',\n",
    "            'rsi_30',\n",
    "            'cci_30',\n",
    "            'dx_30']"
   ]
  },
  {
   "cell_type": "code",
   "execution_count": 7,
   "metadata": {
    "colab": {
     "base_uri": "https://localhost:8080/"
    },
    "executionInfo": {
     "elapsed": 21833,
     "status": "ok",
     "timestamp": 1733376159954,
     "user": {
      "displayName": "Garrett Devaney",
      "userId": "10600170082792839935"
     },
     "user_tz": 300
    },
    "id": "jgXfBcjxtj1a",
    "outputId": "dd957dae-96f0-4193-eda2-c1d3b0162358"
   },
   "outputs": [
    {
     "name": "stdout",
     "output_type": "stream",
     "text": [
      "Successfully added technical indicators\n",
      "Successfully added turbulence index\n"
     ]
    }
   ],
   "source": [
    "fe = FeatureEngineer(use_technical_indicator=True,\n",
    "                     tech_indicator_list = INDICATORS,\n",
    "                     use_turbulence=True,\n",
    "                     user_defined_feature = False)\n",
    "\n",
    "processed = fe.preprocess_data(df)\n",
    "processed = processed.copy()\n",
    "processed = processed.fillna(0)\n",
    "processed = processed.replace(np.inf,0)"
   ]
  },
  {
   "cell_type": "markdown",
   "metadata": {
    "id": "W6vvNSC6h1jZ"
   },
   "source": [
    "<a id='6'></a>\n",
    "# Part 7: Backtest Our Strategy\n",
    "Backtesting plays a key role in evaluating the performance of a trading strategy. Automated backtesting tool is preferred because it reduces the human error. We usually use the Quantopian pyfolio package to backtest our trading strategies. It is easy to use and consists of various individual plots that provide a comprehensive image of the performance of a trading strategy."
   ]
  },
  {
   "cell_type": "code",
   "execution_count": 8,
   "metadata": {
    "executionInfo": {
     "elapsed": 224,
     "status": "ok",
     "timestamp": 1733376169962,
     "user": {
      "displayName": "Garrett Devaney",
      "userId": "10600170082792839935"
     },
     "user_tz": 300
    },
    "id": "X4JKB--8tj1g"
   },
   "outputs": [],
   "source": [
    "unique_trade_date = processed[(processed.date > TEST_START_DATE)&(processed.date <= TEST_END_DATE)].date.unique()"
   ]
  },
  {
   "cell_type": "code",
   "execution_count": 9,
   "metadata": {},
   "outputs": [],
   "source": [
    "rebalance_window = validation_window = 63"
   ]
  },
  {
   "cell_type": "code",
   "execution_count": 10,
   "metadata": {
    "executionInfo": {
     "elapsed": 34307,
     "status": "ok",
     "timestamp": 1733376258463,
     "user": {
      "displayName": "Garrett Devaney",
      "userId": "10600170082792839935"
     },
     "user_tz": 300
    },
    "id": "q9mKF7GGtj1g",
    "scrolled": true
   },
   "outputs": [],
   "source": [
    "import pandas as pd\n",
    "import numpy as np\n",
    "\n",
    "models = ['A2C', 'PPO', 'DDPG', 'ensemble', 'MBRL', 'PETS', 'modified_PETS']\n",
    "df_trade_date = pd.DataFrame({'datadate': unique_trade_date})\n",
    "\n",
    "df_account_value = pd.DataFrame()\n",
    "sharpe_dict = {}\n",
    "\n",
    "for model in models:\n",
    "    df_model_value = pd.DataFrame()\n",
    "    for i in range(rebalance_window + validation_window, len(unique_trade_date) + 1, rebalance_window):\n",
    "        if model == 'PETS':\n",
    "            # Unmodified PETS is in pets_only_results folder\n",
    "            temp = pd.read_csv(f'new_pets_results/account_value_trade_PETS_{i}.csv')\n",
    "        elif model == 'modified_PETS':\n",
    "            # Modified PETS is in original_results folder but named as PETS\n",
    "            temp = pd.read_csv(f'pets_only_results/account_value_trade_PETS_{i}.csv')\n",
    "        else:\n",
    "            # Other models are in original_results folder under their own names\n",
    "            temp = pd.read_csv(f'original_results/account_value_trade_{model}_{i}.csv')\n",
    "        temp['model'] = model\n",
    "        df_model_value = pd.concat([df_model_value, temp], ignore_index=True)\n",
    "        \n",
    "    # Focus on the last 504 days of this model\n",
    "    # Make sure we have at least 504 data points per model before slicing\n",
    "    if len(df_model_value) >= 504:\n",
    "        # Calculate daily log returns\n",
    "        # Shift forward one day and take log(price_t / price_{t-1})\n",
    "        daily_values = df_model_value[-504:].account_value\n",
    "        log_returns = np.log(daily_values / daily_values.shift(1)).dropna()\n",
    "        # print(len(log_returns))\n",
    "        # Compute Sharpe Ratio: (mean(log_returns) / std(log_returns)) * sqrt(252)\n",
    "        sr = (log_returns.mean() / log_returns.std()) * (252 ** 0.5)\n",
    "        sharpe_dict[model] = sr\n",
    "\n",
    "        # Also store combined account values\n",
    "        df_account_value = pd.concat([df_account_value, df_model_value], ignore_index=True)\n",
    "    else:\n",
    "        # If not enough data for 504 days, set Sharpe as NaN or skip\n",
    "        sharpe_dict[model] = np.nan\n",
    "\n",
    "# If you need separate DataFrames for each model joined with dates:\n",
    "a2c_account_value = df_account_value[df_account_value['model']=='A2C'].join(df_trade_date[validation_window:].reset_index(drop=True))\n",
    "ppo_account_value = df_account_value[df_account_value['model']=='PPO'].join(df_trade_date[validation_window:].reset_index(drop=True))\n",
    "ddpg_account_value = df_account_value[df_account_value['model']=='DDPG'].join(df_trade_date[validation_window:].reset_index(drop=True))\n",
    "ensemble_account_value = df_account_value[df_account_value['model']=='ensemble'].join(df_trade_date[validation_window:].reset_index(drop=True))\n",
    "mbrl_account_value = df_account_value[df_account_value['model']=='MBRL'].join(df_trade_date[validation_window:].reset_index(drop=True))\n",
    "pets_account_value = df_account_value[df_account_value['model']=='PETS'].join(df_trade_date[validation_window:].reset_index(drop=True))\n",
    "modified_pets_account_value = df_account_value[df_account_value['model']=='modified_PETS'].join(df_trade_date[validation_window:].reset_index(drop=True))\n",
    "\n",
    "# Return the Sharpe dictionary\n",
    "sharpe_dict_2yr = sharpe_dict\n"
   ]
  },
  {
   "cell_type": "code",
   "execution_count": 40,
   "metadata": {},
   "outputs": [],
   "source": [
    "import pandas as pd\n",
    "import numpy as np\n",
    "\n",
    "models = ['A2C', 'PPO', 'DDPG', 'ensemble', 'MBRL', 'PETS', 'modified_PETS']\n",
    "df_trade_date = pd.DataFrame({'datadate': unique_trade_date})\n",
    "\n",
    "df_account_value = pd.DataFrame()\n",
    "sharpe_dict = {}\n",
    "\n",
    "for model in models:\n",
    "    df_model_value = pd.DataFrame()\n",
    "    for i in range(rebalance_window + validation_window, len(unique_trade_date) + 1, rebalance_window):\n",
    "        if model == 'PETS':\n",
    "            # Unmodified PETS is in pets_only_results folder\n",
    "            temp = pd.read_csv(f'new_pets_results/account_value_trade_PETS_{i}.csv')\n",
    "        elif model == 'modified_PETS':\n",
    "            # Modified PETS is in original_results folder but named as PETS\n",
    "            temp = pd.read_csv(f'pets_only_results/account_value_trade_PETS_{i}.csv')\n",
    "        else:\n",
    "            # Other models are in original_results folder under their own names\n",
    "            temp = pd.read_csv(f'original_results/account_value_trade_{model}_{i}.csv')\n",
    "        temp['model'] = model\n",
    "        df_model_value = pd.concat([df_model_value, temp], ignore_index=True)\n",
    "\n",
    "    if len(df_model_value) >= 504:\n",
    "        # Calculate daily log returns\n",
    "        # Shift forward one day and take log(price_t / price_{t-1})\n",
    "        daily_values = df_model_value[-504:].account_value\n",
    "        # print(len(log_returns))\n",
    "        # Compute Sharpe Ratio: (mean(log_returns) / std(log_returns)) * sqrt(252)\n",
    "        sr = (252 ** 0.5) * daily_values.pct_change(1).mean() / daily_values.pct_change(1).std()\n",
    "        sharpe_dict[model] = sr\n",
    "\n",
    "        # Also store combined account values\n",
    "        df_account_value = pd.concat([df_account_value, df_model_value], ignore_index=True)\n",
    "    else:\n",
    "        # If not enough data for 504 days, set Sharpe as NaN or skip\n",
    "        sharpe_dict[model] = np.nan\n",
    "\n",
    "sharpe_dict_pct = sharpe_dict"
   ]
  },
  {
   "cell_type": "code",
   "execution_count": 41,
   "metadata": {},
   "outputs": [
    {
     "name": "stdout",
     "output_type": "stream",
     "text": [
      "{   'A2C': -0.27210556569193284,\n",
      "    'DDPG': 0.13634347125281132,\n",
      "    'MBRL': -0.18704803344802012,\n",
      "    'PETS': 0.9811696399189908,\n",
      "    'PPO': 0.0489675804167554,\n",
      "    'ensemble': 0.08631310755692406,\n",
      "    'modified_PETS': 0.20431000832608567}\n"
     ]
    }
   ],
   "source": [
    "import pprint \n",
    "pp = pprint.PrettyPrinter(indent=4)\n",
    "\n",
    "pp.pprint(sharpe_dict_pct)"
   ]
  },
  {
   "cell_type": "code",
   "execution_count": 37,
   "metadata": {},
   "outputs": [
    {
     "name": "stdout",
     "output_type": "stream",
     "text": [
      "{   'A2C': -0.35303081393825014,\n",
      "    'DDPG': 0.0514989685206101,\n",
      "    'MBRL': -0.2647352561519244,\n",
      "    'PETS': 0.9542582551373774,\n",
      "    'PPO': -0.03193223649508115,\n",
      "    'ensemble': -0.0028456022368905103,\n",
      "    'modified_PETS': 0.15819086020545248}\n"
     ]
    }
   ],
   "source": [
    "pp.pprint(sharpe_dict_2yr)"
   ]
  },
  {
   "cell_type": "code",
   "execution_count": null,
   "metadata": {},
   "outputs": [],
   "source": []
  }
 ],
 "metadata": {
  "colab": {
   "provenance": [
    {
     "file_id": "14FK1JfL4vQP-9DtSg1wJkUUhsyF6ZmgT",
     "timestamp": 1733254171268
    }
   ]
  },
  "kernelspec": {
   "display_name": "m_env",
   "language": "python",
   "name": "python3"
  },
  "language_info": {
   "codemirror_mode": {
    "name": "ipython",
    "version": 3
   },
   "file_extension": ".py",
   "mimetype": "text/x-python",
   "name": "python",
   "nbconvert_exporter": "python",
   "pygments_lexer": "ipython3",
   "version": "3.10.13"
  },
  "pycharm": {
   "stem_cell": {
    "cell_type": "raw",
    "metadata": {
     "collapsed": false
    },
    "source": []
   }
  }
 },
 "nbformat": 4,
 "nbformat_minor": 0
}
