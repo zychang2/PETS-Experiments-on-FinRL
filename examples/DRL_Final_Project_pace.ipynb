{
 "cells": [
  {
   "cell_type": "markdown",
   "metadata": {
    "id": "Lb9q2_QZgdNk"
   },
   "source": [
    "<a target=\"_blank\" href=\"https://colab.research.google.com/github/AI4Finance-Foundation/FinRL-Tutorials/blob/master/2-Advance/FinRL_Ensemble_StockTrading_ICAIF_2020.ipynb\">\n",
    "  <img src=\"https://colab.research.google.com/assets/colab-badge.svg\" alt=\"Open In Colab\"/>\n",
    "</a>"
   ]
  },
  {
   "cell_type": "markdown",
   "metadata": {
    "id": "gXaoZs2lh1hi"
   },
   "source": [
    "# Deep Reinforcement Learning for Stock Trading from Scratch: Multiple Stock Trading Using Ensemble Strategy\n",
    "\n",
    "Tutorials to use OpenAI DRL to trade multiple stocks using ensemble strategy in one Jupyter Notebook | Presented at ICAIF 2020\n",
    "\n",
    "* This notebook is the reimplementation of our paper: Deep Reinforcement Learning for Automated Stock Trading: An Ensemble Strategy, using FinRL.\n",
    "* Check out medium blog for detailed explanations: https://medium.com/@ai4finance/deep-reinforcement-learning-for-automated-stock-trading-f1dad0126a02\n",
    "* Please report any issues to our Github: https://github.com/AI4Finance-LLC/FinRL-Library/issues\n",
    "* **Pytorch Version**\n",
    "\n"
   ]
  },
  {
   "cell_type": "markdown",
   "metadata": {
    "id": "lGunVt8oLCVS"
   },
   "source": [
    "# Content"
   ]
  },
  {
   "cell_type": "markdown",
   "metadata": {
    "id": "HOzAKQ-SLGX6"
   },
   "source": [
    "* [1. Problem Definition](#0)\n",
    "* [2. Getting Started - Load Python packages](#1)\n",
    "    * [2.1. Install Packages](#1.1)    \n",
    "    * [2.2. Check Additional Packages](#1.2)\n",
    "    * [2.3. Import Packages](#1.3)\n",
    "    * [2.4. Create Folders](#1.4)\n",
    "* [3. Download Data](#2)\n",
    "* [4. Preprocess Data](#3)        \n",
    "    * [4.1. Technical Indicators](#3.1)\n",
    "    * [4.2. Perform Feature Engineering](#3.2)\n",
    "* [5.Build Environment](#4)  \n",
    "    * [5.1. Training & Trade Data Split](#4.1)\n",
    "    * [5.2. User-defined Environment](#4.2)   \n",
    "    * [5.3. Initialize Environment](#4.3)    \n",
    "* [6.Implement DRL Algorithms](#5)  \n",
    "* [7.Backtesting Performance](#6)  \n",
    "    * [7.1. BackTestStats](#6.1)\n",
    "    * [7.2. BackTestPlot](#6.2)   \n",
    "    * [7.3. Baseline Stats](#6.3)   \n",
    "    * [7.3. Compare to Stock Market Index](#6.4)             "
   ]
  },
  {
   "cell_type": "markdown",
   "metadata": {
    "id": "sApkDlD9LIZv"
   },
   "source": [
    "<a id='0'></a>\n",
    "# Part 1. Problem Definition"
   ]
  },
  {
   "cell_type": "markdown",
   "metadata": {
    "id": "HjLD2TZSLKZ-"
   },
   "source": [
    "This problem is to design an automated trading solution for single stock trading. We model the stock trading process as a Markov Decision Process (MDP). We then formulate our trading goal as a maximization problem.\n",
    "\n",
    "The algorithm is trained using Deep Reinforcement Learning (DRL) algorithms and the components of the reinforcement learning environment are:\n",
    "\n",
    "\n",
    "* Action: The action space describes the allowed actions that the agent interacts with the\n",
    "environment. Normally, a ∈ A includes three actions: a ∈ {−1, 0, 1}, where −1, 0, 1 represent\n",
    "selling, holding, and buying one stock. Also, an action can be carried upon multiple shares. We use\n",
    "an action space {−k, ..., −1, 0, 1, ..., k}, where k denotes the number of shares. For example, \"Buy\n",
    "10 shares of AAPL\" or \"Sell 10 shares of AAPL\" are 10 or −10, respectively\n",
    "\n",
    "* Reward function: r(s, a, s′) is the incentive mechanism for an agent to learn a better action. The change of the portfolio value when action a is taken at state s and arriving at new state s',  i.e., r(s, a, s′) = v′ − v, where v′ and v represent the portfolio\n",
    "values at state s′ and s, respectively\n",
    "\n",
    "* State: The state space describes the observations that the agent receives from the environment. Just as a human trader needs to analyze various information before executing a trade, so\n",
    "our trading agent observes many different features to better learn in an interactive environment.\n",
    "\n",
    "* Environment: Dow 30 consituents\n",
    "\n",
    "\n",
    "The data of the single stock that we will be using for this case study is obtained from Yahoo Finance API. The data contains Open-High-Low-Close price and volume.\n"
   ]
  },
  {
   "cell_type": "markdown",
   "metadata": {},
   "source": [
    "# Part 2. Import Packages \n",
    "For installation, see `README.MD`"
   ]
  },
  {
   "cell_type": "code",
   "execution_count": 1,
   "metadata": {
    "colab": {
     "base_uri": "https://localhost:8080/"
    },
    "executionInfo": {
     "elapsed": 12369,
     "status": "ok",
     "timestamp": 1733260337921,
     "user": {
      "displayName": "Garrett Devaney",
      "userId": "10600170082792839935"
     },
     "user_tz": 300
    },
    "id": "lPqeTTwoh1hn",
    "outputId": "44cb287a-74d3-4189-becf-c8d4f68b0d16"
   },
   "outputs": [
    {
     "name": "stderr",
     "output_type": "stream",
     "text": [
      "/home/hice1/ylin727/.conda/envs/finrl/lib/python3.10/site-packages/pyfolio/pos.py:26: UserWarning: Module \"zipline.assets\" not found; mutltipliers will not be applied to position notionals.\n",
      "  warnings.warn(\n"
     ]
    }
   ],
   "source": [
    "import pandas as pd\n",
    "import numpy as np\n",
    "import matplotlib\n",
    "import matplotlib.pyplot as plt\n",
    "\n",
    "import datetime\n",
    "import importlib\n",
    "\n",
    "from finrl.config_tickers import DOW_30_TICKER\n",
    "from finrl.meta.preprocessor import fixed_yahoodownloader # comment this if you chose other path above\n",
    "importlib.reload(fixed_yahoodownloader) # comment this if you chose other path above\n",
    "from finrl.meta.preprocessor.fixed_yahoodownloader import YahooDownloader #comment this if you chose the other path above\n",
    "\n",
    "from finrl.meta.preprocessor.preprocessors import FeatureEngineer, data_split\n",
    "from finrl.meta.preprocessor.preprocessors import FeatureEngineer, data_split\n",
    "from finrl.meta.env_stock_trading.env_stocktrading import StockTradingEnv\n",
    "from finrl.agents.stablebaselines3.models import DRLEnsembleAgent\n",
    "from finrl.agents.stablebaselines3.single_models import DRLSingleAgent\n",
    "from finrl.agents.stablebaselines3.pets_model import PETSAgent\n",
    "from finrl.agents.stablebaselines3.mbrl_model import MBRLAgent\n",
    "from finrl.plot import backtest_stats, backtest_plot, get_daily_return, get_baseline\n",
    "\n",
    "from pprint import pprint"
   ]
  },
  {
   "cell_type": "markdown",
   "metadata": {
    "id": "T2owTj985RW4"
   },
   "source": [
    "<a id='1.4'></a>\n",
    "## 2.4. Create Folders"
   ]
  },
  {
   "cell_type": "code",
   "execution_count": 2,
   "metadata": {
    "colab": {
     "base_uri": "https://localhost:8080/"
    },
    "executionInfo": {
     "elapsed": 5,
     "status": "ok",
     "timestamp": 1733260337921,
     "user": {
      "displayName": "Garrett Devaney",
      "userId": "10600170082792839935"
     },
     "user_tz": 300
    },
    "id": "w9A8CN5R5PuZ",
    "outputId": "40a79362-d352-4903-8ee1-de6d0922ed6f"
   },
   "outputs": [],
   "source": [
    "import os\n",
    "from finrl.main import check_and_make_directories\n",
    "from finrl.config import (\n",
    "    DATA_SAVE_DIR,\n",
    "    TRAINED_MODEL_DIR,\n",
    "    TENSORBOARD_LOG_DIR,\n",
    "    RESULTS_DIR,\n",
    "    INDICATORS,\n",
    "    TRAIN_START_DATE,\n",
    "    TRAIN_END_DATE,\n",
    "    TEST_START_DATE,\n",
    "    TEST_END_DATE,\n",
    "    TRADE_START_DATE,\n",
    "    TRADE_END_DATE,\n",
    ")\n",
    "\n",
    "check_and_make_directories([DATA_SAVE_DIR, TRAINED_MODEL_DIR, TENSORBOARD_LOG_DIR, RESULTS_DIR])"
   ]
  },
  {
   "cell_type": "markdown",
   "metadata": {
    "id": "A289rQWMh1hq"
   },
   "source": [
    "<a id='2'></a>\n",
    "# Part 3. Download Data\n",
    "Yahoo Finance is a website that provides stock data, financial news, financial reports, etc. All the data provided by Yahoo Finance is free.\n",
    "* FinRL uses a class **YahooDownloader** to fetch data from Yahoo Finance API\n",
    "* Call Limit: Using the Public API (without authentication), you are limited to 2,000 requests per hour per IP (or up to a total of 48,000 requests a day).\n"
   ]
  },
  {
   "cell_type": "markdown",
   "metadata": {
    "id": "NPeQ7iS-LoMm"
   },
   "source": [
    "\n",
    "\n",
    "-----\n",
    "class YahooDownloader:\n",
    "    Provides methods for retrieving daily stock data from\n",
    "    Yahoo Finance API\n",
    "\n",
    "    Attributes\n",
    "    ----------\n",
    "        start_date : str\n",
    "            start date of the data (modified from config.py)\n",
    "        end_date : str\n",
    "            end date of the data (modified from config.py)\n",
    "        ticker_list : list\n",
    "            a list of stock tickers (modified from config.py)\n",
    "\n",
    "    Methods\n",
    "    -------\n",
    "    fetch_data()\n",
    "        Fetches data from yahoo API\n"
   ]
  },
  {
   "cell_type": "code",
   "execution_count": 3,
   "metadata": {
    "colab": {
     "base_uri": "https://localhost:8080/"
    },
    "executionInfo": {
     "elapsed": 4,
     "status": "ok",
     "timestamp": 1733260337921,
     "user": {
      "displayName": "Garrett Devaney",
      "userId": "10600170082792839935"
     },
     "user_tz": 300
    },
    "id": "JzqRRTOX6aFu",
    "outputId": "42727a79-72e6-43ce-8000-491753b4de10"
   },
   "outputs": [
    {
     "name": "stdout",
     "output_type": "stream",
     "text": [
      "['AXP', 'AMGN', 'AAPL', 'BA', 'CAT', 'CSCO', 'CVX', 'GS', 'HD', 'HON', 'IBM', 'INTC', 'JNJ', 'KO', 'JPM', 'MCD', 'MMM', 'MRK', 'MSFT', 'NKE', 'PG', 'TRV', 'UNH', 'CRM', 'VZ', 'V', 'WBA', 'WMT', 'DIS', 'DOW']\n"
     ]
    }
   ],
   "source": [
    "print(DOW_30_TICKER)"
   ]
  },
  {
   "cell_type": "code",
   "execution_count": 19,
   "metadata": {
    "colab": {
     "base_uri": "https://localhost:8080/"
    },
    "collapsed": true,
    "executionInfo": {
     "elapsed": 10956,
     "status": "ok",
     "timestamp": 1733260348875,
     "user": {
      "displayName": "Garrett Devaney",
      "userId": "10600170082792839935"
     },
     "user_tz": 300
    },
    "id": "yCKm4om-s9kE",
    "outputId": "b2b30bc6-1c71-4e45-fcf2-1052f5e4afe9"
   },
   "outputs": [
    {
     "name": "stderr",
     "output_type": "stream",
     "text": [
      "[*********************100%***********************]  1 of 1 completed\n",
      "[*********************100%***********************]  1 of 1 completed\n",
      "[*********************100%***********************]  1 of 1 completed\n",
      "[*********************100%***********************]  1 of 1 completed\n",
      "[*********************100%***********************]  1 of 1 completed\n",
      "[*********************100%***********************]  1 of 1 completed\n",
      "[*********************100%***********************]  1 of 1 completed\n",
      "[*********************100%***********************]  1 of 1 completed\n",
      "[*********************100%***********************]  1 of 1 completed\n",
      "[*********************100%***********************]  1 of 1 completed\n",
      "[*********************100%***********************]  1 of 1 completed\n",
      "[*********************100%***********************]  1 of 1 completed\n",
      "[*********************100%***********************]  1 of 1 completed\n",
      "[*********************100%***********************]  1 of 1 completed\n",
      "[*********************100%***********************]  1 of 1 completed\n",
      "[*********************100%***********************]  1 of 1 completed\n",
      "[*********************100%***********************]  1 of 1 completed\n",
      "[*********************100%***********************]  1 of 1 completed\n",
      "[*********************100%***********************]  1 of 1 completed\n",
      "[*********************100%***********************]  1 of 1 completed\n",
      "[*********************100%***********************]  1 of 1 completed\n",
      "[*********************100%***********************]  1 of 1 completed\n",
      "[*********************100%***********************]  1 of 1 completed\n",
      "[*********************100%***********************]  1 of 1 completed\n",
      "[*********************100%***********************]  1 of 1 completed\n",
      "[*********************100%***********************]  1 of 1 completed\n",
      "[*********************100%***********************]  1 of 1 completed\n",
      "[*********************100%***********************]  1 of 1 completed\n",
      "[*********************100%***********************]  1 of 1 completed\n",
      "[*********************100%***********************]  1 of 1 completed"
     ]
    },
    {
     "name": "stdout",
     "output_type": "stream",
     "text": [
      "Shape of DataFrame:  (22590, 8)\n",
      "Display DataFrame:           date       close        high         low        open   volume  tic  \\\n",
      "0  2021-01-04  112.164009  121.800003  116.849998  121.300003  3472100  AXP   \n",
      "1  2021-01-05  112.762672  119.279999  117.099998  118.260002  2112700  AXP   \n",
      "2  2021-01-06  116.934135  124.730003  120.809998  121.000000  5861500  AXP   \n",
      "3  2021-01-07  116.009186  125.690002  117.349998  124.099998  8696600  AXP   \n",
      "4  2021-01-08  116.123589  122.199997  119.519997  122.070000  2934500  AXP   \n",
      "\n",
      "   day  \n",
      "0    0  \n",
      "1    1  \n",
      "2    2  \n",
      "3    3  \n",
      "4    4  \n"
     ]
    },
    {
     "name": "stderr",
     "output_type": "stream",
     "text": [
      "\n"
     ]
    }
   ],
   "source": [
    "TRAIN_START_DATE = '2021-01-01'\n",
    "TRAIN_END_DATE = '2023-01-01'\n",
    "TEST_START_DATE = '2023-01-01'\n",
    "TEST_END_DATE = '2024-01-01'\n",
    "\n",
    "df = YahooDownloader(start_date = TRAIN_START_DATE,\n",
    "                     end_date = TEST_END_DATE,\n",
    "                     ticker_list = DOW_30_TICKER).fetch_data()"
   ]
  },
  {
   "cell_type": "markdown",
   "metadata": {
    "id": "uqC6c40Zh1iH"
   },
   "source": [
    "# Part 4: Preprocess Data\n",
    "Data preprocessing is a crucial step for training a high quality machine learning model. We need to check for missing data and do feature engineering in order to convert the data into a model-ready state.\n",
    "* Add technical indicators. In practical trading, various information needs to be taken into account, for example the historical stock prices, current holding shares, technical indicators, etc. In this article, we demonstrate two trend-following technical indicators: MACD and RSI.\n",
    "* Add turbulence index. Risk-aversion reflects whether an investor will choose to preserve the capital. It also influences one's trading strategy when facing different market volatility level. To control the risk in a worst-case scenario, such as financial crisis of 2007–2008, FinRL employs the financial turbulence index that measures extreme asset price fluctuation."
   ]
  },
  {
   "cell_type": "code",
   "execution_count": 20,
   "metadata": {
    "colab": {
     "base_uri": "https://localhost:8080/"
    },
    "executionInfo": {
     "elapsed": 6,
     "status": "ok",
     "timestamp": 1733260348875,
     "user": {
      "displayName": "Garrett Devaney",
      "userId": "10600170082792839935"
     },
     "user_tz": 300
    },
    "id": "kM5bH9uroCeg",
    "outputId": "fe63a43a-2068-4c2b-f7a7-8598b77b45ae"
   },
   "outputs": [],
   "source": [
    "INDICATORS = ['macd',\n",
    "            'rsi_30',\n",
    "            'cci_30',\n",
    "            'dx_30']"
   ]
  },
  {
   "cell_type": "code",
   "execution_count": 21,
   "metadata": {
    "colab": {
     "base_uri": "https://localhost:8080/"
    },
    "executionInfo": {
     "elapsed": 19340,
     "status": "ok",
     "timestamp": 1733260368211,
     "user": {
      "displayName": "Garrett Devaney",
      "userId": "10600170082792839935"
     },
     "user_tz": 300
    },
    "id": "jgXfBcjxtj1a",
    "outputId": "1fde38a7-61b6-4117-8d00-6625d1005fdd"
   },
   "outputs": [
    {
     "name": "stdout",
     "output_type": "stream",
     "text": [
      "Successfully added technical indicators\n",
      "Successfully added turbulence index\n"
     ]
    }
   ],
   "source": [
    "fe = FeatureEngineer(use_technical_indicator=True,\n",
    "                     tech_indicator_list = INDICATORS,\n",
    "                     use_turbulence=True,\n",
    "                     user_defined_feature = False)\n",
    "\n",
    "processed = fe.preprocess_data(df)\n",
    "processed = processed.copy()\n",
    "processed = processed.fillna(0)\n",
    "processed = processed.replace(np.inf,0)"
   ]
  },
  {
   "cell_type": "markdown",
   "metadata": {
    "id": "-QsYaY0Dh1iw"
   },
   "source": [
    "<a id='4'></a>\n",
    "# Part 5. Design Environment\n",
    "Considering the stochastic and interactive nature of the automated stock trading tasks, a financial task is modeled as a **Markov Decision Process (MDP)** problem. The training process involves observing stock price change, taking an action and reward's calculation to have the agent adjusting its strategy accordingly. By interacting with the environment, the trading agent will derive a trading strategy with the maximized rewards as time proceeds.\n",
    "\n",
    "Our trading environments, based on OpenAI Gym framework, simulate live stock markets with real market data according to the principle of time-driven simulation.\n",
    "\n",
    "The action space describes the allowed actions that the agent interacts with the environment. Normally, action a includes three actions: {-1, 0, 1}, where -1, 0, 1 represent selling, holding, and buying one share. Also, an action can be carried upon multiple shares. We use an action space {-k,…,-1, 0, 1, …, k}, where k denotes the number of shares to buy and -k denotes the number of shares to sell. For example, \"Buy 10 shares of AAPL\" or \"Sell 10 shares of AAPL\" are 10 or -10, respectively. The continuous action space needs to be normalized to [-1, 1], since the policy is defined on a Gaussian distribution, which needs to be normalized and symmetric."
   ]
  },
  {
   "cell_type": "code",
   "execution_count": 22,
   "metadata": {
    "colab": {
     "base_uri": "https://localhost:8080/"
    },
    "executionInfo": {
     "elapsed": 4,
     "status": "ok",
     "timestamp": 1733260368211,
     "user": {
      "displayName": "Garrett Devaney",
      "userId": "10600170082792839935"
     },
     "user_tz": 300
    },
    "id": "Q2zqII8rMIqn",
    "outputId": "f03d879b-d172-4f45-a713-bdeea8bdb2a8"
   },
   "outputs": [
    {
     "name": "stdout",
     "output_type": "stream",
     "text": [
      "Stock Dimension: 30, State Space: 181\n"
     ]
    }
   ],
   "source": [
    "stock_dimension = len(processed.tic.unique())\n",
    "state_space = 1 + 2*stock_dimension + len(INDICATORS)*stock_dimension\n",
    "print(f\"Stock Dimension: {stock_dimension}, State Space: {state_space}\")"
   ]
  },
  {
   "cell_type": "code",
   "execution_count": 23,
   "metadata": {
    "executionInfo": {
     "elapsed": 4,
     "status": "ok",
     "timestamp": 1733260368211,
     "user": {
      "displayName": "Garrett Devaney",
      "userId": "10600170082792839935"
     },
     "user_tz": 300
    },
    "id": "AWyp84Ltto19"
   },
   "outputs": [],
   "source": [
    "env_kwargs = {\n",
    "    \"hmax\": 100,\n",
    "    \"initial_amount\": 1000000,\n",
    "    \"buy_cost_pct\": 0.001,\n",
    "    \"sell_cost_pct\": 0.001,\n",
    "    \"state_space\": state_space,\n",
    "    \"stock_dim\": stock_dimension,\n",
    "    \"tech_indicator_list\": INDICATORS,\n",
    "    \"action_space\": stock_dimension,\n",
    "    \"reward_scaling\": 1e-4,\n",
    "    \"print_verbosity\":5\n",
    "}"
   ]
  },
  {
   "cell_type": "markdown",
   "metadata": {
    "id": "HMNR5nHjh1iz"
   },
   "source": [
    "<a id='5'></a>\n",
    "# Part 6: Implement DRL Algorithms\n",
    "* The implementation of the DRL algorithms are based on **OpenAI Baselines** and **Stable Baselines**. Stable Baselines is a fork of OpenAI Baselines, with a major structural refactoring, and code cleanups.\n",
    "\n",
    "* The paper trains and validates 3 model-free agents (A2C, PPO, DDPG) using Rolling-Window Ensemble Method ([reference code](https://github.com/AI4Finance-LLC/Deep-Reinforcement-Learning-for-Automated-Stock-Trading-Ensemble-Strategy-ICAIF-2020/blob/80415db8fa7b2179df6bd7e81ce4fe8dbf913806/model/models.py#L92))\n",
    "\n",
    "* We train and validate 2 model-based agents (Random Shooting and PETS) using the sam Rolling-Window method without Ensembling."
   ]
  },
  {
   "cell_type": "markdown",
   "metadata": {
    "id": "mHquR1HzBGzd"
   },
   "source": [
    "##Part 6.1 Ensemble Method"
   ]
  },
  {
   "cell_type": "code",
   "execution_count": 24,
   "metadata": {
    "executionInfo": {
     "elapsed": 3,
     "status": "ok",
     "timestamp": 1733260368211,
     "user": {
      "displayName": "Garrett Devaney",
      "userId": "10600170082792839935"
     },
     "user_tz": 300
    },
    "id": "v-gthCxMtj1d"
   },
   "outputs": [],
   "source": [
    "rebalance_window = 63 # rebalance_window is the number of days to retrain the model\n",
    "validation_window = 63 # validation_window is the number of days to do validation and trading (e.g. if validation_window=63, then both validation and trading period will be 63 days)\n",
    "\n",
    "ensemble_agent = DRLEnsembleAgent(df=processed,\n",
    "                 train_period=(TRAIN_START_DATE,TRAIN_END_DATE),\n",
    "                 val_test_period=(TEST_START_DATE,TEST_END_DATE),\n",
    "                 rebalance_window=rebalance_window,\n",
    "                 validation_window=validation_window,\n",
    "                 **env_kwargs)"
   ]
  },
  {
   "cell_type": "code",
   "execution_count": 25,
   "metadata": {
    "executionInfo": {
     "elapsed": 3,
     "status": "ok",
     "timestamp": 1733260368211,
     "user": {
      "displayName": "Garrett Devaney",
      "userId": "10600170082792839935"
     },
     "user_tz": 300
    },
    "id": "KsfEHa_Etj1d",
    "scrolled": false
   },
   "outputs": [],
   "source": [
    "A2C_model_kwargs = {\n",
    "                    'n_steps': 5,\n",
    "                    'ent_coef': 0.005,\n",
    "                    'learning_rate': 0.0007\n",
    "                    }\n",
    "\n",
    "PPO_model_kwargs = {\n",
    "                    \"ent_coef\":0.01,\n",
    "                    \"n_steps\": 2048,\n",
    "                    \"learning_rate\": 0.00025,\n",
    "                    \"batch_size\": 128\n",
    "                    }\n",
    "\n",
    "DDPG_model_kwargs = {\n",
    "                      #\"action_noise\":\"ornstein_uhlenbeck\",\n",
    "                      \"buffer_size\": 10_000,\n",
    "                      \"learning_rate\": 0.0005,\n",
    "                      \"batch_size\": 64\n",
    "                    }\n",
    "\n",
    "SAC_model_kwargs = {\"batch_size\": 64,\"buffer_size\": 100000,\"learning_rate\": 0.0001,\"learning_starts\": 100,\"ent_coef\": \"auto_0.1\",}\n",
    "TD3_model_kwargs = {\"batch_size\": 100, \"buffer_size\": 1000000, \"learning_rate\": 0.0001}\n",
    " \n",
    "timesteps_dict = {'a2c' : 10_000,\n",
    "                 'ppo' : 10_000,\n",
    "                 'ddpg' : 10_000,\n",
    "                 }"
   ]
  },
  {
   "cell_type": "code",
   "execution_count": 26,
   "metadata": {
    "colab": {
     "base_uri": "https://localhost:8080/"
    },
    "collapsed": true,
    "id": "_1lyCECstj1e",
    "outputId": "056b50cd-f8e8-4192-edd9-f570587ed923",
    "scrolled": true
   },
   "outputs": [
    {
     "name": "stdout",
     "output_type": "stream",
     "text": [
      "============Start Ensemble Strategy============\n",
      "============================================\n",
      "turbulence_threshold:  139.6325983712063\n",
      "======Model training from:  2021-01-01 to  2023-01-03\n",
      "======a2c Training========\n",
      "{'n_steps': 5, 'ent_coef': 0.005, 'learning_rate': 0.0007}\n",
      "Using cuda device\n",
      "Logging to tensorboard_log/a2c/a2c_126_1\n"
     ]
    },
    {
     "name": "stderr",
     "output_type": "stream",
     "text": [
      "/home/hice1/ylin727/.conda/envs/finrl/lib/python3.10/site-packages/stable_baselines3/common/on_policy_algorithm.py:150: UserWarning: You are trying to run A2C on the GPU, but it is primarily intended to run on the CPU when not using a CNN policy (you are using ActorCriticPolicy which should be a MlpPolicy). See https://github.com/DLR-RM/stable-baselines3/issues/1245 for more info. You can pass `device='cpu'` or `export CUDA_VISIBLE_DEVICES=` to force using the CPU.Note: The model will train, but the GPU utilization will be poor and the training might take longer than on CPU.\n",
      "  warnings.warn(\n"
     ]
    },
    {
     "name": "stdout",
     "output_type": "stream",
     "text": [
      "--------------------------------------\n",
      "| time/                 |            |\n",
      "|    fps                | 37         |\n",
      "|    iterations         | 100        |\n",
      "|    time_elapsed       | 13         |\n",
      "|    total_timesteps    | 500        |\n",
      "| train/                |            |\n",
      "|    entropy_loss       | -42.5      |\n",
      "|    explained_variance | -0.138     |\n",
      "|    learning_rate      | 0.0007     |\n",
      "|    n_updates          | 99         |\n",
      "|    policy_loss        | -19.7      |\n",
      "|    reward             | -1.3214741 |\n",
      "|    std                | 0.999      |\n",
      "|    value_loss         | 2.64       |\n",
      "--------------------------------------\n",
      "---------------------------------------\n",
      "| time/                 |             |\n",
      "|    fps                | 66          |\n",
      "|    iterations         | 200         |\n",
      "|    time_elapsed       | 15          |\n",
      "|    total_timesteps    | 1000        |\n",
      "| train/                |             |\n",
      "|    entropy_loss       | -42.6       |\n",
      "|    explained_variance | 0.117       |\n",
      "|    learning_rate      | 0.0007      |\n",
      "|    n_updates          | 199         |\n",
      "|    policy_loss        | -53         |\n",
      "|    reward             | -0.14008956 |\n",
      "|    std                | 1           |\n",
      "|    value_loss         | 1.93        |\n",
      "---------------------------------------\n",
      "---------------------------------------\n",
      "| time/                 |             |\n",
      "|    fps                | 89          |\n",
      "|    iterations         | 300         |\n",
      "|    time_elapsed       | 16          |\n",
      "|    total_timesteps    | 1500        |\n",
      "| train/                |             |\n",
      "|    entropy_loss       | -42.6       |\n",
      "|    explained_variance | -0.235      |\n",
      "|    learning_rate      | 0.0007      |\n",
      "|    n_updates          | 299         |\n",
      "|    policy_loss        | 75.6        |\n",
      "|    reward             | 0.034295913 |\n",
      "|    std                | 1           |\n",
      "|    value_loss         | 3.43        |\n",
      "---------------------------------------\n",
      "--------------------------------------\n",
      "| time/                 |            |\n",
      "|    fps                | 108        |\n",
      "|    iterations         | 400        |\n",
      "|    time_elapsed       | 18         |\n",
      "|    total_timesteps    | 2000       |\n",
      "| train/                |            |\n",
      "|    entropy_loss       | -42.7      |\n",
      "|    explained_variance | 0.0382     |\n",
      "|    learning_rate      | 0.0007     |\n",
      "|    n_updates          | 399        |\n",
      "|    policy_loss        | 26.8       |\n",
      "|    reward             | 0.31532034 |\n",
      "|    std                | 1          |\n",
      "|    value_loss         | 0.609      |\n",
      "--------------------------------------\n",
      "--------------------------------------\n",
      "| time/                 |            |\n",
      "|    fps                | 123        |\n",
      "|    iterations         | 500        |\n",
      "|    time_elapsed       | 20         |\n",
      "|    total_timesteps    | 2500       |\n",
      "| train/                |            |\n",
      "|    entropy_loss       | -42.7      |\n",
      "|    explained_variance | 0          |\n",
      "|    learning_rate      | 0.0007     |\n",
      "|    n_updates          | 499        |\n",
      "|    policy_loss        | 93.2       |\n",
      "|    reward             | -0.6464971 |\n",
      "|    std                | 1          |\n",
      "|    value_loss         | 5.89       |\n",
      "--------------------------------------\n",
      "day: 502, episode: 5\n",
      "begin_total_asset: 1000000.00\n",
      "end_total_asset: 1220570.15\n",
      "total_reward: 220570.15\n",
      "total_cost: 23396.36\n",
      "total_trades: 10176\n",
      "Sharpe: 0.675\n",
      "=================================\n",
      "---------------------------------------\n",
      "| time/                 |             |\n",
      "|    fps                | 136         |\n",
      "|    iterations         | 600         |\n",
      "|    time_elapsed       | 21          |\n",
      "|    total_timesteps    | 3000        |\n",
      "| train/                |             |\n",
      "|    entropy_loss       | -42.7       |\n",
      "|    explained_variance | 0.0487      |\n",
      "|    learning_rate      | 0.0007      |\n",
      "|    n_updates          | 599         |\n",
      "|    policy_loss        | -18.1       |\n",
      "|    reward             | -0.32573885 |\n",
      "|    std                | 1.01        |\n",
      "|    value_loss         | 0.675       |\n",
      "---------------------------------------\n",
      "---------------------------------------\n",
      "| time/                 |             |\n",
      "|    fps                | 148         |\n",
      "|    iterations         | 700         |\n",
      "|    time_elapsed       | 23          |\n",
      "|    total_timesteps    | 3500        |\n",
      "| train/                |             |\n",
      "|    entropy_loss       | -42.7       |\n",
      "|    explained_variance | -0.113      |\n",
      "|    learning_rate      | 0.0007      |\n",
      "|    n_updates          | 699         |\n",
      "|    policy_loss        | 50.1        |\n",
      "|    reward             | -0.78140455 |\n",
      "|    std                | 1           |\n",
      "|    value_loss         | 1.8         |\n",
      "---------------------------------------\n",
      "--------------------------------------\n",
      "| time/                 |            |\n",
      "|    fps                | 157        |\n",
      "|    iterations         | 800        |\n",
      "|    time_elapsed       | 25         |\n",
      "|    total_timesteps    | 4000       |\n",
      "| train/                |            |\n",
      "|    entropy_loss       | -42.7      |\n",
      "|    explained_variance | 0.411      |\n",
      "|    learning_rate      | 0.0007     |\n",
      "|    n_updates          | 799        |\n",
      "|    policy_loss        | -8.38      |\n",
      "|    reward             | -3.1444664 |\n",
      "|    std                | 1          |\n",
      "|    value_loss         | 0.304      |\n",
      "--------------------------------------\n",
      "------------------------------------\n",
      "| time/                 |          |\n",
      "|    fps                | 166      |\n",
      "|    iterations         | 900      |\n",
      "|    time_elapsed       | 26       |\n",
      "|    total_timesteps    | 4500     |\n",
      "| train/                |          |\n",
      "|    entropy_loss       | -42.7    |\n",
      "|    explained_variance | -0.0957  |\n",
      "|    learning_rate      | 0.0007   |\n",
      "|    n_updates          | 899      |\n",
      "|    policy_loss        | 74.4     |\n",
      "|    reward             | 0.812483 |\n",
      "|    std                | 1        |\n",
      "|    value_loss         | 6.25     |\n",
      "------------------------------------\n",
      "--------------------------------------\n",
      "| time/                 |            |\n",
      "|    fps                | 174        |\n",
      "|    iterations         | 1000       |\n",
      "|    time_elapsed       | 28         |\n",
      "|    total_timesteps    | 5000       |\n",
      "| train/                |            |\n",
      "|    entropy_loss       | -42.7      |\n",
      "|    explained_variance | -0.0583    |\n",
      "|    learning_rate      | 0.0007     |\n",
      "|    n_updates          | 999        |\n",
      "|    policy_loss        | 149        |\n",
      "|    reward             | 0.20887336 |\n",
      "|    std                | 1.01       |\n",
      "|    value_loss         | 13.8       |\n",
      "--------------------------------------\n",
      "day: 502, episode: 10\n",
      "begin_total_asset: 1000000.00\n",
      "end_total_asset: 1266845.79\n",
      "total_reward: 266845.79\n",
      "total_cost: 29541.14\n",
      "total_trades: 10258\n",
      "Sharpe: 0.666\n",
      "=================================\n",
      "--------------------------------------\n",
      "| time/                 |            |\n",
      "|    fps                | 181        |\n",
      "|    iterations         | 1100       |\n",
      "|    time_elapsed       | 30         |\n",
      "|    total_timesteps    | 5500       |\n",
      "| train/                |            |\n",
      "|    entropy_loss       | -42.7      |\n",
      "|    explained_variance | -0.0591    |\n",
      "|    learning_rate      | 0.0007     |\n",
      "|    n_updates          | 1099       |\n",
      "|    policy_loss        | 222        |\n",
      "|    reward             | -1.3661077 |\n",
      "|    std                | 1.01       |\n",
      "|    value_loss         | 30.4       |\n",
      "--------------------------------------\n",
      "--------------------------------------\n",
      "| time/                 |            |\n",
      "|    fps                | 187        |\n",
      "|    iterations         | 1200       |\n",
      "|    time_elapsed       | 31         |\n",
      "|    total_timesteps    | 6000       |\n",
      "| train/                |            |\n",
      "|    entropy_loss       | -42.8      |\n",
      "|    explained_variance | 0.00449    |\n",
      "|    learning_rate      | 0.0007     |\n",
      "|    n_updates          | 1199       |\n",
      "|    policy_loss        | 99.4       |\n",
      "|    reward             | -1.0805701 |\n",
      "|    std                | 1.01       |\n",
      "|    value_loss         | 8.51       |\n",
      "--------------------------------------\n",
      "------------------------------------\n",
      "| time/                 |          |\n",
      "|    fps                | 193      |\n",
      "|    iterations         | 1300     |\n",
      "|    time_elapsed       | 33       |\n",
      "|    total_timesteps    | 6500     |\n",
      "| train/                |          |\n",
      "|    entropy_loss       | -42.7    |\n",
      "|    explained_variance | -0.07    |\n",
      "|    learning_rate      | 0.0007   |\n",
      "|    n_updates          | 1299     |\n",
      "|    policy_loss        | 94       |\n",
      "|    reward             | 1.335133 |\n",
      "|    std                | 1.01     |\n",
      "|    value_loss         | 6.49     |\n",
      "------------------------------------\n",
      "--------------------------------------\n",
      "| time/                 |            |\n",
      "|    fps                | 198        |\n",
      "|    iterations         | 1400       |\n",
      "|    time_elapsed       | 35         |\n",
      "|    total_timesteps    | 7000       |\n",
      "| train/                |            |\n",
      "|    entropy_loss       | -42.7      |\n",
      "|    explained_variance | -0.0627    |\n",
      "|    learning_rate      | 0.0007     |\n",
      "|    n_updates          | 1399       |\n",
      "|    policy_loss        | 159        |\n",
      "|    reward             | -1.2208815 |\n",
      "|    std                | 1          |\n",
      "|    value_loss         | 17.8       |\n",
      "--------------------------------------\n",
      "-------------------------------------\n",
      "| time/                 |           |\n",
      "|    fps                | 203       |\n",
      "|    iterations         | 1500      |\n",
      "|    time_elapsed       | 36        |\n",
      "|    total_timesteps    | 7500      |\n",
      "| train/                |           |\n",
      "|    entropy_loss       | -42.7     |\n",
      "|    explained_variance | -0.168    |\n",
      "|    learning_rate      | 0.0007    |\n",
      "|    n_updates          | 1499      |\n",
      "|    policy_loss        | -14.7     |\n",
      "|    reward             | 0.1907822 |\n",
      "|    std                | 1         |\n",
      "|    value_loss         | 1.01      |\n",
      "-------------------------------------\n",
      "day: 502, episode: 15\n",
      "begin_total_asset: 1000000.00\n",
      "end_total_asset: 1269717.63\n",
      "total_reward: 269717.63\n",
      "total_cost: 52204.79\n",
      "total_trades: 10329\n",
      "Sharpe: 0.748\n",
      "=================================\n",
      "-------------------------------------\n",
      "| time/                 |           |\n",
      "|    fps                | 207       |\n",
      "|    iterations         | 1600      |\n",
      "|    time_elapsed       | 38        |\n",
      "|    total_timesteps    | 8000      |\n",
      "| train/                |           |\n",
      "|    entropy_loss       | -42.6     |\n",
      "|    explained_variance | 0.0154    |\n",
      "|    learning_rate      | 0.0007    |\n",
      "|    n_updates          | 1599      |\n",
      "|    policy_loss        | 86.9      |\n",
      "|    reward             | 0.6822226 |\n",
      "|    std                | 1         |\n",
      "|    value_loss         | 4.34      |\n",
      "-------------------------------------\n",
      "----------------------------------------\n",
      "| time/                 |              |\n",
      "|    fps                | 211          |\n",
      "|    iterations         | 1700         |\n",
      "|    time_elapsed       | 40           |\n",
      "|    total_timesteps    | 8500         |\n",
      "| train/                |              |\n",
      "|    entropy_loss       | -42.7        |\n",
      "|    explained_variance | -0.0386      |\n",
      "|    learning_rate      | 0.0007       |\n",
      "|    n_updates          | 1699         |\n",
      "|    policy_loss        | -49.6        |\n",
      "|    reward             | -0.103762865 |\n",
      "|    std                | 1            |\n",
      "|    value_loss         | 3.83         |\n",
      "----------------------------------------\n",
      "--------------------------------------\n",
      "| time/                 |            |\n",
      "|    fps                | 215        |\n",
      "|    iterations         | 1800       |\n",
      "|    time_elapsed       | 41         |\n",
      "|    total_timesteps    | 9000       |\n",
      "| train/                |            |\n",
      "|    entropy_loss       | -42.6      |\n",
      "|    explained_variance | 0.0164     |\n",
      "|    learning_rate      | 0.0007     |\n",
      "|    n_updates          | 1799       |\n",
      "|    policy_loss        | -95.5      |\n",
      "|    reward             | -1.7465601 |\n",
      "|    std                | 1          |\n",
      "|    value_loss         | 8.34       |\n",
      "--------------------------------------\n",
      "---------------------------------------\n",
      "| time/                 |             |\n",
      "|    fps                | 218         |\n",
      "|    iterations         | 1900        |\n",
      "|    time_elapsed       | 43          |\n",
      "|    total_timesteps    | 9500        |\n",
      "| train/                |             |\n",
      "|    entropy_loss       | -42.7       |\n",
      "|    explained_variance | 0.0479      |\n",
      "|    learning_rate      | 0.0007      |\n",
      "|    n_updates          | 1899        |\n",
      "|    policy_loss        | 160         |\n",
      "|    reward             | -0.89466375 |\n",
      "|    std                | 1           |\n",
      "|    value_loss         | 15.5        |\n",
      "---------------------------------------\n",
      "--------------------------------------\n",
      "| time/                 |            |\n",
      "|    fps                | 221        |\n",
      "|    iterations         | 2000       |\n",
      "|    time_elapsed       | 45         |\n",
      "|    total_timesteps    | 10000      |\n",
      "| train/                |            |\n",
      "|    entropy_loss       | -42.6      |\n",
      "|    explained_variance | 0          |\n",
      "|    learning_rate      | 0.0007     |\n",
      "|    n_updates          | 1999       |\n",
      "|    policy_loss        | -21.5      |\n",
      "|    reward             | -1.0571953 |\n",
      "|    std                | 1          |\n",
      "|    value_loss         | 1          |\n",
      "--------------------------------------\n",
      "======a2c Validation from:  2023-01-03 to  2023-04-04\n",
      "a2c Sharpe Ratio:  0.13158879165556361\n",
      "======ddpg Training========\n",
      "{'buffer_size': 10000, 'learning_rate': 0.0005, 'batch_size': 64}\n",
      "Using cuda device\n",
      "Logging to tensorboard_log/ddpg/ddpg_126_1\n",
      "------------------------------------\n",
      "| time/              |             |\n",
      "|    episodes        | 4           |\n",
      "|    fps             | 146         |\n",
      "|    time_elapsed    | 13          |\n",
      "|    total_timesteps | 2012        |\n",
      "| train/             |             |\n",
      "|    actor_loss      | -192        |\n",
      "|    critic_loss     | 2.52e+03    |\n",
      "|    learning_rate   | 0.0005      |\n",
      "|    n_updates       | 1911        |\n",
      "|    reward          | -0.17680581 |\n",
      "------------------------------------\n",
      "day: 502, episode: 25\n",
      "begin_total_asset: 1000000.00\n",
      "end_total_asset: 1218099.79\n",
      "total_reward: 218099.79\n",
      "total_cost: 1867.53\n",
      "total_trades: 5574\n",
      "Sharpe: 0.653\n",
      "=================================\n",
      "------------------------------------\n",
      "| time/              |             |\n",
      "|    episodes        | 8           |\n",
      "|    fps             | 160         |\n",
      "|    time_elapsed    | 25          |\n",
      "|    total_timesteps | 4024        |\n",
      "| train/             |             |\n",
      "|    actor_loss      | -136        |\n",
      "|    critic_loss     | 207         |\n",
      "|    learning_rate   | 0.0005      |\n",
      "|    n_updates       | 3923        |\n",
      "|    reward          | -0.17680581 |\n",
      "------------------------------------\n",
      "day: 502, episode: 30\n",
      "begin_total_asset: 1000000.00\n",
      "end_total_asset: 1218099.79\n",
      "total_reward: 218099.79\n",
      "total_cost: 1867.53\n",
      "total_trades: 5574\n",
      "Sharpe: 0.653\n",
      "=================================\n",
      "------------------------------------\n",
      "| time/              |             |\n",
      "|    episodes        | 12          |\n",
      "|    fps             | 164         |\n",
      "|    time_elapsed    | 36          |\n",
      "|    total_timesteps | 6036        |\n",
      "| train/             |             |\n",
      "|    actor_loss      | -124        |\n",
      "|    critic_loss     | 72.4        |\n",
      "|    learning_rate   | 0.0005      |\n",
      "|    n_updates       | 5935        |\n",
      "|    reward          | -0.17680581 |\n",
      "------------------------------------\n",
      "day: 502, episode: 35\n",
      "begin_total_asset: 1000000.00\n",
      "end_total_asset: 1218099.79\n",
      "total_reward: 218099.79\n",
      "total_cost: 1867.53\n",
      "total_trades: 5574\n",
      "Sharpe: 0.653\n",
      "=================================\n",
      "------------------------------------\n",
      "| time/              |             |\n",
      "|    episodes        | 16          |\n",
      "|    fps             | 164         |\n",
      "|    time_elapsed    | 48          |\n",
      "|    total_timesteps | 8048        |\n",
      "| train/             |             |\n",
      "|    actor_loss      | -108        |\n",
      "|    critic_loss     | 2.91        |\n",
      "|    learning_rate   | 0.0005      |\n",
      "|    n_updates       | 7947        |\n",
      "|    reward          | -0.17680581 |\n",
      "------------------------------------\n",
      "======ddpg Validation from:  2023-01-03 to  2023-04-04\n",
      "ddpg Sharpe Ratio:  0.10855233425857962\n",
      "======td3 Training========\n",
      "{'batch_size': 100, 'buffer_size': 1000000, 'learning_rate': 0.0001}\n",
      "Using cuda device\n"
     ]
    },
    {
     "ename": "KeyError",
     "evalue": "'td3'",
     "output_type": "error",
     "traceback": [
      "\u001b[0;31m---------------------------------------------------------------------------\u001b[0m",
      "\u001b[0;31mKeyError\u001b[0m                                  Traceback (most recent call last)",
      "Cell \u001b[0;32mIn[26], line 1\u001b[0m\n\u001b[0;32m----> 1\u001b[0m ensemble_df_summary \u001b[38;5;241m=\u001b[39m \u001b[43mensemble_agent\u001b[49m\u001b[38;5;241;43m.\u001b[39;49m\u001b[43mrun_ensemble_strategy\u001b[49m\u001b[43m(\u001b[49m\u001b[43mA2C_model_kwargs\u001b[49m\u001b[43m,\u001b[49m\n\u001b[1;32m      2\u001b[0m \u001b[43m                                                 \u001b[49m\u001b[43mPPO_model_kwargs\u001b[49m\u001b[43m,\u001b[49m\n\u001b[1;32m      3\u001b[0m \u001b[43m                                                 \u001b[49m\u001b[43mDDPG_model_kwargs\u001b[49m\u001b[43m,\u001b[49m\n\u001b[1;32m      4\u001b[0m \u001b[43m                                                 \u001b[49m\u001b[43mSAC_model_kwargs\u001b[49m\u001b[43m,\u001b[49m\n\u001b[1;32m      5\u001b[0m \u001b[43m                                                 \u001b[49m\u001b[43mTD3_model_kwargs\u001b[49m\u001b[43m,\u001b[49m\n\u001b[1;32m      6\u001b[0m \u001b[43m                                                 \u001b[49m\u001b[43mtimesteps_dict\u001b[49m\u001b[43m)\u001b[49m\n",
      "File \u001b[0;32m~/FinRL-test/finrl/agents/stablebaselines3/models.py:577\u001b[0m, in \u001b[0;36mDRLEnsembleAgent.run_ensemble_strategy\u001b[0;34m(self, A2C_model_kwargs, PPO_model_kwargs, DDPG_model_kwargs, SAC_model_kwargs, TD3_model_kwargs, timesteps_dict)\u001b[0m\n\u001b[1;32m    572\u001b[0m \u001b[38;5;66;03m# print(\"training: \",len(data_split(df, start=20090000, end=test.datadate.unique()[i-rebalance_window]) ))\u001b[39;00m\n\u001b[1;32m    573\u001b[0m \u001b[38;5;66;03m# print(\"==============Model Training===========\")\u001b[39;00m\n\u001b[1;32m    574\u001b[0m \u001b[38;5;66;03m# Train Each Model\u001b[39;00m\n\u001b[1;32m    575\u001b[0m \u001b[38;5;28;01mfor\u001b[39;00m model_name \u001b[38;5;129;01min\u001b[39;00m MODELS\u001b[38;5;241m.\u001b[39mkeys():\n\u001b[1;32m    576\u001b[0m     \u001b[38;5;66;03m# Train The Model\u001b[39;00m\n\u001b[0;32m--> 577\u001b[0m     model, sharpe_list, sharpe \u001b[38;5;241m=\u001b[39m \u001b[38;5;28;43mself\u001b[39;49m\u001b[38;5;241;43m.\u001b[39;49m\u001b[43m_train_window\u001b[49m\u001b[43m(\u001b[49m\n\u001b[1;32m    578\u001b[0m \u001b[43m        \u001b[49m\u001b[43mmodel_name\u001b[49m\u001b[43m,\u001b[49m\n\u001b[1;32m    579\u001b[0m \u001b[43m        \u001b[49m\u001b[43mkwargs\u001b[49m\u001b[43m[\u001b[49m\u001b[43mmodel_name\u001b[49m\u001b[43m]\u001b[49m\u001b[43m,\u001b[49m\n\u001b[1;32m    580\u001b[0m \u001b[43m        \u001b[49m\u001b[43mmodel_dct\u001b[49m\u001b[43m[\u001b[49m\u001b[43mmodel_name\u001b[49m\u001b[43m]\u001b[49m\u001b[43m[\u001b[49m\u001b[38;5;124;43m\"\u001b[39;49m\u001b[38;5;124;43msharpe_list\u001b[39;49m\u001b[38;5;124;43m\"\u001b[39;49m\u001b[43m]\u001b[49m\u001b[43m,\u001b[49m\n\u001b[1;32m    581\u001b[0m \u001b[43m        \u001b[49m\u001b[43mvalidation_start_date\u001b[49m\u001b[43m,\u001b[49m\n\u001b[1;32m    582\u001b[0m \u001b[43m        \u001b[49m\u001b[43mvalidation_end_date\u001b[49m\u001b[43m,\u001b[49m\n\u001b[1;32m    583\u001b[0m \u001b[43m        \u001b[49m\u001b[43mtimesteps_dict\u001b[49m\u001b[43m,\u001b[49m\n\u001b[1;32m    584\u001b[0m \u001b[43m        \u001b[49m\u001b[43mi\u001b[49m\u001b[43m,\u001b[49m\n\u001b[1;32m    585\u001b[0m \u001b[43m        \u001b[49m\u001b[43mvalidation\u001b[49m\u001b[43m,\u001b[49m\n\u001b[1;32m    586\u001b[0m \u001b[43m        \u001b[49m\u001b[43mturbulence_threshold\u001b[49m\u001b[43m,\u001b[49m\n\u001b[1;32m    587\u001b[0m \u001b[43m    \u001b[49m\u001b[43m)\u001b[49m\n\u001b[1;32m    588\u001b[0m     \u001b[38;5;66;03m# Save the model's sharpe ratios, and the model itself\u001b[39;00m\n\u001b[1;32m    589\u001b[0m     model_dct[model_name][\u001b[38;5;124m\"\u001b[39m\u001b[38;5;124msharpe_list\u001b[39m\u001b[38;5;124m\"\u001b[39m] \u001b[38;5;241m=\u001b[39m sharpe_list\n",
      "File \u001b[0;32m~/FinRL-test/finrl/agents/stablebaselines3/models.py:379\u001b[0m, in \u001b[0;36mDRLEnsembleAgent._train_window\u001b[0;34m(self, model_name, model_kwargs, sharpe_list, validation_start_date, validation_end_date, timesteps_dict, i, validation, turbulence_threshold)\u001b[0m\n\u001b[1;32m    370\u001b[0m \u001b[38;5;28mprint\u001b[39m(\u001b[38;5;124mf\u001b[39m\u001b[38;5;124m\"\u001b[39m\u001b[38;5;124m======\u001b[39m\u001b[38;5;132;01m{\u001b[39;00mmodel_name\u001b[38;5;132;01m}\u001b[39;00m\u001b[38;5;124m Training========\u001b[39m\u001b[38;5;124m\"\u001b[39m)\n\u001b[1;32m    371\u001b[0m model \u001b[38;5;241m=\u001b[39m \u001b[38;5;28mself\u001b[39m\u001b[38;5;241m.\u001b[39mget_model(\n\u001b[1;32m    372\u001b[0m     model_name, \u001b[38;5;28mself\u001b[39m\u001b[38;5;241m.\u001b[39mtrain_env, policy\u001b[38;5;241m=\u001b[39m\u001b[38;5;124m\"\u001b[39m\u001b[38;5;124mMlpPolicy\u001b[39m\u001b[38;5;124m\"\u001b[39m, model_kwargs\u001b[38;5;241m=\u001b[39mmodel_kwargs\n\u001b[1;32m    373\u001b[0m )\n\u001b[1;32m    374\u001b[0m model \u001b[38;5;241m=\u001b[39m \u001b[38;5;28mself\u001b[39m\u001b[38;5;241m.\u001b[39mtrain_model(\n\u001b[1;32m    375\u001b[0m     model,\n\u001b[1;32m    376\u001b[0m     model_name,\n\u001b[1;32m    377\u001b[0m     tb_log_name\u001b[38;5;241m=\u001b[39m\u001b[38;5;124mf\u001b[39m\u001b[38;5;124m\"\u001b[39m\u001b[38;5;132;01m{\u001b[39;00mmodel_name\u001b[38;5;132;01m}\u001b[39;00m\u001b[38;5;124m_\u001b[39m\u001b[38;5;132;01m{\u001b[39;00mi\u001b[38;5;132;01m}\u001b[39;00m\u001b[38;5;124m\"\u001b[39m,\n\u001b[1;32m    378\u001b[0m     iter_num\u001b[38;5;241m=\u001b[39mi,\n\u001b[0;32m--> 379\u001b[0m     total_timesteps\u001b[38;5;241m=\u001b[39m\u001b[43mtimesteps_dict\u001b[49m\u001b[43m[\u001b[49m\u001b[43mmodel_name\u001b[49m\u001b[43m]\u001b[49m,\n\u001b[1;32m    380\u001b[0m )  \u001b[38;5;66;03m# 100_000\u001b[39;00m\n\u001b[1;32m    381\u001b[0m \u001b[38;5;28mprint\u001b[39m(\n\u001b[1;32m    382\u001b[0m     \u001b[38;5;124mf\u001b[39m\u001b[38;5;124m\"\u001b[39m\u001b[38;5;124m======\u001b[39m\u001b[38;5;132;01m{\u001b[39;00mmodel_name\u001b[38;5;132;01m}\u001b[39;00m\u001b[38;5;124m Validation from: \u001b[39m\u001b[38;5;124m\"\u001b[39m,\n\u001b[1;32m    383\u001b[0m     validation_start_date,\n\u001b[1;32m    384\u001b[0m     \u001b[38;5;124m\"\u001b[39m\u001b[38;5;124mto \u001b[39m\u001b[38;5;124m\"\u001b[39m,\n\u001b[1;32m    385\u001b[0m     validation_end_date,\n\u001b[1;32m    386\u001b[0m )\n\u001b[1;32m    387\u001b[0m val_env \u001b[38;5;241m=\u001b[39m DummyVecEnv(\n\u001b[1;32m    388\u001b[0m     [\n\u001b[1;32m    389\u001b[0m         \u001b[38;5;28;01mlambda\u001b[39;00m: StockTradingEnv(\n\u001b[0;32m   (...)\u001b[0m\n\u001b[1;32m    407\u001b[0m     ]\n\u001b[1;32m    408\u001b[0m )\n",
      "\u001b[0;31mKeyError\u001b[0m: 'td3'"
     ]
    }
   ],
   "source": [
    "ensemble_df_summary = ensemble_agent.run_ensemble_strategy(A2C_model_kwargs,\n",
    "                                                 PPO_model_kwargs,\n",
    "                                                 DDPG_model_kwargs,\n",
    "                                                 SAC_model_kwargs,\n",
    "                                                 TD3_model_kwargs,\n",
    "                                                 timesteps_dict)"
   ]
  },
  {
   "cell_type": "code",
   "execution_count": null,
   "metadata": {
    "colab": {
     "base_uri": "https://localhost:8080/",
     "height": 89
    },
    "id": "-0qd8acMtj1f",
    "outputId": "ef19ff5d-9173-4268-e50b-6128cf9278f5"
   },
   "outputs": [
    {
     "data": {
      "text/html": [
       "<div>\n",
       "<style scoped>\n",
       "    .dataframe tbody tr th:only-of-type {\n",
       "        vertical-align: middle;\n",
       "    }\n",
       "\n",
       "    .dataframe tbody tr th {\n",
       "        vertical-align: top;\n",
       "    }\n",
       "\n",
       "    .dataframe thead th {\n",
       "        text-align: right;\n",
       "    }\n",
       "</style>\n",
       "<table border=\"1\" class=\"dataframe\">\n",
       "  <thead>\n",
       "    <tr style=\"text-align: right;\">\n",
       "      <th></th>\n",
       "      <th>Iter</th>\n",
       "      <th>Val Start</th>\n",
       "      <th>Val End</th>\n",
       "      <th>Model Used</th>\n",
       "      <th>A2C Sharpe</th>\n",
       "      <th>PPO Sharpe</th>\n",
       "      <th>DDPG Sharpe</th>\n",
       "      <th>SAC Sharpe</th>\n",
       "      <th>TD3 Sharpe</th>\n",
       "    </tr>\n",
       "  </thead>\n",
       "  <tbody>\n",
       "  </tbody>\n",
       "</table>\n",
       "</div>"
      ],
      "text/plain": [
       "Empty DataFrame\n",
       "Columns: [Iter, Val Start, Val End, Model Used, A2C Sharpe, PPO Sharpe, DDPG Sharpe, SAC Sharpe, TD3 Sharpe]\n",
       "Index: []"
      ]
     },
     "execution_count": 18,
     "metadata": {},
     "output_type": "execute_result"
    }
   ],
   "source": [
    "ensemble_df_summary"
   ]
  },
  {
   "cell_type": "markdown",
   "metadata": {
    "id": "j4QXGevMDl49"
   },
   "source": [
    "## Part 6.2 A2C\n"
   ]
  },
  {
   "cell_type": "code",
   "execution_count": 15,
   "metadata": {
    "executionInfo": {
     "elapsed": 3,
     "status": "ok",
     "timestamp": 1733260368211,
     "user": {
      "displayName": "Garrett Devaney",
      "userId": "10600170082792839935"
     },
     "user_tz": 300
    },
    "id": "S__VotyaDp2O"
   },
   "outputs": [],
   "source": [
    "a2c_agent = DRLSingleAgent(df=processed,\n",
    "                 train_period=(TRAIN_START_DATE,TRAIN_END_DATE),\n",
    "                 val_test_period=(TEST_START_DATE,TEST_END_DATE),\n",
    "                 rebalance_window=rebalance_window,\n",
    "                 validation_window=validation_window,\n",
    "                 model_name='A2C',\n",
    "                 **env_kwargs)"
   ]
  },
  {
   "cell_type": "code",
   "execution_count": 16,
   "metadata": {
    "colab": {
     "base_uri": "https://localhost:8080/"
    },
    "executionInfo": {
     "elapsed": 137885,
     "status": "ok",
     "timestamp": 1733260506093,
     "user": {
      "displayName": "Garrett Devaney",
      "userId": "10600170082792839935"
     },
     "user_tz": 300
    },
    "id": "1MqlwVj2DyIP",
    "outputId": "7144bb97-f1f0-432b-9efc-9dd09cb3c85d"
   },
   "outputs": [
    {
     "name": "stdout",
     "output_type": "stream",
     "text": [
      "============Start A2C Strategy============\n",
      "============================================\n",
      "turbulence_threshold:  201.7186492430374\n",
      "======Model training from:  2010-01-01 to  2021-10-04\n",
      "======A2C Training========\n",
      "{'n_steps': 5, 'ent_coef': 0.005, 'learning_rate': 0.0007}\n",
      "Using cuda device\n",
      "Logging to tensorboard_log/A2C/A2C_126_1\n",
      "---------------------------------------\n",
      "| time/                 |             |\n",
      "|    fps                | 72          |\n",
      "|    iterations         | 100         |\n",
      "|    time_elapsed       | 6           |\n",
      "|    total_timesteps    | 500         |\n",
      "| train/                |             |\n",
      "|    entropy_loss       | -41         |\n",
      "|    explained_variance | 0           |\n",
      "|    learning_rate      | 0.0007      |\n",
      "|    n_updates          | 99          |\n",
      "|    policy_loss        | -108        |\n",
      "|    reward             | -0.27135813 |\n",
      "|    std                | 0.996       |\n",
      "|    value_loss         | 7.05        |\n",
      "---------------------------------------\n",
      "-------------------------------------\n",
      "| time/                 |           |\n",
      "|    fps                | 71        |\n",
      "|    iterations         | 200       |\n",
      "|    time_elapsed       | 13        |\n",
      "|    total_timesteps    | 1000      |\n",
      "| train/                |           |\n",
      "|    entropy_loss       | -41.1     |\n",
      "|    explained_variance | -0.00127  |\n",
      "|    learning_rate      | 0.0007    |\n",
      "|    n_updates          | 199       |\n",
      "|    policy_loss        | -105      |\n",
      "|    reward             | 1.0690663 |\n",
      "|    std                | 0.997     |\n",
      "|    value_loss         | 12.4      |\n",
      "-------------------------------------\n",
      "--------------------------------------\n",
      "| time/                 |            |\n",
      "|    fps                | 76         |\n",
      "|    iterations         | 300        |\n",
      "|    time_elapsed       | 19         |\n",
      "|    total_timesteps    | 1500       |\n",
      "| train/                |            |\n",
      "|    entropy_loss       | -41        |\n",
      "|    explained_variance | 0          |\n",
      "|    learning_rate      | 0.0007     |\n",
      "|    n_updates          | 299        |\n",
      "|    policy_loss        | -130       |\n",
      "|    reward             | -2.8417244 |\n",
      "|    std                | 0.997      |\n",
      "|    value_loss         | 16.9       |\n",
      "--------------------------------------\n",
      "--------------------------------------\n",
      "| time/                 |            |\n",
      "|    fps                | 68         |\n",
      "|    iterations         | 400        |\n",
      "|    time_elapsed       | 29         |\n",
      "|    total_timesteps    | 2000       |\n",
      "| train/                |            |\n",
      "|    entropy_loss       | -41        |\n",
      "|    explained_variance | 1.79e-07   |\n",
      "|    learning_rate      | 0.0007     |\n",
      "|    n_updates          | 399        |\n",
      "|    policy_loss        | -295       |\n",
      "|    reward             | -1.3208113 |\n",
      "|    std                | 0.995      |\n",
      "|    value_loss         | 74.9       |\n",
      "--------------------------------------\n",
      "--------------------------------------\n",
      "| time/                 |            |\n",
      "|    fps                | 71         |\n",
      "|    iterations         | 500        |\n",
      "|    time_elapsed       | 34         |\n",
      "|    total_timesteps    | 2500       |\n",
      "| train/                |            |\n",
      "|    entropy_loss       | -41        |\n",
      "|    explained_variance | 0          |\n",
      "|    learning_rate      | 0.0007     |\n",
      "|    n_updates          | 499        |\n",
      "|    policy_loss        | -156       |\n",
      "|    reward             | -1.6285274 |\n",
      "|    std                | 0.994      |\n",
      "|    value_loss         | 16.2       |\n",
      "--------------------------------------\n",
      "-------------------------------------\n",
      "| time/                 |           |\n",
      "|    fps                | 70        |\n",
      "|    iterations         | 600       |\n",
      "|    time_elapsed       | 42        |\n",
      "|    total_timesteps    | 3000      |\n",
      "| train/                |           |\n",
      "|    entropy_loss       | -41       |\n",
      "|    explained_variance | 0         |\n",
      "|    learning_rate      | 0.0007    |\n",
      "|    n_updates          | 599       |\n",
      "|    policy_loss        | -8.61     |\n",
      "|    reward             | 0.9023092 |\n",
      "|    std                | 0.994     |\n",
      "|    value_loss         | 0.128     |\n",
      "-------------------------------------\n",
      "--------------------------------------\n",
      "| time/                 |            |\n",
      "|    fps                | 73         |\n",
      "|    iterations         | 700        |\n",
      "|    time_elapsed       | 47         |\n",
      "|    total_timesteps    | 3500       |\n",
      "| train/                |            |\n",
      "|    entropy_loss       | -40.9      |\n",
      "|    explained_variance | 0          |\n",
      "|    learning_rate      | 0.0007     |\n",
      "|    n_updates          | 699        |\n",
      "|    policy_loss        | -55.8      |\n",
      "|    reward             | 0.18129818 |\n",
      "|    std                | 0.992      |\n",
      "|    value_loss         | 2.16       |\n",
      "--------------------------------------\n",
      "--------------------------------------\n",
      "| time/                 |            |\n",
      "|    fps                | 72         |\n",
      "|    iterations         | 800        |\n",
      "|    time_elapsed       | 55         |\n",
      "|    total_timesteps    | 4000       |\n",
      "| train/                |            |\n",
      "|    entropy_loss       | -40.9      |\n",
      "|    explained_variance | 0          |\n",
      "|    learning_rate      | 0.0007     |\n",
      "|    n_updates          | 799        |\n",
      "|    policy_loss        | 143        |\n",
      "|    reward             | -0.6234851 |\n",
      "|    std                | 0.993      |\n",
      "|    value_loss         | 14.8       |\n",
      "--------------------------------------\n",
      "--------------------------------------\n",
      "| time/                 |            |\n",
      "|    fps                | 74         |\n",
      "|    iterations         | 900        |\n",
      "|    time_elapsed       | 60         |\n",
      "|    total_timesteps    | 4500       |\n",
      "| train/                |            |\n",
      "|    entropy_loss       | -40.9      |\n",
      "|    explained_variance | 0          |\n",
      "|    learning_rate      | 0.0007     |\n",
      "|    n_updates          | 899        |\n",
      "|    policy_loss        | -24.5      |\n",
      "|    reward             | 0.40212712 |\n",
      "|    std                | 0.992      |\n",
      "|    value_loss         | 49.3       |\n",
      "--------------------------------------\n",
      "---------------------------------------\n",
      "| time/                 |             |\n",
      "|    fps                | 74          |\n",
      "|    iterations         | 1000        |\n",
      "|    time_elapsed       | 67          |\n",
      "|    total_timesteps    | 5000        |\n",
      "| train/                |             |\n",
      "|    entropy_loss       | -40.9       |\n",
      "|    explained_variance | 1.19e-07    |\n",
      "|    learning_rate      | 0.0007      |\n",
      "|    n_updates          | 999         |\n",
      "|    policy_loss        | -574        |\n",
      "|    reward             | -0.11282426 |\n",
      "|    std                | 0.991       |\n",
      "|    value_loss         | 272         |\n",
      "---------------------------------------\n",
      "-------------------------------------\n",
      "| time/                 |           |\n",
      "|    fps                | 74        |\n",
      "|    iterations         | 1100      |\n",
      "|    time_elapsed       | 73        |\n",
      "|    total_timesteps    | 5500      |\n",
      "| train/                |           |\n",
      "|    entropy_loss       | -40.8     |\n",
      "|    explained_variance | 0         |\n",
      "|    learning_rate      | 0.0007    |\n",
      "|    n_updates          | 1099      |\n",
      "|    policy_loss        | -86.1     |\n",
      "|    reward             | 3.9496882 |\n",
      "|    std                | 0.99      |\n",
      "|    value_loss         | 20.9      |\n",
      "-------------------------------------\n",
      "---------------------------------------\n",
      "| time/                 |             |\n",
      "|    fps                | 75          |\n",
      "|    iterations         | 1200        |\n",
      "|    time_elapsed       | 79          |\n",
      "|    total_timesteps    | 6000        |\n",
      "| train/                |             |\n",
      "|    entropy_loss       | -40.9       |\n",
      "|    explained_variance | 0.0528      |\n",
      "|    learning_rate      | 0.0007      |\n",
      "|    n_updates          | 1199        |\n",
      "|    policy_loss        | -22.7       |\n",
      "|    reward             | -0.69977355 |\n",
      "|    std                | 0.991       |\n",
      "|    value_loss         | 0.806       |\n",
      "---------------------------------------\n",
      "--------------------------------------\n",
      "| time/                 |            |\n",
      "|    fps                | 74         |\n",
      "|    iterations         | 1300       |\n",
      "|    time_elapsed       | 86         |\n",
      "|    total_timesteps    | 6500       |\n",
      "| train/                |            |\n",
      "|    entropy_loss       | -40.9      |\n",
      "|    explained_variance | 0.0507     |\n",
      "|    learning_rate      | 0.0007     |\n",
      "|    n_updates          | 1299       |\n",
      "|    policy_loss        | 59.5       |\n",
      "|    reward             | 0.32069084 |\n",
      "|    std                | 0.992      |\n",
      "|    value_loss         | 2.74       |\n",
      "--------------------------------------\n",
      "--------------------------------------\n",
      "| time/                 |            |\n",
      "|    fps                | 75         |\n",
      "|    iterations         | 1400       |\n",
      "|    time_elapsed       | 92         |\n",
      "|    total_timesteps    | 7000       |\n",
      "| train/                |            |\n",
      "|    entropy_loss       | -40.9      |\n",
      "|    explained_variance | 0.0328     |\n",
      "|    learning_rate      | 0.0007     |\n",
      "|    n_updates          | 1399       |\n",
      "|    policy_loss        | 160        |\n",
      "|    reward             | -1.2835788 |\n",
      "|    std                | 0.992      |\n",
      "|    value_loss         | 16.8       |\n",
      "--------------------------------------\n",
      "--------------------------------------\n",
      "| time/                 |            |\n",
      "|    fps                | 75         |\n",
      "|    iterations         | 1500       |\n",
      "|    time_elapsed       | 99         |\n",
      "|    total_timesteps    | 7500       |\n",
      "| train/                |            |\n",
      "|    entropy_loss       | -40.9      |\n",
      "|    explained_variance | 0          |\n",
      "|    learning_rate      | 0.0007     |\n",
      "|    n_updates          | 1499       |\n",
      "|    policy_loss        | 73.5       |\n",
      "|    reward             | -1.1539035 |\n",
      "|    std                | 0.993      |\n",
      "|    value_loss         | 4.54       |\n",
      "--------------------------------------\n",
      "-------------------------------------\n",
      "| time/                 |           |\n",
      "|    fps                | 75        |\n",
      "|    iterations         | 1600      |\n",
      "|    time_elapsed       | 105       |\n",
      "|    total_timesteps    | 8000      |\n",
      "| train/                |           |\n",
      "|    entropy_loss       | -40.9     |\n",
      "|    explained_variance | 0         |\n",
      "|    learning_rate      | 0.0007    |\n",
      "|    n_updates          | 1599      |\n",
      "|    policy_loss        | -89.5     |\n",
      "|    reward             | 4.3009486 |\n",
      "|    std                | 0.992     |\n",
      "|    value_loss         | 16.2      |\n",
      "-------------------------------------\n",
      "--------------------------------------\n",
      "| time/                 |            |\n",
      "|    fps                | 75         |\n",
      "|    iterations         | 1700       |\n",
      "|    time_elapsed       | 112        |\n",
      "|    total_timesteps    | 8500       |\n",
      "| train/                |            |\n",
      "|    entropy_loss       | -40.9      |\n",
      "|    explained_variance | 0          |\n",
      "|    learning_rate      | 0.0007     |\n",
      "|    n_updates          | 1699       |\n",
      "|    policy_loss        | 218        |\n",
      "|    reward             | -1.0364655 |\n",
      "|    std                | 0.993      |\n",
      "|    value_loss         | 41.7       |\n",
      "--------------------------------------\n",
      "--------------------------------------\n",
      "| time/                 |            |\n",
      "|    fps                | 76         |\n",
      "|    iterations         | 1800       |\n",
      "|    time_elapsed       | 118        |\n",
      "|    total_timesteps    | 9000       |\n",
      "| train/                |            |\n",
      "|    entropy_loss       | -40.9      |\n",
      "|    explained_variance | 0          |\n",
      "|    learning_rate      | 0.0007     |\n",
      "|    n_updates          | 1799       |\n",
      "|    policy_loss        | -60.7      |\n",
      "|    reward             | 0.79848087 |\n",
      "|    std                | 0.993      |\n",
      "|    value_loss         | 4.06       |\n",
      "--------------------------------------\n",
      "-------------------------------------\n",
      "| time/                 |           |\n",
      "|    fps                | 76        |\n",
      "|    iterations         | 1900      |\n",
      "|    time_elapsed       | 123       |\n",
      "|    total_timesteps    | 9500      |\n",
      "| train/                |           |\n",
      "|    entropy_loss       | -40.9     |\n",
      "|    explained_variance | 0.0568    |\n",
      "|    learning_rate      | 0.0007    |\n",
      "|    n_updates          | 1899      |\n",
      "|    policy_loss        | 14.3      |\n",
      "|    reward             | 0.7612895 |\n",
      "|    std                | 0.994     |\n",
      "|    value_loss         | 0.726     |\n",
      "-------------------------------------\n",
      "--------------------------------------\n",
      "| time/                 |            |\n",
      "|    fps                | 76         |\n",
      "|    iterations         | 2000       |\n",
      "|    time_elapsed       | 130        |\n",
      "|    total_timesteps    | 10000      |\n",
      "| train/                |            |\n",
      "|    entropy_loss       | -41        |\n",
      "|    explained_variance | 0          |\n",
      "|    learning_rate      | 0.0007     |\n",
      "|    n_updates          | 1999       |\n",
      "|    policy_loss        | 15.5       |\n",
      "|    reward             | 0.54986477 |\n",
      "|    std                | 0.996      |\n",
      "|    value_loss         | 1.39       |\n",
      "--------------------------------------\n",
      "======A2C Validation from:  2021-10-04 to  2022-01-03\n",
      "A2C Sharpe Ratio:  0.3197325402636933\n",
      "======Best Model Retraining from:  2010-01-01 to  2022-01-03\n",
      "======Trading from:  2022-01-03 to  2022-04-04\n",
      "Strategy took:  2.283546781539917  minutes\n"
     ]
    }
   ],
   "source": [
    "a2c_df_summary = a2c_agent.run_single_model_strategy(A2C_model_kwargs, 10000)"
   ]
  },
  {
   "cell_type": "code",
   "execution_count": 17,
   "metadata": {
    "colab": {
     "base_uri": "https://localhost:8080/",
     "height": 89
    },
    "executionInfo": {
     "elapsed": 1018,
     "status": "ok",
     "timestamp": 1733260566276,
     "user": {
      "displayName": "Garrett Devaney",
      "userId": "10600170082792839935"
     },
     "user_tz": 300
    },
    "id": "h3WWFY5_Vszn",
    "outputId": "62e6f222-45f4-4427-fa50-cdce7796aee4"
   },
   "outputs": [
    {
     "data": {
      "application/vnd.google.colaboratory.intrinsic+json": {
       "summary": "{\n  \"name\": \"a2c_df_summary\",\n  \"rows\": 1,\n  \"fields\": [\n    {\n      \"column\": \"Iter\",\n      \"properties\": {\n        \"dtype\": \"date\",\n        \"min\": 126,\n        \"max\": 126,\n        \"num_unique_values\": 1,\n        \"samples\": [\n          126\n        ],\n        \"semantic_type\": \"\",\n        \"description\": \"\"\n      }\n    },\n    {\n      \"column\": \"Val Start\",\n      \"properties\": {\n        \"dtype\": \"object\",\n        \"num_unique_values\": 1,\n        \"samples\": [\n          \"2021-10-04\"\n        ],\n        \"semantic_type\": \"\",\n        \"description\": \"\"\n      }\n    },\n    {\n      \"column\": \"Val End\",\n      \"properties\": {\n        \"dtype\": \"object\",\n        \"num_unique_values\": 1,\n        \"samples\": [\n          \"2022-01-03\"\n        ],\n        \"semantic_type\": \"\",\n        \"description\": \"\"\n      }\n    },\n    {\n      \"column\": \"A2C Sharpe\",\n      \"properties\": {\n        \"dtype\": \"date\",\n        \"min\": 0.3197325402636933,\n        \"max\": 0.3197325402636933,\n        \"num_unique_values\": 1,\n        \"samples\": [\n          0.3197325402636933\n        ],\n        \"semantic_type\": \"\",\n        \"description\": \"\"\n      }\n    }\n  ]\n}",
       "type": "dataframe",
       "variable_name": "a2c_df_summary"
      },
      "text/html": [
       "\n",
       "  <div id=\"df-a5033ed7-6fda-4e5a-8432-86080d61d131\" class=\"colab-df-container\">\n",
       "    <div>\n",
       "<style scoped>\n",
       "    .dataframe tbody tr th:only-of-type {\n",
       "        vertical-align: middle;\n",
       "    }\n",
       "\n",
       "    .dataframe tbody tr th {\n",
       "        vertical-align: top;\n",
       "    }\n",
       "\n",
       "    .dataframe thead th {\n",
       "        text-align: right;\n",
       "    }\n",
       "</style>\n",
       "<table border=\"1\" class=\"dataframe\">\n",
       "  <thead>\n",
       "    <tr style=\"text-align: right;\">\n",
       "      <th></th>\n",
       "      <th>Iter</th>\n",
       "      <th>Val Start</th>\n",
       "      <th>Val End</th>\n",
       "      <th>A2C Sharpe</th>\n",
       "    </tr>\n",
       "  </thead>\n",
       "  <tbody>\n",
       "    <tr>\n",
       "      <th>0</th>\n",
       "      <td>126</td>\n",
       "      <td>2021-10-04</td>\n",
       "      <td>2022-01-03</td>\n",
       "      <td>0.319733</td>\n",
       "    </tr>\n",
       "  </tbody>\n",
       "</table>\n",
       "</div>\n",
       "    <div class=\"colab-df-buttons\">\n",
       "\n",
       "  <div class=\"colab-df-container\">\n",
       "    <button class=\"colab-df-convert\" onclick=\"convertToInteractive('df-a5033ed7-6fda-4e5a-8432-86080d61d131')\"\n",
       "            title=\"Convert this dataframe to an interactive table.\"\n",
       "            style=\"display:none;\">\n",
       "\n",
       "  <svg xmlns=\"http://www.w3.org/2000/svg\" height=\"24px\" viewBox=\"0 -960 960 960\">\n",
       "    <path d=\"M120-120v-720h720v720H120Zm60-500h600v-160H180v160Zm220 220h160v-160H400v160Zm0 220h160v-160H400v160ZM180-400h160v-160H180v160Zm440 0h160v-160H620v160ZM180-180h160v-160H180v160Zm440 0h160v-160H620v160Z\"/>\n",
       "  </svg>\n",
       "    </button>\n",
       "\n",
       "  <style>\n",
       "    .colab-df-container {\n",
       "      display:flex;\n",
       "      gap: 12px;\n",
       "    }\n",
       "\n",
       "    .colab-df-convert {\n",
       "      background-color: #E8F0FE;\n",
       "      border: none;\n",
       "      border-radius: 50%;\n",
       "      cursor: pointer;\n",
       "      display: none;\n",
       "      fill: #1967D2;\n",
       "      height: 32px;\n",
       "      padding: 0 0 0 0;\n",
       "      width: 32px;\n",
       "    }\n",
       "\n",
       "    .colab-df-convert:hover {\n",
       "      background-color: #E2EBFA;\n",
       "      box-shadow: 0px 1px 2px rgba(60, 64, 67, 0.3), 0px 1px 3px 1px rgba(60, 64, 67, 0.15);\n",
       "      fill: #174EA6;\n",
       "    }\n",
       "\n",
       "    .colab-df-buttons div {\n",
       "      margin-bottom: 4px;\n",
       "    }\n",
       "\n",
       "    [theme=dark] .colab-df-convert {\n",
       "      background-color: #3B4455;\n",
       "      fill: #D2E3FC;\n",
       "    }\n",
       "\n",
       "    [theme=dark] .colab-df-convert:hover {\n",
       "      background-color: #434B5C;\n",
       "      box-shadow: 0px 1px 3px 1px rgba(0, 0, 0, 0.15);\n",
       "      filter: drop-shadow(0px 1px 2px rgba(0, 0, 0, 0.3));\n",
       "      fill: #FFFFFF;\n",
       "    }\n",
       "  </style>\n",
       "\n",
       "    <script>\n",
       "      const buttonEl =\n",
       "        document.querySelector('#df-a5033ed7-6fda-4e5a-8432-86080d61d131 button.colab-df-convert');\n",
       "      buttonEl.style.display =\n",
       "        google.colab.kernel.accessAllowed ? 'block' : 'none';\n",
       "\n",
       "      async function convertToInteractive(key) {\n",
       "        const element = document.querySelector('#df-a5033ed7-6fda-4e5a-8432-86080d61d131');\n",
       "        const dataTable =\n",
       "          await google.colab.kernel.invokeFunction('convertToInteractive',\n",
       "                                                    [key], {});\n",
       "        if (!dataTable) return;\n",
       "\n",
       "        const docLinkHtml = 'Like what you see? Visit the ' +\n",
       "          '<a target=\"_blank\" href=https://colab.research.google.com/notebooks/data_table.ipynb>data table notebook</a>'\n",
       "          + ' to learn more about interactive tables.';\n",
       "        element.innerHTML = '';\n",
       "        dataTable['output_type'] = 'display_data';\n",
       "        await google.colab.output.renderOutput(dataTable, element);\n",
       "        const docLink = document.createElement('div');\n",
       "        docLink.innerHTML = docLinkHtml;\n",
       "        element.appendChild(docLink);\n",
       "      }\n",
       "    </script>\n",
       "  </div>\n",
       "\n",
       "\n",
       "  <div id=\"id_9b3ff9d0-c376-45fd-9bc0-05894de14c20\">\n",
       "    <style>\n",
       "      .colab-df-generate {\n",
       "        background-color: #E8F0FE;\n",
       "        border: none;\n",
       "        border-radius: 50%;\n",
       "        cursor: pointer;\n",
       "        display: none;\n",
       "        fill: #1967D2;\n",
       "        height: 32px;\n",
       "        padding: 0 0 0 0;\n",
       "        width: 32px;\n",
       "      }\n",
       "\n",
       "      .colab-df-generate:hover {\n",
       "        background-color: #E2EBFA;\n",
       "        box-shadow: 0px 1px 2px rgba(60, 64, 67, 0.3), 0px 1px 3px 1px rgba(60, 64, 67, 0.15);\n",
       "        fill: #174EA6;\n",
       "      }\n",
       "\n",
       "      [theme=dark] .colab-df-generate {\n",
       "        background-color: #3B4455;\n",
       "        fill: #D2E3FC;\n",
       "      }\n",
       "\n",
       "      [theme=dark] .colab-df-generate:hover {\n",
       "        background-color: #434B5C;\n",
       "        box-shadow: 0px 1px 3px 1px rgba(0, 0, 0, 0.15);\n",
       "        filter: drop-shadow(0px 1px 2px rgba(0, 0, 0, 0.3));\n",
       "        fill: #FFFFFF;\n",
       "      }\n",
       "    </style>\n",
       "    <button class=\"colab-df-generate\" onclick=\"generateWithVariable('a2c_df_summary')\"\n",
       "            title=\"Generate code using this dataframe.\"\n",
       "            style=\"display:none;\">\n",
       "\n",
       "  <svg xmlns=\"http://www.w3.org/2000/svg\" height=\"24px\"viewBox=\"0 0 24 24\"\n",
       "       width=\"24px\">\n",
       "    <path d=\"M7,19H8.4L18.45,9,17,7.55,7,17.6ZM5,21V16.75L18.45,3.32a2,2,0,0,1,2.83,0l1.4,1.43a1.91,1.91,0,0,1,.58,1.4,1.91,1.91,0,0,1-.58,1.4L9.25,21ZM18.45,9,17,7.55Zm-12,3A5.31,5.31,0,0,0,4.9,8.1,5.31,5.31,0,0,0,1,6.5,5.31,5.31,0,0,0,4.9,4.9,5.31,5.31,0,0,0,6.5,1,5.31,5.31,0,0,0,8.1,4.9,5.31,5.31,0,0,0,12,6.5,5.46,5.46,0,0,0,6.5,12Z\"/>\n",
       "  </svg>\n",
       "    </button>\n",
       "    <script>\n",
       "      (() => {\n",
       "      const buttonEl =\n",
       "        document.querySelector('#id_9b3ff9d0-c376-45fd-9bc0-05894de14c20 button.colab-df-generate');\n",
       "      buttonEl.style.display =\n",
       "        google.colab.kernel.accessAllowed ? 'block' : 'none';\n",
       "\n",
       "      buttonEl.onclick = () => {\n",
       "        google.colab.notebook.generateWithVariable('a2c_df_summary');\n",
       "      }\n",
       "      })();\n",
       "    </script>\n",
       "  </div>\n",
       "\n",
       "    </div>\n",
       "  </div>\n"
      ],
      "text/plain": [
       "  Iter   Val Start     Val End A2C Sharpe\n",
       "0  126  2021-10-04  2022-01-03   0.319733"
      ]
     },
     "execution_count": 17,
     "metadata": {},
     "output_type": "execute_result"
    }
   ],
   "source": [
    "a2c_df_summary"
   ]
  },
  {
   "cell_type": "markdown",
   "metadata": {
    "id": "MpPyCK67EBip"
   },
   "source": [
    "## Part 6.3 PPO Only"
   ]
  },
  {
   "cell_type": "code",
   "execution_count": 18,
   "metadata": {
    "executionInfo": {
     "elapsed": 409,
     "status": "ok",
     "timestamp": 1733260918673,
     "user": {
      "displayName": "Garrett Devaney",
      "userId": "10600170082792839935"
     },
     "user_tz": 300
    },
    "id": "m5ZDDCKnEG5F"
   },
   "outputs": [],
   "source": [
    "ppo_agent = DRLSingleAgent(df=processed,\n",
    "                 train_period=(TRAIN_START_DATE,TRAIN_END_DATE),\n",
    "                 val_test_period=(TEST_START_DATE,TEST_END_DATE),\n",
    "                 rebalance_window=rebalance_window,\n",
    "                 validation_window=validation_window,\n",
    "                 model_name='PPO',\n",
    "                 **env_kwargs)"
   ]
  },
  {
   "cell_type": "code",
   "execution_count": 19,
   "metadata": {
    "colab": {
     "base_uri": "https://localhost:8080/",
     "height": 1000
    },
    "executionInfo": {
     "elapsed": 123925,
     "status": "ok",
     "timestamp": 1733261042596,
     "user": {
      "displayName": "Garrett Devaney",
      "userId": "10600170082792839935"
     },
     "user_tz": 300
    },
    "id": "xu2UIP6YESBW",
    "outputId": "6e092cd3-41b0-4bbc-8ccb-0acbcc6711c0"
   },
   "outputs": [
    {
     "name": "stdout",
     "output_type": "stream",
     "text": [
      "============Start PPO Strategy============\n",
      "============================================\n",
      "turbulence_threshold:  201.7186492430374\n",
      "======Model training from:  2010-01-01 to  2021-10-04\n",
      "======PPO Training========\n",
      "{'ent_coef': 0.01, 'n_steps': 2048, 'learning_rate': 0.00025, 'batch_size': 128}\n",
      "Using cuda device\n",
      "Logging to tensorboard_log/PPO/PPO_126_1\n",
      "----------------------------------\n",
      "| time/              |           |\n",
      "|    fps             | 90        |\n",
      "|    iterations      | 1         |\n",
      "|    time_elapsed    | 22        |\n",
      "|    total_timesteps | 2048      |\n",
      "| train/             |           |\n",
      "|    reward          | 1.1536454 |\n",
      "----------------------------------\n",
      "-----------------------------------------\n",
      "| time/                   |             |\n",
      "|    fps                  | 85          |\n",
      "|    iterations           | 2           |\n",
      "|    time_elapsed         | 47          |\n",
      "|    total_timesteps      | 4096        |\n",
      "| train/                  |             |\n",
      "|    approx_kl            | 0.012947552 |\n",
      "|    clip_fraction        | 0.167       |\n",
      "|    clip_range           | 0.2         |\n",
      "|    entropy_loss         | -41.2       |\n",
      "|    explained_variance   | 0.000948    |\n",
      "|    learning_rate        | 0.00025     |\n",
      "|    loss                 | 3.34        |\n",
      "|    n_updates            | 10          |\n",
      "|    policy_gradient_loss | -0.0282     |\n",
      "|    reward               | 1.297534    |\n",
      "|    std                  | 1           |\n",
      "|    value_loss           | 9.19        |\n",
      "-----------------------------------------\n",
      "------------------------------------------\n",
      "| time/                   |              |\n",
      "|    fps                  | 84           |\n",
      "|    iterations           | 3            |\n",
      "|    time_elapsed         | 73           |\n",
      "|    total_timesteps      | 6144         |\n",
      "| train/                  |              |\n",
      "|    approx_kl            | 0.014384617  |\n",
      "|    clip_fraction        | 0.141        |\n",
      "|    clip_range           | 0.2          |\n",
      "|    entropy_loss         | -41.3        |\n",
      "|    explained_variance   | -0.00249     |\n",
      "|    learning_rate        | 0.00025      |\n",
      "|    loss                 | 16.5         |\n",
      "|    n_updates            | 20           |\n",
      "|    policy_gradient_loss | -0.024       |\n",
      "|    reward               | 0.0146278795 |\n",
      "|    std                  | 1.01         |\n",
      "|    value_loss           | 34.8         |\n",
      "------------------------------------------\n",
      "-----------------------------------------\n",
      "| time/                   |             |\n",
      "|    fps                  | 83          |\n",
      "|    iterations           | 4           |\n",
      "|    time_elapsed         | 97          |\n",
      "|    total_timesteps      | 8192        |\n",
      "| train/                  |             |\n",
      "|    approx_kl            | 0.014417157 |\n",
      "|    clip_fraction        | 0.141       |\n",
      "|    clip_range           | 0.2         |\n",
      "|    entropy_loss         | -41.3       |\n",
      "|    explained_variance   | -0.0119     |\n",
      "|    learning_rate        | 0.00025     |\n",
      "|    loss                 | 37.1        |\n",
      "|    n_updates            | 30          |\n",
      "|    policy_gradient_loss | -0.0177     |\n",
      "|    reward               | 4.6983175   |\n",
      "|    std                  | 1.01        |\n",
      "|    value_loss           | 93.9        |\n",
      "-----------------------------------------\n",
      "-----------------------------------------\n",
      "| time/                   |             |\n",
      "|    fps                  | 84          |\n",
      "|    iterations           | 5           |\n",
      "|    time_elapsed         | 121         |\n",
      "|    total_timesteps      | 10240       |\n",
      "| train/                  |             |\n",
      "|    approx_kl            | 0.021560155 |\n",
      "|    clip_fraction        | 0.179       |\n",
      "|    clip_range           | 0.2         |\n",
      "|    entropy_loss         | -41.4       |\n",
      "|    explained_variance   | -0.0231     |\n",
      "|    learning_rate        | 0.00025     |\n",
      "|    loss                 | 9.63        |\n",
      "|    n_updates            | 40          |\n",
      "|    policy_gradient_loss | -0.0239     |\n",
      "|    reward               | 0.06530169  |\n",
      "|    std                  | 1.01        |\n",
      "|    value_loss           | 20.4        |\n",
      "-----------------------------------------\n",
      "======PPO Validation from:  2021-10-04 to  2022-01-03\n",
      "PPO Sharpe Ratio:  0.09254795025798265\n",
      "======Best Model Retraining from:  2010-01-01 to  2022-01-03\n",
      "======Trading from:  2022-01-03 to  2022-04-04\n",
      "Strategy took:  2.053387447198232  minutes\n"
     ]
    },
    {
     "data": {
      "application/vnd.google.colaboratory.intrinsic+json": {
       "summary": "{\n  \"name\": \"ppo_df_summary\",\n  \"rows\": 1,\n  \"fields\": [\n    {\n      \"column\": \"Iter\",\n      \"properties\": {\n        \"dtype\": \"date\",\n        \"min\": 126,\n        \"max\": 126,\n        \"num_unique_values\": 1,\n        \"samples\": [\n          126\n        ],\n        \"semantic_type\": \"\",\n        \"description\": \"\"\n      }\n    },\n    {\n      \"column\": \"Val Start\",\n      \"properties\": {\n        \"dtype\": \"object\",\n        \"num_unique_values\": 1,\n        \"samples\": [\n          \"2021-10-04\"\n        ],\n        \"semantic_type\": \"\",\n        \"description\": \"\"\n      }\n    },\n    {\n      \"column\": \"Val End\",\n      \"properties\": {\n        \"dtype\": \"object\",\n        \"num_unique_values\": 1,\n        \"samples\": [\n          \"2022-01-03\"\n        ],\n        \"semantic_type\": \"\",\n        \"description\": \"\"\n      }\n    },\n    {\n      \"column\": \"PPO Sharpe\",\n      \"properties\": {\n        \"dtype\": \"date\",\n        \"min\": 0.09254795025798265,\n        \"max\": 0.09254795025798265,\n        \"num_unique_values\": 1,\n        \"samples\": [\n          0.09254795025798265\n        ],\n        \"semantic_type\": \"\",\n        \"description\": \"\"\n      }\n    }\n  ]\n}",
       "type": "dataframe",
       "variable_name": "ppo_df_summary"
      },
      "text/html": [
       "\n",
       "  <div id=\"df-07760898-6afc-4523-a2f4-2b5e8a32189a\" class=\"colab-df-container\">\n",
       "    <div>\n",
       "<style scoped>\n",
       "    .dataframe tbody tr th:only-of-type {\n",
       "        vertical-align: middle;\n",
       "    }\n",
       "\n",
       "    .dataframe tbody tr th {\n",
       "        vertical-align: top;\n",
       "    }\n",
       "\n",
       "    .dataframe thead th {\n",
       "        text-align: right;\n",
       "    }\n",
       "</style>\n",
       "<table border=\"1\" class=\"dataframe\">\n",
       "  <thead>\n",
       "    <tr style=\"text-align: right;\">\n",
       "      <th></th>\n",
       "      <th>Iter</th>\n",
       "      <th>Val Start</th>\n",
       "      <th>Val End</th>\n",
       "      <th>PPO Sharpe</th>\n",
       "    </tr>\n",
       "  </thead>\n",
       "  <tbody>\n",
       "    <tr>\n",
       "      <th>0</th>\n",
       "      <td>126</td>\n",
       "      <td>2021-10-04</td>\n",
       "      <td>2022-01-03</td>\n",
       "      <td>0.092548</td>\n",
       "    </tr>\n",
       "  </tbody>\n",
       "</table>\n",
       "</div>\n",
       "    <div class=\"colab-df-buttons\">\n",
       "\n",
       "  <div class=\"colab-df-container\">\n",
       "    <button class=\"colab-df-convert\" onclick=\"convertToInteractive('df-07760898-6afc-4523-a2f4-2b5e8a32189a')\"\n",
       "            title=\"Convert this dataframe to an interactive table.\"\n",
       "            style=\"display:none;\">\n",
       "\n",
       "  <svg xmlns=\"http://www.w3.org/2000/svg\" height=\"24px\" viewBox=\"0 -960 960 960\">\n",
       "    <path d=\"M120-120v-720h720v720H120Zm60-500h600v-160H180v160Zm220 220h160v-160H400v160Zm0 220h160v-160H400v160ZM180-400h160v-160H180v160Zm440 0h160v-160H620v160ZM180-180h160v-160H180v160Zm440 0h160v-160H620v160Z\"/>\n",
       "  </svg>\n",
       "    </button>\n",
       "\n",
       "  <style>\n",
       "    .colab-df-container {\n",
       "      display:flex;\n",
       "      gap: 12px;\n",
       "    }\n",
       "\n",
       "    .colab-df-convert {\n",
       "      background-color: #E8F0FE;\n",
       "      border: none;\n",
       "      border-radius: 50%;\n",
       "      cursor: pointer;\n",
       "      display: none;\n",
       "      fill: #1967D2;\n",
       "      height: 32px;\n",
       "      padding: 0 0 0 0;\n",
       "      width: 32px;\n",
       "    }\n",
       "\n",
       "    .colab-df-convert:hover {\n",
       "      background-color: #E2EBFA;\n",
       "      box-shadow: 0px 1px 2px rgba(60, 64, 67, 0.3), 0px 1px 3px 1px rgba(60, 64, 67, 0.15);\n",
       "      fill: #174EA6;\n",
       "    }\n",
       "\n",
       "    .colab-df-buttons div {\n",
       "      margin-bottom: 4px;\n",
       "    }\n",
       "\n",
       "    [theme=dark] .colab-df-convert {\n",
       "      background-color: #3B4455;\n",
       "      fill: #D2E3FC;\n",
       "    }\n",
       "\n",
       "    [theme=dark] .colab-df-convert:hover {\n",
       "      background-color: #434B5C;\n",
       "      box-shadow: 0px 1px 3px 1px rgba(0, 0, 0, 0.15);\n",
       "      filter: drop-shadow(0px 1px 2px rgba(0, 0, 0, 0.3));\n",
       "      fill: #FFFFFF;\n",
       "    }\n",
       "  </style>\n",
       "\n",
       "    <script>\n",
       "      const buttonEl =\n",
       "        document.querySelector('#df-07760898-6afc-4523-a2f4-2b5e8a32189a button.colab-df-convert');\n",
       "      buttonEl.style.display =\n",
       "        google.colab.kernel.accessAllowed ? 'block' : 'none';\n",
       "\n",
       "      async function convertToInteractive(key) {\n",
       "        const element = document.querySelector('#df-07760898-6afc-4523-a2f4-2b5e8a32189a');\n",
       "        const dataTable =\n",
       "          await google.colab.kernel.invokeFunction('convertToInteractive',\n",
       "                                                    [key], {});\n",
       "        if (!dataTable) return;\n",
       "\n",
       "        const docLinkHtml = 'Like what you see? Visit the ' +\n",
       "          '<a target=\"_blank\" href=https://colab.research.google.com/notebooks/data_table.ipynb>data table notebook</a>'\n",
       "          + ' to learn more about interactive tables.';\n",
       "        element.innerHTML = '';\n",
       "        dataTable['output_type'] = 'display_data';\n",
       "        await google.colab.output.renderOutput(dataTable, element);\n",
       "        const docLink = document.createElement('div');\n",
       "        docLink.innerHTML = docLinkHtml;\n",
       "        element.appendChild(docLink);\n",
       "      }\n",
       "    </script>\n",
       "  </div>\n",
       "\n",
       "\n",
       "  <div id=\"id_fde1ad0e-9660-4e16-a2b6-773ea972e83a\">\n",
       "    <style>\n",
       "      .colab-df-generate {\n",
       "        background-color: #E8F0FE;\n",
       "        border: none;\n",
       "        border-radius: 50%;\n",
       "        cursor: pointer;\n",
       "        display: none;\n",
       "        fill: #1967D2;\n",
       "        height: 32px;\n",
       "        padding: 0 0 0 0;\n",
       "        width: 32px;\n",
       "      }\n",
       "\n",
       "      .colab-df-generate:hover {\n",
       "        background-color: #E2EBFA;\n",
       "        box-shadow: 0px 1px 2px rgba(60, 64, 67, 0.3), 0px 1px 3px 1px rgba(60, 64, 67, 0.15);\n",
       "        fill: #174EA6;\n",
       "      }\n",
       "\n",
       "      [theme=dark] .colab-df-generate {\n",
       "        background-color: #3B4455;\n",
       "        fill: #D2E3FC;\n",
       "      }\n",
       "\n",
       "      [theme=dark] .colab-df-generate:hover {\n",
       "        background-color: #434B5C;\n",
       "        box-shadow: 0px 1px 3px 1px rgba(0, 0, 0, 0.15);\n",
       "        filter: drop-shadow(0px 1px 2px rgba(0, 0, 0, 0.3));\n",
       "        fill: #FFFFFF;\n",
       "      }\n",
       "    </style>\n",
       "    <button class=\"colab-df-generate\" onclick=\"generateWithVariable('ppo_df_summary')\"\n",
       "            title=\"Generate code using this dataframe.\"\n",
       "            style=\"display:none;\">\n",
       "\n",
       "  <svg xmlns=\"http://www.w3.org/2000/svg\" height=\"24px\"viewBox=\"0 0 24 24\"\n",
       "       width=\"24px\">\n",
       "    <path d=\"M7,19H8.4L18.45,9,17,7.55,7,17.6ZM5,21V16.75L18.45,3.32a2,2,0,0,1,2.83,0l1.4,1.43a1.91,1.91,0,0,1,.58,1.4,1.91,1.91,0,0,1-.58,1.4L9.25,21ZM18.45,9,17,7.55Zm-12,3A5.31,5.31,0,0,0,4.9,8.1,5.31,5.31,0,0,0,1,6.5,5.31,5.31,0,0,0,4.9,4.9,5.31,5.31,0,0,0,6.5,1,5.31,5.31,0,0,0,8.1,4.9,5.31,5.31,0,0,0,12,6.5,5.46,5.46,0,0,0,6.5,12Z\"/>\n",
       "  </svg>\n",
       "    </button>\n",
       "    <script>\n",
       "      (() => {\n",
       "      const buttonEl =\n",
       "        document.querySelector('#id_fde1ad0e-9660-4e16-a2b6-773ea972e83a button.colab-df-generate');\n",
       "      buttonEl.style.display =\n",
       "        google.colab.kernel.accessAllowed ? 'block' : 'none';\n",
       "\n",
       "      buttonEl.onclick = () => {\n",
       "        google.colab.notebook.generateWithVariable('ppo_df_summary');\n",
       "      }\n",
       "      })();\n",
       "    </script>\n",
       "  </div>\n",
       "\n",
       "    </div>\n",
       "  </div>\n"
      ],
      "text/plain": [
       "  Iter   Val Start     Val End PPO Sharpe\n",
       "0  126  2021-10-04  2022-01-03   0.092548"
      ]
     },
     "execution_count": 19,
     "metadata": {},
     "output_type": "execute_result"
    }
   ],
   "source": [
    "ppo_df_summary = ppo_agent.run_single_model_strategy(PPO_model_kwargs, 10000)\n",
    "ppo_df_summary"
   ]
  },
  {
   "cell_type": "markdown",
   "metadata": {
    "id": "WPUKG_3rEY1-"
   },
   "source": [
    "## Part 6.4 DDPG Only"
   ]
  },
  {
   "cell_type": "code",
   "execution_count": null,
   "metadata": {
    "id": "kmKdacR2EjU9"
   },
   "outputs": [],
   "source": [
    "ddpg_agent = DRLSingleAgent(df=processed,\n",
    "                 train_period=(TRAIN_START_DATE,TRAIN_END_DATE),\n",
    "                 val_test_period=(TEST_START_DATE,TEST_END_DATE),\n",
    "                 rebalance_window=rebalance_window,\n",
    "                 validation_window=validation_window,\n",
    "                 model_name='DDPG',\n",
    "                 **env_kwargs)"
   ]
  },
  {
   "cell_type": "code",
   "execution_count": null,
   "metadata": {
    "id": "4A67DG_gEjce"
   },
   "outputs": [],
   "source": [
    "ddpg_df_summary = ddpg_agent.run_single_model_strategy(DDPG_model_kwargs, 10000)\n",
    "ddpg_df_summary"
   ]
  },
  {
   "cell_type": "markdown",
   "metadata": {
    "id": "uaqSoG3IEw7t"
   },
   "source": [
    "## Part 6.5 MBRL Random Shooting"
   ]
  },
  {
   "cell_type": "code",
   "execution_count": 20,
   "metadata": {
    "executionInfo": {
     "elapsed": 269,
     "status": "ok",
     "timestamp": 1733261131224,
     "user": {
      "displayName": "Garrett Devaney",
      "userId": "10600170082792839935"
     },
     "user_tz": 300
    },
    "id": "VJiT__1oEvUu"
   },
   "outputs": [],
   "source": [
    "mbrl_agent = MBRLAgent(df=processed,\n",
    "                 train_period=(TRAIN_START_DATE,TRAIN_END_DATE),\n",
    "                 val_test_period=(TEST_START_DATE,TEST_END_DATE),\n",
    "                 rebalance_window=rebalance_window,\n",
    "                 validation_window=validation_window,\n",
    "\n",
    "                 **env_kwargs)"
   ]
  },
  {
   "cell_type": "code",
   "execution_count": null,
   "metadata": {
    "colab": {
     "base_uri": "https://localhost:8080/"
    },
    "id": "3yUwzQuEE7sg",
    "outputId": "afca8735-7b40-422f-b35b-97400df495bd"
   },
   "outputs": [
    {
     "name": "stdout",
     "output_type": "stream",
     "text": [
      "============Start MBRL Strategy============\n",
      "============================================\n",
      "turbulence_threshold:  201.7186492430374\n",
      "======Model training from:  2010-01-01 to  2021-10-04\n",
      "======MBRL Training========\n",
      "======MBRL Validation from:  2021-10-04 to  2022-01-03\n",
      "MBRL Sharpe Ratio:  0.3708051993759097\n",
      "======Trading from:  2022-01-03 to  2022-04-04\n",
      "============================================\n",
      "turbulence_threshold:  201.7186492430374\n",
      "======Model training from:  2010-01-01 to  2022-01-03\n",
      "======MBRL Training========\n",
      "======MBRL Validation from:  2022-01-03 to  2022-04-04\n",
      "MBRL Sharpe Ratio:  -0.2375881670032508\n",
      "======Trading from:  2022-04-04 to  2022-07-06\n",
      "============================================\n",
      "turbulence_threshold:  201.7186492430374\n",
      "======Model training from:  2010-01-01 to  2022-04-04\n",
      "======MBRL Training========\n"
     ]
    }
   ],
   "source": [
    "mbrl_df_summary = mbrl_agent.run_MBRL_strategy(10000)\n",
    "mbrl_df_summary"
   ]
  },
  {
   "cell_type": "markdown",
   "metadata": {
    "id": "23KH5_ShFJtL"
   },
   "source": [
    "## Part 6.6 PETS"
   ]
  },
  {
   "cell_type": "code",
   "execution_count": null,
   "metadata": {
    "id": "6LGEMCUUFNET"
   },
   "outputs": [],
   "source": [
    "pets_agent = PETSAgent(df=processed,\n",
    "                 train_period=(TRAIN_START_DATE,TRAIN_END_DATE),\n",
    "                 val_test_period=(TEST_START_DATE,TEST_END_DATE),\n",
    "                 rebalance_window=rebalance_window,\n",
    "                 validation_window=validation_window,\n",
    "                 **env_kwargs)"
   ]
  },
  {
   "cell_type": "code",
   "execution_count": null,
   "metadata": {
    "id": "IAURAz42FNHN"
   },
   "outputs": [],
   "source": [
    "pets_df_summary = pets_agent.run_PETS_strategy(10000)\n",
    "pets_df_summary"
   ]
  },
  {
   "cell_type": "markdown",
   "metadata": {
    "id": "W6vvNSC6h1jZ"
   },
   "source": [
    "<a id='6'></a>\n",
    "# Part 7: Backtest Our Strategy\n",
    "Backtesting plays a key role in evaluating the performance of a trading strategy. Automated backtesting tool is preferred because it reduces the human error. We usually use the Quantopian pyfolio package to backtest our trading strategies. It is easy to use and consists of various individual plots that provide a comprehensive image of the performance of a trading strategy."
   ]
  },
  {
   "cell_type": "code",
   "execution_count": null,
   "metadata": {
    "id": "X4JKB--8tj1g"
   },
   "outputs": [],
   "source": [
    "unique_trade_date = processed[(processed.date > TEST_START_DATE)&(processed.date <= TEST_END_DATE)].date.unique()"
   ]
  },
  {
   "cell_type": "code",
   "execution_count": null,
   "metadata": {
    "id": "q9mKF7GGtj1g",
    "outputId": "ac6082b4-2c67-490e-9ade-1dd12a11d205",
    "scrolled": true
   },
   "outputs": [
    {
     "name": "stdout",
     "output_type": "stream",
     "text": [
      "Sharpe Ratio:  -0.08622266046119016\n"
     ]
    }
   ],
   "source": [
    "models = ['A2C', 'PPO', 'DDPG', 'ensemble', 'MBRL', 'PETS']\n",
    "df_trade_date = pd.DataFrame({'datadate':unique_trade_date})\n",
    "\n",
    "df_account_value=pd.DataFrame()\n",
    "for model in models:\n",
    "    for i in range(rebalance_window+validation_window, len(unique_trade_date)+1,rebalance_window):\n",
    "        temp = pd.read_csv('results/account_value_trade_{}_{}.csv'.format(model,i))\n",
    "        temp['model'] = model\n",
    "        df_account_value = pd.concat([df_account_value, temp], ignore_index=True)\n",
    "    sharpe=(252**0.5)*df_account_value.account_value.pct_change(1).mean()/df_account_value.account_value.pct_change(1).std()\n",
    "\n",
    "a2c_account_value = df_account_value[df_account_value['model']=='A2C'].join(df_trade_date[validation_window:].reset_index(drop=True))\n",
    "ppo_account_value = df_account_value[df_account_value['model']=='PPO'].join(df_trade_date[validation_window:].reset_index(drop=True))\n",
    "ddpg_account_value = df_account_value[df_account_value['model']=='DDPG'].join(df_trade_date[validation_window:].reset_index(drop=True))\n",
    "ensemble_account_value = df_account_value[df_account_value['model']=='ensemble'].join(df_trade_date[validation_window:].reset_index(drop=True))\n",
    "mbrl_account_value = df_account_value[df_account_value['model']=='MBRL'].join(df_trade_date[validation_window:].reset_index(drop=True))\n",
    "pets_account_value = df_account_value[df_account_value['model']=='PETS'].join(df_trade_date[validation_window:].reset_index(drop=True))"
   ]
  },
  {
   "cell_type": "markdown",
   "metadata": {
    "id": "Lr2zX7ZxNyFQ"
   },
   "source": [
    "<a id='6.1'></a>\n",
    "## 7.1 BackTestStats\n",
    "pass in df_account_value, this information is stored in env class\n"
   ]
  },
  {
   "cell_type": "code",
   "execution_count": null,
   "metadata": {
    "id": "DiHhM1YkoCel",
    "outputId": "9a03c557-fa15-4a0e-c8ce-aa0c8d731743"
   },
   "outputs": [
    {
     "name": "stdout",
     "output_type": "stream",
     "text": [
      "==============Get Baseline Stats===========\n"
     ]
    },
    {
     "name": "stderr",
     "output_type": "stream",
     "text": [
      "[*********************100%***********************]  1 of 1 completed"
     ]
    },
    {
     "name": "stdout",
     "output_type": "stream",
     "text": [
      "Shape of DataFrame:  (251, 8)\n",
      "Annual return         -0.088436\n",
      "Cumulative returns    -0.088101\n",
      "Annual volatility      0.185081\n",
      "Sharpe ratio          -0.410029\n",
      "Calmar ratio          -0.407645\n",
      "Stability              0.243620\n",
      "Max drawdown          -0.216945\n",
      "Omega ratio            0.935511\n",
      "Sortino ratio         -0.568133\n",
      "Skew                        NaN\n",
      "Kurtosis                    NaN\n",
      "Tail ratio             0.966671\n",
      "Daily value at risk   -0.023619\n",
      "dtype: float64\n"
     ]
    },
    {
     "name": "stderr",
     "output_type": "stream",
     "text": [
      "\n"
     ]
    }
   ],
   "source": [
    "#baseline stats\n",
    "print(\"==============Get Baseline Stats===========\")\n",
    "df_dji_ = get_baseline(\n",
    "        ticker=\"^DJI\",\n",
    "        start = df_account_value.loc[0,'date'],\n",
    "        end = df_account_value.loc[len(df_account_value)-1,'date'])\n",
    "\n",
    "stats = backtest_stats(df_dji_, value_col_name = 'close')"
   ]
  },
  {
   "cell_type": "code",
   "execution_count": null,
   "metadata": {
    "id": "RhJ9whD75WTs",
    "outputId": "29b28731-4d0b-4442-87bd-e7d3cf900334"
   },
   "outputs": [
    {
     "name": "stdout",
     "output_type": "stream",
     "text": [
      "df_dji:             date           dji\n",
      "0    2022-01-03  1.000000e+06\n",
      "1    2022-01-04  1.008656e+06\n",
      "2    2022-01-05  1.011041e+06\n",
      "3    2022-01-06  1.002408e+06\n",
      "4    2022-01-07  9.980177e+05\n",
      "..          ...           ...\n",
      "247  2022-12-27  9.147240e+05\n",
      "248  2022-12-28  9.158399e+05\n",
      "249  2022-12-29  9.091405e+05\n",
      "250  2022-12-30  9.118987e+05\n",
      "251  2023-01-03           NaN\n",
      "\n",
      "[252 rows x 2 columns]\n",
      "df_dji:                       dji\n",
      "date                    \n",
      "2022-01-03  1.000000e+06\n",
      "2022-01-04  1.008656e+06\n",
      "2022-01-05  1.011041e+06\n",
      "2022-01-06  1.002408e+06\n",
      "2022-01-07  9.980177e+05\n",
      "...                  ...\n",
      "2022-12-27  9.147240e+05\n",
      "2022-12-28  9.158399e+05\n",
      "2022-12-29  9.091405e+05\n",
      "2022-12-30  9.118987e+05\n",
      "2023-01-03           NaN\n",
      "\n",
      "[252 rows x 1 columns]\n"
     ]
    }
   ],
   "source": [
    "df_dji = pd.DataFrame()\n",
    "df_dji['date'] = ensemble_df_account_value['date']\n",
    "df_dji['dji'] = df_dji_['close'] / df_dji_['close'][0] * env_kwargs[\"initial_amount\"]\n",
    "\n",
    "df_dji.to_csv(\"df_dji.csv\")\n",
    "df_dji = df_dji.set_index(df_dji.columns[0])\n",
    "\n",
    "df_dji.to_csv(\"df_dji+.csv\")\n",
    "\n",
    "df_account_value.to_csv('df_account_value.csv')\n"
   ]
  },
  {
   "cell_type": "markdown",
   "metadata": {
    "id": "9U6Suru3h1jc"
   },
   "source": [
    "<a id='6.2'></a>\n",
    "## 7.2 BackTestPlot"
   ]
  },
  {
   "cell_type": "code",
   "execution_count": null,
   "metadata": {
    "id": "HggausPRoCem",
    "outputId": "62d32015-15e8-42c5-a36f-6241835090a9"
   },
   "outputs": [
    {
     "name": "stdout",
     "output_type": "stream",
     "text": [
      "df_result_ensemble.columns:  Index(['ensemble'], dtype='object')\n",
      "df_trade_date:         datadate\n",
      "0    2021-10-04\n",
      "1    2021-10-05\n",
      "2    2021-10-06\n",
      "3    2021-10-07\n",
      "4    2021-10-08\n",
      "..          ...\n",
      "348  2023-02-22\n",
      "349  2023-02-23\n",
      "350  2023-02-24\n",
      "351  2023-02-27\n",
      "352  2023-02-28\n",
      "\n",
      "[353 rows x 1 columns]\n",
      "df_result_ensemble:                  ensemble\n",
      "date                    \n",
      "2022-01-03  1.000000e+06\n",
      "2022-01-04  1.000754e+06\n",
      "2022-01-05  9.984221e+05\n",
      "2022-01-06  9.899922e+05\n",
      "2022-01-07  9.835481e+05\n",
      "...                  ...\n",
      "2022-12-27  9.733564e+05\n",
      "2022-12-28  9.735313e+05\n",
      "2022-12-29  9.648311e+05\n",
      "2022-12-30  9.643457e+05\n",
      "2023-01-03  9.617932e+05\n",
      "\n",
      "[252 rows x 1 columns]\n",
      "==============Compare to DJIA===========\n",
      "result:                  ensemble           dji\n",
      "date                                  \n",
      "2022-01-03  1.000000e+06  1.000000e+06\n",
      "2022-01-04  1.000754e+06  1.008656e+06\n",
      "2022-01-05  9.984221e+05  1.011041e+06\n",
      "2022-01-06  9.899922e+05  1.002408e+06\n",
      "2022-01-07  9.835481e+05  9.980177e+05\n",
      "...                  ...           ...\n",
      "2022-12-27  9.733564e+05  9.147240e+05\n",
      "2022-12-28  9.735313e+05  9.158399e+05\n",
      "2022-12-29  9.648311e+05  9.091405e+05\n",
      "2022-12-30  9.643457e+05  9.118987e+05\n",
      "2023-01-03  9.617932e+05           NaN\n",
      "\n",
      "[252 rows x 2 columns]\n"
     ]
    },
    {
     "data": {
      "text/plain": [
       "<Figure size 1500x500 with 0 Axes>"
      ]
     },
     "metadata": {},
     "output_type": "display_data"
    },
    {
     "data": {
      "image/png": "[encoded data removed]",
      "text/plain": [
       "<Figure size 1500x500 with 1 Axes>"
      ]
     },
     "metadata": {},
     "output_type": "display_data"
    }
   ],
   "source": [
    "%matplotlib inline\n",
    "df.to_csv(\"df.csv\")\n",
    "df_result_a2c = pd.DataFrame({'date': df_account_value['date'], 'A2C': a2c_account_value['account_value']})\n",
    "df_result_a2c = df_result_a2c.set_index('date')\n",
    "df_result_a2c.to_csv(\"df_result_a2c.csv\")\n",
    "\n",
    "df_result_ppo = pd.DataFrame({'date': df_account_value['date'], 'PPO': ppo_account_value['account_value']})\n",
    "df_result_ppo = df_result_ppo.set_index('date')\n",
    "df_result_ppo.to_csv(\"df_result_ppo.csv\")\n",
    "\n",
    "df_result_ddpg = pd.DataFrame({'date': df_account_value['date'], 'DDPG': ddpg_account_value['account_value']})\n",
    "df_result_ddpg = df_result_ddpg.set_index('date')\n",
    "df_result_ddpg.to_csv(\"df_result_ddpg.csv\")\n",
    "\n",
    "df_result_ensemble = pd.DataFrame({'date': df_account_value['date'], 'ensemble': df_account_value['account_value']})\n",
    "df_result_ensemble = df_result_ensemble.set_index('date')\n",
    "df_result_ensemble.to_csv(\"df_result_ensemble.csv\")\n",
    "\n",
    "df_result_mbrl = pd.DataFrame({'date': df_account_value['date'], 'MBRL': mbrl_account_value['account_value']})\n",
    "df_result_mbrl = df_result_mbrl.set_index('date')\n",
    "df_result_mbrl.to_csv(\"df_result_mbrl.csv\")\n",
    "\n",
    "df_result_pets = pd.DataFrame({'date': df_account_value['date'], 'PETS': pets_account_value['account_value']})\n",
    "df_result_pets = df_result_pets.set_index('date')\n",
    "df_result_pets.to_csv(\"df_result_pets.csv\")\n",
    "\n",
    "result = pd.DataFrame()\n",
    "result = pd.concat([df_result_a2c, df_result_ppo, df_result_ddpg, df_result_ensemble, df_result_mbrl, df_result_pets, df_dji],axis=1)\n",
    "result.to_csv(\"result.csv\")\n",
    "result.columns = ['A2C', 'PPO', 'DDPG', 'Ensemble', 'MBRL', 'PETS', 'dji']\n",
    "\n",
    "%matplotlib inline\n",
    "plt.rcParams[\"figure.figsize\"] = (15,5)\n",
    "plt.figure()\n",
    "result.plot()"
   ]
  },
  {
   "cell_type": "markdown",
   "metadata": {
    "id": "oBQx4bVQFi-a"
   },
   "source": [
    "import matplotlib.pyplot as plt\n",
    "import pandas as pd\n",
    "\n",
    "def plot_strategy_comparison(df_account_value, df_trade_date, baseline_data, strategies, output_csv=True):\n",
    "    \"\"\"\n",
    "    Plots the baseline vs. multiple trading strategies account values.\n",
    "\n",
    "    Args:\n",
    "        df_account_value (pd.DataFrame): DataFrame containing account values for different strategies.\n",
    "        df_trade_date (pd.DataFrame): DataFrame containing trade dates.\n",
    "        baseline_data (pd.DataFrame): Baseline data (e.g., DJI values).\n",
    "        strategies (list): List of strategy names to include in the plot.\n",
    "        output_csv (bool): Whether to save intermediate and result data to CSV.\n",
    "\n",
    "    Returns:\n",
    "        None\n",
    "    \"\"\"\n",
    "    # Adjust trade dates\n",
    "    trade_dates = df_trade_date.iloc[validation_window:].reset_index(drop=True)\n",
    "    \n",
    "    result_dfs = {}\n",
    "    for strategy in strategies:\n",
    "        strategy_account_value = (\n",
    "            df_account_value[df_account_value['model'] == strategy]\n",
    "            .join(trade_dates)\n",
    "            .reset_index(drop=True)\n",
    "        )\n",
    "        result_dfs[strategy] = pd.DataFrame({\n",
    "            'date': strategy_account_value['date'],\n",
    "            strategy: strategy_account_value['account_value']\n",
    "        }).set_index('date')\n",
    "\n",
    "        if output_csv:\n",
    "            result_dfs[strategy].to_csv(f\"df_result_{strategy.lower()}.csv\")\n",
    "\n",
    "    # Add baseline to result\n",
    "    baseline_data['dji'] = baseline_data['close'] / baseline_data['close'].iloc[0] * env_kwargs[\"initial_amount\"]\n",
    "    baseline_data = baseline_data.set_index(baseline_data.columns[0])\n",
    "    if output_csv:\n",
    "        baseline_data.to_csv(\"df_dji.csv\")\n",
    "\n",
    "    result = pd.concat([df.set_index(df.columns[0]) for df in result_dfs.values()] + [baseline_data['dji']], axis=1)\n",
    "    result.columns = strategies + ['dji']\n",
    "    if output_csv:\n",
    "        result.to_csv(\"result.csv\")\n",
    "\n",
    "    # Plotting\n",
    "    plt.figure(figsize=(15, 5))\n",
    "    result.plot()\n",
    "    plt.title(\"Baseline vs Strategies\")\n",
    "    plt.xlabel(\"Date\")\n",
    "    plt.ylabel(\"Account Value\")\n",
    "    plt.legend(loc='upper left')\n",
    "    plt.show()\n",
    "\n",
    "# Usage example\n",
    "models = ['A2C', 'PPO', 'DDPG', 'ensemble', 'MBRL', 'PETS']\n",
    "plot_strategy_comparison(\n",
    "    df_account_value,\n",
    "    df_trade_date,\n",
    "    df_dji_,\n",
    "    models,\n",
    "    output_csv=True\n",
    ")\n"
   ]
  }
 ],
 "metadata": {
  "accelerator": "GPU",
  "colab": {
   "provenance": [
    {
     "file_id": "14FK1JfL4vQP-9DtSg1wJkUUhsyF6ZmgT",
     "timestamp": 1733254171268
    }
   ]
  },
  "kernelspec": {
   "display_name": "finrl",
   "language": "python",
   "name": "python3"
  },
  "language_info": {
   "codemirror_mode": {
    "name": "ipython",
    "version": 3
   },
   "file_extension": ".py",
   "mimetype": "text/x-python",
   "name": "python",
   "nbconvert_exporter": "python",
   "pygments_lexer": "ipython3",
   "version": "3.10.15"
  },
  "pycharm": {
   "stem_cell": {
    "cell_type": "raw",
    "metadata": {
     "collapsed": false
    },
    "source": []
   }
  }
 },
 "nbformat": 4,
 "nbformat_minor": 0
}
