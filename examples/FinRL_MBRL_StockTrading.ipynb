{
    "cells": [
        {
            "cell_type": "markdown",
            "metadata": {
                "id": "Lb9q2_QZgdNk"
            },
            "source": [
                "<a target=\"_blank\" href=\"https://colab.research.google.com/github/AI4Finance-Foundation/FinRL-Tutorials/blob/master/2-Advance/FinRL_Ensemble_StockTrading_ICAIF_2020.ipynb\">\n",
                "  <img src=\"https://colab.research.google.com/assets/colab-badge.svg\" alt=\"Open In Colab\"/>\n",
                "</a>"
            ]
        },
        {
            "cell_type": "markdown",
            "metadata": {
                "id": "gXaoZs2lh1hi"
            },
            "source": [
                "# Deep Reinforcement Learning for Stock Trading from Scratch: Multiple Stock Trading Using Ensemble Strategy\n",
                "\n",
                "Tutorials to use OpenAI DRL to trade multiple stocks using ensemble strategy in one Jupyter Notebook | Presented at ICAIF 2020\n",
                "\n",
                "* This notebook is the reimplementation of our paper: Deep Reinforcement Learning for Automated Stock Trading: An Ensemble Strategy, using FinRL.\n",
                "* Check out medium blog for detailed explanations: https://medium.com/@ai4finance/deep-reinforcement-learning-for-automated-stock-trading-f1dad0126a02\n",
                "* Please report any issues to our Github: https://github.com/AI4Finance-LLC/FinRL-Library/issues\n",
                "* **Pytorch Version**\n",
                "\n"
            ]
        },
        {
            "cell_type": "markdown",
            "metadata": {
                "id": "lGunVt8oLCVS"
            },
            "source": [
                "# Content"
            ]
        },
        {
            "cell_type": "markdown",
            "metadata": {
                "id": "HOzAKQ-SLGX6"
            },
            "source": [
                "* [1. Problem Definition](#0)\n",
                "* [2. Getting Started - Load Python packages](#1)\n",
                "    * [2.1. Install Packages](#1.1)    \n",
                "    * [2.2. Check Additional Packages](#1.2)\n",
                "    * [2.3. Import Packages](#1.3)\n",
                "    * [2.4. Create Folders](#1.4)\n",
                "* [3. Download Data](#2)\n",
                "* [4. Preprocess Data](#3)        \n",
                "    * [4.1. Technical Indicators](#3.1)\n",
                "    * [4.2. Perform Feature Engineering](#3.2)\n",
                "* [5.Build Environment](#4)  \n",
                "    * [5.1. Training & Trade Data Split](#4.1)\n",
                "    * [5.2. User-defined Environment](#4.2)   \n",
                "    * [5.3. Initialize Environment](#4.3)    \n",
                "* [6.Implement DRL Algorithms](#5)  \n",
                "* [7.Backtesting Performance](#6)  \n",
                "    * [7.1. BackTestStats](#6.1)\n",
                "    * [7.2. BackTestPlot](#6.2)   \n",
                "    * [7.3. Baseline Stats](#6.3)   \n",
                "    * [7.3. Compare to Stock Market Index](#6.4)             "
            ]
        },
        {
            "cell_type": "markdown",
            "metadata": {
                "id": "sApkDlD9LIZv"
            },
            "source": [
                "<a id='0'></a>\n",
                "# Part 1. Problem Definition"
            ]
        },
        {
            "cell_type": "markdown",
            "metadata": {
                "id": "HjLD2TZSLKZ-"
            },
            "source": [
                "This problem is to design an automated trading solution for single stock trading. We model the stock trading process as a Markov Decision Process (MDP). We then formulate our trading goal as a maximization problem.\n",
                "\n",
                "The algorithm is trained using Deep Reinforcement Learning (DRL) algorithms and the components of the reinforcement learning environment are:\n",
                "\n",
                "\n",
                "* Action: The action space describes the allowed actions that the agent interacts with the\n",
                "environment. Normally, a ∈ A includes three actions: a ∈ {−1, 0, 1}, where −1, 0, 1 represent\n",
                "selling, holding, and buying one stock. Also, an action can be carried upon multiple shares. We use\n",
                "an action space {−k, ..., −1, 0, 1, ..., k}, where k denotes the number of shares. For example, \"Buy\n",
                "10 shares of AAPL\" or \"Sell 10 shares of AAPL\" are 10 or −10, respectively\n",
                "\n",
                "* Reward function: r(s, a, s′) is the incentive mechanism for an agent to learn a better action. The change of the portfolio value when action a is taken at state s and arriving at new state s',  i.e., r(s, a, s′) = v′ − v, where v′ and v represent the portfolio\n",
                "values at state s′ and s, respectively\n",
                "\n",
                "* State: The state space describes the observations that the agent receives from the environment. Just as a human trader needs to analyze various information before executing a trade, so\n",
                "our trading agent observes many different features to better learn in an interactive environment.\n",
                "\n",
                "* Environment: Dow 30 consituents\n",
                "\n",
                "\n",
                "The data of the single stock that we will be using for this case study is obtained from Yahoo Finance API. The data contains Open-High-Low-Close price and volume.\n"
            ]
        },
        {
            "cell_type": "markdown",
            "metadata": {
                "id": "Ffsre789LY08"
            },
            "source": [
                "<a id='1'></a>\n",
                "# Part 2. Getting Started- Load Python Packages"
            ]
        },
        {
            "cell_type": "code",
            "source": [
                "from google.colab import drive\n",
                "drive.mount('/content/gdrive/')\n",
                "%cd /content/gdrive/My Drive/FinRL-test"
            ],
            "metadata": {
                "colab": {
                    "base_uri": "https://localhost:8080/"
                },
                "id": "KgBzE9X926pm",
                "executionInfo": {
                    "status": "ok",
                    "timestamp": 1733091441940,
                    "user_tz": 300,
                    "elapsed": 17262,
                    "user": {
                        "displayName": "Garrett Devaney",
                        "userId": "10600170082792839935"
                    }
                },
                "outputId": "70d91629-8e2e-4ad0-e0db-9ba1eadbaadf"
            },
            "execution_count": 1,
            "outputs": [
                {
                    "output_type": "stream",
                    "name": "stdout",
                    "text": [
                        "Mounted at /content/gdrive/\n",
                        "/content/gdrive/My Drive/FinRL-test\n"
                    ]
                }
            ]
        },
        {
            "cell_type": "markdown",
            "metadata": {
                "id": "Uy5_PTmOh1hj"
            },
            "source": [
                "<a id='1.1'></a>\n",
                "## 2.1. Install all the packages through FinRL library\n"
            ]
        },
        {
            "cell_type": "code",
            "execution_count": 2,
            "metadata": {
                "colab": {
                    "base_uri": "https://localhost:8080/"
                },
                "id": "mPT0ipYE28wL",
                "outputId": "c539510d-bf9b-4324-ed3d-d181e67641bb",
                "collapsed": true,
                "executionInfo": {
                    "status": "ok",
                    "timestamp": 1733091482898,
                    "user_tz": 300,
                    "elapsed": 40959,
                    "user": {
                        "displayName": "Garrett Devaney",
                        "userId": "10600170082792839935"
                    }
                }
            },
            "outputs": [
                {
                    "output_type": "stream",
                    "name": "stdout",
                    "text": [
                        "Collecting wrds\n",
                        "  Downloading wrds-3.2.0-py3-none-any.whl.metadata (5.8 kB)\n",
                        "Requirement already satisfied: numpy<1.27,>=1.26 in /usr/local/lib/python3.10/dist-packages (from wrds) (1.26.4)\n",
                        "Collecting packaging<23.3 (from wrds)\n",
                        "  Downloading packaging-23.2-py3-none-any.whl.metadata (3.2 kB)\n",
                        "Requirement already satisfied: pandas<2.3,>=2.2 in /usr/local/lib/python3.10/dist-packages (from wrds) (2.2.2)\n",
                        "Collecting psycopg2-binary<2.10,>=2.9 (from wrds)\n",
                        "  Downloading psycopg2_binary-2.9.10-cp310-cp310-manylinux_2_17_x86_64.manylinux2014_x86_64.whl.metadata (4.9 kB)\n",
                        "Collecting scipy<1.13,>=1.12 (from wrds)\n",
                        "  Downloading scipy-1.12.0-cp310-cp310-manylinux_2_17_x86_64.manylinux2014_x86_64.whl.metadata (60 kB)\n",
                        "\u001b[2K     \u001b[90m━━━━━━━━━━━━━━━━━━━━━━━━━━━━━━━━━━━━━━━━\u001b[0m \u001b[32m60.4/60.4 kB\u001b[0m \u001b[31m4.0 MB/s\u001b[0m eta \u001b[36m0:00:00\u001b[0m\n",
                        "\u001b[?25hRequirement already satisfied: sqlalchemy<2.1,>=2 in /usr/local/lib/python3.10/dist-packages (from wrds) (2.0.36)\n",
                        "Requirement already satisfied: python-dateutil>=2.8.2 in /usr/local/lib/python3.10/dist-packages (from pandas<2.3,>=2.2->wrds) (2.8.2)\n",
                        "Requirement already satisfied: pytz>=2020.1 in /usr/local/lib/python3.10/dist-packages (from pandas<2.3,>=2.2->wrds) (2024.2)\n",
                        "Requirement already satisfied: tzdata>=2022.7 in /usr/local/lib/python3.10/dist-packages (from pandas<2.3,>=2.2->wrds) (2024.2)\n",
                        "Requirement already satisfied: typing-extensions>=4.6.0 in /usr/local/lib/python3.10/dist-packages (from sqlalchemy<2.1,>=2->wrds) (4.12.2)\n",
                        "Requirement already satisfied: greenlet!=0.4.17 in /usr/local/lib/python3.10/dist-packages (from sqlalchemy<2.1,>=2->wrds) (3.1.1)\n",
                        "Requirement already satisfied: six>=1.5 in /usr/local/lib/python3.10/dist-packages (from python-dateutil>=2.8.2->pandas<2.3,>=2.2->wrds) (1.16.0)\n",
                        "Downloading wrds-3.2.0-py3-none-any.whl (13 kB)\n",
                        "Downloading packaging-23.2-py3-none-any.whl (53 kB)\n",
                        "\u001b[2K   \u001b[90m━━━━━━━━━━━━━━━━━━━━━━━━━━━━━━━━━━━━━━━━\u001b[0m \u001b[32m53.0/53.0 kB\u001b[0m \u001b[31m4.3 MB/s\u001b[0m eta \u001b[36m0:00:00\u001b[0m\n",
                        "\u001b[?25hDownloading psycopg2_binary-2.9.10-cp310-cp310-manylinux_2_17_x86_64.manylinux2014_x86_64.whl (3.0 MB)\n",
                        "\u001b[2K   \u001b[90m━━━━━━━━━━━━━━━━━━━━━━━━━━━━━━━━━━━━━━━━\u001b[0m \u001b[32m3.0/3.0 MB\u001b[0m \u001b[31m49.8 MB/s\u001b[0m eta \u001b[36m0:00:00\u001b[0m\n",
                        "\u001b[?25hDownloading scipy-1.12.0-cp310-cp310-manylinux_2_17_x86_64.manylinux2014_x86_64.whl (38.4 MB)\n",
                        "\u001b[2K   \u001b[90m━━━━━━━━━━━━━━━━━━━━━━━━━━━━━━━━━━━━━━━━\u001b[0m \u001b[32m38.4/38.4 MB\u001b[0m \u001b[31m16.8 MB/s\u001b[0m eta \u001b[36m0:00:00\u001b[0m\n",
                        "\u001b[?25hInstalling collected packages: scipy, psycopg2-binary, packaging, wrds\n",
                        "  Attempting uninstall: scipy\n",
                        "    Found existing installation: scipy 1.13.1\n",
                        "    Uninstalling scipy-1.13.1:\n",
                        "      Successfully uninstalled scipy-1.13.1\n",
                        "  Attempting uninstall: packaging\n",
                        "    Found existing installation: packaging 24.2\n",
                        "    Uninstalling packaging-24.2:\n",
                        "      Successfully uninstalled packaging-24.2\n",
                        "Successfully installed packaging-23.2 psycopg2-binary-2.9.10 scipy-1.12.0 wrds-3.2.0\n",
                        "Collecting swig\n",
                        "  Downloading swig-4.3.0-py2.py3-none-manylinux_2_5_x86_64.manylinux1_x86_64.whl.metadata (3.5 kB)\n",
                        "Downloading swig-4.3.0-py2.py3-none-manylinux_2_5_x86_64.manylinux1_x86_64.whl (1.9 MB)\n",
                        "\u001b[2K   \u001b[90m━━━━━━━━━━━━━━━━━━━━━━━━━━━━━━━━━━━━━━━━\u001b[0m \u001b[32m1.9/1.9 MB\u001b[0m \u001b[31m30.4 MB/s\u001b[0m eta \u001b[36m0:00:00\u001b[0m\n",
                        "\u001b[?25hInstalling collected packages: swig\n",
                        "Successfully installed swig-4.3.0\n",
                        "Collecting gymnasium\n",
                        "  Downloading gymnasium-1.0.0-py3-none-any.whl.metadata (9.5 kB)\n",
                        "Requirement already satisfied: numpy>=1.21.0 in /usr/local/lib/python3.10/dist-packages (from gymnasium) (1.26.4)\n",
                        "Requirement already satisfied: cloudpickle>=1.2.0 in /usr/local/lib/python3.10/dist-packages (from gymnasium) (3.1.0)\n",
                        "Requirement already satisfied: typing-extensions>=4.3.0 in /usr/local/lib/python3.10/dist-packages (from gymnasium) (4.12.2)\n",
                        "Collecting farama-notifications>=0.0.1 (from gymnasium)\n",
                        "  Downloading Farama_Notifications-0.0.4-py3-none-any.whl.metadata (558 bytes)\n",
                        "Downloading gymnasium-1.0.0-py3-none-any.whl (958 kB)\n",
                        "\u001b[2K   \u001b[90m━━━━━━━━━━━━━━━━━━━━━━━━━━━━━━━━━━━━━━━━\u001b[0m \u001b[32m958.1/958.1 kB\u001b[0m \u001b[31m19.5 MB/s\u001b[0m eta \u001b[36m0:00:00\u001b[0m\n",
                        "\u001b[?25hDownloading Farama_Notifications-0.0.4-py3-none-any.whl (2.5 kB)\n",
                        "Installing collected packages: farama-notifications, gymnasium\n",
                        "Successfully installed farama-notifications-0.0.4 gymnasium-1.0.0\n",
                        "Collecting stable-baselines3\n",
                        "  Downloading stable_baselines3-2.4.0-py3-none-any.whl.metadata (4.5 kB)\n",
                        "Requirement already satisfied: gymnasium<1.1.0,>=0.29.1 in /usr/local/lib/python3.10/dist-packages (from stable-baselines3) (1.0.0)\n",
                        "Requirement already satisfied: numpy<2.0,>=1.20 in /usr/local/lib/python3.10/dist-packages (from stable-baselines3) (1.26.4)\n",
                        "Requirement already satisfied: torch>=1.13 in /usr/local/lib/python3.10/dist-packages (from stable-baselines3) (2.5.1+cu121)\n",
                        "Requirement already satisfied: cloudpickle in /usr/local/lib/python3.10/dist-packages (from stable-baselines3) (3.1.0)\n",
                        "Requirement already satisfied: pandas in /usr/local/lib/python3.10/dist-packages (from stable-baselines3) (2.2.2)\n",
                        "Requirement already satisfied: matplotlib in /usr/local/lib/python3.10/dist-packages (from stable-baselines3) (3.8.0)\n",
                        "Requirement already satisfied: typing-extensions>=4.3.0 in /usr/local/lib/python3.10/dist-packages (from gymnasium<1.1.0,>=0.29.1->stable-baselines3) (4.12.2)\n",
                        "Requirement already satisfied: farama-notifications>=0.0.1 in /usr/local/lib/python3.10/dist-packages (from gymnasium<1.1.0,>=0.29.1->stable-baselines3) (0.0.4)\n",
                        "Requirement already satisfied: filelock in /usr/local/lib/python3.10/dist-packages (from torch>=1.13->stable-baselines3) (3.16.1)\n",
                        "Requirement already satisfied: networkx in /usr/local/lib/python3.10/dist-packages (from torch>=1.13->stable-baselines3) (3.4.2)\n",
                        "Requirement already satisfied: jinja2 in /usr/local/lib/python3.10/dist-packages (from torch>=1.13->stable-baselines3) (3.1.4)\n",
                        "Requirement already satisfied: fsspec in /usr/local/lib/python3.10/dist-packages (from torch>=1.13->stable-baselines3) (2024.10.0)\n",
                        "Requirement already satisfied: sympy==1.13.1 in /usr/local/lib/python3.10/dist-packages (from torch>=1.13->stable-baselines3) (1.13.1)\n",
                        "Requirement already satisfied: mpmath<1.4,>=1.1.0 in /usr/local/lib/python3.10/dist-packages (from sympy==1.13.1->torch>=1.13->stable-baselines3) (1.3.0)\n",
                        "Requirement already satisfied: contourpy>=1.0.1 in /usr/local/lib/python3.10/dist-packages (from matplotlib->stable-baselines3) (1.3.1)\n",
                        "Requirement already satisfied: cycler>=0.10 in /usr/local/lib/python3.10/dist-packages (from matplotlib->stable-baselines3) (0.12.1)\n",
                        "Requirement already satisfied: fonttools>=4.22.0 in /usr/local/lib/python3.10/dist-packages (from matplotlib->stable-baselines3) (4.55.0)\n",
                        "Requirement already satisfied: kiwisolver>=1.0.1 in /usr/local/lib/python3.10/dist-packages (from matplotlib->stable-baselines3) (1.4.7)\n",
                        "Requirement already satisfied: packaging>=20.0 in /usr/local/lib/python3.10/dist-packages (from matplotlib->stable-baselines3) (23.2)\n",
                        "Requirement already satisfied: pillow>=6.2.0 in /usr/local/lib/python3.10/dist-packages (from matplotlib->stable-baselines3) (11.0.0)\n",
                        "Requirement already satisfied: pyparsing>=2.3.1 in /usr/local/lib/python3.10/dist-packages (from matplotlib->stable-baselines3) (3.2.0)\n",
                        "Requirement already satisfied: python-dateutil>=2.7 in /usr/local/lib/python3.10/dist-packages (from matplotlib->stable-baselines3) (2.8.2)\n",
                        "Requirement already satisfied: pytz>=2020.1 in /usr/local/lib/python3.10/dist-packages (from pandas->stable-baselines3) (2024.2)\n",
                        "Requirement already satisfied: tzdata>=2022.7 in /usr/local/lib/python3.10/dist-packages (from pandas->stable-baselines3) (2024.2)\n",
                        "Requirement already satisfied: six>=1.5 in /usr/local/lib/python3.10/dist-packages (from python-dateutil>=2.7->matplotlib->stable-baselines3) (1.16.0)\n",
                        "Requirement already satisfied: MarkupSafe>=2.0 in /usr/local/lib/python3.10/dist-packages (from jinja2->torch>=1.13->stable-baselines3) (3.0.2)\n",
                        "Downloading stable_baselines3-2.4.0-py3-none-any.whl (183 kB)\n",
                        "\u001b[2K   \u001b[90m━━━━━━━━━━━━━━━━━━━━━━━━━━━━━━━━━━━━━━━━\u001b[0m \u001b[32m183.9/183.9 kB\u001b[0m \u001b[31m5.4 MB/s\u001b[0m eta \u001b[36m0:00:00\u001b[0m\n",
                        "\u001b[?25hInstalling collected packages: stable-baselines3\n",
                        "Successfully installed stable-baselines3-2.4.0\n",
                        "Collecting stockstats\n",
                        "  Downloading stockstats-0.6.2-py2.py3-none-any.whl.metadata (38 kB)\n",
                        "Requirement already satisfied: numpy>=1.16.6 in /usr/local/lib/python3.10/dist-packages (from stockstats) (1.26.4)\n",
                        "Requirement already satisfied: pandas>=0.24.2 in /usr/local/lib/python3.10/dist-packages (from stockstats) (2.2.2)\n",
                        "Requirement already satisfied: python-dateutil>=2.8.2 in /usr/local/lib/python3.10/dist-packages (from pandas>=0.24.2->stockstats) (2.8.2)\n",
                        "Requirement already satisfied: pytz>=2020.1 in /usr/local/lib/python3.10/dist-packages (from pandas>=0.24.2->stockstats) (2024.2)\n",
                        "Requirement already satisfied: tzdata>=2022.7 in /usr/local/lib/python3.10/dist-packages (from pandas>=0.24.2->stockstats) (2024.2)\n",
                        "Requirement already satisfied: six>=1.5 in /usr/local/lib/python3.10/dist-packages (from python-dateutil>=2.8.2->pandas>=0.24.2->stockstats) (1.16.0)\n",
                        "Downloading stockstats-0.6.2-py2.py3-none-any.whl (30 kB)\n",
                        "Installing collected packages: stockstats\n",
                        "Successfully installed stockstats-0.6.2\n",
                        "Collecting alpaca-trade-api\n",
                        "  Downloading alpaca_trade_api-3.2.0-py3-none-any.whl.metadata (29 kB)\n",
                        "Requirement already satisfied: pandas>=0.18.1 in /usr/local/lib/python3.10/dist-packages (from alpaca-trade-api) (2.2.2)\n",
                        "Requirement already satisfied: numpy>=1.11.1 in /usr/local/lib/python3.10/dist-packages (from alpaca-trade-api) (1.26.4)\n",
                        "Requirement already satisfied: requests<3,>2 in /usr/local/lib/python3.10/dist-packages (from alpaca-trade-api) (2.32.3)\n",
                        "Collecting urllib3<2,>1.24 (from alpaca-trade-api)\n",
                        "  Downloading urllib3-1.26.20-py2.py3-none-any.whl.metadata (50 kB)\n",
                        "\u001b[2K     \u001b[90m━━━━━━━━━━━━━━━━━━━━━━━━━━━━━━━━━━━━━━━━\u001b[0m \u001b[32m50.1/50.1 kB\u001b[0m \u001b[31m3.2 MB/s\u001b[0m eta \u001b[36m0:00:00\u001b[0m\n",
                        "\u001b[?25hRequirement already satisfied: websocket-client<2,>=0.56.0 in /usr/local/lib/python3.10/dist-packages (from alpaca-trade-api) (1.8.0)\n",
                        "Collecting websockets<11,>=9.0 (from alpaca-trade-api)\n",
                        "  Downloading websockets-10.4-cp310-cp310-manylinux_2_5_x86_64.manylinux1_x86_64.manylinux_2_17_x86_64.manylinux2014_x86_64.whl.metadata (6.4 kB)\n",
                        "Collecting msgpack==1.0.3 (from alpaca-trade-api)\n",
                        "  Downloading msgpack-1.0.3-cp310-cp310-manylinux_2_17_x86_64.manylinux2014_x86_64.whl.metadata (8.7 kB)\n",
                        "Requirement already satisfied: aiohttp<4,>=3.8.3 in /usr/local/lib/python3.10/dist-packages (from alpaca-trade-api) (3.11.2)\n",
                        "Collecting PyYAML==6.0.1 (from alpaca-trade-api)\n",
                        "  Downloading PyYAML-6.0.1-cp310-cp310-manylinux_2_17_x86_64.manylinux2014_x86_64.whl.metadata (2.1 kB)\n",
                        "Collecting deprecation==2.1.0 (from alpaca-trade-api)\n",
                        "  Downloading deprecation-2.1.0-py2.py3-none-any.whl.metadata (4.6 kB)\n",
                        "Requirement already satisfied: packaging in /usr/local/lib/python3.10/dist-packages (from deprecation==2.1.0->alpaca-trade-api) (23.2)\n",
                        "Requirement already satisfied: aiohappyeyeballs>=2.3.0 in /usr/local/lib/python3.10/dist-packages (from aiohttp<4,>=3.8.3->alpaca-trade-api) (2.4.3)\n",
                        "Requirement already satisfied: aiosignal>=1.1.2 in /usr/local/lib/python3.10/dist-packages (from aiohttp<4,>=3.8.3->alpaca-trade-api) (1.3.1)\n",
                        "Requirement already satisfied: attrs>=17.3.0 in /usr/local/lib/python3.10/dist-packages (from aiohttp<4,>=3.8.3->alpaca-trade-api) (24.2.0)\n",
                        "Requirement already satisfied: frozenlist>=1.1.1 in /usr/local/lib/python3.10/dist-packages (from aiohttp<4,>=3.8.3->alpaca-trade-api) (1.5.0)\n",
                        "Requirement already satisfied: multidict<7.0,>=4.5 in /usr/local/lib/python3.10/dist-packages (from aiohttp<4,>=3.8.3->alpaca-trade-api) (6.1.0)\n",
                        "Requirement already satisfied: propcache>=0.2.0 in /usr/local/lib/python3.10/dist-packages (from aiohttp<4,>=3.8.3->alpaca-trade-api) (0.2.0)\n",
                        "Requirement already satisfied: yarl<2.0,>=1.17.0 in /usr/local/lib/python3.10/dist-packages (from aiohttp<4,>=3.8.3->alpaca-trade-api) (1.17.2)\n",
                        "Requirement already satisfied: async-timeout<6.0,>=4.0 in /usr/local/lib/python3.10/dist-packages (from aiohttp<4,>=3.8.3->alpaca-trade-api) (4.0.3)\n",
                        "Requirement already satisfied: python-dateutil>=2.8.2 in /usr/local/lib/python3.10/dist-packages (from pandas>=0.18.1->alpaca-trade-api) (2.8.2)\n",
                        "Requirement already satisfied: pytz>=2020.1 in /usr/local/lib/python3.10/dist-packages (from pandas>=0.18.1->alpaca-trade-api) (2024.2)\n",
                        "Requirement already satisfied: tzdata>=2022.7 in /usr/local/lib/python3.10/dist-packages (from pandas>=0.18.1->alpaca-trade-api) (2024.2)\n",
                        "Requirement already satisfied: charset-normalizer<4,>=2 in /usr/local/lib/python3.10/dist-packages (from requests<3,>2->alpaca-trade-api) (3.4.0)\n",
                        "Requirement already satisfied: idna<4,>=2.5 in /usr/local/lib/python3.10/dist-packages (from requests<3,>2->alpaca-trade-api) (3.10)\n",
                        "Requirement already satisfied: certifi>=2017.4.17 in /usr/local/lib/python3.10/dist-packages (from requests<3,>2->alpaca-trade-api) (2024.8.30)\n",
                        "Requirement already satisfied: typing-extensions>=4.1.0 in /usr/local/lib/python3.10/dist-packages (from multidict<7.0,>=4.5->aiohttp<4,>=3.8.3->alpaca-trade-api) (4.12.2)\n",
                        "Requirement already satisfied: six>=1.5 in /usr/local/lib/python3.10/dist-packages (from python-dateutil>=2.8.2->pandas>=0.18.1->alpaca-trade-api) (1.16.0)\n",
                        "Downloading alpaca_trade_api-3.2.0-py3-none-any.whl (34 kB)\n",
                        "Downloading deprecation-2.1.0-py2.py3-none-any.whl (11 kB)\n",
                        "Downloading msgpack-1.0.3-cp310-cp310-manylinux_2_17_x86_64.manylinux2014_x86_64.whl (323 kB)\n",
                        "\u001b[2K   \u001b[90m━━━━━━━━━━━━━━━━━━━━━━━━━━━━━━━━━━━━━━━━\u001b[0m \u001b[32m323.7/323.7 kB\u001b[0m \u001b[31m13.1 MB/s\u001b[0m eta \u001b[36m0:00:00\u001b[0m\n",
                        "\u001b[?25hDownloading PyYAML-6.0.1-cp310-cp310-manylinux_2_17_x86_64.manylinux2014_x86_64.whl (705 kB)\n",
                        "\u001b[2K   \u001b[90m━━━━━━━━━━━━━━━━━━━━━━━━━━━━━━━━━━━━━━━━\u001b[0m \u001b[32m705.5/705.5 kB\u001b[0m \u001b[31m39.8 MB/s\u001b[0m eta \u001b[36m0:00:00\u001b[0m\n",
                        "\u001b[?25hDownloading urllib3-1.26.20-py2.py3-none-any.whl (144 kB)\n",
                        "\u001b[2K   \u001b[90m━━━━━━━━━━━━━━━━━━━━━━━━━━━━━━━━━━━━━━━━\u001b[0m \u001b[32m144.2/144.2 kB\u001b[0m \u001b[31m13.7 MB/s\u001b[0m eta \u001b[36m0:00:00\u001b[0m\n",
                        "\u001b[?25hDownloading websockets-10.4-cp310-cp310-manylinux_2_5_x86_64.manylinux1_x86_64.manylinux_2_17_x86_64.manylinux2014_x86_64.whl (106 kB)\n",
                        "\u001b[2K   \u001b[90m━━━━━━━━━━━━━━━━━━━━━━━━━━━━━━━━━━━━━━━━\u001b[0m \u001b[32m106.8/106.8 kB\u001b[0m \u001b[31m11.4 MB/s\u001b[0m eta \u001b[36m0:00:00\u001b[0m\n",
                        "\u001b[?25hInstalling collected packages: msgpack, websockets, urllib3, PyYAML, deprecation, alpaca-trade-api\n",
                        "  Attempting uninstall: msgpack\n",
                        "    Found existing installation: msgpack 1.1.0\n",
                        "    Uninstalling msgpack-1.1.0:\n",
                        "      Successfully uninstalled msgpack-1.1.0\n",
                        "  Attempting uninstall: urllib3\n",
                        "    Found existing installation: urllib3 2.2.3\n",
                        "    Uninstalling urllib3-2.2.3:\n",
                        "      Successfully uninstalled urllib3-2.2.3\n",
                        "  Attempting uninstall: PyYAML\n",
                        "    Found existing installation: PyYAML 6.0.2\n",
                        "    Uninstalling PyYAML-6.0.2:\n",
                        "      Successfully uninstalled PyYAML-6.0.2\n",
                        "Successfully installed PyYAML-6.0.1 alpaca-trade-api-3.2.0 deprecation-2.1.0 msgpack-1.0.3 urllib3-1.26.20 websockets-10.4\n",
                        "Collecting exchange-calendars\n",
                        "  Downloading exchange_calendars-4.6-py3-none-any.whl.metadata (37 kB)\n",
                        "Requirement already satisfied: numpy in /usr/local/lib/python3.10/dist-packages (from exchange-calendars) (1.26.4)\n",
                        "Requirement already satisfied: pandas>=1.5 in /usr/local/lib/python3.10/dist-packages (from exchange-calendars) (2.2.2)\n",
                        "Collecting pyluach (from exchange-calendars)\n",
                        "  Downloading pyluach-2.2.0-py3-none-any.whl.metadata (4.3 kB)\n",
                        "Requirement already satisfied: toolz in /usr/local/lib/python3.10/dist-packages (from exchange-calendars) (0.12.1)\n",
                        "Requirement already satisfied: tzdata in /usr/local/lib/python3.10/dist-packages (from exchange-calendars) (2024.2)\n",
                        "Collecting korean_lunar_calendar (from exchange-calendars)\n",
                        "  Downloading korean_lunar_calendar-0.3.1-py3-none-any.whl.metadata (2.8 kB)\n",
                        "Requirement already satisfied: python-dateutil>=2.8.2 in /usr/local/lib/python3.10/dist-packages (from pandas>=1.5->exchange-calendars) (2.8.2)\n",
                        "Requirement already satisfied: pytz>=2020.1 in /usr/local/lib/python3.10/dist-packages (from pandas>=1.5->exchange-calendars) (2024.2)\n",
                        "Requirement already satisfied: six>=1.5 in /usr/local/lib/python3.10/dist-packages (from python-dateutil>=2.8.2->pandas>=1.5->exchange-calendars) (1.16.0)\n",
                        "Downloading exchange_calendars-4.6-py3-none-any.whl (196 kB)\n",
                        "\u001b[2K   \u001b[90m━━━━━━━━━━━━━━━━━━━━━━━━━━━━━━━━━━━━━━━━\u001b[0m \u001b[32m196.8/196.8 kB\u001b[0m \u001b[31m8.1 MB/s\u001b[0m eta \u001b[36m0:00:00\u001b[0m\n",
                        "\u001b[?25hDownloading korean_lunar_calendar-0.3.1-py3-none-any.whl (9.0 kB)\n",
                        "Downloading pyluach-2.2.0-py3-none-any.whl (25 kB)\n",
                        "Installing collected packages: korean_lunar_calendar, pyluach, exchange-calendars\n",
                        "Successfully installed exchange-calendars-4.6 korean_lunar_calendar-0.3.1 pyluach-2.2.0\n",
                        "Collecting pyfolio\n",
                        "  Downloading pyfolio-0.9.2.tar.gz (91 kB)\n",
                        "\u001b[2K     \u001b[90m━━━━━━━━━━━━━━━━━━━━━━━━━━━━━━━━━━━━━━━━\u001b[0m \u001b[32m91.1/91.1 kB\u001b[0m \u001b[31m3.5 MB/s\u001b[0m eta \u001b[36m0:00:00\u001b[0m\n",
                        "\u001b[?25h  Preparing metadata (setup.py) ... \u001b[?25l\u001b[?25hdone\n",
                        "Requirement already satisfied: ipython>=3.2.3 in /usr/local/lib/python3.10/dist-packages (from pyfolio) (7.34.0)\n",
                        "Requirement already satisfied: matplotlib>=1.4.0 in /usr/local/lib/python3.10/dist-packages (from pyfolio) (3.8.0)\n",
                        "Requirement already satisfied: numpy>=1.11.1 in /usr/local/lib/python3.10/dist-packages (from pyfolio) (1.26.4)\n",
                        "Requirement already satisfied: pandas>=0.18.1 in /usr/local/lib/python3.10/dist-packages (from pyfolio) (2.2.2)\n",
                        "Requirement already satisfied: pytz>=2014.10 in /usr/local/lib/python3.10/dist-packages (from pyfolio) (2024.2)\n",
                        "Requirement already satisfied: scipy>=0.14.0 in /usr/local/lib/python3.10/dist-packages (from pyfolio) (1.12.0)\n",
                        "Requirement already satisfied: scikit-learn>=0.16.1 in /usr/local/lib/python3.10/dist-packages (from pyfolio) (1.5.2)\n",
                        "Requirement already satisfied: seaborn>=0.7.1 in /usr/local/lib/python3.10/dist-packages (from pyfolio) (0.13.2)\n",
                        "Collecting empyrical>=0.5.0 (from pyfolio)\n",
                        "  Downloading empyrical-0.5.5.tar.gz (52 kB)\n",
                        "\u001b[2K     \u001b[90m━━━━━━━━━━━━━━━━━━━━━━━━━━━━━━━━━━━━━━━━\u001b[0m \u001b[32m52.8/52.8 kB\u001b[0m \u001b[31m5.1 MB/s\u001b[0m eta \u001b[36m0:00:00\u001b[0m\n",
                        "\u001b[?25h  Preparing metadata (setup.py) ... \u001b[?25l\u001b[?25hdone\n",
                        "Requirement already satisfied: pandas-datareader>=0.2 in /usr/local/lib/python3.10/dist-packages (from empyrical>=0.5.0->pyfolio) (0.10.0)\n",
                        "Requirement already satisfied: setuptools>=18.5 in /usr/local/lib/python3.10/dist-packages (from ipython>=3.2.3->pyfolio) (75.1.0)\n",
                        "Collecting jedi>=0.16 (from ipython>=3.2.3->pyfolio)\n",
                        "  Downloading jedi-0.19.2-py2.py3-none-any.whl.metadata (22 kB)\n",
                        "Requirement already satisfied: decorator in /usr/local/lib/python3.10/dist-packages (from ipython>=3.2.3->pyfolio) (4.4.2)\n",
                        "Requirement already satisfied: pickleshare in /usr/local/lib/python3.10/dist-packages (from ipython>=3.2.3->pyfolio) (0.7.5)\n",
                        "Requirement already satisfied: traitlets>=4.2 in /usr/local/lib/python3.10/dist-packages (from ipython>=3.2.3->pyfolio) (5.7.1)\n",
                        "Requirement already satisfied: prompt-toolkit!=3.0.0,!=3.0.1,<3.1.0,>=2.0.0 in /usr/local/lib/python3.10/dist-packages (from ipython>=3.2.3->pyfolio) (3.0.48)\n",
                        "Requirement already satisfied: pygments in /usr/local/lib/python3.10/dist-packages (from ipython>=3.2.3->pyfolio) (2.18.0)\n",
                        "Requirement already satisfied: backcall in /usr/local/lib/python3.10/dist-packages (from ipython>=3.2.3->pyfolio) (0.2.0)\n",
                        "Requirement already satisfied: matplotlib-inline in /usr/local/lib/python3.10/dist-packages (from ipython>=3.2.3->pyfolio) (0.1.7)\n",
                        "Requirement already satisfied: pexpect>4.3 in /usr/local/lib/python3.10/dist-packages (from ipython>=3.2.3->pyfolio) (4.9.0)\n",
                        "Requirement already satisfied: contourpy>=1.0.1 in /usr/local/lib/python3.10/dist-packages (from matplotlib>=1.4.0->pyfolio) (1.3.1)\n",
                        "Requirement already satisfied: cycler>=0.10 in /usr/local/lib/python3.10/dist-packages (from matplotlib>=1.4.0->pyfolio) (0.12.1)\n",
                        "Requirement already satisfied: fonttools>=4.22.0 in /usr/local/lib/python3.10/dist-packages (from matplotlib>=1.4.0->pyfolio) (4.55.0)\n",
                        "Requirement already satisfied: kiwisolver>=1.0.1 in /usr/local/lib/python3.10/dist-packages (from matplotlib>=1.4.0->pyfolio) (1.4.7)\n",
                        "Requirement already satisfied: packaging>=20.0 in /usr/local/lib/python3.10/dist-packages (from matplotlib>=1.4.0->pyfolio) (23.2)\n",
                        "Requirement already satisfied: pillow>=6.2.0 in /usr/local/lib/python3.10/dist-packages (from matplotlib>=1.4.0->pyfolio) (11.0.0)\n",
                        "Requirement already satisfied: pyparsing>=2.3.1 in /usr/local/lib/python3.10/dist-packages (from matplotlib>=1.4.0->pyfolio) (3.2.0)\n",
                        "Requirement already satisfied: python-dateutil>=2.7 in /usr/local/lib/python3.10/dist-packages (from matplotlib>=1.4.0->pyfolio) (2.8.2)\n",
                        "Requirement already satisfied: tzdata>=2022.7 in /usr/local/lib/python3.10/dist-packages (from pandas>=0.18.1->pyfolio) (2024.2)\n",
                        "Requirement already satisfied: joblib>=1.2.0 in /usr/local/lib/python3.10/dist-packages (from scikit-learn>=0.16.1->pyfolio) (1.4.2)\n",
                        "Requirement already satisfied: threadpoolctl>=3.1.0 in /usr/local/lib/python3.10/dist-packages (from scikit-learn>=0.16.1->pyfolio) (3.5.0)\n",
                        "Requirement already satisfied: parso<0.9.0,>=0.8.4 in /usr/local/lib/python3.10/dist-packages (from jedi>=0.16->ipython>=3.2.3->pyfolio) (0.8.4)\n",
                        "Requirement already satisfied: lxml in /usr/local/lib/python3.10/dist-packages (from pandas-datareader>=0.2->empyrical>=0.5.0->pyfolio) (5.3.0)\n",
                        "Requirement already satisfied: requests>=2.19.0 in /usr/local/lib/python3.10/dist-packages (from pandas-datareader>=0.2->empyrical>=0.5.0->pyfolio) (2.32.3)\n",
                        "Requirement already satisfied: ptyprocess>=0.5 in /usr/local/lib/python3.10/dist-packages (from pexpect>4.3->ipython>=3.2.3->pyfolio) (0.7.0)\n",
                        "Requirement already satisfied: wcwidth in /usr/local/lib/python3.10/dist-packages (from prompt-toolkit!=3.0.0,!=3.0.1,<3.1.0,>=2.0.0->ipython>=3.2.3->pyfolio) (0.2.13)\n",
                        "Requirement already satisfied: six>=1.5 in /usr/local/lib/python3.10/dist-packages (from python-dateutil>=2.7->matplotlib>=1.4.0->pyfolio) (1.16.0)\n",
                        "Requirement already satisfied: charset-normalizer<4,>=2 in /usr/local/lib/python3.10/dist-packages (from requests>=2.19.0->pandas-datareader>=0.2->empyrical>=0.5.0->pyfolio) (3.4.0)\n",
                        "Requirement already satisfied: idna<4,>=2.5 in /usr/local/lib/python3.10/dist-packages (from requests>=2.19.0->pandas-datareader>=0.2->empyrical>=0.5.0->pyfolio) (3.10)\n",
                        "Requirement already satisfied: urllib3<3,>=1.21.1 in /usr/local/lib/python3.10/dist-packages (from requests>=2.19.0->pandas-datareader>=0.2->empyrical>=0.5.0->pyfolio) (1.26.20)\n",
                        "Requirement already satisfied: certifi>=2017.4.17 in /usr/local/lib/python3.10/dist-packages (from requests>=2.19.0->pandas-datareader>=0.2->empyrical>=0.5.0->pyfolio) (2024.8.30)\n",
                        "Downloading jedi-0.19.2-py2.py3-none-any.whl (1.6 MB)\n",
                        "\u001b[2K   \u001b[90m━━━━━━━━━━━━━━━━━━━━━━━━━━━━━━━━━━━━━━━━\u001b[0m \u001b[32m1.6/1.6 MB\u001b[0m \u001b[31m39.1 MB/s\u001b[0m eta \u001b[36m0:00:00\u001b[0m\n",
                        "\u001b[?25hBuilding wheels for collected packages: pyfolio, empyrical\n",
                        "  Building wheel for pyfolio (setup.py) ... \u001b[?25l\u001b[?25hdone\n",
                        "  Created wheel for pyfolio: filename=pyfolio-0.9.2-py3-none-any.whl size=88656 sha256=6215e773489df849eaaeacc02932c372344b099fda775444f75d55742bd072d4\n",
                        "  Stored in directory: /root/.cache/pip/wheels/71/38/bc/e53700cfd8b0ad6b539d2fbaaf060ed8a299e7622a5b86ef42\n",
                        "  Building wheel for empyrical (setup.py) ... \u001b[?25l\u001b[?25hdone\n",
                        "  Created wheel for empyrical: filename=empyrical-0.5.5-py3-none-any.whl size=39753 sha256=f9ba53c96aceef0ecc563b5d0a481828d343ea93a42141f21d5c86195d4b0028\n",
                        "  Stored in directory: /root/.cache/pip/wheels/0e/2e/f2/d6d2d9a1eb8fbbd9949bb5d4c00f753e3b74e5bd7ed10b1d36\n",
                        "Successfully built pyfolio empyrical\n",
                        "Installing collected packages: jedi, empyrical, pyfolio\n",
                        "Successfully installed empyrical-0.5.5 jedi-0.19.2 pyfolio-0.9.2\n"
                    ]
                }
            ],
            "source": [
                "# ## install finrl library\n",
                "!pip install wrds\n",
                "!pip install swig\n",
                "!pip install gymnasium\n",
                "!pip install stable-baselines3\n",
                "!pip install stockstats\n",
                "!pip install alpaca-trade-api\n",
                "!pip install exchange-calendars\n",
                "!pip install pyfolio\n",
                "# -------------------------------------\n",
                "# IF YOU CHOOSE TO GO THIS ROUTE, UNCOMMENT from finrl.meta.preprocessor.yahoodownloader import YahooDownloader BELOW\n",
                "\n",
                "# !pip install -q condacolab\n",
                "# import condacolab\n",
                "# condacolab.install()\n",
                "# !apt-get update -y -qq && apt-get install -y -qq cmake libopenmpi-dev python3-dev zlib1g-dev libgl1-mesa-glx swig\n",
                "# !pip install git+https://github.com/AI4Finance-Foundation/FinRL.git\n"
            ]
        },
        {
            "cell_type": "markdown",
            "metadata": {
                "id": "osBHhVysOEzi"
            },
            "source": [
                "\n",
                "<a id='1.2'></a>\n",
                "## 2.2. Check if the additional packages needed are present, if not install them.\n",
                "* Yahoo Finance API\n",
                "* pandas\n",
                "* numpy\n",
                "* matplotlib\n",
                "* stockstats\n",
                "* OpenAI gym\n",
                "* stable-baselines\n",
                "* tensorflow\n",
                "* pyfolio"
            ]
        },
        {
            "cell_type": "markdown",
            "metadata": {
                "id": "nGv01K8Sh1hn"
            },
            "source": [
                "<a id='1.3'></a>\n",
                "## 2.3. Import Packages"
            ]
        },
        {
            "cell_type": "code",
            "execution_count": 3,
            "metadata": {
                "id": "EeMK7Uentj1V",
                "executionInfo": {
                    "status": "ok",
                    "timestamp": 1733091482898,
                    "user_tz": 300,
                    "elapsed": 5,
                    "user": {
                        "displayName": "Garrett Devaney",
                        "userId": "10600170082792839935"
                    }
                }
            },
            "outputs": [],
            "source": [
                "import warnings\n",
                "warnings.filterwarnings(\"ignore\")"
            ]
        },
        {
            "cell_type": "code",
            "source": [
                "!pwd"
            ],
            "metadata": {
                "colab": {
                    "base_uri": "https://localhost:8080/"
                },
                "id": "XTPqAv385bMc",
                "executionInfo": {
                    "status": "ok",
                    "timestamp": 1733091483042,
                    "user_tz": 300,
                    "elapsed": 148,
                    "user": {
                        "displayName": "Garrett Devaney",
                        "userId": "10600170082792839935"
                    }
                },
                "outputId": "729f9a5d-39fe-4b00-d7c6-4cf469e4d8f7"
            },
            "execution_count": 4,
            "outputs": [
                {
                    "output_type": "stream",
                    "name": "stdout",
                    "text": [
                        "/content/gdrive/My Drive/FinRL-test\n"
                    ]
                }
            ]
        },
        {
            "cell_type": "code",
            "execution_count": 5,
            "metadata": {
                "id": "lPqeTTwoh1hn",
                "executionInfo": {
                    "status": "ok",
                    "timestamp": 1733091506675,
                    "user_tz": 300,
                    "elapsed": 23635,
                    "user": {
                        "displayName": "Garrett Devaney",
                        "userId": "10600170082792839935"
                    }
                },
                "colab": {
                    "base_uri": "https://localhost:8080/"
                },
                "outputId": "1268aedf-411c-4b46-fd22-001280a59398"
            },
            "outputs": [
                {
                    "output_type": "stream",
                    "name": "stderr",
                    "text": [
                        "/usr/local/lib/python3.10/dist-packages/pandas_datareader/compat/__init__.py:11: DeprecationWarning: distutils Version classes are deprecated. Use packaging.version instead.\n",
                        "  PANDAS_VERSION = LooseVersion(pd.__version__)\n"
                    ]
                }
            ],
            "source": [
                "import pandas as pd\n",
                "import numpy as np\n",
                "import matplotlib\n",
                "import matplotlib.pyplot as plt\n",
                "# matplotlib.use('Agg')\n",
                "import datetime\n",
                "import importlib\n",
                "\n",
                "%matplotlib inline\n",
                "from finrl.config_tickers import DOW_30_TICKER\n",
                "from finrl.meta.preprocessor import fixed_yahoodownloader # comment this if you chose other path above\n",
                "importlib.reload(fixed_yahoodownloader) # comment this if you chose other path above\n",
                "from finrl.meta.preprocessor.fixed_yahoodownloader import YahooDownloader #comment this if you chose the other path above\n",
                "\n",
                "# from finrl.meta.preprocessor.yahoodownloader import YahooDownloader - uncomment this if you chose the other path above\n",
                "\n",
                "from finrl.meta.preprocessor.preprocessors import FeatureEngineer, data_split\n",
                "from finrl.meta.env_stock_trading.env_stocktrading import StockTradingEnv\n",
                "from finrl.agents.stablebaselines3.models import DRLAgent,DRLEnsembleAgent\n",
                "from finrl.agents.stablebaselines3.mbrl_model import MBRLAgent\n",
                "from finrl.plot import backtest_stats, backtest_plot, get_daily_return, get_baseline\n",
                "\n",
                "\n",
                "import sys\n",
                "sys.path.append(\"../FinRL-Library\")\n",
                "\n",
                "import itertools"
            ]
        },
        {
            "cell_type": "code",
            "source": [
                "from stable_baselines3 import HER"
            ],
            "metadata": {
                "colab": {
                    "base_uri": "https://localhost:8080/"
                },
                "id": "1HvVF2OEv9Pu",
                "executionInfo": {
                    "status": "ok",
                    "timestamp": 1733091506675,
                    "user_tz": 300,
                    "elapsed": 4,
                    "user": {
                        "displayName": "Garrett Devaney",
                        "userId": "10600170082792839935"
                    }
                },
                "outputId": "e58577ae-9e7f-400f-939a-d86b5c582f16"
            },
            "execution_count": 6,
            "outputs": [
                {
                    "output_type": "stream",
                    "name": "stderr",
                    "text": [
                        "/usr/local/lib/python3.10/dist-packages/ipykernel/ipkernel.py:283: DeprecationWarning: `should_run_async` will not call `transform_cell` automatically in the future. Please pass the result to `transformed_cell` argument and any exception that happen during thetransform in `preprocessing_exc_tuple` in IPython 7.17 and above.\n",
                        "  and should_run_async(code)\n"
                    ]
                }
            ]
        },
        {
            "cell_type": "markdown",
            "metadata": {
                "id": "T2owTj985RW4"
            },
            "source": [
                "<a id='1.4'></a>\n",
                "## 2.4. Create Folders"
            ]
        },
        {
            "cell_type": "code",
            "execution_count": 7,
            "metadata": {
                "id": "w9A8CN5R5PuZ",
                "executionInfo": {
                    "status": "ok",
                    "timestamp": 1733091507017,
                    "user_tz": 300,
                    "elapsed": 345,
                    "user": {
                        "displayName": "Garrett Devaney",
                        "userId": "10600170082792839935"
                    }
                }
            },
            "outputs": [],
            "source": [
                "import os\n",
                "from finrl.main import check_and_make_directories\n",
                "from finrl.config import (\n",
                "    DATA_SAVE_DIR,\n",
                "    TRAINED_MODEL_DIR,\n",
                "    TENSORBOARD_LOG_DIR,\n",
                "    RESULTS_DIR,\n",
                "    INDICATORS,\n",
                "    TRAIN_START_DATE,\n",
                "    TRAIN_END_DATE,\n",
                "    TEST_START_DATE,\n",
                "    TEST_END_DATE,\n",
                "    TRADE_START_DATE,\n",
                "    TRADE_END_DATE,\n",
                ")\n",
                "\n",
                "check_and_make_directories([DATA_SAVE_DIR, TRAINED_MODEL_DIR, TENSORBOARD_LOG_DIR, RESULTS_DIR])"
            ]
        },
        {
            "cell_type": "markdown",
            "metadata": {
                "id": "A289rQWMh1hq"
            },
            "source": [
                "<a id='2'></a>\n",
                "# Part 3. Download Data\n",
                "Yahoo Finance is a website that provides stock data, financial news, financial reports, etc. All the data provided by Yahoo Finance is free.\n",
                "* FinRL uses a class **YahooDownloader** to fetch data from Yahoo Finance API\n",
                "* Call Limit: Using the Public API (without authentication), you are limited to 2,000 requests per hour per IP (or up to a total of 48,000 requests a day).\n"
            ]
        },
        {
            "cell_type": "markdown",
            "metadata": {
                "id": "NPeQ7iS-LoMm"
            },
            "source": [
                "\n",
                "\n",
                "-----\n",
                "class YahooDownloader:\n",
                "    Provides methods for retrieving daily stock data from\n",
                "    Yahoo Finance API\n",
                "\n",
                "    Attributes\n",
                "    ----------\n",
                "        start_date : str\n",
                "            start date of the data (modified from config.py)\n",
                "        end_date : str\n",
                "            end date of the data (modified from config.py)\n",
                "        ticker_list : list\n",
                "            a list of stock tickers (modified from config.py)\n",
                "\n",
                "    Methods\n",
                "    -------\n",
                "    fetch_data()\n",
                "        Fetches data from yahoo API\n"
            ]
        },
        {
            "cell_type": "code",
            "execution_count": 8,
            "metadata": {
                "id": "JzqRRTOX6aFu",
                "colab": {
                    "base_uri": "https://localhost:8080/"
                },
                "executionInfo": {
                    "status": "ok",
                    "timestamp": 1733091507017,
                    "user_tz": 300,
                    "elapsed": 3,
                    "user": {
                        "displayName": "Garrett Devaney",
                        "userId": "10600170082792839935"
                    }
                },
                "outputId": "47219c31-5a6a-40f3-c40b-f0efe123edd7"
            },
            "outputs": [
                {
                    "output_type": "stream",
                    "name": "stdout",
                    "text": [
                        "['AXP', 'AMGN', 'AAPL', 'BA', 'CAT', 'CSCO', 'CVX', 'GS', 'HD', 'HON', 'IBM', 'INTC', 'JNJ', 'KO', 'JPM', 'MCD', 'MMM', 'MRK', 'MSFT', 'NKE', 'PG', 'TRV', 'UNH', 'CRM', 'VZ', 'V', 'WBA', 'WMT', 'DIS', 'DOW']\n"
                    ]
                }
            ],
            "source": [
                "print(DOW_30_TICKER)"
            ]
        },
        {
            "cell_type": "code",
            "execution_count": 9,
            "metadata": {
                "colab": {
                    "base_uri": "https://localhost:8080/"
                },
                "id": "yCKm4om-s9kE",
                "outputId": "27395614-2ba0-4387-9954-56901f5c4196",
                "executionInfo": {
                    "status": "ok",
                    "timestamp": 1733091520457,
                    "user_tz": 300,
                    "elapsed": 13442,
                    "user": {
                        "displayName": "Garrett Devaney",
                        "userId": "10600170082792839935"
                    }
                }
            },
            "outputs": [
                {
                    "output_type": "stream",
                    "name": "stderr",
                    "text": [
                        "[*********************100%***********************]  1 of 1 completed\n",
                        "[*********************100%***********************]  1 of 1 completed\n",
                        "[*********************100%***********************]  1 of 1 completed\n",
                        "[*********************100%***********************]  1 of 1 completed\n",
                        "[*********************100%***********************]  1 of 1 completed\n",
                        "[*********************100%***********************]  1 of 1 completed\n",
                        "[*********************100%***********************]  1 of 1 completed\n",
                        "[*********************100%***********************]  1 of 1 completed\n",
                        "[*********************100%***********************]  1 of 1 completed\n",
                        "[*********************100%***********************]  1 of 1 completed\n",
                        "[*********************100%***********************]  1 of 1 completed\n",
                        "[*********************100%***********************]  1 of 1 completed\n",
                        "[*********************100%***********************]  1 of 1 completed\n",
                        "[*********************100%***********************]  1 of 1 completed\n",
                        "[*********************100%***********************]  1 of 1 completed\n",
                        "[*********************100%***********************]  1 of 1 completed\n",
                        "[*********************100%***********************]  1 of 1 completed\n",
                        "[*********************100%***********************]  1 of 1 completed\n",
                        "[*********************100%***********************]  1 of 1 completed\n",
                        "[*********************100%***********************]  1 of 1 completed\n",
                        "[*********************100%***********************]  1 of 1 completed\n",
                        "[*********************100%***********************]  1 of 1 completed\n",
                        "[*********************100%***********************]  1 of 1 completed\n",
                        "[*********************100%***********************]  1 of 1 completed\n",
                        "[*********************100%***********************]  1 of 1 completed\n",
                        "[*********************100%***********************]  1 of 1 completed\n",
                        "[*********************100%***********************]  1 of 1 completed\n",
                        "[*********************100%***********************]  1 of 1 completed\n",
                        "[*********************100%***********************]  1 of 1 completed\n",
                        "[*********************100%***********************]  1 of 1 completed\n"
                    ]
                },
                {
                    "output_type": "stream",
                    "name": "stdout",
                    "text": [
                        "Shape of DataFrame:  (97013, 8)\n",
                        "Display DataFrame:           date      close       high        low       open    volume  tic  day\n",
                        "0  2010-01-04  32.906181  41.099998  40.389999  40.810001   6894300  AXP    0\n",
                        "1  2010-01-05  32.833801  41.230000  40.369999  40.830002  10641200  AXP    1\n",
                        "2  2010-01-06  33.364559  41.669998  41.169998  41.230000   8399400  AXP    2\n",
                        "3  2010-01-07  33.905670  42.240002  41.110001  41.259998   8981700  AXP    3\n",
                        "4  2010-01-08  33.881458  42.480000  41.400002  41.759998   7907700  AXP    4\n"
                    ]
                }
            ],
            "source": [
                "# TRAIN_START_DATE = '2009-04-01'\n",
                "# TRAIN_END_DATE = '2021-01-01'\n",
                "# TEST_START_DATE = '2021-01-01'\n",
                "# TEST_END_DATE = '2022-06-01'\n",
                "# from finrl.meta.preprocessor.yahoodownloader import YahooDownloader\n",
                "# from finrl.config_tickers import DOW_30_TICKER\n",
                "\n",
                "TRAIN_START_DATE = '2010-01-01'\n",
                "TRAIN_END_DATE = '2021-10-01'\n",
                "TEST_START_DATE = '2021-10-01'\n",
                "TEST_END_DATE = '2023-03-01'\n",
                "\n",
                "df = YahooDownloader(start_date = TRAIN_START_DATE,\n",
                "                     end_date = TEST_END_DATE,\n",
                "                     ticker_list = DOW_30_TICKER).fetch_data()"
            ]
        },
        {
            "cell_type": "markdown",
            "metadata": {
                "id": "uqC6c40Zh1iH"
            },
            "source": [
                "# Part 4: Preprocess Data\n",
                "Data preprocessing is a crucial step for training a high quality machine learning model. We need to check for missing data and do feature engineering in order to convert the data into a model-ready state.\n",
                "* Add technical indicators. In practical trading, various information needs to be taken into account, for example the historical stock prices, current holding shares, technical indicators, etc. In this article, we demonstrate two trend-following technical indicators: MACD and RSI.\n",
                "* Add turbulence index. Risk-aversion reflects whether an investor will choose to preserve the capital. It also influences one's trading strategy when facing different market volatility level. To control the risk in a worst-case scenario, such as financial crisis of 2007–2008, FinRL employs the financial turbulence index that measures extreme asset price fluctuation."
            ]
        },
        {
            "cell_type": "code",
            "execution_count": 10,
            "metadata": {
                "id": "kM5bH9uroCeg",
                "executionInfo": {
                    "status": "ok",
                    "timestamp": 1733091520457,
                    "user_tz": 300,
                    "elapsed": 3,
                    "user": {
                        "displayName": "Garrett Devaney",
                        "userId": "10600170082792839935"
                    }
                }
            },
            "outputs": [],
            "source": [
                " INDICATORS = ['macd',\n",
                "               'rsi_30',\n",
                "               'cci_30',\n",
                "               'dx_30']"
            ]
        },
        {
            "cell_type": "code",
            "execution_count": 11,
            "metadata": {
                "colab": {
                    "base_uri": "https://localhost:8080/"
                },
                "id": "jgXfBcjxtj1a",
                "outputId": "f579f1e8-87e0-496d-844c-c0a46a5ebb30",
                "executionInfo": {
                    "status": "ok",
                    "timestamp": 1733091537593,
                    "user_tz": 300,
                    "elapsed": 17138,
                    "user": {
                        "displayName": "Garrett Devaney",
                        "userId": "10600170082792839935"
                    }
                }
            },
            "outputs": [
                {
                    "output_type": "stream",
                    "name": "stdout",
                    "text": [
                        "Successfully added technical indicators\n",
                        "Successfully added turbulence index\n"
                    ]
                }
            ],
            "source": [
                "from finrl.meta.preprocessor.preprocessors import FeatureEngineer\n",
                "fe = FeatureEngineer(use_technical_indicator=True,\n",
                "                     tech_indicator_list = INDICATORS,\n",
                "                     use_turbulence=True,\n",
                "                     user_defined_feature = False)\n",
                "\n",
                "processed = fe.preprocess_data(df)\n",
                "processed = processed.copy()\n",
                "processed = processed.fillna(0)\n",
                "processed = processed.replace(np.inf,0)"
            ]
        },
        {
            "cell_type": "code",
            "execution_count": 12,
            "metadata": {
                "colab": {
                    "base_uri": "https://localhost:8080/"
                },
                "id": "tiFA3pRWPQMO",
                "outputId": "965eccf4-c27c-495c-df23-1452a74d5be6",
                "executionInfo": {
                    "status": "ok",
                    "timestamp": 1733091537593,
                    "user_tz": 300,
                    "elapsed": 6,
                    "user": {
                        "displayName": "Garrett Devaney",
                        "userId": "10600170082792839935"
                    }
                }
            },
            "outputs": [
                {
                    "output_type": "stream",
                    "name": "stderr",
                    "text": [
                        "/usr/local/lib/python3.10/dist-packages/ipykernel/ipkernel.py:283: DeprecationWarning: `should_run_async` will not call `transform_cell` automatically in the future. Please pass the result to `transformed_cell` argument and any exception that happen during thetransform in `preprocessing_exc_tuple` in IPython 7.17 and above.\n",
                        "  and should_run_async(code)\n"
                    ]
                }
            ],
            "source": [
                "# len(state), len(data)"
            ]
        },
        {
            "cell_type": "markdown",
            "metadata": {
                "id": "-QsYaY0Dh1iw"
            },
            "source": [
                "<a id='4'></a>\n",
                "# Part 5. Design Environment\n",
                "Considering the stochastic and interactive nature of the automated stock trading tasks, a financial task is modeled as a **Markov Decision Process (MDP)** problem. The training process involves observing stock price change, taking an action and reward's calculation to have the agent adjusting its strategy accordingly. By interacting with the environment, the trading agent will derive a trading strategy with the maximized rewards as time proceeds.\n",
                "\n",
                "Our trading environments, based on OpenAI Gym framework, simulate live stock markets with real market data according to the principle of time-driven simulation.\n",
                "\n",
                "The action space describes the allowed actions that the agent interacts with the environment. Normally, action a includes three actions: {-1, 0, 1}, where -1, 0, 1 represent selling, holding, and buying one share. Also, an action can be carried upon multiple shares. We use an action space {-k,…,-1, 0, 1, …, k}, where k denotes the number of shares to buy and -k denotes the number of shares to sell. For example, \"Buy 10 shares of AAPL\" or \"Sell 10 shares of AAPL\" are 10 or -10, respectively. The continuous action space needs to be normalized to [-1, 1], since the policy is defined on a Gaussian distribution, which needs to be normalized and symmetric."
            ]
        },
        {
            "cell_type": "code",
            "execution_count": 13,
            "metadata": {
                "colab": {
                    "base_uri": "https://localhost:8080/"
                },
                "id": "Q2zqII8rMIqn",
                "outputId": "adf22ab8-4d52-4588-bba4-42ebf7f133da",
                "executionInfo": {
                    "status": "ok",
                    "timestamp": 1733091537593,
                    "user_tz": 300,
                    "elapsed": 5,
                    "user": {
                        "displayName": "Garrett Devaney",
                        "userId": "10600170082792839935"
                    }
                }
            },
            "outputs": [
                {
                    "output_type": "stream",
                    "name": "stdout",
                    "text": [
                        "Stock Dimension: 29, State Space: 175\n"
                    ]
                }
            ],
            "source": [
                "stock_dimension = len(processed.tic.unique())\n",
                "state_space = 1 + 2*stock_dimension + len(INDICATORS)*stock_dimension\n",
                "print(f\"Stock Dimension: {stock_dimension}, State Space: {state_space}\")\n"
            ]
        },
        {
            "cell_type": "code",
            "execution_count": 14,
            "metadata": {
                "id": "AWyp84Ltto19",
                "executionInfo": {
                    "status": "ok",
                    "timestamp": 1733091537593,
                    "user_tz": 300,
                    "elapsed": 4,
                    "user": {
                        "displayName": "Garrett Devaney",
                        "userId": "10600170082792839935"
                    }
                }
            },
            "outputs": [],
            "source": [
                "env_kwargs = {\n",
                "    \"hmax\": 100,\n",
                "    \"initial_amount\": 1000000,\n",
                "    \"buy_cost_pct\": 0.001,\n",
                "    \"sell_cost_pct\": 0.001,\n",
                "    \"state_space\": state_space,\n",
                "    \"stock_dim\": stock_dimension,\n",
                "    \"tech_indicator_list\": INDICATORS,\n",
                "    \"action_space\": stock_dimension,\n",
                "    \"reward_scaling\": 1e-4,\n",
                "    \"print_verbosity\":5\n",
                "\n",
                "}"
            ]
        },
        {
            "cell_type": "markdown",
            "metadata": {
                "id": "HMNR5nHjh1iz"
            },
            "source": [
                "<a id='5'></a>\n",
                "# Part 6: Implement DRL Algorithms\n",
                "* The implementation of the DRL algorithms are based on **OpenAI Baselines** and **Stable Baselines**. Stable Baselines is a fork of OpenAI Baselines, with a major structural refactoring, and code cleanups.\n",
                "* FinRL library includes fine-tuned standard DRL algorithms, such as DQN, DDPG,\n",
                "Multi-Agent DDPG, PPO, SAC, A2C and TD3. We also allow users to\n",
                "design their own DRL algorithms by adapting these DRL algorithms.\n",
                "\n",
                "* In this notebook, we are training and validating 3 agents (A2C, PPO, DDPG) using Rolling-window Ensemble Method ([reference code](https://github.com/AI4Finance-LLC/Deep-Reinforcement-Learning-for-Automated-Stock-Trading-Ensemble-Strategy-ICAIF-2020/blob/80415db8fa7b2179df6bd7e81ce4fe8dbf913806/model/models.py#L92))"
            ]
        },
        {
            "cell_type": "code",
            "execution_count": 15,
            "metadata": {
                "id": "v-gthCxMtj1d",
                "executionInfo": {
                    "status": "ok",
                    "timestamp": 1733091537593,
                    "user_tz": 300,
                    "elapsed": 4,
                    "user": {
                        "displayName": "Garrett Devaney",
                        "userId": "10600170082792839935"
                    }
                }
            },
            "outputs": [],
            "source": [
                "rebalance_window = 63 # rebalance_window is the number of days to retrain the model\n",
                "validation_window = 63 # validation_window is the number of days to do validation and trading (e.g. if validation_window=63, then both validation and trading period will be 63 days)"
            ]
        },
        {
            "cell_type": "code",
            "source": [
                "from finrl.agents.stablebaselines3 import mbrl_model\n",
                "from finrl.meta.env_stock_trading import env_stocktrading\n",
                "importlib.reload(mbrl_model)\n",
                "importlib.reload(env_stocktrading)\n",
                "from finrl.agents.stablebaselines3.mbrl_model import MBRLAgent\n",
                "from finrl.meta.env_stock_trading.env_stocktrading import StockTradingEnv"
            ],
            "metadata": {
                "id": "5MCLC9uqTpYd",
                "executionInfo": {
                    "status": "ok",
                    "timestamp": 1733095577293,
                    "user_tz": 300,
                    "elapsed": 589,
                    "user": {
                        "displayName": "Garrett Devaney",
                        "userId": "10600170082792839935"
                    }
                }
            },
            "execution_count": 42,
            "outputs": []
        },
        {
            "cell_type": "code",
            "source": [
                "agent = MBRLAgent(df=processed,\n",
                "                 train_period=(TRAIN_START_DATE,TRAIN_END_DATE),\n",
                "                 val_test_period=(TEST_START_DATE,TEST_END_DATE),\n",
                "                 rebalance_window=rebalance_window,\n",
                "                 validation_window=validation_window,\n",
                "                 **env_kwargs)"
            ],
            "metadata": {
                "id": "1UEC9LYu27iN",
                "executionInfo": {
                    "status": "ok",
                    "timestamp": 1733095577293,
                    "user_tz": 300,
                    "elapsed": 2,
                    "user": {
                        "displayName": "Garrett Devaney",
                        "userId": "10600170082792839935"
                    }
                }
            },
            "execution_count": 43,
            "outputs": []
        },
        {
            "cell_type": "code",
            "source": [
                "df_summary = agent.run_strategy(10000)"
            ],
            "metadata": {
                "colab": {
                    "base_uri": "https://localhost:8080/"
                },
                "id": "ikZp_6aw3C7G",
                "executionInfo": {
                    "status": "ok",
                    "timestamp": 1733096344944,
                    "user_tz": 300,
                    "elapsed": 767157,
                    "user": {
                        "displayName": "Garrett Devaney",
                        "userId": "10600170082792839935"
                    }
                },
                "outputId": "c26b8e99-f872-4af0-f63b-ca5ef19c02ab"
            },
            "execution_count": 44,
            "outputs": [
                {
                    "output_type": "stream",
                    "name": "stdout",
                    "text": [
                        "============Start MBRL Strategy============\n",
                        "============================================\n",
                        "turbulence_threshold:  201.7182494421302\n",
                        "======Model training from:  2010-01-01 to  2021-10-04\n",
                        "======MBRL Training========\n",
                        "======MBRL Validation from:  2021-10-04 to  2022-01-03\n",
                        "MBRL Sharpe Ratio:  0.3070886400773372\n",
                        "======Trading from:  2022-01-03 to  2022-04-04\n",
                        "============================================\n",
                        "turbulence_threshold:  201.7182494421302\n",
                        "======Model training from:  2010-01-01 to  2022-01-03\n",
                        "======MBRL Training========\n",
                        "======MBRL Validation from:  2022-01-03 to  2022-04-04\n",
                        "MBRL Sharpe Ratio:  -0.21397682968442924\n",
                        "======Trading from:  2022-04-04 to  2022-07-06\n",
                        "============================================\n",
                        "turbulence_threshold:  201.7182494421302\n",
                        "======Model training from:  2010-01-01 to  2022-04-04\n",
                        "======MBRL Training========\n",
                        "======MBRL Validation from:  2022-04-04 to  2022-07-06\n",
                        "MBRL Sharpe Ratio:  -0.19979060438695478\n",
                        "======Trading from:  2022-07-06 to  2022-10-04\n",
                        "============================================\n",
                        "turbulence_threshold:  201.7182494421302\n",
                        "======Model training from:  2010-01-01 to  2022-07-06\n",
                        "======MBRL Training========\n",
                        "======MBRL Validation from:  2022-07-06 to  2022-10-04\n",
                        "MBRL Sharpe Ratio:  -0.3902663028290667\n",
                        "======Trading from:  2022-10-04 to  2023-01-04\n",
                        "Strategy took:  12.782424875100453  minutes\n"
                    ]
                }
            ]
        },
        {
            "cell_type": "code",
            "source": [
                "df_summary"
            ],
            "metadata": {
                "colab": {
                    "base_uri": "https://localhost:8080/",
                    "height": 175
                },
                "id": "SCdjcDyU3YwJ",
                "executionInfo": {
                    "status": "ok",
                    "timestamp": 1733096353655,
                    "user_tz": 300,
                    "elapsed": 215,
                    "user": {
                        "displayName": "Garrett Devaney",
                        "userId": "10600170082792839935"
                    }
                },
                "outputId": "3538e144-53df-44ed-a832-25594ae6e492"
            },
            "execution_count": 45,
            "outputs": [
                {
                    "output_type": "execute_result",
                    "data": {
                        "text/plain": [
                            "  Iter   Val Start     Val End MBRL Sharpe\n",
                            "0  126  2021-10-04  2022-01-03    0.307089\n",
                            "1  189  2022-01-03  2022-04-04   -0.213977\n",
                            "2  252  2022-04-04  2022-07-06   -0.199791\n",
                            "3  315  2022-07-06  2022-10-04   -0.390266"
                        ],
                        "text/html": [
                            "\n",
                            "  <div id=\"df-23f169ea-b615-46eb-9098-f7a87714f102\" class=\"colab-df-container\">\n",
                            "    <div>\n",
                            "<style scoped>\n",
                            "    .dataframe tbody tr th:only-of-type {\n",
                            "        vertical-align: middle;\n",
                            "    }\n",
                            "\n",
                            "    .dataframe tbody tr th {\n",
                            "        vertical-align: top;\n",
                            "    }\n",
                            "\n",
                            "    .dataframe thead th {\n",
                            "        text-align: right;\n",
                            "    }\n",
                            "</style>\n",
                            "<table border=\"1\" class=\"dataframe\">\n",
                            "  <thead>\n",
                            "    <tr style=\"text-align: right;\">\n",
                            "      <th></th>\n",
                            "      <th>Iter</th>\n",
                            "      <th>Val Start</th>\n",
                            "      <th>Val End</th>\n",
                            "      <th>MBRL Sharpe</th>\n",
                            "    </tr>\n",
                            "  </thead>\n",
                            "  <tbody>\n",
                            "    <tr>\n",
                            "      <th>0</th>\n",
                            "      <td>126</td>\n",
                            "      <td>2021-10-04</td>\n",
                            "      <td>2022-01-03</td>\n",
                            "      <td>0.307089</td>\n",
                            "    </tr>\n",
                            "    <tr>\n",
                            "      <th>1</th>\n",
                            "      <td>189</td>\n",
                            "      <td>2022-01-03</td>\n",
                            "      <td>2022-04-04</td>\n",
                            "      <td>-0.213977</td>\n",
                            "    </tr>\n",
                            "    <tr>\n",
                            "      <th>2</th>\n",
                            "      <td>252</td>\n",
                            "      <td>2022-04-04</td>\n",
                            "      <td>2022-07-06</td>\n",
                            "      <td>-0.199791</td>\n",
                            "    </tr>\n",
                            "    <tr>\n",
                            "      <th>3</th>\n",
                            "      <td>315</td>\n",
                            "      <td>2022-07-06</td>\n",
                            "      <td>2022-10-04</td>\n",
                            "      <td>-0.390266</td>\n",
                            "    </tr>\n",
                            "  </tbody>\n",
                            "</table>\n",
                            "</div>\n",
                            "    <div class=\"colab-df-buttons\">\n",
                            "\n",
                            "  <div class=\"colab-df-container\">\n",
                            "    <button class=\"colab-df-convert\" onclick=\"convertToInteractive('df-23f169ea-b615-46eb-9098-f7a87714f102')\"\n",
                            "            title=\"Convert this dataframe to an interactive table.\"\n",
                            "            style=\"display:none;\">\n",
                            "\n",
                            "  <svg xmlns=\"http://www.w3.org/2000/svg\" height=\"24px\" viewBox=\"0 -960 960 960\">\n",
                            "    <path d=\"M120-120v-720h720v720H120Zm60-500h600v-160H180v160Zm220 220h160v-160H400v160Zm0 220h160v-160H400v160ZM180-400h160v-160H180v160Zm440 0h160v-160H620v160ZM180-180h160v-160H180v160Zm440 0h160v-160H620v160Z\"/>\n",
                            "  </svg>\n",
                            "    </button>\n",
                            "\n",
                            "  <style>\n",
                            "    .colab-df-container {\n",
                            "      display:flex;\n",
                            "      gap: 12px;\n",
                            "    }\n",
                            "\n",
                            "    .colab-df-convert {\n",
                            "      background-color: #E8F0FE;\n",
                            "      border: none;\n",
                            "      border-radius: 50%;\n",
                            "      cursor: pointer;\n",
                            "      display: none;\n",
                            "      fill: #1967D2;\n",
                            "      height: 32px;\n",
                            "      padding: 0 0 0 0;\n",
                            "      width: 32px;\n",
                            "    }\n",
                            "\n",
                            "    .colab-df-convert:hover {\n",
                            "      background-color: #E2EBFA;\n",
                            "      box-shadow: 0px 1px 2px rgba(60, 64, 67, 0.3), 0px 1px 3px 1px rgba(60, 64, 67, 0.15);\n",
                            "      fill: #174EA6;\n",
                            "    }\n",
                            "\n",
                            "    .colab-df-buttons div {\n",
                            "      margin-bottom: 4px;\n",
                            "    }\n",
                            "\n",
                            "    [theme=dark] .colab-df-convert {\n",
                            "      background-color: #3B4455;\n",
                            "      fill: #D2E3FC;\n",
                            "    }\n",
                            "\n",
                            "    [theme=dark] .colab-df-convert:hover {\n",
                            "      background-color: #434B5C;\n",
                            "      box-shadow: 0px 1px 3px 1px rgba(0, 0, 0, 0.15);\n",
                            "      filter: drop-shadow(0px 1px 2px rgba(0, 0, 0, 0.3));\n",
                            "      fill: #FFFFFF;\n",
                            "    }\n",
                            "  </style>\n",
                            "\n",
                            "    <script>\n",
                            "      const buttonEl =\n",
                            "        document.querySelector('#df-23f169ea-b615-46eb-9098-f7a87714f102 button.colab-df-convert');\n",
                            "      buttonEl.style.display =\n",
                            "        google.colab.kernel.accessAllowed ? 'block' : 'none';\n",
                            "\n",
                            "      async function convertToInteractive(key) {\n",
                            "        const element = document.querySelector('#df-23f169ea-b615-46eb-9098-f7a87714f102');\n",
                            "        const dataTable =\n",
                            "          await google.colab.kernel.invokeFunction('convertToInteractive',\n",
                            "                                                    [key], {});\n",
                            "        if (!dataTable) return;\n",
                            "\n",
                            "        const docLinkHtml = 'Like what you see? Visit the ' +\n",
                            "          '<a target=\"_blank\" href=https://colab.research.google.com/notebooks/data_table.ipynb>data table notebook</a>'\n",
                            "          + ' to learn more about interactive tables.';\n",
                            "        element.innerHTML = '';\n",
                            "        dataTable['output_type'] = 'display_data';\n",
                            "        await google.colab.output.renderOutput(dataTable, element);\n",
                            "        const docLink = document.createElement('div');\n",
                            "        docLink.innerHTML = docLinkHtml;\n",
                            "        element.appendChild(docLink);\n",
                            "      }\n",
                            "    </script>\n",
                            "  </div>\n",
                            "\n",
                            "\n",
                            "<div id=\"df-994f191d-80d3-4df0-aa99-7d4182390af7\">\n",
                            "  <button class=\"colab-df-quickchart\" onclick=\"quickchart('df-994f191d-80d3-4df0-aa99-7d4182390af7')\"\n",
                            "            title=\"Suggest charts\"\n",
                            "            style=\"display:none;\">\n",
                            "\n",
                            "<svg xmlns=\"http://www.w3.org/2000/svg\" height=\"24px\"viewBox=\"0 0 24 24\"\n",
                            "     width=\"24px\">\n",
                            "    <g>\n",
                            "        <path d=\"M19 3H5c-1.1 0-2 .9-2 2v14c0 1.1.9 2 2 2h14c1.1 0 2-.9 2-2V5c0-1.1-.9-2-2-2zM9 17H7v-7h2v7zm4 0h-2V7h2v10zm4 0h-2v-4h2v4z\"/>\n",
                            "    </g>\n",
                            "</svg>\n",
                            "  </button>\n",
                            "\n",
                            "<style>\n",
                            "  .colab-df-quickchart {\n",
                            "      --bg-color: #E8F0FE;\n",
                            "      --fill-color: #1967D2;\n",
                            "      --hover-bg-color: #E2EBFA;\n",
                            "      --hover-fill-color: #174EA6;\n",
                            "      --disabled-fill-color: #AAA;\n",
                            "      --disabled-bg-color: #DDD;\n",
                            "  }\n",
                            "\n",
                            "  [theme=dark] .colab-df-quickchart {\n",
                            "      --bg-color: #3B4455;\n",
                            "      --fill-color: #D2E3FC;\n",
                            "      --hover-bg-color: #434B5C;\n",
                            "      --hover-fill-color: #FFFFFF;\n",
                            "      --disabled-bg-color: #3B4455;\n",
                            "      --disabled-fill-color: #666;\n",
                            "  }\n",
                            "\n",
                            "  .colab-df-quickchart {\n",
                            "    background-color: var(--bg-color);\n",
                            "    border: none;\n",
                            "    border-radius: 50%;\n",
                            "    cursor: pointer;\n",
                            "    display: none;\n",
                            "    fill: var(--fill-color);\n",
                            "    height: 32px;\n",
                            "    padding: 0;\n",
                            "    width: 32px;\n",
                            "  }\n",
                            "\n",
                            "  .colab-df-quickchart:hover {\n",
                            "    background-color: var(--hover-bg-color);\n",
                            "    box-shadow: 0 1px 2px rgba(60, 64, 67, 0.3), 0 1px 3px 1px rgba(60, 64, 67, 0.15);\n",
                            "    fill: var(--button-hover-fill-color);\n",
                            "  }\n",
                            "\n",
                            "  .colab-df-quickchart-complete:disabled,\n",
                            "  .colab-df-quickchart-complete:disabled:hover {\n",
                            "    background-color: var(--disabled-bg-color);\n",
                            "    fill: var(--disabled-fill-color);\n",
                            "    box-shadow: none;\n",
                            "  }\n",
                            "\n",
                            "  .colab-df-spinner {\n",
                            "    border: 2px solid var(--fill-color);\n",
                            "    border-color: transparent;\n",
                            "    border-bottom-color: var(--fill-color);\n",
                            "    animation:\n",
                            "      spin 1s steps(1) infinite;\n",
                            "  }\n",
                            "\n",
                            "  @keyframes spin {\n",
                            "    0% {\n",
                            "      border-color: transparent;\n",
                            "      border-bottom-color: var(--fill-color);\n",
                            "      border-left-color: var(--fill-color);\n",
                            "    }\n",
                            "    20% {\n",
                            "      border-color: transparent;\n",
                            "      border-left-color: var(--fill-color);\n",
                            "      border-top-color: var(--fill-color);\n",
                            "    }\n",
                            "    30% {\n",
                            "      border-color: transparent;\n",
                            "      border-left-color: var(--fill-color);\n",
                            "      border-top-color: var(--fill-color);\n",
                            "      border-right-color: var(--fill-color);\n",
                            "    }\n",
                            "    40% {\n",
                            "      border-color: transparent;\n",
                            "      border-right-color: var(--fill-color);\n",
                            "      border-top-color: var(--fill-color);\n",
                            "    }\n",
                            "    60% {\n",
                            "      border-color: transparent;\n",
                            "      border-right-color: var(--fill-color);\n",
                            "    }\n",
                            "    80% {\n",
                            "      border-color: transparent;\n",
                            "      border-right-color: var(--fill-color);\n",
                            "      border-bottom-color: var(--fill-color);\n",
                            "    }\n",
                            "    90% {\n",
                            "      border-color: transparent;\n",
                            "      border-bottom-color: var(--fill-color);\n",
                            "    }\n",
                            "  }\n",
                            "</style>\n",
                            "\n",
                            "  <script>\n",
                            "    async function quickchart(key) {\n",
                            "      const quickchartButtonEl =\n",
                            "        document.querySelector('#' + key + ' button');\n",
                            "      quickchartButtonEl.disabled = true;  // To prevent multiple clicks.\n",
                            "      quickchartButtonEl.classList.add('colab-df-spinner');\n",
                            "      try {\n",
                            "        const charts = await google.colab.kernel.invokeFunction(\n",
                            "            'suggestCharts', [key], {});\n",
                            "      } catch (error) {\n",
                            "        console.error('Error during call to suggestCharts:', error);\n",
                            "      }\n",
                            "      quickchartButtonEl.classList.remove('colab-df-spinner');\n",
                            "      quickchartButtonEl.classList.add('colab-df-quickchart-complete');\n",
                            "    }\n",
                            "    (() => {\n",
                            "      let quickchartButtonEl =\n",
                            "        document.querySelector('#df-994f191d-80d3-4df0-aa99-7d4182390af7 button');\n",
                            "      quickchartButtonEl.style.display =\n",
                            "        google.colab.kernel.accessAllowed ? 'block' : 'none';\n",
                            "    })();\n",
                            "  </script>\n",
                            "</div>\n",
                            "\n",
                            "  <div id=\"id_d4b8ab35-1841-4cc4-b92d-98700e4fd1c5\">\n",
                            "    <style>\n",
                            "      .colab-df-generate {\n",
                            "        background-color: #E8F0FE;\n",
                            "        border: none;\n",
                            "        border-radius: 50%;\n",
                            "        cursor: pointer;\n",
                            "        display: none;\n",
                            "        fill: #1967D2;\n",
                            "        height: 32px;\n",
                            "        padding: 0 0 0 0;\n",
                            "        width: 32px;\n",
                            "      }\n",
                            "\n",
                            "      .colab-df-generate:hover {\n",
                            "        background-color: #E2EBFA;\n",
                            "        box-shadow: 0px 1px 2px rgba(60, 64, 67, 0.3), 0px 1px 3px 1px rgba(60, 64, 67, 0.15);\n",
                            "        fill: #174EA6;\n",
                            "      }\n",
                            "\n",
                            "      [theme=dark] .colab-df-generate {\n",
                            "        background-color: #3B4455;\n",
                            "        fill: #D2E3FC;\n",
                            "      }\n",
                            "\n",
                            "      [theme=dark] .colab-df-generate:hover {\n",
                            "        background-color: #434B5C;\n",
                            "        box-shadow: 0px 1px 3px 1px rgba(0, 0, 0, 0.15);\n",
                            "        filter: drop-shadow(0px 1px 2px rgba(0, 0, 0, 0.3));\n",
                            "        fill: #FFFFFF;\n",
                            "      }\n",
                            "    </style>\n",
                            "    <button class=\"colab-df-generate\" onclick=\"generateWithVariable('df_summary')\"\n",
                            "            title=\"Generate code using this dataframe.\"\n",
                            "            style=\"display:none;\">\n",
                            "\n",
                            "  <svg xmlns=\"http://www.w3.org/2000/svg\" height=\"24px\"viewBox=\"0 0 24 24\"\n",
                            "       width=\"24px\">\n",
                            "    <path d=\"M7,19H8.4L18.45,9,17,7.55,7,17.6ZM5,21V16.75L18.45,3.32a2,2,0,0,1,2.83,0l1.4,1.43a1.91,1.91,0,0,1,.58,1.4,1.91,1.91,0,0,1-.58,1.4L9.25,21ZM18.45,9,17,7.55Zm-12,3A5.31,5.31,0,0,0,4.9,8.1,5.31,5.31,0,0,0,1,6.5,5.31,5.31,0,0,0,4.9,4.9,5.31,5.31,0,0,0,6.5,1,5.31,5.31,0,0,0,8.1,4.9,5.31,5.31,0,0,0,12,6.5,5.46,5.46,0,0,0,6.5,12Z\"/>\n",
                            "  </svg>\n",
                            "    </button>\n",
                            "    <script>\n",
                            "      (() => {\n",
                            "      const buttonEl =\n",
                            "        document.querySelector('#id_d4b8ab35-1841-4cc4-b92d-98700e4fd1c5 button.colab-df-generate');\n",
                            "      buttonEl.style.display =\n",
                            "        google.colab.kernel.accessAllowed ? 'block' : 'none';\n",
                            "\n",
                            "      buttonEl.onclick = () => {\n",
                            "        google.colab.notebook.generateWithVariable('df_summary');\n",
                            "      }\n",
                            "      })();\n",
                            "    </script>\n",
                            "  </div>\n",
                            "\n",
                            "    </div>\n",
                            "  </div>\n"
                        ],
                        "application/vnd.google.colaboratory.intrinsic+json": {
                            "type": "dataframe",
                            "variable_name": "df_summary",
                            "summary": "{\n  \"name\": \"df_summary\",\n  \"rows\": 4,\n  \"fields\": [\n    {\n      \"column\": \"Iter\",\n      \"properties\": {\n        \"dtype\": \"date\",\n        \"min\": 126,\n        \"max\": 315,\n        \"num_unique_values\": 4,\n        \"samples\": [\n          189,\n          315,\n          126\n        ],\n        \"semantic_type\": \"\",\n        \"description\": \"\"\n      }\n    },\n    {\n      \"column\": \"Val Start\",\n      \"properties\": {\n        \"dtype\": \"object\",\n        \"num_unique_values\": 4,\n        \"samples\": [\n          \"2022-01-03\",\n          \"2022-07-06\",\n          \"2021-10-04\"\n        ],\n        \"semantic_type\": \"\",\n        \"description\": \"\"\n      }\n    },\n    {\n      \"column\": \"Val End\",\n      \"properties\": {\n        \"dtype\": \"object\",\n        \"num_unique_values\": 4,\n        \"samples\": [\n          \"2022-04-04\",\n          \"2022-10-04\",\n          \"2022-01-03\"\n        ],\n        \"semantic_type\": \"\",\n        \"description\": \"\"\n      }\n    },\n    {\n      \"column\": \"MBRL Sharpe\",\n      \"properties\": {\n        \"dtype\": \"date\",\n        \"min\": -0.3902663028290667,\n        \"max\": 0.3070886400773372,\n        \"num_unique_values\": 4,\n        \"samples\": [\n          -0.21397682968442924,\n          -0.3902663028290667,\n          0.3070886400773372\n        ],\n        \"semantic_type\": \"\",\n        \"description\": \"\"\n      }\n    }\n  ]\n}"
                        }
                    },
                    "metadata": {},
                    "execution_count": 45
                }
            ]
        },
        {
            "cell_type": "code",
            "execution_count": 50,
            "metadata": {
                "id": "KsfEHa_Etj1d",
                "executionInfo": {
                    "status": "ok",
                    "timestamp": 1733096438802,
                    "user_tz": 300,
                    "elapsed": 120,
                    "user": {
                        "displayName": "Garrett Devaney",
                        "userId": "10600170082792839935"
                    }
                }
            },
            "outputs": [],
            "source": [
                "# A2C_model_kwargs = {\n",
                "#                     'n_steps': 5,\n",
                "#                     'ent_coef': 0.005,\n",
                "#                     'learning_rate': 0.0007\n",
                "#                     }\n",
                "\n",
                "# PPO_model_kwargs = {\n",
                "#                     \"ent_coef\":0.01,\n",
                "#                     \"n_steps\": 2048,\n",
                "#                     \"learning_rate\": 0.00025,\n",
                "#                     \"batch_size\": 128\n",
                "#                     }\n",
                "\n",
                "# DDPG_model_kwargs = {\n",
                "#                       #\"action_noise\":\"ornstein_uhlenbeck\",\n",
                "#                       \"buffer_size\": 10_000,\n",
                "#                       \"learning_rate\": 0.0005,\n",
                "#                       \"batch_size\": 64\n",
                "#                     }\n",
                "\n",
                "# SAC_model_kwargs = {\n",
                "#     \"batch_size\": 64,\n",
                "#     \"buffer_size\": 100000,\n",
                "#     \"learning_rate\": 0.0001,\n",
                "#     \"learning_starts\": 100,\n",
                "#     \"ent_coef\": \"auto_0.1\",\n",
                "# }\n",
                "\n",
                "# TD3_model_kwargs = {\"batch_size\": 100, \"buffer_size\": 1000000, \"learning_rate\": 0.0001}\n",
                "\n",
                "\n",
                "\n",
                "\n",
                "# timesteps_dict = {'a2c' : 10_000,\n",
                "#                  'ppo' : 10_000,\n",
                "#                  'ddpg' : 10_000,\n",
                "#                  'sac' : 10_000,\n",
                "#                  'td3' : 10_000\n",
                "#                  }"
            ]
        },
        {
            "cell_type": "code",
            "execution_count": 51,
            "metadata": {
                "id": "_1lyCECstj1e",
                "scrolled": true,
                "executionInfo": {
                    "status": "ok",
                    "timestamp": 1733096439131,
                    "user_tz": 300,
                    "elapsed": 2,
                    "user": {
                        "displayName": "Garrett Devaney",
                        "userId": "10600170082792839935"
                    }
                }
            },
            "outputs": [],
            "source": [
                "# df_summary = ensemble_agent.run_strategy(A2C_model_kwargs,\n",
                "#                                                  PPO_model_kwargs,\n",
                "#                                                  DDPG_model_kwargs,\n",
                "#                                                  SAC_model_kwargs,\n",
                "#                                                  TD3_model_kwargs,\n",
                "#                                                  timesteps_dict)"
            ]
        },
        {
            "cell_type": "code",
            "execution_count": 52,
            "metadata": {
                "id": "-0qd8acMtj1f",
                "executionInfo": {
                    "status": "ok",
                    "timestamp": 1733096439782,
                    "user_tz": 300,
                    "elapsed": 167,
                    "user": {
                        "displayName": "Garrett Devaney",
                        "userId": "10600170082792839935"
                    }
                }
            },
            "outputs": [],
            "source": [
                "# df_summary"
            ]
        },
        {
            "cell_type": "markdown",
            "metadata": {
                "id": "W6vvNSC6h1jZ"
            },
            "source": [
                "<a id='6'></a>\n",
                "# Part 7: Backtest Our Strategy\n",
                "Backtesting plays a key role in evaluating the performance of a trading strategy. Automated backtesting tool is preferred because it reduces the human error. We usually use the Quantopian pyfolio package to backtest our trading strategies. It is easy to use and consists of various individual plots that provide a comprehensive image of the performance of a trading strategy."
            ]
        },
        {
            "cell_type": "code",
            "execution_count": 46,
            "metadata": {
                "id": "X4JKB--8tj1g",
                "executionInfo": {
                    "status": "ok",
                    "timestamp": 1733096383077,
                    "user_tz": 300,
                    "elapsed": 108,
                    "user": {
                        "displayName": "Garrett Devaney",
                        "userId": "10600170082792839935"
                    }
                }
            },
            "outputs": [],
            "source": [
                "unique_trade_date = processed[(processed.date > TEST_START_DATE)&(processed.date <= TEST_END_DATE)].date.unique()"
            ]
        },
        {
            "cell_type": "code",
            "execution_count": 48,
            "metadata": {
                "id": "q9mKF7GGtj1g",
                "scrolled": true,
                "colab": {
                    "base_uri": "https://localhost:8080/"
                },
                "executionInfo": {
                    "status": "ok",
                    "timestamp": 1733096397331,
                    "user_tz": 300,
                    "elapsed": 224,
                    "user": {
                        "displayName": "Garrett Devaney",
                        "userId": "10600170082792839935"
                    }
                },
                "outputId": "1cca775c-89ba-44b2-af97-be232ea404a4"
            },
            "outputs": [
                {
                    "output_type": "stream",
                    "name": "stdout",
                    "text": [
                        "Sharpe Ratio:  -0.2773813172152614\n"
                    ]
                }
            ],
            "source": [
                "df_trade_date = pd.DataFrame({'datadate':unique_trade_date})\n",
                "\n",
                "df_account_value=pd.DataFrame()\n",
                "for i in range(rebalance_window+validation_window, len(unique_trade_date)+1,rebalance_window):\n",
                "    temp = pd.read_csv('results/account_value_trade_{}_{}.csv'.format('MBRL',i))\n",
                "    df_account_value = pd.concat([df_account_value, temp], axis=0, ignore_index=True)\n",
                "sharpe=(252**0.5)*df_account_value.account_value.pct_change(1).mean()/df_account_value.account_value.pct_change(1).std()\n",
                "print('Sharpe Ratio: ',sharpe)\n",
                "df_account_value=df_account_value.join(df_trade_date[validation_window:].reset_index(drop=True))"
            ]
        },
        {
            "cell_type": "code",
            "execution_count": 49,
            "metadata": {
                "id": "oyosyW7_tj1g",
                "colab": {
                    "base_uri": "https://localhost:8080/",
                    "height": 262
                },
                "executionInfo": {
                    "status": "ok",
                    "timestamp": 1733096415709,
                    "user_tz": 300,
                    "elapsed": 129,
                    "user": {
                        "displayName": "Garrett Devaney",
                        "userId": "10600170082792839935"
                    }
                },
                "outputId": "ec83e7e0-87da-40ba-9c2e-0491b28fbd81"
            },
            "outputs": [
                {
                    "output_type": "stream",
                    "name": "stderr",
                    "text": [
                        "/usr/local/lib/python3.10/dist-packages/ipykernel/ipkernel.py:283: DeprecationWarning: `should_run_async` will not call `transform_cell` automatically in the future. Please pass the result to `transformed_cell` argument and any exception that happen during thetransform in `preprocessing_exc_tuple` in IPython 7.17 and above.\n",
                        "  and should_run_async(code)\n"
                    ]
                },
                {
                    "output_type": "execute_result",
                    "data": {
                        "text/plain": [
                            "   account_value        date  daily_return    datadate\n",
                            "0   1.000000e+06  2022-01-03           NaN  2022-01-03\n",
                            "1   1.000478e+06  2022-01-04      0.000478  2022-01-04\n",
                            "2   9.986551e+05  2022-01-05     -0.001822  2022-01-05\n",
                            "3   9.967540e+05  2022-01-06     -0.001904  2022-01-06\n",
                            "4   9.973684e+05  2022-01-07      0.000616  2022-01-07"
                        ],
                        "text/html": [
                            "\n",
                            "  <div id=\"df-073800e3-fcbb-41ca-9d41-1eb9516328f7\" class=\"colab-df-container\">\n",
                            "    <div>\n",
                            "<style scoped>\n",
                            "    .dataframe tbody tr th:only-of-type {\n",
                            "        vertical-align: middle;\n",
                            "    }\n",
                            "\n",
                            "    .dataframe tbody tr th {\n",
                            "        vertical-align: top;\n",
                            "    }\n",
                            "\n",
                            "    .dataframe thead th {\n",
                            "        text-align: right;\n",
                            "    }\n",
                            "</style>\n",
                            "<table border=\"1\" class=\"dataframe\">\n",
                            "  <thead>\n",
                            "    <tr style=\"text-align: right;\">\n",
                            "      <th></th>\n",
                            "      <th>account_value</th>\n",
                            "      <th>date</th>\n",
                            "      <th>daily_return</th>\n",
                            "      <th>datadate</th>\n",
                            "    </tr>\n",
                            "  </thead>\n",
                            "  <tbody>\n",
                            "    <tr>\n",
                            "      <th>0</th>\n",
                            "      <td>1.000000e+06</td>\n",
                            "      <td>2022-01-03</td>\n",
                            "      <td>NaN</td>\n",
                            "      <td>2022-01-03</td>\n",
                            "    </tr>\n",
                            "    <tr>\n",
                            "      <th>1</th>\n",
                            "      <td>1.000478e+06</td>\n",
                            "      <td>2022-01-04</td>\n",
                            "      <td>0.000478</td>\n",
                            "      <td>2022-01-04</td>\n",
                            "    </tr>\n",
                            "    <tr>\n",
                            "      <th>2</th>\n",
                            "      <td>9.986551e+05</td>\n",
                            "      <td>2022-01-05</td>\n",
                            "      <td>-0.001822</td>\n",
                            "      <td>2022-01-05</td>\n",
                            "    </tr>\n",
                            "    <tr>\n",
                            "      <th>3</th>\n",
                            "      <td>9.967540e+05</td>\n",
                            "      <td>2022-01-06</td>\n",
                            "      <td>-0.001904</td>\n",
                            "      <td>2022-01-06</td>\n",
                            "    </tr>\n",
                            "    <tr>\n",
                            "      <th>4</th>\n",
                            "      <td>9.973684e+05</td>\n",
                            "      <td>2022-01-07</td>\n",
                            "      <td>0.000616</td>\n",
                            "      <td>2022-01-07</td>\n",
                            "    </tr>\n",
                            "  </tbody>\n",
                            "</table>\n",
                            "</div>\n",
                            "    <div class=\"colab-df-buttons\">\n",
                            "\n",
                            "  <div class=\"colab-df-container\">\n",
                            "    <button class=\"colab-df-convert\" onclick=\"convertToInteractive('df-073800e3-fcbb-41ca-9d41-1eb9516328f7')\"\n",
                            "            title=\"Convert this dataframe to an interactive table.\"\n",
                            "            style=\"display:none;\">\n",
                            "\n",
                            "  <svg xmlns=\"http://www.w3.org/2000/svg\" height=\"24px\" viewBox=\"0 -960 960 960\">\n",
                            "    <path d=\"M120-120v-720h720v720H120Zm60-500h600v-160H180v160Zm220 220h160v-160H400v160Zm0 220h160v-160H400v160ZM180-400h160v-160H180v160Zm440 0h160v-160H620v160ZM180-180h160v-160H180v160Zm440 0h160v-160H620v160Z\"/>\n",
                            "  </svg>\n",
                            "    </button>\n",
                            "\n",
                            "  <style>\n",
                            "    .colab-df-container {\n",
                            "      display:flex;\n",
                            "      gap: 12px;\n",
                            "    }\n",
                            "\n",
                            "    .colab-df-convert {\n",
                            "      background-color: #E8F0FE;\n",
                            "      border: none;\n",
                            "      border-radius: 50%;\n",
                            "      cursor: pointer;\n",
                            "      display: none;\n",
                            "      fill: #1967D2;\n",
                            "      height: 32px;\n",
                            "      padding: 0 0 0 0;\n",
                            "      width: 32px;\n",
                            "    }\n",
                            "\n",
                            "    .colab-df-convert:hover {\n",
                            "      background-color: #E2EBFA;\n",
                            "      box-shadow: 0px 1px 2px rgba(60, 64, 67, 0.3), 0px 1px 3px 1px rgba(60, 64, 67, 0.15);\n",
                            "      fill: #174EA6;\n",
                            "    }\n",
                            "\n",
                            "    .colab-df-buttons div {\n",
                            "      margin-bottom: 4px;\n",
                            "    }\n",
                            "\n",
                            "    [theme=dark] .colab-df-convert {\n",
                            "      background-color: #3B4455;\n",
                            "      fill: #D2E3FC;\n",
                            "    }\n",
                            "\n",
                            "    [theme=dark] .colab-df-convert:hover {\n",
                            "      background-color: #434B5C;\n",
                            "      box-shadow: 0px 1px 3px 1px rgba(0, 0, 0, 0.15);\n",
                            "      filter: drop-shadow(0px 1px 2px rgba(0, 0, 0, 0.3));\n",
                            "      fill: #FFFFFF;\n",
                            "    }\n",
                            "  </style>\n",
                            "\n",
                            "    <script>\n",
                            "      const buttonEl =\n",
                            "        document.querySelector('#df-073800e3-fcbb-41ca-9d41-1eb9516328f7 button.colab-df-convert');\n",
                            "      buttonEl.style.display =\n",
                            "        google.colab.kernel.accessAllowed ? 'block' : 'none';\n",
                            "\n",
                            "      async function convertToInteractive(key) {\n",
                            "        const element = document.querySelector('#df-073800e3-fcbb-41ca-9d41-1eb9516328f7');\n",
                            "        const dataTable =\n",
                            "          await google.colab.kernel.invokeFunction('convertToInteractive',\n",
                            "                                                    [key], {});\n",
                            "        if (!dataTable) return;\n",
                            "\n",
                            "        const docLinkHtml = 'Like what you see? Visit the ' +\n",
                            "          '<a target=\"_blank\" href=https://colab.research.google.com/notebooks/data_table.ipynb>data table notebook</a>'\n",
                            "          + ' to learn more about interactive tables.';\n",
                            "        element.innerHTML = '';\n",
                            "        dataTable['output_type'] = 'display_data';\n",
                            "        await google.colab.output.renderOutput(dataTable, element);\n",
                            "        const docLink = document.createElement('div');\n",
                            "        docLink.innerHTML = docLinkHtml;\n",
                            "        element.appendChild(docLink);\n",
                            "      }\n",
                            "    </script>\n",
                            "  </div>\n",
                            "\n",
                            "\n",
                            "<div id=\"df-d5c5f93e-c623-4b71-affc-8036df8956ee\">\n",
                            "  <button class=\"colab-df-quickchart\" onclick=\"quickchart('df-d5c5f93e-c623-4b71-affc-8036df8956ee')\"\n",
                            "            title=\"Suggest charts\"\n",
                            "            style=\"display:none;\">\n",
                            "\n",
                            "<svg xmlns=\"http://www.w3.org/2000/svg\" height=\"24px\"viewBox=\"0 0 24 24\"\n",
                            "     width=\"24px\">\n",
                            "    <g>\n",
                            "        <path d=\"M19 3H5c-1.1 0-2 .9-2 2v14c0 1.1.9 2 2 2h14c1.1 0 2-.9 2-2V5c0-1.1-.9-2-2-2zM9 17H7v-7h2v7zm4 0h-2V7h2v10zm4 0h-2v-4h2v4z\"/>\n",
                            "    </g>\n",
                            "</svg>\n",
                            "  </button>\n",
                            "\n",
                            "<style>\n",
                            "  .colab-df-quickchart {\n",
                            "      --bg-color: #E8F0FE;\n",
                            "      --fill-color: #1967D2;\n",
                            "      --hover-bg-color: #E2EBFA;\n",
                            "      --hover-fill-color: #174EA6;\n",
                            "      --disabled-fill-color: #AAA;\n",
                            "      --disabled-bg-color: #DDD;\n",
                            "  }\n",
                            "\n",
                            "  [theme=dark] .colab-df-quickchart {\n",
                            "      --bg-color: #3B4455;\n",
                            "      --fill-color: #D2E3FC;\n",
                            "      --hover-bg-color: #434B5C;\n",
                            "      --hover-fill-color: #FFFFFF;\n",
                            "      --disabled-bg-color: #3B4455;\n",
                            "      --disabled-fill-color: #666;\n",
                            "  }\n",
                            "\n",
                            "  .colab-df-quickchart {\n",
                            "    background-color: var(--bg-color);\n",
                            "    border: none;\n",
                            "    border-radius: 50%;\n",
                            "    cursor: pointer;\n",
                            "    display: none;\n",
                            "    fill: var(--fill-color);\n",
                            "    height: 32px;\n",
                            "    padding: 0;\n",
                            "    width: 32px;\n",
                            "  }\n",
                            "\n",
                            "  .colab-df-quickchart:hover {\n",
                            "    background-color: var(--hover-bg-color);\n",
                            "    box-shadow: 0 1px 2px rgba(60, 64, 67, 0.3), 0 1px 3px 1px rgba(60, 64, 67, 0.15);\n",
                            "    fill: var(--button-hover-fill-color);\n",
                            "  }\n",
                            "\n",
                            "  .colab-df-quickchart-complete:disabled,\n",
                            "  .colab-df-quickchart-complete:disabled:hover {\n",
                            "    background-color: var(--disabled-bg-color);\n",
                            "    fill: var(--disabled-fill-color);\n",
                            "    box-shadow: none;\n",
                            "  }\n",
                            "\n",
                            "  .colab-df-spinner {\n",
                            "    border: 2px solid var(--fill-color);\n",
                            "    border-color: transparent;\n",
                            "    border-bottom-color: var(--fill-color);\n",
                            "    animation:\n",
                            "      spin 1s steps(1) infinite;\n",
                            "  }\n",
                            "\n",
                            "  @keyframes spin {\n",
                            "    0% {\n",
                            "      border-color: transparent;\n",
                            "      border-bottom-color: var(--fill-color);\n",
                            "      border-left-color: var(--fill-color);\n",
                            "    }\n",
                            "    20% {\n",
                            "      border-color: transparent;\n",
                            "      border-left-color: var(--fill-color);\n",
                            "      border-top-color: var(--fill-color);\n",
                            "    }\n",
                            "    30% {\n",
                            "      border-color: transparent;\n",
                            "      border-left-color: var(--fill-color);\n",
                            "      border-top-color: var(--fill-color);\n",
                            "      border-right-color: var(--fill-color);\n",
                            "    }\n",
                            "    40% {\n",
                            "      border-color: transparent;\n",
                            "      border-right-color: var(--fill-color);\n",
                            "      border-top-color: var(--fill-color);\n",
                            "    }\n",
                            "    60% {\n",
                            "      border-color: transparent;\n",
                            "      border-right-color: var(--fill-color);\n",
                            "    }\n",
                            "    80% {\n",
                            "      border-color: transparent;\n",
                            "      border-right-color: var(--fill-color);\n",
                            "      border-bottom-color: var(--fill-color);\n",
                            "    }\n",
                            "    90% {\n",
                            "      border-color: transparent;\n",
                            "      border-bottom-color: var(--fill-color);\n",
                            "    }\n",
                            "  }\n",
                            "</style>\n",
                            "\n",
                            "  <script>\n",
                            "    async function quickchart(key) {\n",
                            "      const quickchartButtonEl =\n",
                            "        document.querySelector('#' + key + ' button');\n",
                            "      quickchartButtonEl.disabled = true;  // To prevent multiple clicks.\n",
                            "      quickchartButtonEl.classList.add('colab-df-spinner');\n",
                            "      try {\n",
                            "        const charts = await google.colab.kernel.invokeFunction(\n",
                            "            'suggestCharts', [key], {});\n",
                            "      } catch (error) {\n",
                            "        console.error('Error during call to suggestCharts:', error);\n",
                            "      }\n",
                            "      quickchartButtonEl.classList.remove('colab-df-spinner');\n",
                            "      quickchartButtonEl.classList.add('colab-df-quickchart-complete');\n",
                            "    }\n",
                            "    (() => {\n",
                            "      let quickchartButtonEl =\n",
                            "        document.querySelector('#df-d5c5f93e-c623-4b71-affc-8036df8956ee button');\n",
                            "      quickchartButtonEl.style.display =\n",
                            "        google.colab.kernel.accessAllowed ? 'block' : 'none';\n",
                            "    })();\n",
                            "  </script>\n",
                            "</div>\n",
                            "\n",
                            "    </div>\n",
                            "  </div>\n"
                        ],
                        "application/vnd.google.colaboratory.intrinsic+json": {
                            "type": "dataframe",
                            "variable_name": "df_account_value",
                            "summary": "{\n  \"name\": \"df_account_value\",\n  \"rows\": 252,\n  \"fields\": [\n    {\n      \"column\": \"account_value\",\n      \"properties\": {\n        \"dtype\": \"number\",\n        \"std\": 34147.90545332053,\n        \"min\": 848021.6342836502,\n        \"max\": 1002243.0439343264,\n        \"num_unique_values\": 252,\n        \"samples\": [\n          910291.475252126,\n          1001525.8912867664,\n          870134.1590214393\n        ],\n        \"semantic_type\": \"\",\n        \"description\": \"\"\n      }\n    },\n    {\n      \"column\": \"date\",\n      \"properties\": {\n        \"dtype\": \"object\",\n        \"num_unique_values\": 252,\n        \"samples\": [\n          \"2022-08-30\",\n          \"2022-01-11\",\n          \"2022-06-13\"\n        ],\n        \"semantic_type\": \"\",\n        \"description\": \"\"\n      }\n    },\n    {\n      \"column\": \"daily_return\",\n      \"properties\": {\n        \"dtype\": \"number\",\n        \"std\": 0.010348070027171113,\n        \"min\": -0.0274085974165024,\n        \"max\": 0.0284370569459304,\n        \"num_unique_values\": 248,\n        \"samples\": [\n          -0.0137133669258402,\n          0.0007160600178182,\n          0.0167516186917302\n        ],\n        \"semantic_type\": \"\",\n        \"description\": \"\"\n      }\n    },\n    {\n      \"column\": \"datadate\",\n      \"properties\": {\n        \"dtype\": \"object\",\n        \"num_unique_values\": 252,\n        \"samples\": [\n          \"2022-08-30\",\n          \"2022-01-11\",\n          \"2022-06-13\"\n        ],\n        \"semantic_type\": \"\",\n        \"description\": \"\"\n      }\n    }\n  ]\n}"
                        }
                    },
                    "metadata": {},
                    "execution_count": 49
                }
            ],
            "source": [
                "df_account_value.head()"
            ]
        },
        {
            "cell_type": "code",
            "execution_count": 53,
            "metadata": {
                "id": "wLsRdw2Ctj1h",
                "colab": {
                    "base_uri": "https://localhost:8080/",
                    "height": 463
                },
                "executionInfo": {
                    "status": "ok",
                    "timestamp": 1733096446218,
                    "user_tz": 300,
                    "elapsed": 315,
                    "user": {
                        "displayName": "Garrett Devaney",
                        "userId": "10600170082792839935"
                    }
                },
                "outputId": "b315e730-989e-4b32-eb45-66532b913ba4"
            },
            "outputs": [
                {
                    "output_type": "execute_result",
                    "data": {
                        "text/plain": [
                            "<Axes: >"
                        ]
                    },
                    "metadata": {},
                    "execution_count": 53
                },
                {
                    "output_type": "display_data",
                    "data": {
                        "text/plain": [
                            "<Figure size 640x480 with 1 Axes>"
                        ],
                        "image/png": "[encoded data removed]"
                    },
                    "metadata": {}
                }
            ],
            "source": [
                "%matplotlib inline\n",
                "df_account_value.account_value.plot()"
            ]
        },
        {
            "cell_type": "markdown",
            "metadata": {
                "id": "Lr2zX7ZxNyFQ"
            },
            "source": [
                "<a id='6.1'></a>\n",
                "## 7.1 BackTestStats\n",
                "pass in df_account_value, this information is stored in env class\n"
            ]
        },
        {
            "cell_type": "code",
            "execution_count": 54,
            "metadata": {
                "id": "Nzkr9yv-AdV_",
                "scrolled": true,
                "colab": {
                    "base_uri": "https://localhost:8080/"
                },
                "executionInfo": {
                    "status": "ok",
                    "timestamp": 1733096455747,
                    "user_tz": 300,
                    "elapsed": 112,
                    "user": {
                        "displayName": "Garrett Devaney",
                        "userId": "10600170082792839935"
                    }
                },
                "outputId": "26d839e1-e125-4555-e006-9cf1ce4e111d"
            },
            "outputs": [
                {
                    "output_type": "stream",
                    "name": "stdout",
                    "text": [
                        "==============Get Backtest Results===========\n",
                        "Annual return         -0.057332\n",
                        "Cumulative returns    -0.057332\n",
                        "Annual volatility      0.164887\n",
                        "Sharpe ratio          -0.277381\n",
                        "Calmar ratio          -0.372584\n",
                        "Stability              0.067060\n",
                        "Max drawdown          -0.153876\n",
                        "Omega ratio            0.952830\n",
                        "Sortino ratio         -0.395232\n",
                        "Skew                        NaN\n",
                        "Kurtosis                    NaN\n",
                        "Tail ratio             1.224091\n",
                        "Daily value at risk   -0.020955\n",
                        "dtype: float64\n"
                    ]
                }
            ],
            "source": [
                "print(\"==============Get Backtest Results===========\")\n",
                "now = datetime.datetime.now().strftime('%Y%m%d-%Hh%M')\n",
                "\n",
                "perf_stats_all = backtest_stats(account_value=df_account_value)\n",
                "perf_stats_all = pd.DataFrame(perf_stats_all)"
            ]
        },
        {
            "cell_type": "code",
            "execution_count": 55,
            "metadata": {
                "id": "DiHhM1YkoCel",
                "colab": {
                    "base_uri": "https://localhost:8080/"
                },
                "executionInfo": {
                    "status": "ok",
                    "timestamp": 1733096459737,
                    "user_tz": 300,
                    "elapsed": 369,
                    "user": {
                        "displayName": "Garrett Devaney",
                        "userId": "10600170082792839935"
                    }
                },
                "outputId": "faf2569d-632a-443c-eb74-324c0e59c420"
            },
            "outputs": [
                {
                    "output_type": "stream",
                    "name": "stderr",
                    "text": [
                        "\r[*********************100%***********************]  1 of 1 completed"
                    ]
                },
                {
                    "output_type": "stream",
                    "name": "stdout",
                    "text": [
                        "==============Get Baseline Stats===========\n",
                        "Shape of DataFrame:  (251, 8)\n",
                        "Annual return         -0.088436\n",
                        "Cumulative returns    -0.088101\n",
                        "Annual volatility      0.185081\n",
                        "Sharpe ratio          -0.410029\n",
                        "Calmar ratio          -0.407645\n",
                        "Stability              0.243620\n",
                        "Max drawdown          -0.216945\n",
                        "Omega ratio            0.935511\n",
                        "Sortino ratio         -0.568133\n",
                        "Skew                        NaN\n",
                        "Kurtosis                    NaN\n",
                        "Tail ratio             0.966671\n",
                        "Daily value at risk   -0.023619\n",
                        "dtype: float64\n"
                    ]
                },
                {
                    "output_type": "stream",
                    "name": "stderr",
                    "text": [
                        "\n"
                    ]
                }
            ],
            "source": [
                "#baseline stats\n",
                "print(\"==============Get Baseline Stats===========\")\n",
                "df_dji_ = get_baseline(\n",
                "        ticker=\"^DJI\",\n",
                "        start = df_account_value.loc[0,'date'],\n",
                "        end = df_account_value.loc[len(df_account_value)-1,'date'])\n",
                "\n",
                "stats = backtest_stats(df_dji_, value_col_name = 'close')"
            ]
        },
        {
            "cell_type": "code",
            "execution_count": 56,
            "metadata": {
                "id": "RhJ9whD75WTs",
                "colab": {
                    "base_uri": "https://localhost:8080/"
                },
                "executionInfo": {
                    "status": "ok",
                    "timestamp": 1733096463262,
                    "user_tz": 300,
                    "elapsed": 233,
                    "user": {
                        "displayName": "Garrett Devaney",
                        "userId": "10600170082792839935"
                    }
                },
                "outputId": "d45e2484-f11b-4e8d-ce8f-a22b1c461014"
            },
            "outputs": [
                {
                    "output_type": "stream",
                    "name": "stdout",
                    "text": [
                        "df_dji:             date           dji\n",
                        "0    2022-01-03  1.000000e+06\n",
                        "1    2022-01-04  1.008656e+06\n",
                        "2    2022-01-05  1.011041e+06\n",
                        "3    2022-01-06  1.002408e+06\n",
                        "4    2022-01-07  9.980177e+05\n",
                        "..          ...           ...\n",
                        "247  2022-12-27  9.147240e+05\n",
                        "248  2022-12-28  9.158399e+05\n",
                        "249  2022-12-29  9.091405e+05\n",
                        "250  2022-12-30  9.118987e+05\n",
                        "251  2023-01-03           NaN\n",
                        "\n",
                        "[252 rows x 2 columns]\n",
                        "df_dji:                       dji\n",
                        "date                    \n",
                        "2022-01-03  1.000000e+06\n",
                        "2022-01-04  1.008656e+06\n",
                        "2022-01-05  1.011041e+06\n",
                        "2022-01-06  1.002408e+06\n",
                        "2022-01-07  9.980177e+05\n",
                        "...                  ...\n",
                        "2022-12-27  9.147240e+05\n",
                        "2022-12-28  9.158399e+05\n",
                        "2022-12-29  9.091405e+05\n",
                        "2022-12-30  9.118987e+05\n",
                        "2023-01-03           NaN\n",
                        "\n",
                        "[252 rows x 1 columns]\n"
                    ]
                }
            ],
            "source": [
                "df_dji = pd.DataFrame()\n",
                "df_dji['date'] = df_account_value['date']\n",
                "df_dji['dji'] = df_dji_['close'] / df_dji_['close'][0] * env_kwargs[\"initial_amount\"]\n",
                "print(\"df_dji: \", df_dji)\n",
                "df_dji.to_csv(\"df_dji.csv\")\n",
                "df_dji = df_dji.set_index(df_dji.columns[0])\n",
                "print(\"df_dji: \", df_dji)\n",
                "df_dji.to_csv(\"df_dji+.csv\")\n",
                "\n",
                "df_account_value.to_csv('df_account_value.csv')\n"
            ]
        },
        {
            "cell_type": "markdown",
            "metadata": {
                "id": "9U6Suru3h1jc"
            },
            "source": [
                "<a id='6.2'></a>\n",
                "## 7.2 BackTestPlot"
            ]
        },
        {
            "cell_type": "code",
            "execution_count": 57,
            "metadata": {
                "id": "HggausPRoCem",
                "colab": {
                    "base_uri": "https://localhost:8080/",
                    "height": 1000
                },
                "executionInfo": {
                    "status": "ok",
                    "timestamp": 1733096521095,
                    "user_tz": 300,
                    "elapsed": 1280,
                    "user": {
                        "displayName": "Garrett Devaney",
                        "userId": "10600170082792839935"
                    }
                },
                "outputId": "ac3bda34-2628-4246-a6e9-14c0fe09dcbd"
            },
            "outputs": [
                {
                    "output_type": "stream",
                    "name": "stderr",
                    "text": [
                        "/usr/local/lib/python3.10/dist-packages/ipykernel/ipkernel.py:283: DeprecationWarning: `should_run_async` will not call `transform_cell` automatically in the future. Please pass the result to `transformed_cell` argument and any exception that happen during thetransform in `preprocessing_exc_tuple` in IPython 7.17 and above.\n",
                        "  and should_run_async(code)\n"
                    ]
                },
                {
                    "output_type": "stream",
                    "name": "stdout",
                    "text": [
                        "df_result_ensemble.columns:  Index(['MBRL'], dtype='object')\n",
                        "df_trade_date:         datadate\n",
                        "0    2021-10-04\n",
                        "1    2021-10-05\n",
                        "2    2021-10-06\n",
                        "3    2021-10-07\n",
                        "4    2021-10-08\n",
                        "..          ...\n",
                        "348  2023-02-22\n",
                        "349  2023-02-23\n",
                        "350  2023-02-24\n",
                        "351  2023-02-27\n",
                        "352  2023-02-28\n",
                        "\n",
                        "[353 rows x 1 columns]\n",
                        "df_result_ensemble:                      MBRL\n",
                        "date                    \n",
                        "2022-01-03  1.000000e+06\n",
                        "2022-01-04  1.000478e+06\n",
                        "2022-01-05  9.986551e+05\n",
                        "2022-01-06  9.967540e+05\n",
                        "2022-01-07  9.973684e+05\n",
                        "...                  ...\n",
                        "2022-12-27  9.457495e+05\n",
                        "2022-12-28  9.416852e+05\n",
                        "2022-12-29  9.461067e+05\n",
                        "2022-12-30  9.446437e+05\n",
                        "2023-01-03  9.426682e+05\n",
                        "\n",
                        "[252 rows x 1 columns]\n",
                        "==============Compare to DJIA===========\n",
                        "result:                      MBRL           dji\n",
                        "date                                  \n",
                        "2022-01-03  1.000000e+06  1.000000e+06\n",
                        "2022-01-04  1.000478e+06  1.008656e+06\n",
                        "2022-01-05  9.986551e+05  1.011041e+06\n",
                        "2022-01-06  9.967540e+05  1.002408e+06\n",
                        "2022-01-07  9.973684e+05  9.980177e+05\n",
                        "...                  ...           ...\n",
                        "2022-12-27  9.457495e+05  9.147240e+05\n",
                        "2022-12-28  9.416852e+05  9.158399e+05\n",
                        "2022-12-29  9.461067e+05  9.091405e+05\n",
                        "2022-12-30  9.446437e+05  9.118987e+05\n",
                        "2023-01-03  9.426682e+05           NaN\n",
                        "\n",
                        "[252 rows x 2 columns]\n"
                    ]
                },
                {
                    "output_type": "display_data",
                    "data": {
                        "text/plain": [
                            "<Figure size 1500x500 with 0 Axes>"
                        ]
                    },
                    "metadata": {}
                },
                {
                    "output_type": "display_data",
                    "data": {
                        "text/plain": [
                            "<Figure size 1500x500 with 1 Axes>"
                        ],
                        "image/png": "[encoded data removed]"
                    },
                    "metadata": {}
                }
            ],
            "source": [
                "\n",
                "\n",
                "# print(\"==============Compare to DJIA===========\")\n",
                "# %matplotlib inline\n",
                "# # S&P 500: ^GSPC\n",
                "# # Dow Jones Index: ^DJI\n",
                "# # NASDAQ 100: ^NDX\n",
                "# backtest_plot(df_account_value,\n",
                "#               baseline_ticker = '^DJI',\n",
                "#               baseline_start = df_account_value.loc[0,'date'],\n",
                "#               baseline_end = df_account_value.loc[len(df_account_value)-1,'date'])\n",
                "df.to_csv(\"df.csv\")\n",
                "df_result_mbrl = pd.DataFrame({'date': df_account_value['date'], 'MBRL': df_account_value['account_value']})\n",
                "df_result_mbrl = df_result_mbrl.set_index('date')\n",
                "\n",
                "print(\"df_result_ensemble.columns: \", df_result_mbrl.columns)\n",
                "\n",
                "# df_result_ensemble.drop(df_result_ensemble.columns[0], axis = 1)\n",
                "print(\"df_trade_date: \", df_trade_date)\n",
                "# df_result_ensemble['date'] = df_trade_date['datadate']\n",
                "# df_result_ensemble['account_value'] = df_account_value['account_value']\n",
                "df_result_mbrl.to_csv(\"df_result_ensemble.csv\")\n",
                "print(\"df_result_ensemble: \", df_result_mbrl)\n",
                "print(\"==============Compare to DJIA===========\")\n",
                "result = pd.DataFrame()\n",
                "# result = pd.merge(result, df_result_ensemble, left_index=True, right_index=True)\n",
                "# result = pd.merge(result, df_dji, left_index=True, right_index=True)\n",
                "result = pd.merge(df_result_mbrl, df_dji, left_index=True, right_index=True)\n",
                "print(\"result: \", result)\n",
                "result.to_csv(\"result.csv\")\n",
                "result.columns = ['MBRL', 'dji']\n",
                "\n",
                "%matplotlib inline\n",
                "plt.rcParams[\"figure.figsize\"] = (15,5)\n",
                "plt.figure();\n",
                "result.plot();"
            ]
        },
        {
            "cell_type": "markdown",
            "metadata": {
                "id": "oBQx4bVQFi-a"
            },
            "source": []
        }
    ],
    "metadata": {
        "accelerator": "GPU",
        "colab": {
            "provenance": [],
            "gpuType": "T4"
        },
        "kernelspec": {
            "display_name": "Python 3",
            "name": "python3"
        },
        "language_info": {
            "codemirror_mode": {
                "name": "ipython",
                "version": 3
            },
            "file_extension": ".py",
            "mimetype": "text/x-python",
            "name": "python",
            "nbconvert_exporter": "python",
            "pygments_lexer": "ipython3",
            "version": "3.10.12"
        },
        "pycharm": {
            "stem_cell": {
                "cell_type": "raw",
                "metadata": {
                    "collapsed": false
                },
                "source": []
            }
        }
    },
    "nbformat": 4,
    "nbformat_minor": 0
}