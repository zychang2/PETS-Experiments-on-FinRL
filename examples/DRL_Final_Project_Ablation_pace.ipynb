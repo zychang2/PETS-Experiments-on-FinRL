{
 "cells": [
  {
   "cell_type": "markdown",
   "metadata": {
    "id": "Lb9q2_QZgdNk"
   },
   "source": [
    "<a target=\"_blank\" href=\"https://colab.research.google.com/github/AI4Finance-Foundation/FinRL-Tutorials/blob/master/2-Advance/FinRL_Ensemble_StockTrading_ICAIF_2020.ipynb\">\n",
    "  <img src=\"https://colab.research.google.com/assets/colab-badge.svg\" alt=\"Open In Colab\"/>\n",
    "</a>"
   ]
  },
  {
   "cell_type": "markdown",
   "metadata": {
    "id": "gXaoZs2lh1hi"
   },
   "source": [
    "# Deep Reinforcement Learning for Stock Trading from Scratch: Multiple Stock Trading Using Ensemble Strategy\n",
    "\n",
    "Tutorials to use OpenAI DRL to trade multiple stocks using ensemble strategy in one Jupyter Notebook | Presented at ICAIF 2020\n",
    "\n",
    "* This notebook is the reimplementation of our paper: Deep Reinforcement Learning for Automated Stock Trading: An Ensemble Strategy, using FinRL.\n",
    "* Check out medium blog for detailed explanations: https://medium.com/@ai4finance/deep-reinforcement-learning-for-automated-stock-trading-f1dad0126a02\n",
    "* Please report any issues to our Github: https://github.com/AI4Finance-LLC/FinRL-Library/issues\n",
    "* **Pytorch Version**\n",
    "\n"
   ]
  },
  {
   "cell_type": "markdown",
   "metadata": {
    "id": "lGunVt8oLCVS"
   },
   "source": [
    "# Content"
   ]
  },
  {
   "cell_type": "markdown",
   "metadata": {
    "id": "HOzAKQ-SLGX6"
   },
   "source": [
    "* [1. Problem Definition](#0)\n",
    "* [2. Getting Started - Load Python packages](#1)\n",
    "    * [2.1. Install Packages](#1.1)    \n",
    "    * [2.2. Check Additional Packages](#1.2)\n",
    "    * [2.3. Import Packages](#1.3)\n",
    "    * [2.4. Create Folders](#1.4)\n",
    "* [3. Download Data](#2)\n",
    "* [4. Preprocess Data](#3)        \n",
    "    * [4.1. Technical Indicators](#3.1)\n",
    "    * [4.2. Perform Feature Engineering](#3.2)\n",
    "* [5.Build Environment](#4)  \n",
    "    * [5.1. Training & Trade Data Split](#4.1)\n",
    "    * [5.2. User-defined Environment](#4.2)   \n",
    "    * [5.3. Initialize Environment](#4.3)    \n",
    "* [6.Implement DRL Algorithms](#5)  \n",
    "* [7.Backtesting Performance](#6)  \n",
    "    * [7.1. BackTestStats](#6.1)\n",
    "    * [7.2. BackTestPlot](#6.2)   \n",
    "    * [7.3. Baseline Stats](#6.3)   \n",
    "    * [7.3. Compare to Stock Market Index](#6.4)             "
   ]
  },
  {
   "cell_type": "markdown",
   "metadata": {
    "id": "sApkDlD9LIZv"
   },
   "source": [
    "<a id='0'></a>\n",
    "# Part 1. Problem Definition"
   ]
  },
  {
   "cell_type": "markdown",
   "metadata": {
    "id": "HjLD2TZSLKZ-"
   },
   "source": [
    "This problem is to design an automated trading solution for single stock trading. We model the stock trading process as a Markov Decision Process (MDP). We then formulate our trading goal as a maximization problem.\n",
    "\n",
    "The algorithm is trained using Deep Reinforcement Learning (DRL) algorithms and the components of the reinforcement learning environment are:\n",
    "\n",
    "\n",
    "* Action: The action space describes the allowed actions that the agent interacts with the\n",
    "environment. Normally, a ∈ A includes three actions: a ∈ {−1, 0, 1}, where −1, 0, 1 represent\n",
    "selling, holding, and buying one stock. Also, an action can be carried upon multiple shares. We use\n",
    "an action space {−k, ..., −1, 0, 1, ..., k}, where k denotes the number of shares. For example, \"Buy\n",
    "10 shares of AAPL\" or \"Sell 10 shares of AAPL\" are 10 or −10, respectively\n",
    "\n",
    "* Reward function: r(s, a, s′) is the incentive mechanism for an agent to learn a better action. The change of the portfolio value when action a is taken at state s and arriving at new state s',  i.e., r(s, a, s′) = v′ − v, where v′ and v represent the portfolio\n",
    "values at state s′ and s, respectively\n",
    "\n",
    "* State: The state space describes the observations that the agent receives from the environment. Just as a human trader needs to analyze various information before executing a trade, so\n",
    "our trading agent observes many different features to better learn in an interactive environment.\n",
    "\n",
    "* Environment: Dow 30 consituents\n",
    "\n",
    "\n",
    "The data of the single stock that we will be using for this case study is obtained from Yahoo Finance API. The data contains Open-High-Low-Close price and volume.\n"
   ]
  },
  {
   "cell_type": "code",
   "execution_count": null,
   "metadata": {},
   "outputs": [],
   "source": [
    "%load_ext autoreload\n",
    "%autoreload 2"
   ]
  },
  {
   "cell_type": "code",
   "execution_count": null,
   "metadata": {
    "executionInfo": {
     "elapsed": 5,
     "status": "ok",
     "timestamp": 1733332891472,
     "user": {
      "displayName": "Garrett Devaney",
      "userId": "10600170082792839935"
     },
     "user_tz": 300
    },
    "id": "EeMK7Uentj1V"
   },
   "outputs": [],
   "source": [
    "import warnings\n",
    "warnings.filterwarnings(\"ignore\")"
   ]
  },
  {
   "cell_type": "code",
   "execution_count": 3,
   "metadata": {
    "colab": {
     "base_uri": "https://localhost:8080/"
    },
    "executionInfo": {
     "elapsed": 25118,
     "status": "ok",
     "timestamp": 1733332916716,
     "user": {
      "displayName": "Garrett Devaney",
      "userId": "10600170082792839935"
     },
     "user_tz": 300
    },
    "id": "lPqeTTwoh1hn",
    "outputId": "618ec574-3ef7-45e9-e6f6-4d0023b5629d"
   },
   "outputs": [],
   "source": [
    "import pandas as pd\n",
    "import numpy as np\n",
    "import matplotlib\n",
    "import matplotlib.pyplot as plt\n",
    "import datetime\n",
    "import importlib\n",
    "from pathlib import Path\n",
    "\n",
    "from finrl.config_tickers import DOW_30_TICKER\n",
    "from finrl.meta.preprocessor import fixed_yahoodownloader # comment this if you chose other path above\n",
    "importlib.reload(fixed_yahoodownloader) # comment this if you chose other path above\n",
    "from finrl.meta.preprocessor.fixed_yahoodownloader import YahooDownloader #comment this if you chose the other path above\n",
    "\n",
    "from finrl.meta.preprocessor.preprocessors import FeatureEngineer, data_split\n",
    "from finrl.meta.preprocessor.preprocessors import FeatureEngineer, data_split\n",
    "\n",
    "from finrl.plot import backtest_stats, backtest_plot, get_daily_return, get_baseline\n",
    "\n",
    "from pprint import pprint"
   ]
  },
  {
   "cell_type": "markdown",
   "metadata": {
    "id": "T2owTj985RW4"
   },
   "source": [
    "<a id='1.4'></a>\n",
    "## 2 Create Folders"
   ]
  },
  {
   "cell_type": "code",
   "execution_count": 4,
   "metadata": {
    "colab": {
     "base_uri": "https://localhost:8080/"
    },
    "executionInfo": {
     "elapsed": 277,
     "status": "ok",
     "timestamp": 1733332916989,
     "user": {
      "displayName": "Garrett Devaney",
      "userId": "10600170082792839935"
     },
     "user_tz": 300
    },
    "id": "w9A8CN5R5PuZ",
    "outputId": "e6fcf046-493c-4de4-9b0d-8740f8776b8a"
   },
   "outputs": [
    {
     "name": "stdout",
     "output_type": "stream",
     "text": [
      "datasets\n"
     ]
    }
   ],
   "source": [
    "from pathlib import Path\n",
    "from finrl.config import (\n",
    "    DATA_SAVE_DIR,\n",
    "    TRAINED_MODEL_DIR,\n",
    "    TENSORBOARD_LOG_DIR,\n",
    "    RESULTS_DIR,\n",
    "    # INDICATORS,\n",
    "    # TRAIN_START_DATE,\n",
    "    # TRAIN_END_DATE,\n",
    "    # TEST_START_DATE,\n",
    "    # TEST_END_DATE,\n",
    ")\n",
    "\n",
    "print(DATA_SAVE_DIR)\n",
    "\n",
    "for directory in [DATA_SAVE_DIR, TRAINED_MODEL_DIR, TENSORBOARD_LOG_DIR, RESULTS_DIR]:\n",
    "    Path(directory).mkdir(parents=True, exist_ok=True)"
   ]
  },
  {
   "cell_type": "code",
   "execution_count": 5,
   "metadata": {},
   "outputs": [
    {
     "name": "stdout",
     "output_type": "stream",
     "text": [
      "['AXP', 'AMGN', 'AAPL', 'BA', 'CAT', 'CSCO', 'CVX', 'GS', 'HD', 'HON', 'IBM', 'INTC', 'JNJ', 'KO', 'JPM', 'MCD', 'MMM', 'MRK', 'MSFT', 'NKE', 'PG', 'TRV', 'UNH', 'CRM', 'VZ', 'V', 'WBA', 'WMT', 'DIS', 'DOW']\n"
     ]
    }
   ],
   "source": [
    "# overwriting configs\n",
    "INDICATORS = ['macd',\n",
    "        'rsi_30',\n",
    "        'cci_30',\n",
    "        'dx_30']\n",
    "\n",
    "TRAIN_START_DATE = '2019-03-01'\n",
    "TRAIN_END_DATE = '2023-03-01'\n",
    "TEST_START_DATE = '2023-03-01'\n",
    "TEST_END_DATE = '2024-03-01'\n",
    "\n",
    "print(DOW_30_TICKER)"
   ]
  },
  {
   "cell_type": "markdown",
   "metadata": {
    "id": "A289rQWMh1hq"
   },
   "source": [
    "<a id='2'></a>\n",
    "# Part 3. Download Data\n",
    "Yahoo Finance is a website that provides stock data, financial news, financial reports, etc. All the data provided by Yahoo Finance is free.\n",
    "* FinRL uses a class **YahooDownloader** to fetch data from Yahoo Finance API\n",
    "* Call Limit: Using the Public API (without authentication), you are limited to 2,000 requests per hour per IP (or up to a total of 48,000 requests a day).\n"
   ]
  },
  {
   "cell_type": "markdown",
   "metadata": {
    "id": "NPeQ7iS-LoMm"
   },
   "source": [
    "\n",
    "\n",
    "-----\n",
    "class YahooDownloader:\n",
    "    Provides methods for retrieving daily stock data from\n",
    "    Yahoo Finance API\n",
    "\n",
    "    Attributes\n",
    "    ----------\n",
    "        start_date : str\n",
    "            start date of the data (modified from config.py)\n",
    "        end_date : str\n",
    "            end date of the data (modified from config.py)\n",
    "        ticker_list : list\n",
    "            a list of stock tickers (modified from config.py)\n",
    "\n",
    "    Methods\n",
    "    -------\n",
    "    fetch_data()\n",
    "        Fetches data from yahoo API\n"
   ]
  },
  {
   "cell_type": "code",
   "execution_count": 6,
   "metadata": {
    "colab": {
     "base_uri": "https://localhost:8080/"
    },
    "collapsed": true,
    "executionInfo": {
     "elapsed": 12025,
     "status": "ok",
     "timestamp": 1733332929013,
     "user": {
      "displayName": "Garrett Devaney",
      "userId": "10600170082792839935"
     },
     "user_tz": 300
    },
    "id": "yCKm4om-s9kE",
    "outputId": "1a2b5a98-2f33-4be8-8832-1b6874c5c661"
   },
   "outputs": [
    {
     "name": "stderr",
     "output_type": "stream",
     "text": [
      "[*********************100%***********************]  1 of 1 completed\n",
      "[*********************100%***********************]  1 of 1 completed\n",
      "[*********************100%***********************]  1 of 1 completed\n",
      "[*********************100%***********************]  1 of 1 completed\n",
      "[*********************100%***********************]  1 of 1 completed\n",
      "[*********************100%***********************]  1 of 1 completed\n",
      "[*********************100%***********************]  1 of 1 completed\n",
      "[*********************100%***********************]  1 of 1 completed\n",
      "[*********************100%***********************]  1 of 1 completed\n",
      "[*********************100%***********************]  1 of 1 completed\n",
      "[*********************100%***********************]  1 of 1 completed\n",
      "[*********************100%***********************]  1 of 1 completed\n",
      "[*********************100%***********************]  1 of 1 completed\n",
      "[*********************100%***********************]  1 of 1 completed\n",
      "[*********************100%***********************]  1 of 1 completed\n",
      "[*********************100%***********************]  1 of 1 completed\n",
      "[*********************100%***********************]  1 of 1 completed\n",
      "[*********************100%***********************]  1 of 1 completed\n",
      "[*********************100%***********************]  1 of 1 completed\n",
      "[*********************100%***********************]  1 of 1 completed\n",
      "[*********************100%***********************]  1 of 1 completed\n",
      "[*********************100%***********************]  1 of 1 completed\n",
      "[*********************100%***********************]  1 of 1 completed\n",
      "[*********************100%***********************]  1 of 1 completed\n",
      "[*********************100%***********************]  1 of 1 completed\n",
      "[*********************100%***********************]  1 of 1 completed\n",
      "[*********************100%***********************]  1 of 1 completed\n",
      "[*********************100%***********************]  1 of 1 completed\n",
      "[*********************100%***********************]  1 of 1 completed\n",
      "[*********************100%***********************]  1 of 1 completed\n"
     ]
    },
    {
     "name": "stdout",
     "output_type": "stream",
     "text": [
      "Shape of DataFrame:  (37757, 8)\n",
      "Display DataFrame:           date       close        high         low        open   volume  tic  \\\n",
      "0  2019-03-01  100.604881  109.650002  108.199997  108.400002  2682000  AXP   \n",
      "1  2019-03-04  100.697250  110.089996  107.760002  109.559998  4053200  AXP   \n",
      "2  2019-03-05  100.558685  109.320000  108.320000  109.029999  2685700  AXP   \n",
      "3  2019-03-06  100.678787  109.449997  108.849998  108.930000  2616000  AXP   \n",
      "4  2019-03-07   99.644081  108.629997  107.400002  108.559998  3048200  AXP   \n",
      "\n",
      "   day  \n",
      "0    4  \n",
      "1    0  \n",
      "2    1  \n",
      "3    2  \n",
      "4    3  \n"
     ]
    }
   ],
   "source": [
    "df = YahooDownloader(start_date = TRAIN_START_DATE,\n",
    "                     end_date = TEST_END_DATE,\n",
    "                     ticker_list = DOW_30_TICKER).fetch_data()"
   ]
  },
  {
   "cell_type": "markdown",
   "metadata": {
    "id": "uqC6c40Zh1iH"
   },
   "source": [
    "# Part 4: Preprocess Data\n",
    "Data preprocessing is a crucial step for training a high quality machine learning model. We need to check for missing data and do feature engineering in order to convert the data into a model-ready state.\n",
    "* Add technical indicators. In practical trading, various information needs to be taken into account, for example the historical stock prices, current holding shares, technical indicators, etc. In this article, we demonstrate two trend-following technical indicators: MACD and RSI.\n",
    "* Add turbulence index. Risk-aversion reflects whether an investor will choose to preserve the capital. It also influences one's trading strategy when facing different market volatility level. To control the risk in a worst-case scenario, such as financial crisis of 2007–2008, FinRL employs the financial turbulence index that measures extreme asset price fluctuation."
   ]
  },
  {
   "cell_type": "code",
   "execution_count": 7,
   "metadata": {
    "colab": {
     "base_uri": "https://localhost:8080/"
    },
    "executionInfo": {
     "elapsed": 16738,
     "status": "ok",
     "timestamp": 1733332945747,
     "user": {
      "displayName": "Garrett Devaney",
      "userId": "10600170082792839935"
     },
     "user_tz": 300
    },
    "id": "jgXfBcjxtj1a",
    "outputId": "7bb61c20-efd6-49c9-9ec9-8c1f563535e2"
   },
   "outputs": [
    {
     "name": "stdout",
     "output_type": "stream",
     "text": [
      "Successfully added technical indicators\n",
      "Successfully added turbulence index\n"
     ]
    }
   ],
   "source": [
    "def preprocess_dataframe(df):\n",
    "    fe = FeatureEngineer(use_technical_indicator=True,\n",
    "                            tech_indicator_list = INDICATORS,\n",
    "                            use_turbulence=True,\n",
    "                            user_defined_feature = False)\n",
    "\n",
    "    processed = fe.preprocess_data(df)\n",
    "    processed = processed.copy()\n",
    "    processed = processed.fillna(0)\n",
    "    processed = processed.replace(np.inf,0)\n",
    "    return processed\n",
    "\n",
    "processed = preprocess_dataframe(df)"
   ]
  },
  {
   "cell_type": "markdown",
   "metadata": {
    "id": "-QsYaY0Dh1iw"
   },
   "source": [
    "<a id='4'></a>\n",
    "# Part 5. Design Environment\n",
    "Considering the stochastic and interactive nature of the automated stock trading tasks, a financial task is modeled as a **Markov Decision Process (MDP)** problem. The training process involves observing stock price change, taking an action and reward's calculation to have the agent adjusting its strategy accordingly. By interacting with the environment, the trading agent will derive a trading strategy with the maximized rewards as time proceeds.\n",
    "\n",
    "Our trading environments, based on OpenAI Gym framework, simulate live stock markets with real market data according to the principle of time-driven simulation.\n",
    "\n",
    "The action space describes the allowed actions that the agent interacts with the environment. Normally, action a includes three actions: {-1, 0, 1}, where -1, 0, 1 represent selling, holding, and buying one share. Also, an action can be carried upon multiple shares. We use an action space {-k,…,-1, 0, 1, …, k}, where k denotes the number of shares to buy and -k denotes the number of shares to sell. For example, \"Buy 10 shares of AAPL\" or \"Sell 10 shares of AAPL\" are 10 or -10, respectively. The continuous action space needs to be normalized to [-1, 1], since the policy is defined on a Gaussian distribution, which needs to be normalized and symmetric."
   ]
  },
  {
   "cell_type": "code",
   "execution_count": 8,
   "metadata": {
    "colab": {
     "base_uri": "https://localhost:8080/"
    },
    "executionInfo": {
     "elapsed": 6,
     "status": "ok",
     "timestamp": 1733332945748,
     "user": {
      "displayName": "Garrett Devaney",
      "userId": "10600170082792839935"
     },
     "user_tz": 300
    },
    "id": "Q2zqII8rMIqn",
    "outputId": "f05fe5c4-2fae-4852-d270-5e0d37273b63"
   },
   "outputs": [
    {
     "name": "stdout",
     "output_type": "stream",
     "text": [
      "Stock Dimension: 29, State Space: 175\n"
     ]
    }
   ],
   "source": [
    "stock_dimension = len(processed.tic.unique())\n",
    "state_space = 1 + 2*stock_dimension + len(INDICATORS)*stock_dimension\n",
    "print(f\"Stock Dimension: {stock_dimension}, State Space: {state_space}\")\n"
   ]
  },
  {
   "cell_type": "code",
   "execution_count": 9,
   "metadata": {
    "executionInfo": {
     "elapsed": 5,
     "status": "ok",
     "timestamp": 1733332945748,
     "user": {
      "displayName": "Garrett Devaney",
      "userId": "10600170082792839935"
     },
     "user_tz": 300
    },
    "id": "AWyp84Ltto19"
   },
   "outputs": [],
   "source": [
    "env_kwargs = {\n",
    "    \"stock_dim\": stock_dimension,\n",
    "    \"hmax\": 100,\n",
    "    \"initial_amount\": 1000000,\n",
    "    \"buy_cost_pct\": 0.001,\n",
    "    \"sell_cost_pct\": 0.001,\n",
    "    \"reward_scaling\": 1e-4,\n",
    "    \"state_space\": state_space,\n",
    "    \"action_space\": stock_dimension,\n",
    "    \"tech_indicator_list\": INDICATORS,\n",
    "    \"print_verbosity\":5\n",
    "}\n",
    "\n",
    "rebalance_window = 63\n",
    "validation_window = 63"
   ]
  },
  {
   "cell_type": "markdown",
   "metadata": {
    "id": "HMNR5nHjh1iz"
   },
   "source": [
    "<a id='5'></a>\n",
    "# Part 6: Implement DRL Algorithms\n",
    "* The implementation of the DRL algorithms are based on **OpenAI Baselines** and **Stable Baselines**. Stable Baselines is a fork of OpenAI Baselines, with a major structural refactoring, and code cleanups.\n",
    "\n",
    "* The paper trains and validates 3 model-free agents (A2C, PPO, DDPG) using Rolling-Window Ensemble Method ([reference code](https://github.com/AI4Finance-LLC/Deep-Reinforcement-Learning-for-Automated-Stock-Trading-Ensemble-Strategy-ICAIF-2020/blob/80415db8fa7b2179df6bd7e81ce4fe8dbf913806/model/models.py#L92))\n",
    "\n",
    "* We train and validate 2 model-based agents (Random Shooting and PETS) using the sam Rolling-Window method without Ensembling."
   ]
  },
  {
   "cell_type": "code",
   "execution_count": 10,
   "metadata": {},
   "outputs": [],
   "source": [
    "from finrl.agents.stablebaselines3.pets_model import PETSAgent\n",
    "from finrl.agents.stablebaselines3.pets_no_ensemble_model import PETS_NO_ENSEMBLEAgent"
   ]
  },
  {
   "cell_type": "code",
   "execution_count": 11,
   "metadata": {},
   "outputs": [],
   "source": [
    "model_names = [\"PETS\", \"PETS_NO_ENSEMBLE\"]\n",
    "models = {}\n",
    "df_summaries = {}"
   ]
  },
  {
   "cell_type": "code",
   "execution_count": 12,
   "metadata": {
    "executionInfo": {
     "elapsed": 4,
     "status": "ok",
     "timestamp": 1733343972911,
     "user": {
      "displayName": "Garrett Devaney",
      "userId": "10600170082792839935"
     },
     "user_tz": 300
    },
    "id": "6LGEMCUUFNET"
   },
   "outputs": [],
   "source": [
    "pets_params = {\n",
    "    \"hidden_dim\": 64,\n",
    "    \"lr\": 1e-4,\n",
    "    \"epochs\": 100,\n",
    "    \"horizon\": 10,\n",
    "}\n",
    "\n",
    "# The reason we need two file and two class is due to the bad modularization of the original code\n",
    "models[\"PETS\"] = PETSAgent(df=processed,\n",
    "                 train_period=(TRAIN_START_DATE,TRAIN_END_DATE),\n",
    "                 val_test_period=(TEST_START_DATE,TEST_END_DATE),\n",
    "                 rebalance_window=rebalance_window,\n",
    "                 validation_window=validation_window,\n",
    "                 **env_kwargs,\n",
    "                 **pets_params,\n",
    "                 ensemble_size=5)\n",
    "\n",
    "models[\"PETS_NO_ENSEMBLE\"]  = PETS_NO_ENSEMBLEAgent(df=processed,\n",
    "                    train_period=(TRAIN_START_DATE,TRAIN_END_DATE),\n",
    "                    val_test_period=(TEST_START_DATE,TEST_END_DATE),\n",
    "                    rebalance_window=rebalance_window,\n",
    "                    validation_window=validation_window,\n",
    "                    **env_kwargs,\n",
    "                    **pets_params,\n",
    "                    ensemble_size=1)"
   ]
  },
  {
   "cell_type": "code",
   "execution_count": 13,
   "metadata": {
    "colab": {
     "base_uri": "https://localhost:8080/",
     "height": 1000
    },
    "executionInfo": {
     "elapsed": 3876032,
     "status": "ok",
     "timestamp": 1733347848939,
     "user": {
      "displayName": "Garrett Devaney",
      "userId": "10600170082792839935"
     },
     "user_tz": 300
    },
    "id": "IAURAz42FNHN",
    "outputId": "1bdf452a-4858-4fea-b53c-f5d211ec2130"
   },
   "outputs": [
    {
     "name": "stdout",
     "output_type": "stream",
     "text": [
      "============Start PETS Strategy============\n",
      "============================================\n",
      "turbulence_threshold:  311.88575895917813\n",
      "======Model training from:  2019-03-01 to  2023-03-02\n",
      "======PETS Training (PETS)========\n",
      "day: 1007, episode: 5\n",
      "begin_total_asset: 1000000.00\n",
      "end_total_asset: 1265814.02\n",
      "total_reward: 265814.02\n",
      "total_cost: 167215.18\n",
      "total_trades: 27108\n",
      "Sharpe: 0.378\n",
      "=================================\n",
      "======PETS Validation from:  2023-03-02 to  2023-06-01\n",
      "PETS Sharpe Ratio:  -0.09892709376018709\n",
      "======Trading from:  2023-06-01 to  2023-08-31\n",
      "============================================\n",
      "turbulence_threshold:  311.88575895917813\n",
      "======Model training from:  2019-03-01 to  2023-06-01\n",
      "======PETS Training (PETS)========\n",
      "day: 1070, episode: 5\n",
      "begin_total_asset: 1000000.00\n",
      "end_total_asset: 1093808.01\n",
      "total_reward: 93808.01\n",
      "total_cost: 181538.28\n",
      "total_trades: 28859\n",
      "Sharpe: 0.206\n",
      "=================================\n",
      "======PETS Validation from:  2023-06-01 to  2023-08-31\n",
      "PETS Sharpe Ratio:  1.2759302103580652\n",
      "======Trading from:  2023-08-31 to  2023-11-30\n",
      "Strategy took:  6.877696696917216  minutes\n",
      "============Start PETS_NO_ENSEMBLE Strategy============\n",
      "============================================\n",
      "turbulence_threshold:  311.88575895917813\n",
      "======Model training from:  2019-03-01 to  2023-03-02\n",
      "======PETS_NO_ENSEMBLE Training (PETS_NO_ENSEMBLE)========\n",
      "day: 1007, episode: 5\n",
      "begin_total_asset: 1000000.00\n",
      "end_total_asset: 1063491.89\n",
      "total_reward: 63491.89\n",
      "total_cost: 163162.18\n",
      "total_trades: 27080\n",
      "Sharpe: 0.183\n",
      "=================================\n",
      "======PETS_NO_ENSEMBLE Validation from:  2023-03-02 to  2023-06-01\n",
      "PETS_NO_ENSEMBLE Sharpe Ratio:  0.5405436745884098\n",
      "======Trading from:  2023-06-01 to  2023-08-31\n",
      "============================================\n",
      "turbulence_threshold:  311.88575895917813\n",
      "======Model training from:  2019-03-01 to  2023-06-01\n",
      "======PETS_NO_ENSEMBLE Training (PETS_NO_ENSEMBLE)========\n",
      "day: 1070, episode: 5\n",
      "begin_total_asset: 1000000.00\n",
      "end_total_asset: 1152905.63\n",
      "total_reward: 152905.63\n",
      "total_cost: 174829.99\n",
      "total_trades: 28490\n",
      "Sharpe: 0.264\n",
      "=================================\n",
      "======PETS_NO_ENSEMBLE Validation from:  2023-06-01 to  2023-08-31\n",
      "PETS_NO_ENSEMBLE Sharpe Ratio:  0.8936419177232351\n",
      "======Trading from:  2023-08-31 to  2023-11-30\n",
      "Strategy took:  3.313398214181264  minutes\n"
     ]
    }
   ],
   "source": [
    "for model_name, model in models.items():\n",
    "    df_summaries[model_name] = model.run_strategy(10000)"
   ]
  },
  {
   "cell_type": "markdown",
   "metadata": {
    "id": "W6vvNSC6h1jZ"
   },
   "source": [
    "<a id='6'></a>\n",
    "# Part 7: Backtest Our Strategy\n",
    "Backtesting plays a key role in evaluating the performance of a trading strategy. Automated backtesting tool is preferred because it reduces the human error. We usually use the Quantopian pyfolio package to backtest our trading strategies. It is easy to use and consists of various individual plots that provide a comprehensive image of the performance of a trading strategy."
   ]
  },
  {
   "cell_type": "code",
   "execution_count": 14,
   "metadata": {},
   "outputs": [],
   "source": [
    "unique_trade_date = processed[(processed.date > TEST_START_DATE)&(processed.date <= TEST_END_DATE)].date.unique()\n",
    "df_trade_date = pd.DataFrame({'datadate':unique_trade_date})"
   ]
  },
  {
   "cell_type": "code",
   "execution_count": 15,
   "metadata": {},
   "outputs": [
    {
     "name": "stdout",
     "output_type": "stream",
     "text": [
      "Reading account value data for PETS at 126th trade date at results/account_value_trade_PETS_126.csv\n",
      "Reading account value data for PETS at 189th trade date at results/account_value_trade_PETS_189.csv\n",
      "Sharpe Ratio for PETS: 0.28277599529327535\n",
      "Reading account value data for PETS_NO_ENSEMBLE at 126th trade date at results/account_value_trade_PETS_NO_ENSEMBLE_126.csv\n",
      "Reading account value data for PETS_NO_ENSEMBLE at 189th trade date at results/account_value_trade_PETS_NO_ENSEMBLE_189.csv\n",
      "Sharpe Ratio for PETS_NO_ENSEMBLE: 0.9400110039928963\n",
      "==============Get Baseline Stats===========\n"
     ]
    },
    {
     "name": "stderr",
     "output_type": "stream",
     "text": [
      "[*********************100%***********************]  1 of 1 completed\n"
     ]
    },
    {
     "name": "stdout",
     "output_type": "stream",
     "text": [
      "Shape of DataFrame:  (125, 8)\n",
      "Annual return          0.152522\n",
      "Cumulative returns     0.072951\n",
      "Annual volatility      0.098310\n",
      "Sharpe ratio           1.504662\n",
      "Calmar ratio           1.780465\n",
      "Stability              0.014969\n",
      "Max drawdown          -0.085664\n",
      "Omega ratio            1.276237\n",
      "Sortino ratio          2.421796\n",
      "Skew                        NaN\n",
      "Kurtosis                    NaN\n",
      "Tail ratio             1.319433\n",
      "Daily value at risk   -0.011799\n",
      "dtype: float64\n"
     ]
    },
    {
     "data": {
      "text/plain": [
       "<Figure size 1500x500 with 0 Axes>"
      ]
     },
     "metadata": {},
     "output_type": "display_data"
    },
    {
     "data": {
      "image/png": "[encoded data removed]",
      "text/plain": [
       "<Figure size 1500x500 with 1 Axes>"
      ]
     },
     "metadata": {},
     "output_type": "display_data"
    }
   ],
   "source": [
    "# Initialize DataFrame for account values\n",
    "df_account_value = pd.DataFrame()\n",
    "\n",
    "# Process account value data for each model\n",
    "for model in model_names:\n",
    "    for i in range(rebalance_window + validation_window, len(unique_trade_date) + 1, rebalance_window):\n",
    "        file_name = f\"results/account_value_trade_{model}_{i}.csv\"\n",
    "        temp = pd.read_csv(file_name)\n",
    "        print(f\"Reading account value data for {model} at {i}th trade date at {file_name}\")\n",
    "        temp['model'] = model\n",
    "        df_account_value = pd.concat([df_account_value, temp], ignore_index=True)\n",
    "    sharpe=(252**0.5)*df_account_value.account_value.pct_change(1).mean()/df_account_value.account_value.pct_change(1).std()\n",
    "    print(f\"Sharpe Ratio for {model}: {sharpe}\")\n",
    "\n",
    "# Calculate Sharpe ratio\n",
    "sharpe = (252**0.5) * df_account_value.account_value.pct_change(1).mean() / df_account_value.account_value.pct_change(1).std()\n",
    "\n",
    "# Map model names to DataFrames\n",
    "model_account_values = {}\n",
    "for model in model_names:\n",
    "    model_account_values[model] = df_account_value[df_account_value['model'] == model].join(\n",
    "        df_trade_date[validation_window:].reset_index(drop=True)\n",
    "    )\n",
    "\n",
    "# Save individual model results\n",
    "for model, df_model in model_account_values.items():\n",
    "    df_result = pd.DataFrame({'date': df_account_value['date'], model: df_model['account_value']})\n",
    "    df_result = df_result.set_index('date')\n",
    "    df_result.to_csv(f\"df_result_{model.lower()}.csv\")\n",
    "\n",
    "# Baseline statistics\n",
    "print(\"==============Get Baseline Stats===========\")\n",
    "df_dji_ = get_baseline(\n",
    "    ticker=\"^DJI\",\n",
    "    start=df_account_value.loc[0, 'date'],\n",
    "    end=df_account_value.loc[len(df_account_value) - 1, 'date']\n",
    ")\n",
    "\n",
    "stats = backtest_stats(df_dji_, value_col_name='close')\n",
    "\n",
    "# Prepare DJI DataFrame\n",
    "df_dji = pd.DataFrame()\n",
    "df_dji['date'] = model_account_values['PETS']['date']  # Assuming 'ensemble' exists in model_names\n",
    "df_dji['dji'] = df_dji_['close'] / df_dji_['close'][0] * env_kwargs[\"initial_amount\"]\n",
    "\n",
    "df_dji.to_csv(\"df_dji.csv\")\n",
    "df_dji = df_dji.set_index(df_dji.columns[0])\n",
    "df_dji.to_csv(\"df_dji+.csv\")\n",
    "\n",
    "# Save the combined account values\n",
    "df_account_value.to_csv('df_account_value.csv')\n",
    "\n",
    "# Combine results into a single DataFrame with consistent indexing\n",
    "result = pd.DataFrame({'date': df_trade_date['datadate']})  # Use df_trade_date as the reference for dates\n",
    "result = result.set_index('date')\n",
    "\n",
    "# Merge each model's account value into the result DataFrame, aligning by date\n",
    "for model, df_model in model_account_values.items():\n",
    "    temp = pd.DataFrame({'date': df_model['date'], model: df_model['account_value']}).set_index('date')\n",
    "    result = result.merge(temp, how='left', left_index=True, right_index=True)\n",
    "\n",
    "# Add DJI to the results, aligning by date\n",
    "df_dji_temp = df_dji.rename(columns={'dji': '^DJI'})\n",
    "result = result.merge(df_dji_temp, how='left', left_index=True, right_index=True)\n",
    "\n",
    "# Save the combined results\n",
    "result.to_csv(\"result.csv\")\n",
    "\n",
    "# Plot the results\n",
    "%matplotlib inline\n",
    "plt.rcParams[\"figure.figsize\"] = (15, 5)\n",
    "plt.figure()\n",
    "result.plot()\n",
    "plt.title(\"Performance Comparison of Models\")\n",
    "plt.ylabel(\"Account Value\")\n",
    "plt.xlabel(\"Date\")\n",
    "plt.show()\n"
   ]
  },
  {
   "cell_type": "code",
   "execution_count": null,
   "metadata": {},
   "outputs": [],
   "source": []
  }
 ],
 "metadata": {
  "accelerator": "GPU",
  "colab": {
   "provenance": [
    {
     "file_id": "14FK1JfL4vQP-9DtSg1wJkUUhsyF6ZmgT",
     "timestamp": 1733254171268
    }
   ]
  },
  "kernelspec": {
   "display_name": "finrl",
   "language": "python",
   "name": "python3"
  },
  "language_info": {
   "codemirror_mode": {
    "name": "ipython",
    "version": 3
   },
   "file_extension": ".py",
   "mimetype": "text/x-python",
   "name": "python",
   "nbconvert_exporter": "python",
   "pygments_lexer": "ipython3",
   "version": "3.10.15"
  },
  "pycharm": {
   "stem_cell": {
    "cell_type": "raw",
    "metadata": {
     "collapsed": false
    },
    "source": []
   }
  }
 },
 "nbformat": 4,
 "nbformat_minor": 0
}
