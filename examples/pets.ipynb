{
 "cells": [
  {
   "attachments": {},
   "cell_type": "markdown",
   "metadata": {},
   "source": [
    "# PETS for FINRL"
   ]
  },
  {
   "cell_type": "code",
   "execution_count": 1,
   "metadata": {},
   "outputs": [],
   "source": [
    "%load_ext autoreload\n",
    "%autoreload 2"
   ]
  },
  {
   "attachments": {},
   "cell_type": "markdown",
   "metadata": {},
   "source": [
    "### Install libraries"
   ]
  },
  {
   "cell_type": "code",
   "execution_count": 2,
   "metadata": {},
   "outputs": [
    {
     "name": "stdout",
     "output_type": "stream",
     "text": [
      "Requirement already satisfied: wrds in /storage/ice1/9/3/skamath36/.conda/envs/cs8803drl_hw2/lib/python3.10/site-packages (3.2.0)\n",
      "Requirement already satisfied: numpy<1.27,>=1.26 in /storage/ice1/9/3/skamath36/.conda/envs/cs8803drl_hw2/lib/python3.10/site-packages (from wrds) (1.26.4)\n",
      "Requirement already satisfied: packaging<23.3 in /storage/ice1/9/3/skamath36/.conda/envs/cs8803drl_hw2/lib/python3.10/site-packages (from wrds) (23.2)\n",
      "Requirement already satisfied: pandas<2.3,>=2.2 in /storage/ice1/9/3/skamath36/.conda/envs/cs8803drl_hw2/lib/python3.10/site-packages (from wrds) (2.2.3)\n",
      "Requirement already satisfied: psycopg2-binary<2.10,>=2.9 in /storage/ice1/9/3/skamath36/.conda/envs/cs8803drl_hw2/lib/python3.10/site-packages (from wrds) (2.9.10)\n",
      "Requirement already satisfied: scipy<1.13,>=1.12 in /storage/ice1/9/3/skamath36/.conda/envs/cs8803drl_hw2/lib/python3.10/site-packages (from wrds) (1.12.0)\n",
      "Requirement already satisfied: sqlalchemy<2.1,>=2 in /storage/ice1/9/3/skamath36/.conda/envs/cs8803drl_hw2/lib/python3.10/site-packages (from wrds) (2.0.36)\n",
      "Requirement already satisfied: python-dateutil>=2.8.2 in /storage/ice1/9/3/skamath36/.conda/envs/cs8803drl_hw2/lib/python3.10/site-packages (from pandas<2.3,>=2.2->wrds) (2.9.0.post0)\n",
      "Requirement already satisfied: pytz>=2020.1 in /storage/ice1/9/3/skamath36/.conda/envs/cs8803drl_hw2/lib/python3.10/site-packages (from pandas<2.3,>=2.2->wrds) (2024.2)\n",
      "Requirement already satisfied: tzdata>=2022.7 in /storage/ice1/9/3/skamath36/.conda/envs/cs8803drl_hw2/lib/python3.10/site-packages (from pandas<2.3,>=2.2->wrds) (2024.2)\n",
      "Requirement already satisfied: typing-extensions>=4.6.0 in /storage/ice1/9/3/skamath36/.conda/envs/cs8803drl_hw2/lib/python3.10/site-packages (from sqlalchemy<2.1,>=2->wrds) (4.12.2)\n",
      "Requirement already satisfied: greenlet!=0.4.17 in /storage/ice1/9/3/skamath36/.conda/envs/cs8803drl_hw2/lib/python3.10/site-packages (from sqlalchemy<2.1,>=2->wrds) (3.1.1)\n",
      "Requirement already satisfied: six>=1.5 in /storage/ice1/9/3/skamath36/.conda/envs/cs8803drl_hw2/lib/python3.10/site-packages (from python-dateutil>=2.8.2->pandas<2.3,>=2.2->wrds) (1.16.0)\n",
      "Requirement already satisfied: swig in /storage/ice1/9/3/skamath36/.conda/envs/cs8803drl_hw2/lib/python3.10/site-packages (4.3.0)\n",
      "Requirement already satisfied: gymnasium in /storage/ice1/9/3/skamath36/.conda/envs/cs8803drl_hw2/lib/python3.10/site-packages (1.0.0)\n",
      "Requirement already satisfied: numpy>=1.21.0 in /storage/ice1/9/3/skamath36/.conda/envs/cs8803drl_hw2/lib/python3.10/site-packages (from gymnasium) (1.26.4)\n",
      "Requirement already satisfied: cloudpickle>=1.2.0 in /home/hice1/skamath36/.local/lib/python3.10/site-packages (from gymnasium) (3.1.0)\n",
      "Requirement already satisfied: typing-extensions>=4.3.0 in /storage/ice1/9/3/skamath36/.conda/envs/cs8803drl_hw2/lib/python3.10/site-packages (from gymnasium) (4.12.2)\n",
      "Requirement already satisfied: farama-notifications>=0.0.1 in /storage/ice1/9/3/skamath36/.conda/envs/cs8803drl_hw2/lib/python3.10/site-packages (from gymnasium) (0.0.4)\n",
      "Requirement already satisfied: stable-baselines3 in /storage/ice1/9/3/skamath36/.conda/envs/cs8803drl_hw2/lib/python3.10/site-packages (2.5.0a0)\n",
      "Requirement already satisfied: gymnasium<1.1.0,>=0.29.1 in /storage/ice1/9/3/skamath36/.conda/envs/cs8803drl_hw2/lib/python3.10/site-packages (from stable-baselines3) (1.0.0)\n",
      "Requirement already satisfied: numpy<3.0,>=1.20 in /storage/ice1/9/3/skamath36/.conda/envs/cs8803drl_hw2/lib/python3.10/site-packages (from stable-baselines3) (1.26.4)\n",
      "Requirement already satisfied: torch<3.0,>=2.3 in /storage/ice1/9/3/skamath36/.conda/envs/cs8803drl_hw2/lib/python3.10/site-packages (from stable-baselines3) (2.3.0.post101)\n",
      "Requirement already satisfied: cloudpickle in /home/hice1/skamath36/.local/lib/python3.10/site-packages (from stable-baselines3) (3.1.0)\n",
      "Requirement already satisfied: pandas in /storage/ice1/9/3/skamath36/.conda/envs/cs8803drl_hw2/lib/python3.10/site-packages (from stable-baselines3) (2.2.3)\n",
      "Requirement already satisfied: matplotlib in /storage/ice1/9/3/skamath36/.conda/envs/cs8803drl_hw2/lib/python3.10/site-packages (from stable-baselines3) (3.9.2)\n",
      "Requirement already satisfied: typing-extensions>=4.3.0 in /storage/ice1/9/3/skamath36/.conda/envs/cs8803drl_hw2/lib/python3.10/site-packages (from gymnasium<1.1.0,>=0.29.1->stable-baselines3) (4.12.2)\n",
      "Requirement already satisfied: farama-notifications>=0.0.1 in /storage/ice1/9/3/skamath36/.conda/envs/cs8803drl_hw2/lib/python3.10/site-packages (from gymnasium<1.1.0,>=0.29.1->stable-baselines3) (0.0.4)\n",
      "Requirement already satisfied: filelock in /storage/ice1/9/3/skamath36/.conda/envs/cs8803drl_hw2/lib/python3.10/site-packages (from torch<3.0,>=2.3->stable-baselines3) (3.13.1)\n",
      "Requirement already satisfied: sympy in /storage/ice1/9/3/skamath36/.conda/envs/cs8803drl_hw2/lib/python3.10/site-packages (from torch<3.0,>=2.3->stable-baselines3) (1.13.2)\n",
      "Requirement already satisfied: networkx in /storage/ice1/9/3/skamath36/.conda/envs/cs8803drl_hw2/lib/python3.10/site-packages (from torch<3.0,>=2.3->stable-baselines3) (3.3)\n",
      "Requirement already satisfied: jinja2 in /storage/ice1/9/3/skamath36/.conda/envs/cs8803drl_hw2/lib/python3.10/site-packages (from torch<3.0,>=2.3->stable-baselines3) (3.1.4)\n",
      "Requirement already satisfied: fsspec in /storage/ice1/9/3/skamath36/.conda/envs/cs8803drl_hw2/lib/python3.10/site-packages (from torch<3.0,>=2.3->stable-baselines3) (2024.6.1)\n",
      "Requirement already satisfied: contourpy>=1.0.1 in /storage/ice1/9/3/skamath36/.conda/envs/cs8803drl_hw2/lib/python3.10/site-packages (from matplotlib->stable-baselines3) (1.3.0)\n",
      "Requirement already satisfied: cycler>=0.10 in /storage/ice1/9/3/skamath36/.conda/envs/cs8803drl_hw2/lib/python3.10/site-packages (from matplotlib->stable-baselines3) (0.12.1)\n",
      "Requirement already satisfied: fonttools>=4.22.0 in /storage/ice1/9/3/skamath36/.conda/envs/cs8803drl_hw2/lib/python3.10/site-packages (from matplotlib->stable-baselines3) (4.54.1)\n",
      "Requirement already satisfied: kiwisolver>=1.3.1 in /storage/ice1/9/3/skamath36/.conda/envs/cs8803drl_hw2/lib/python3.10/site-packages (from matplotlib->stable-baselines3) (1.4.7)\n",
      "Requirement already satisfied: packaging>=20.0 in /storage/ice1/9/3/skamath36/.conda/envs/cs8803drl_hw2/lib/python3.10/site-packages (from matplotlib->stable-baselines3) (23.2)\n",
      "Requirement already satisfied: pillow>=8 in /storage/ice1/9/3/skamath36/.conda/envs/cs8803drl_hw2/lib/python3.10/site-packages (from matplotlib->stable-baselines3) (11.0.0)\n",
      "Requirement already satisfied: pyparsing>=2.3.1 in /storage/ice1/9/3/skamath36/.conda/envs/cs8803drl_hw2/lib/python3.10/site-packages (from matplotlib->stable-baselines3) (3.2.0)\n",
      "Requirement already satisfied: python-dateutil>=2.7 in /storage/ice1/9/3/skamath36/.conda/envs/cs8803drl_hw2/lib/python3.10/site-packages (from matplotlib->stable-baselines3) (2.9.0.post0)\n",
      "Requirement already satisfied: pytz>=2020.1 in /storage/ice1/9/3/skamath36/.conda/envs/cs8803drl_hw2/lib/python3.10/site-packages (from pandas->stable-baselines3) (2024.2)\n",
      "Requirement already satisfied: tzdata>=2022.7 in /storage/ice1/9/3/skamath36/.conda/envs/cs8803drl_hw2/lib/python3.10/site-packages (from pandas->stable-baselines3) (2024.2)\n",
      "Requirement already satisfied: six>=1.5 in /storage/ice1/9/3/skamath36/.conda/envs/cs8803drl_hw2/lib/python3.10/site-packages (from python-dateutil>=2.7->matplotlib->stable-baselines3) (1.16.0)\n",
      "Requirement already satisfied: MarkupSafe>=2.0 in /storage/ice1/9/3/skamath36/.conda/envs/cs8803drl_hw2/lib/python3.10/site-packages (from jinja2->torch<3.0,>=2.3->stable-baselines3) (2.1.3)\n",
      "Requirement already satisfied: mpmath<1.4,>=1.1.0 in /storage/ice1/9/3/skamath36/.conda/envs/cs8803drl_hw2/lib/python3.10/site-packages (from sympy->torch<3.0,>=2.3->stable-baselines3) (1.3.0)\n",
      "Requirement already satisfied: stockstats in /storage/ice1/9/3/skamath36/.conda/envs/cs8803drl_hw2/lib/python3.10/site-packages (0.5.4)\n",
      "Requirement already satisfied: pandas>=0.24.2 in /storage/ice1/9/3/skamath36/.conda/envs/cs8803drl_hw2/lib/python3.10/site-packages (from stockstats) (2.2.3)\n",
      "Requirement already satisfied: numpy>=1.22.4 in /storage/ice1/9/3/skamath36/.conda/envs/cs8803drl_hw2/lib/python3.10/site-packages (from pandas>=0.24.2->stockstats) (1.26.4)\n",
      "Requirement already satisfied: python-dateutil>=2.8.2 in /storage/ice1/9/3/skamath36/.conda/envs/cs8803drl_hw2/lib/python3.10/site-packages (from pandas>=0.24.2->stockstats) (2.9.0.post0)\n",
      "Requirement already satisfied: pytz>=2020.1 in /storage/ice1/9/3/skamath36/.conda/envs/cs8803drl_hw2/lib/python3.10/site-packages (from pandas>=0.24.2->stockstats) (2024.2)\n",
      "Requirement already satisfied: tzdata>=2022.7 in /storage/ice1/9/3/skamath36/.conda/envs/cs8803drl_hw2/lib/python3.10/site-packages (from pandas>=0.24.2->stockstats) (2024.2)\n",
      "Requirement already satisfied: six>=1.5 in /storage/ice1/9/3/skamath36/.conda/envs/cs8803drl_hw2/lib/python3.10/site-packages (from python-dateutil>=2.8.2->pandas>=0.24.2->stockstats) (1.16.0)\n",
      "Requirement already satisfied: alpaca-trade-api in /storage/ice1/9/3/skamath36/.conda/envs/cs8803drl_hw2/lib/python3.10/site-packages (3.2.0)\n",
      "Requirement already satisfied: pandas>=0.18.1 in /storage/ice1/9/3/skamath36/.conda/envs/cs8803drl_hw2/lib/python3.10/site-packages (from alpaca-trade-api) (2.2.3)\n",
      "Requirement already satisfied: numpy>=1.11.1 in /storage/ice1/9/3/skamath36/.conda/envs/cs8803drl_hw2/lib/python3.10/site-packages (from alpaca-trade-api) (1.26.4)\n",
      "Requirement already satisfied: requests<3,>2 in /storage/ice1/9/3/skamath36/.conda/envs/cs8803drl_hw2/lib/python3.10/site-packages (from alpaca-trade-api) (2.32.3)\n",
      "Requirement already satisfied: urllib3<2,>1.24 in /storage/ice1/9/3/skamath36/.conda/envs/cs8803drl_hw2/lib/python3.10/site-packages (from alpaca-trade-api) (1.26.20)\n",
      "Requirement already satisfied: websocket-client<2,>=0.56.0 in /storage/ice1/9/3/skamath36/.conda/envs/cs8803drl_hw2/lib/python3.10/site-packages (from alpaca-trade-api) (1.8.0)\n",
      "Requirement already satisfied: websockets<11,>=9.0 in /storage/ice1/9/3/skamath36/.conda/envs/cs8803drl_hw2/lib/python3.10/site-packages (from alpaca-trade-api) (10.4)\n",
      "Requirement already satisfied: msgpack==1.0.3 in /storage/ice1/9/3/skamath36/.conda/envs/cs8803drl_hw2/lib/python3.10/site-packages (from alpaca-trade-api) (1.0.3)\n",
      "Requirement already satisfied: aiohttp<4,>=3.8.3 in /storage/ice1/9/3/skamath36/.conda/envs/cs8803drl_hw2/lib/python3.10/site-packages (from alpaca-trade-api) (3.11.7)\n",
      "Requirement already satisfied: PyYAML==6.0.1 in /storage/ice1/9/3/skamath36/.conda/envs/cs8803drl_hw2/lib/python3.10/site-packages (from alpaca-trade-api) (6.0.1)\n",
      "Requirement already satisfied: deprecation==2.1.0 in /storage/ice1/9/3/skamath36/.conda/envs/cs8803drl_hw2/lib/python3.10/site-packages (from alpaca-trade-api) (2.1.0)\n",
      "Requirement already satisfied: packaging in /storage/ice1/9/3/skamath36/.conda/envs/cs8803drl_hw2/lib/python3.10/site-packages (from deprecation==2.1.0->alpaca-trade-api) (23.2)\n",
      "Requirement already satisfied: aiohappyeyeballs>=2.3.0 in /storage/ice1/9/3/skamath36/.conda/envs/cs8803drl_hw2/lib/python3.10/site-packages (from aiohttp<4,>=3.8.3->alpaca-trade-api) (2.4.3)\n",
      "Requirement already satisfied: aiosignal>=1.1.2 in /storage/ice1/9/3/skamath36/.conda/envs/cs8803drl_hw2/lib/python3.10/site-packages (from aiohttp<4,>=3.8.3->alpaca-trade-api) (1.3.1)\n",
      "Requirement already satisfied: async-timeout<6.0,>=4.0 in /storage/ice1/9/3/skamath36/.conda/envs/cs8803drl_hw2/lib/python3.10/site-packages (from aiohttp<4,>=3.8.3->alpaca-trade-api) (5.0.1)\n",
      "Requirement already satisfied: attrs>=17.3.0 in /storage/ice1/9/3/skamath36/.conda/envs/cs8803drl_hw2/lib/python3.10/site-packages (from aiohttp<4,>=3.8.3->alpaca-trade-api) (24.2.0)\n",
      "Requirement already satisfied: frozenlist>=1.1.1 in /storage/ice1/9/3/skamath36/.conda/envs/cs8803drl_hw2/lib/python3.10/site-packages (from aiohttp<4,>=3.8.3->alpaca-trade-api) (1.5.0)\n",
      "Requirement already satisfied: multidict<7.0,>=4.5 in /storage/ice1/9/3/skamath36/.conda/envs/cs8803drl_hw2/lib/python3.10/site-packages (from aiohttp<4,>=3.8.3->alpaca-trade-api) (6.1.0)\n",
      "Requirement already satisfied: propcache>=0.2.0 in /storage/ice1/9/3/skamath36/.conda/envs/cs8803drl_hw2/lib/python3.10/site-packages (from aiohttp<4,>=3.8.3->alpaca-trade-api) (0.2.0)\n",
      "Requirement already satisfied: yarl<2.0,>=1.17.0 in /storage/ice1/9/3/skamath36/.conda/envs/cs8803drl_hw2/lib/python3.10/site-packages (from aiohttp<4,>=3.8.3->alpaca-trade-api) (1.18.0)\n",
      "Requirement already satisfied: python-dateutil>=2.8.2 in /storage/ice1/9/3/skamath36/.conda/envs/cs8803drl_hw2/lib/python3.10/site-packages (from pandas>=0.18.1->alpaca-trade-api) (2.9.0.post0)\n",
      "Requirement already satisfied: pytz>=2020.1 in /storage/ice1/9/3/skamath36/.conda/envs/cs8803drl_hw2/lib/python3.10/site-packages (from pandas>=0.18.1->alpaca-trade-api) (2024.2)\n",
      "Requirement already satisfied: tzdata>=2022.7 in /storage/ice1/9/3/skamath36/.conda/envs/cs8803drl_hw2/lib/python3.10/site-packages (from pandas>=0.18.1->alpaca-trade-api) (2024.2)\n",
      "Requirement already satisfied: charset-normalizer<4,>=2 in /storage/ice1/9/3/skamath36/.conda/envs/cs8803drl_hw2/lib/python3.10/site-packages (from requests<3,>2->alpaca-trade-api) (3.4.0)\n",
      "Requirement already satisfied: idna<4,>=2.5 in /storage/ice1/9/3/skamath36/.conda/envs/cs8803drl_hw2/lib/python3.10/site-packages (from requests<3,>2->alpaca-trade-api) (3.10)\n",
      "Requirement already satisfied: certifi>=2017.4.17 in /storage/ice1/9/3/skamath36/.conda/envs/cs8803drl_hw2/lib/python3.10/site-packages (from requests<3,>2->alpaca-trade-api) (2024.8.30)\n",
      "Requirement already satisfied: typing-extensions>=4.1.0 in /storage/ice1/9/3/skamath36/.conda/envs/cs8803drl_hw2/lib/python3.10/site-packages (from multidict<7.0,>=4.5->aiohttp<4,>=3.8.3->alpaca-trade-api) (4.12.2)\n",
      "Requirement already satisfied: six>=1.5 in /storage/ice1/9/3/skamath36/.conda/envs/cs8803drl_hw2/lib/python3.10/site-packages (from python-dateutil>=2.8.2->pandas>=0.18.1->alpaca-trade-api) (1.16.0)\n",
      "Requirement already satisfied: exchange-calendars in /storage/ice1/9/3/skamath36/.conda/envs/cs8803drl_hw2/lib/python3.10/site-packages (4.5.8)\n",
      "Requirement already satisfied: numpy in /storage/ice1/9/3/skamath36/.conda/envs/cs8803drl_hw2/lib/python3.10/site-packages (from exchange-calendars) (1.26.4)\n",
      "Requirement already satisfied: pandas>=1.5 in /storage/ice1/9/3/skamath36/.conda/envs/cs8803drl_hw2/lib/python3.10/site-packages (from exchange-calendars) (2.2.3)\n",
      "Requirement already satisfied: pyluach in /storage/ice1/9/3/skamath36/.conda/envs/cs8803drl_hw2/lib/python3.10/site-packages (from exchange-calendars) (2.2.0)\n",
      "Requirement already satisfied: toolz in /storage/ice1/9/3/skamath36/.conda/envs/cs8803drl_hw2/lib/python3.10/site-packages (from exchange-calendars) (1.0.0)\n",
      "Requirement already satisfied: tzdata in /storage/ice1/9/3/skamath36/.conda/envs/cs8803drl_hw2/lib/python3.10/site-packages (from exchange-calendars) (2024.2)\n",
      "Requirement already satisfied: korean-lunar-calendar in /storage/ice1/9/3/skamath36/.conda/envs/cs8803drl_hw2/lib/python3.10/site-packages (from exchange-calendars) (0.3.1)\n",
      "Requirement already satisfied: python-dateutil>=2.8.2 in /storage/ice1/9/3/skamath36/.conda/envs/cs8803drl_hw2/lib/python3.10/site-packages (from pandas>=1.5->exchange-calendars) (2.9.0.post0)\n",
      "Requirement already satisfied: pytz>=2020.1 in /storage/ice1/9/3/skamath36/.conda/envs/cs8803drl_hw2/lib/python3.10/site-packages (from pandas>=1.5->exchange-calendars) (2024.2)\n",
      "Requirement already satisfied: six>=1.5 in /storage/ice1/9/3/skamath36/.conda/envs/cs8803drl_hw2/lib/python3.10/site-packages (from python-dateutil>=2.8.2->pandas>=1.5->exchange-calendars) (1.16.0)\n",
      "Requirement already satisfied: pyfolio in /storage/ice1/9/3/skamath36/.conda/envs/cs8803drl_hw2/lib/python3.10/site-packages (0.9.2)\n",
      "Requirement already satisfied: ipython>=3.2.3 in /storage/ice1/9/3/skamath36/.conda/envs/cs8803drl_hw2/lib/python3.10/site-packages (from pyfolio) (8.29.0)\n",
      "Requirement already satisfied: matplotlib>=1.4.0 in /storage/ice1/9/3/skamath36/.conda/envs/cs8803drl_hw2/lib/python3.10/site-packages (from pyfolio) (3.9.2)\n",
      "Requirement already satisfied: numpy>=1.11.1 in /storage/ice1/9/3/skamath36/.conda/envs/cs8803drl_hw2/lib/python3.10/site-packages (from pyfolio) (1.26.4)\n",
      "Requirement already satisfied: pandas>=0.18.1 in /storage/ice1/9/3/skamath36/.conda/envs/cs8803drl_hw2/lib/python3.10/site-packages (from pyfolio) (2.2.3)\n",
      "Requirement already satisfied: pytz>=2014.10 in /storage/ice1/9/3/skamath36/.conda/envs/cs8803drl_hw2/lib/python3.10/site-packages (from pyfolio) (2024.2)\n",
      "Requirement already satisfied: scipy>=0.14.0 in /storage/ice1/9/3/skamath36/.conda/envs/cs8803drl_hw2/lib/python3.10/site-packages (from pyfolio) (1.12.0)\n",
      "Requirement already satisfied: scikit-learn>=0.16.1 in /storage/ice1/9/3/skamath36/.conda/envs/cs8803drl_hw2/lib/python3.10/site-packages (from pyfolio) (1.5.2)\n",
      "Requirement already satisfied: seaborn>=0.7.1 in /storage/ice1/9/3/skamath36/.conda/envs/cs8803drl_hw2/lib/python3.10/site-packages (from pyfolio) (0.13.2)\n",
      "Requirement already satisfied: empyrical>=0.5.0 in /storage/ice1/9/3/skamath36/.conda/envs/cs8803drl_hw2/lib/python3.10/site-packages (from pyfolio) (0.5.5)\n",
      "Requirement already satisfied: pandas-datareader>=0.2 in /storage/ice1/9/3/skamath36/.conda/envs/cs8803drl_hw2/lib/python3.10/site-packages (from empyrical>=0.5.0->pyfolio) (0.10.0)\n",
      "Requirement already satisfied: decorator in /storage/ice1/9/3/skamath36/.conda/envs/cs8803drl_hw2/lib/python3.10/site-packages (from ipython>=3.2.3->pyfolio) (5.1.1)\n",
      "Requirement already satisfied: jedi>=0.16 in /storage/ice1/9/3/skamath36/.conda/envs/cs8803drl_hw2/lib/python3.10/site-packages (from ipython>=3.2.3->pyfolio) (0.19.1)\n",
      "Requirement already satisfied: matplotlib-inline in /storage/ice1/9/3/skamath36/.conda/envs/cs8803drl_hw2/lib/python3.10/site-packages (from ipython>=3.2.3->pyfolio) (0.1.7)\n",
      "Requirement already satisfied: prompt-toolkit<3.1.0,>=3.0.41 in /storage/ice1/9/3/skamath36/.conda/envs/cs8803drl_hw2/lib/python3.10/site-packages (from ipython>=3.2.3->pyfolio) (3.0.48)\n",
      "Requirement already satisfied: pygments>=2.4.0 in /storage/ice1/9/3/skamath36/.conda/envs/cs8803drl_hw2/lib/python3.10/site-packages (from ipython>=3.2.3->pyfolio) (2.18.0)\n",
      "Requirement already satisfied: stack-data in /storage/ice1/9/3/skamath36/.conda/envs/cs8803drl_hw2/lib/python3.10/site-packages (from ipython>=3.2.3->pyfolio) (0.6.3)\n",
      "Requirement already satisfied: traitlets>=5.13.0 in /storage/ice1/9/3/skamath36/.conda/envs/cs8803drl_hw2/lib/python3.10/site-packages (from ipython>=3.2.3->pyfolio) (5.14.3)\n",
      "Requirement already satisfied: exceptiongroup in /storage/ice1/9/3/skamath36/.conda/envs/cs8803drl_hw2/lib/python3.10/site-packages (from ipython>=3.2.3->pyfolio) (1.2.2)\n",
      "Requirement already satisfied: typing-extensions>=4.6 in /storage/ice1/9/3/skamath36/.conda/envs/cs8803drl_hw2/lib/python3.10/site-packages (from ipython>=3.2.3->pyfolio) (4.12.2)\n",
      "Requirement already satisfied: pexpect>4.3 in /storage/ice1/9/3/skamath36/.conda/envs/cs8803drl_hw2/lib/python3.10/site-packages (from ipython>=3.2.3->pyfolio) (4.9.0)\n",
      "Requirement already satisfied: contourpy>=1.0.1 in /storage/ice1/9/3/skamath36/.conda/envs/cs8803drl_hw2/lib/python3.10/site-packages (from matplotlib>=1.4.0->pyfolio) (1.3.0)\n",
      "Requirement already satisfied: cycler>=0.10 in /storage/ice1/9/3/skamath36/.conda/envs/cs8803drl_hw2/lib/python3.10/site-packages (from matplotlib>=1.4.0->pyfolio) (0.12.1)\n",
      "Requirement already satisfied: fonttools>=4.22.0 in /storage/ice1/9/3/skamath36/.conda/envs/cs8803drl_hw2/lib/python3.10/site-packages (from matplotlib>=1.4.0->pyfolio) (4.54.1)\n",
      "Requirement already satisfied: kiwisolver>=1.3.1 in /storage/ice1/9/3/skamath36/.conda/envs/cs8803drl_hw2/lib/python3.10/site-packages (from matplotlib>=1.4.0->pyfolio) (1.4.7)\n",
      "Requirement already satisfied: packaging>=20.0 in /storage/ice1/9/3/skamath36/.conda/envs/cs8803drl_hw2/lib/python3.10/site-packages (from matplotlib>=1.4.0->pyfolio) (23.2)\n",
      "Requirement already satisfied: pillow>=8 in /storage/ice1/9/3/skamath36/.conda/envs/cs8803drl_hw2/lib/python3.10/site-packages (from matplotlib>=1.4.0->pyfolio) (11.0.0)\n",
      "Requirement already satisfied: pyparsing>=2.3.1 in /storage/ice1/9/3/skamath36/.conda/envs/cs8803drl_hw2/lib/python3.10/site-packages (from matplotlib>=1.4.0->pyfolio) (3.2.0)\n",
      "Requirement already satisfied: python-dateutil>=2.7 in /storage/ice1/9/3/skamath36/.conda/envs/cs8803drl_hw2/lib/python3.10/site-packages (from matplotlib>=1.4.0->pyfolio) (2.9.0.post0)\n",
      "Requirement already satisfied: tzdata>=2022.7 in /storage/ice1/9/3/skamath36/.conda/envs/cs8803drl_hw2/lib/python3.10/site-packages (from pandas>=0.18.1->pyfolio) (2024.2)\n",
      "Requirement already satisfied: joblib>=1.2.0 in /storage/ice1/9/3/skamath36/.conda/envs/cs8803drl_hw2/lib/python3.10/site-packages (from scikit-learn>=0.16.1->pyfolio) (1.4.2)\n",
      "Requirement already satisfied: threadpoolctl>=3.1.0 in /storage/ice1/9/3/skamath36/.conda/envs/cs8803drl_hw2/lib/python3.10/site-packages (from scikit-learn>=0.16.1->pyfolio) (3.5.0)\n",
      "Requirement already satisfied: parso<0.9.0,>=0.8.3 in /storage/ice1/9/3/skamath36/.conda/envs/cs8803drl_hw2/lib/python3.10/site-packages (from jedi>=0.16->ipython>=3.2.3->pyfolio) (0.8.4)\n",
      "Requirement already satisfied: lxml in /storage/ice1/9/3/skamath36/.conda/envs/cs8803drl_hw2/lib/python3.10/site-packages (from pandas-datareader>=0.2->empyrical>=0.5.0->pyfolio) (5.3.0)\n",
      "Requirement already satisfied: requests>=2.19.0 in /storage/ice1/9/3/skamath36/.conda/envs/cs8803drl_hw2/lib/python3.10/site-packages (from pandas-datareader>=0.2->empyrical>=0.5.0->pyfolio) (2.32.3)\n",
      "Requirement already satisfied: ptyprocess>=0.5 in /storage/ice1/9/3/skamath36/.conda/envs/cs8803drl_hw2/lib/python3.10/site-packages (from pexpect>4.3->ipython>=3.2.3->pyfolio) (0.7.0)\n",
      "Requirement already satisfied: wcwidth in /storage/ice1/9/3/skamath36/.conda/envs/cs8803drl_hw2/lib/python3.10/site-packages (from prompt-toolkit<3.1.0,>=3.0.41->ipython>=3.2.3->pyfolio) (0.2.13)\n",
      "Requirement already satisfied: six>=1.5 in /storage/ice1/9/3/skamath36/.conda/envs/cs8803drl_hw2/lib/python3.10/site-packages (from python-dateutil>=2.7->matplotlib>=1.4.0->pyfolio) (1.16.0)\n",
      "Requirement already satisfied: executing>=1.2.0 in /storage/ice1/9/3/skamath36/.conda/envs/cs8803drl_hw2/lib/python3.10/site-packages (from stack-data->ipython>=3.2.3->pyfolio) (2.1.0)\n",
      "Requirement already satisfied: asttokens>=2.1.0 in /storage/ice1/9/3/skamath36/.conda/envs/cs8803drl_hw2/lib/python3.10/site-packages (from stack-data->ipython>=3.2.3->pyfolio) (2.4.1)\n",
      "Requirement already satisfied: pure-eval in /storage/ice1/9/3/skamath36/.conda/envs/cs8803drl_hw2/lib/python3.10/site-packages (from stack-data->ipython>=3.2.3->pyfolio) (0.2.3)\n",
      "Requirement already satisfied: charset-normalizer<4,>=2 in /storage/ice1/9/3/skamath36/.conda/envs/cs8803drl_hw2/lib/python3.10/site-packages (from requests>=2.19.0->pandas-datareader>=0.2->empyrical>=0.5.0->pyfolio) (3.4.0)\n",
      "Requirement already satisfied: idna<4,>=2.5 in /storage/ice1/9/3/skamath36/.conda/envs/cs8803drl_hw2/lib/python3.10/site-packages (from requests>=2.19.0->pandas-datareader>=0.2->empyrical>=0.5.0->pyfolio) (3.10)\n",
      "Requirement already satisfied: urllib3<3,>=1.21.1 in /storage/ice1/9/3/skamath36/.conda/envs/cs8803drl_hw2/lib/python3.10/site-packages (from requests>=2.19.0->pandas-datareader>=0.2->empyrical>=0.5.0->pyfolio) (1.26.20)\n",
      "Requirement already satisfied: certifi>=2017.4.17 in /storage/ice1/9/3/skamath36/.conda/envs/cs8803drl_hw2/lib/python3.10/site-packages (from requests>=2.19.0->pandas-datareader>=0.2->empyrical>=0.5.0->pyfolio) (2024.8.30)\n",
      "Requirement already satisfied: dotmap in /storage/ice1/9/3/skamath36/.conda/envs/cs8803drl_hw2/lib/python3.10/site-packages (1.3.30)\n"
     ]
    }
   ],
   "source": [
    "# ## install finrl library\n",
    "!pip install wrds\n",
    "!pip install swig\n",
    "!pip install gymnasium\n",
    "!pip install stable-baselines3\n",
    "!pip install stockstats\n",
    "!pip install alpaca-trade-api\n",
    "!pip install exchange-calendars\n",
    "!pip install pyfolio\n",
    "!pip install dotmap\n",
    "# !pip install -q condacolab\n",
    "# import condacolab\n",
    "# condacolab.install()\n",
    "# !apt-get update -y -qq && apt-get install -y -qq cmake libopenmpi-dev python3-dev zlib1g-dev libgl1-mesa-glx swig\n",
    "# !pip install git+https://github.com/AI4Finance-Foundation/FinRL.git\n"
   ]
  },
  {
   "cell_type": "code",
   "execution_count": 3,
   "metadata": {},
   "outputs": [
    {
     "name": "stderr",
     "output_type": "stream",
     "text": [
      "2024-11-27 14:31:52.417560: I tensorflow/core/util/port.cc:153] oneDNN custom operations are on. You may see slightly different numerical results due to floating-point round-off errors from different computation orders. To turn them off, set the environment variable `TF_ENABLE_ONEDNN_OPTS=0`.\n",
      "2024-11-27 14:31:52.423670: I external/local_xla/xla/tsl/cuda/cudart_stub.cc:32] Could not find cuda drivers on your machine, GPU will not be used.\n",
      "2024-11-27 14:31:52.435837: E external/local_xla/xla/stream_executor/cuda/cuda_fft.cc:485] Unable to register cuFFT factory: Attempting to register factory for plugin cuFFT when one has already been registered\n",
      "2024-11-27 14:31:52.457076: E external/local_xla/xla/stream_executor/cuda/cuda_dnn.cc:8454] Unable to register cuDNN factory: Attempting to register factory for plugin cuDNN when one has already been registered\n",
      "2024-11-27 14:31:52.463471: E external/local_xla/xla/stream_executor/cuda/cuda_blas.cc:1452] Unable to register cuBLAS factory: Attempting to register factory for plugin cuBLAS when one has already been registered\n",
      "2024-11-27 14:31:52.478552: I tensorflow/core/platform/cpu_feature_guard.cc:210] This TensorFlow binary is optimized to use available CPU instructions in performance-critical operations.\n",
      "To enable the following instructions: AVX2 AVX512F AVX512_VNNI FMA, in other operations, rebuild TensorFlow with the appropriate compiler flags.\n",
      "2024-11-27 14:31:55.254241: W tensorflow/compiler/tf2tensorrt/utils/py_utils.cc:38] TF-TRT Warning: Could not find TensorRT\n"
     ]
    }
   ],
   "source": [
    "import pandas as pd\n",
    "from stable_baselines3.common.logger import configure\n",
    "\n",
    "from finrl.agents.stablebaselines3.models import DRLAgent\n",
    "from finrl.config import INDICATORS, TRAINED_MODEL_DIR, RESULTS_DIR\n",
    "from finrl.main import check_and_make_directories\n",
    "from finrl.meta.env_stock_trading.env_stocktrading import StockTradingEnv\n",
    "\n",
    "check_and_make_directories([TRAINED_MODEL_DIR])"
   ]
  },
  {
   "cell_type": "code",
   "execution_count": 4,
   "metadata": {},
   "outputs": [],
   "source": [
    "train = pd.read_csv('train_data.csv')\n",
    "\n",
    "# If you are not using the data generated from part 1 of this tutorial, make sure \n",
    "# it has the columns and index in the form that could be make into the environment. \n",
    "# Then you can comment and skip the following two lines.\n",
    "train = train.set_index(train.columns[0])\n",
    "train.index.names = ['']"
   ]
  },
  {
   "cell_type": "code",
   "execution_count": 5,
   "metadata": {},
   "outputs": [
    {
     "name": "stdout",
     "output_type": "stream",
     "text": [
      "Stock Dimension: 29, State Space: 291\n"
     ]
    }
   ],
   "source": [
    "stock_dimension = len(train.tic.unique())\n",
    "state_space = 1 + 2*stock_dimension + len(INDICATORS)*stock_dimension\n",
    "print(f\"Stock Dimension: {stock_dimension}, State Space: {state_space}\")"
   ]
  },
  {
   "cell_type": "code",
   "execution_count": 6,
   "metadata": {},
   "outputs": [],
   "source": [
    "buy_cost_list = sell_cost_list = [0.001] * stock_dimension\n",
    "num_stock_shares = [0] * stock_dimension\n",
    "\n",
    "env_kwargs = {\n",
    "    \"hmax\": 100,\n",
    "    \"initial_amount\": 1000000,\n",
    "    \"num_stock_shares\": num_stock_shares,\n",
    "    \"buy_cost_pct\": buy_cost_list,\n",
    "    \"sell_cost_pct\": sell_cost_list,\n",
    "    \"state_space\": state_space,\n",
    "    \"stock_dim\": stock_dimension,\n",
    "    \"tech_indicator_list\": INDICATORS,\n",
    "    \"action_space\": stock_dimension,\n",
    "    \"reward_scaling\": 1e-4\n",
    "}\n",
    "\n",
    "\n",
    "e_train_gym = StockTradingEnv(df = train, **env_kwargs)"
   ]
  },
  {
   "cell_type": "code",
   "execution_count": 8,
   "metadata": {},
   "outputs": [
    {
     "name": "stdout",
     "output_type": "stream",
     "text": [
      "<class 'stable_baselines3.common.vec_env.dummy_vec_env.DummyVecEnv'>\n"
     ]
    }
   ],
   "source": [
    "env_train, _ = e_train_gym.get_sb_env()\n",
    "print(type(env_train))"
   ]
  },
  {
   "cell_type": "code",
   "execution_count": null,
   "metadata": {},
   "outputs": [],
   "source": [
    "#%%bash\n",
    "#cd handful_of_trials_pytorch\n",
    "#pwd\n",
    "import sys\n",
    "sys.path.insert(0, \"/home/hice1/skamath36/scratch/drl/FinRL-test/examples/handful_of_trials_pytorch\")\n",
    "print(sys.path)"
   ]
  },
  {
   "cell_type": "code",
   "execution_count": 51,
   "metadata": {},
   "outputs": [
    {
     "name": "stdout",
     "output_type": "stream",
     "text": [
      "{'ctrl_cfg': {'env': <stable_baselines3.common.vec_env.dummy_vec_env.DummyVecEnv object at 0x1553edbcfa60>,\n",
      "              'opt_cfg': {'ac_cost_fn': <function FinRLConfigModule.ac_cost_fn at 0x1553a06ce950>,\n",
      "                          'cfg': {'alpha': 0.1,\n",
      "                                  'max_iters': 5,\n",
      "                                  'num_elites': 40,\n",
      "                                  'popsize': 400},\n",
      "                          'mode': 'CEM',\n",
      "                          'obs_cost_fn': <function FinRLConfigModule.obs_cost_fn at 0x1553a06ce290>,\n",
      "                          'plan_hor': 25},\n",
      "              'prop_cfg': {'mode': 'TSinf',\n",
      "                           'model_init_cfg': {'model_constructor': <bound method FinRLConfigModule.nn_constructor of <finrl.FinRLConfigModule object at 0x1553a06fffa0>>,\n",
      "                                              'num_nets': 5},\n",
      "                           'model_train_cfg': {'epochs': 5},\n",
      "                           'npart': 20,\n",
      "                           'obs_postproc': <function FinRLConfigModule.obs_postproc at 0x1553a06ce9e0>,\n",
      "                           'obs_preproc': <function FinRLConfigModule.obs_preproc at 0x1553a06ccee0>,\n",
      "                           'targ_proc': <function FinRLConfigModule.targ_proc at 0x1553a06ce680>}},\n",
      " 'exp_cfg': {'exp_cfg': {'nrollouts_per_iter': 1, 'ntrain_iters': 15},\n",
      "             'log_cfg': {'logdir': './log'},\n",
      "             'sim_cfg': {'env': <stable_baselines3.common.vec_env.dummy_vec_env.DummyVecEnv object at 0x1553edbcfa60>,\n",
      "                         'task_hor': 200}}}\n",
      "Created an MPC controller, prop mode TSinf, 20 particles. \n",
      "Trajectory prediction logging is disabled.\n",
      "<generator object Module.parameters at 0x1553a06e0890>\n"
     ]
    },
    {
     "ename": "AttributeError",
     "evalue": "module 'torch._dynamo.variables' has no attribute 'LazyVariableTracker'",
     "output_type": "error",
     "traceback": [
      "\u001b[0;31m---------------------------------------------------------------------------\u001b[0m",
      "\u001b[0;31mAttributeError\u001b[0m                            Traceback (most recent call last)",
      "Cell \u001b[0;32mIn[51], line 3\u001b[0m\n\u001b[1;32m      1\u001b[0m \u001b[39mfrom\u001b[39;00m \u001b[39mmbexp\u001b[39;00m \u001b[39mimport\u001b[39;00m main\n\u001b[0;32m----> 3\u001b[0m main(\u001b[39m\"\u001b[39;49m\u001b[39mfinrl\u001b[39;49m\u001b[39m\"\u001b[39;49m,\u001b[39m\"\u001b[39;49m\u001b[39mMPC\u001b[39;49m\u001b[39m\"\u001b[39;49m, [], [], \u001b[39m\"\u001b[39;49m\u001b[39m./log\u001b[39;49m\u001b[39m\"\u001b[39;49m, env_train)\n",
      "File \u001b[0;32m~/scratch/drl/FinRL-test/examples/handful_of_trials_pytorch/mbexp.py:42\u001b[0m, in \u001b[0;36mmain\u001b[0;34m(env_name, ctrl_type, ctrl_args, overrides, logdir, env)\u001b[0m\n\u001b[1;32m     38\u001b[0m cfg\u001b[39m.\u001b[39mpprint()\n\u001b[1;32m     40\u001b[0m \u001b[39massert\u001b[39;00m ctrl_type \u001b[39m==\u001b[39m \u001b[39m'\u001b[39m\u001b[39mMPC\u001b[39m\u001b[39m'\u001b[39m\n\u001b[0;32m---> 42\u001b[0m cfg\u001b[39m.\u001b[39mexp_cfg\u001b[39m.\u001b[39mexp_cfg\u001b[39m.\u001b[39mpolicy \u001b[39m=\u001b[39m MPC(cfg\u001b[39m.\u001b[39;49mctrl_cfg)\n\u001b[1;32m     43\u001b[0m exp \u001b[39m=\u001b[39m MBExperiment(cfg\u001b[39m.\u001b[39mexp_cfg)\n\u001b[1;32m     45\u001b[0m os\u001b[39m.\u001b[39mmakedirs(exp\u001b[39m.\u001b[39mlogdir)\n",
      "File \u001b[0;32m~/scratch/drl/FinRL-test/examples/handful_of_trials_pytorch/MPC.py:182\u001b[0m, in \u001b[0;36mMPC.__init__\u001b[0;34m(self, params)\u001b[0m\n\u001b[1;32m    179\u001b[0m     \u001b[39mprint\u001b[39m(\u001b[39m\"\u001b[39m\u001b[39mTrajectory prediction logging is disabled.\u001b[39m\u001b[39m\"\u001b[39m)\n\u001b[1;32m    181\u001b[0m \u001b[39m# Set up pytorch model\u001b[39;00m\n\u001b[0;32m--> 182\u001b[0m \u001b[39mself\u001b[39m\u001b[39m.\u001b[39mmodel \u001b[39m=\u001b[39m get_required_argument(\n\u001b[1;32m    183\u001b[0m     params\u001b[39m.\u001b[39;49mprop_cfg\u001b[39m.\u001b[39;49mmodel_init_cfg, \u001b[39m\"\u001b[39;49m\u001b[39mmodel_constructor\u001b[39;49m\u001b[39m\"\u001b[39;49m, \u001b[39m\"\u001b[39;49m\u001b[39mMust provide a model constructor.\u001b[39;49m\u001b[39m\"\u001b[39;49m\n\u001b[1;32m    184\u001b[0m )(params\u001b[39m.\u001b[39;49mprop_cfg\u001b[39m.\u001b[39;49mmodel_init_cfg)\n",
      "File \u001b[0;32m/storage/ice1/9/3/skamath36/drl/FinRL-test/examples/handful_of_trials_pytorch/config/finrl.py:161\u001b[0m, in \u001b[0;36mFinRLConfigModule.nn_constructor\u001b[0;34m(self, model_init_cfg)\u001b[0m\n\u001b[1;32m    158\u001b[0m \u001b[39m# * 2 because we output both the mean and the variance\u001b[39;00m\n\u001b[1;32m    159\u001b[0m \u001b[39mprint\u001b[39m(model\u001b[39m.\u001b[39mparameters())\n\u001b[0;32m--> 161\u001b[0m model\u001b[39m.\u001b[39moptim \u001b[39m=\u001b[39m torch\u001b[39m.\u001b[39;49moptim\u001b[39m.\u001b[39;49mAdam(model\u001b[39m.\u001b[39;49mparameters(), lr\u001b[39m=\u001b[39;49m\u001b[39m0.001\u001b[39;49m)\n\u001b[1;32m    163\u001b[0m \u001b[39mreturn\u001b[39;00m model\n",
      "File \u001b[0;32m~/.conda/envs/cs8803drl_hw2/lib/python3.10/site-packages/torch/optim/adam.py:45\u001b[0m, in \u001b[0;36mAdam.__init__\u001b[0;34m(self, params, lr, betas, eps, weight_decay, amsgrad, foreach, maximize, capturable, differentiable, fused)\u001b[0m\n\u001b[1;32m     39\u001b[0m     \u001b[39mraise\u001b[39;00m \u001b[39mValueError\u001b[39;00m(\u001b[39mf\u001b[39m\u001b[39m\"\u001b[39m\u001b[39mInvalid weight_decay value: \u001b[39m\u001b[39m{\u001b[39;00mweight_decay\u001b[39m}\u001b[39;00m\u001b[39m\"\u001b[39m)\n\u001b[1;32m     41\u001b[0m defaults \u001b[39m=\u001b[39m \u001b[39mdict\u001b[39m(lr\u001b[39m=\u001b[39mlr, betas\u001b[39m=\u001b[39mbetas, eps\u001b[39m=\u001b[39meps,\n\u001b[1;32m     42\u001b[0m                 weight_decay\u001b[39m=\u001b[39mweight_decay, amsgrad\u001b[39m=\u001b[39mamsgrad,\n\u001b[1;32m     43\u001b[0m                 maximize\u001b[39m=\u001b[39mmaximize, foreach\u001b[39m=\u001b[39mforeach, capturable\u001b[39m=\u001b[39mcapturable,\n\u001b[1;32m     44\u001b[0m                 differentiable\u001b[39m=\u001b[39mdifferentiable, fused\u001b[39m=\u001b[39mfused)\n\u001b[0;32m---> 45\u001b[0m \u001b[39msuper\u001b[39;49m()\u001b[39m.\u001b[39;49m\u001b[39m__init__\u001b[39;49m(params, defaults)\n\u001b[1;32m     47\u001b[0m \u001b[39mif\u001b[39;00m fused:\n\u001b[1;32m     48\u001b[0m     \u001b[39mif\u001b[39;00m differentiable:\n",
      "File \u001b[0;32m~/.conda/envs/cs8803drl_hw2/lib/python3.10/site-packages/torch/optim/optimizer.py:284\u001b[0m, in \u001b[0;36mOptimizer.__init__\u001b[0;34m(self, params, defaults)\u001b[0m\n\u001b[1;32m    281\u001b[0m     param_groups \u001b[39m=\u001b[39m [{\u001b[39m'\u001b[39m\u001b[39mparams\u001b[39m\u001b[39m'\u001b[39m: param_groups}]\n\u001b[1;32m    283\u001b[0m \u001b[39mfor\u001b[39;00m param_group \u001b[39min\u001b[39;00m param_groups:\n\u001b[0;32m--> 284\u001b[0m     \u001b[39mself\u001b[39;49m\u001b[39m.\u001b[39;49madd_param_group(cast(\u001b[39mdict\u001b[39;49m, param_group))\n\u001b[1;32m    286\u001b[0m \u001b[39m# Allows _cuda_graph_capture_health_check to rig a poor man's TORCH_WARN_ONCE in python,\u001b[39;00m\n\u001b[1;32m    287\u001b[0m \u001b[39m# which I don't think exists\u001b[39;00m\n\u001b[1;32m    288\u001b[0m \u001b[39m# https://github.com/pytorch/pytorch/issues/72948\u001b[39;00m\n\u001b[1;32m    289\u001b[0m \u001b[39mself\u001b[39m\u001b[39m.\u001b[39m_warned_capturable_if_run_uncaptured \u001b[39m=\u001b[39m \u001b[39mTrue\u001b[39;00m\n",
      "File \u001b[0;32m~/.conda/envs/cs8803drl_hw2/lib/python3.10/site-packages/torch/_compile.py:22\u001b[0m, in \u001b[0;36m_disable_dynamo.<locals>.inner\u001b[0;34m(*args, **kwargs)\u001b[0m\n\u001b[1;32m     20\u001b[0m \u001b[39m@functools\u001b[39m\u001b[39m.\u001b[39mwraps(fn)\n\u001b[1;32m     21\u001b[0m \u001b[39mdef\u001b[39;00m \u001b[39minner\u001b[39m(\u001b[39m*\u001b[39margs, \u001b[39m*\u001b[39m\u001b[39m*\u001b[39mkwargs):\n\u001b[0;32m---> 22\u001b[0m     \u001b[39mimport\u001b[39;00m \u001b[39mtorch\u001b[39;00m\u001b[39m.\u001b[39;00m\u001b[39m_dynamo\u001b[39;00m\n\u001b[1;32m     24\u001b[0m     \u001b[39mreturn\u001b[39;00m torch\u001b[39m.\u001b[39m_dynamo\u001b[39m.\u001b[39mdisable(fn, recursive)(\u001b[39m*\u001b[39margs, \u001b[39m*\u001b[39m\u001b[39m*\u001b[39mkwargs)\n",
      "File \u001b[0;32m~/.conda/envs/cs8803drl_hw2/lib/python3.10/site-packages/torch/_dynamo/__init__.py:2\u001b[0m\n\u001b[1;32m      1\u001b[0m \u001b[39mimport\u001b[39;00m \u001b[39mtorch\u001b[39;00m\n\u001b[0;32m----> 2\u001b[0m \u001b[39mfrom\u001b[39;00m \u001b[39m.\u001b[39;00m \u001b[39mimport\u001b[39;00m convert_frame, eval_frame, resume_execution\n\u001b[1;32m      3\u001b[0m \u001b[39mfrom\u001b[39;00m \u001b[39m.\u001b[39;00m\u001b[39mbackends\u001b[39;00m\u001b[39m.\u001b[39;00m\u001b[39mregistry\u001b[39;00m \u001b[39mimport\u001b[39;00m list_backends, lookup_backend, register_backend\n\u001b[1;32m      4\u001b[0m \u001b[39mfrom\u001b[39;00m \u001b[39m.\u001b[39;00m\u001b[39mcallback\u001b[39;00m \u001b[39mimport\u001b[39;00m callback_handler, on_compile_end, on_compile_start\n",
      "File \u001b[0;32m~/.conda/envs/cs8803drl_hw2/lib/python3.10/site-packages/torch/_dynamo/convert_frame.py:75\u001b[0m\n\u001b[1;32m     73\u001b[0m \u001b[39mfrom\u001b[39;00m \u001b[39m.\u001b[39;00m\u001b[39moutput_graph\u001b[39;00m \u001b[39mimport\u001b[39;00m OutputGraph\n\u001b[1;32m     74\u001b[0m \u001b[39mfrom\u001b[39;00m \u001b[39m.\u001b[39;00m\u001b[39mreplay_record\u001b[39;00m \u001b[39mimport\u001b[39;00m ExecutionRecord\n\u001b[0;32m---> 75\u001b[0m \u001b[39mfrom\u001b[39;00m \u001b[39m.\u001b[39;00m\u001b[39msymbolic_convert\u001b[39;00m \u001b[39mimport\u001b[39;00m InstructionTranslator, SpeculationLog\n\u001b[1;32m     76\u001b[0m \u001b[39mfrom\u001b[39;00m \u001b[39m.\u001b[39;00m\u001b[39mtrace_rules\u001b[39;00m \u001b[39mimport\u001b[39;00m is_numpy\n\u001b[1;32m     77\u001b[0m \u001b[39mfrom\u001b[39;00m \u001b[39m.\u001b[39;00m\u001b[39mtypes\u001b[39;00m \u001b[39mimport\u001b[39;00m BytecodeHook\n",
      "File \u001b[0;32m~/.conda/envs/cs8803drl_hw2/lib/python3.10/site-packages/torch/_dynamo/symbolic_convert.py:601\u001b[0m\n\u001b[1;32m    596\u001b[0m         \u001b[39mreturn\u001b[39;00m wrapper\n\u001b[1;32m    598\u001b[0m     \u001b[39mreturn\u001b[39;00m decorator\n\u001b[0;32m--> 601\u001b[0m \u001b[39mclass\u001b[39;00m \u001b[39mInstructionTranslatorBase\u001b[39;00m(Checkpointable[InstructionTranslatorGraphState]):\n\u001b[1;32m    602\u001b[0m     output: OutputGraph\n\u001b[1;32m    603\u001b[0m     symbolic_locals: Dict[\u001b[39mstr\u001b[39m, VariableTracker]\n",
      "File \u001b[0;32m~/.conda/envs/cs8803drl_hw2/lib/python3.10/site-packages/torch/_dynamo/symbolic_convert.py:1715\u001b[0m, in \u001b[0;36mInstructionTranslatorBase\u001b[0;34m()\u001b[0m\n\u001b[1;32m   1712\u001b[0m \u001b[39mdef\u001b[39;00m \u001b[39mLOAD_ASSERTION_ERROR\u001b[39m(\u001b[39mself\u001b[39m, inst):\n\u001b[1;32m   1713\u001b[0m     unimplemented(\u001b[39m\"\u001b[39m\u001b[39massert with non-string message\u001b[39m\u001b[39m\"\u001b[39m)\n\u001b[0;32m-> 1715\u001b[0m UNARY_POSITIVE \u001b[39m=\u001b[39m stack_op(operator\u001b[39m.\u001b[39;49mpos)\n\u001b[1;32m   1716\u001b[0m UNARY_NEGATIVE \u001b[39m=\u001b[39m stack_op(operator\u001b[39m.\u001b[39mneg)\n\u001b[1;32m   1717\u001b[0m UNARY_NOT \u001b[39m=\u001b[39m stack_op(operator\u001b[39m.\u001b[39mnot_)\n",
      "File \u001b[0;32m~/.conda/envs/cs8803drl_hw2/lib/python3.10/site-packages/torch/_dynamo/symbolic_convert.py:238\u001b[0m, in \u001b[0;36mstack_op\u001b[0;34m(fn)\u001b[0m\n\u001b[1;32m    236\u001b[0m \u001b[39mdef\u001b[39;00m \u001b[39mstack_op\u001b[39m(fn: typing\u001b[39m.\u001b[39mCallable[\u001b[39m.\u001b[39m\u001b[39m.\u001b[39m\u001b[39m.\u001b[39m, \u001b[39mobject\u001b[39m]):\n\u001b[1;32m    237\u001b[0m     nargs \u001b[39m=\u001b[39m \u001b[39mlen\u001b[39m(inspect\u001b[39m.\u001b[39msignature(fn)\u001b[39m.\u001b[39mparameters)\n\u001b[0;32m--> 238\u001b[0m     fn_var \u001b[39m=\u001b[39m BuiltinVariable(fn)\n\u001b[1;32m    240\u001b[0m     \u001b[39m@functools\u001b[39m\u001b[39m.\u001b[39mwraps(fn)\n\u001b[1;32m    241\u001b[0m     \u001b[39mdef\u001b[39;00m \u001b[39mimpl\u001b[39m(\u001b[39mself\u001b[39m: \u001b[39m\"\u001b[39m\u001b[39mInstructionTranslatorBase\u001b[39m\u001b[39m\"\u001b[39m, inst: Instruction):\n\u001b[1;32m    242\u001b[0m         \u001b[39mself\u001b[39m\u001b[39m.\u001b[39mpush(fn_var\u001b[39m.\u001b[39mcall_function(\u001b[39mself\u001b[39m, \u001b[39mself\u001b[39m\u001b[39m.\u001b[39mpopn(nargs), {}))\n",
      "File \u001b[0;32m~/.conda/envs/cs8803drl_hw2/lib/python3.10/site-packages/torch/_dynamo/variables/base.py:124\u001b[0m, in \u001b[0;36mVariableTrackerMeta.__call__\u001b[0;34m(cls, *args, **kwargs)\u001b[0m\n\u001b[1;32m    122\u001b[0m \u001b[39m\u001b[39m\u001b[39m\"\"\"Call __post_init__\"\"\"\u001b[39;00m\n\u001b[1;32m    123\u001b[0m obj \u001b[39m=\u001b[39m \u001b[39mtype\u001b[39m\u001b[39m.\u001b[39m\u001b[39m__call__\u001b[39m(\u001b[39mcls\u001b[39m, \u001b[39m*\u001b[39margs, \u001b[39m*\u001b[39m\u001b[39m*\u001b[39mkwargs)\n\u001b[0;32m--> 124\u001b[0m obj\u001b[39m.\u001b[39;49m__post_init__(\u001b[39m*\u001b[39;49margs, \u001b[39m*\u001b[39;49m\u001b[39m*\u001b[39;49mkwargs)\n\u001b[1;32m    125\u001b[0m \u001b[39mreturn\u001b[39;00m obj\n",
      "File \u001b[0;32m~/.conda/envs/cs8803drl_hw2/lib/python3.10/site-packages/torch/_dynamo/variables/base.py:405\u001b[0m, in \u001b[0;36mVariableTracker.__post_init__\u001b[0;34m(self, *args, **kwargs)\u001b[0m\n\u001b[1;32m    403\u001b[0m     \u001b[39mself\u001b[39m\u001b[39m.\u001b[39mparents_tracker \u001b[39m=\u001b[39m ParentsTracker()\n\u001b[1;32m    404\u001b[0m \u001b[39m# visit children 1 level deep and ensure parent is set properly\u001b[39;00m\n\u001b[0;32m--> 405\u001b[0m VariableTracker\u001b[39m.\u001b[39;49mapply(\n\u001b[1;32m    406\u001b[0m     \u001b[39mlambda\u001b[39;49;00m node: node\u001b[39m.\u001b[39;49mparents_tracker\u001b[39m.\u001b[39;49madd(\u001b[39mself\u001b[39;49m\u001b[39m.\u001b[39;49mparents_tracker),\n\u001b[1;32m    407\u001b[0m     [v \u001b[39mfor\u001b[39;49;00m k, v \u001b[39min\u001b[39;49;00m \u001b[39mself\u001b[39;49m\u001b[39m.\u001b[39;49m\u001b[39m__dict__\u001b[39;49m\u001b[39m.\u001b[39;49mitems() \u001b[39mif\u001b[39;49;00m k \u001b[39mnot\u001b[39;49;00m \u001b[39min\u001b[39;49;00m \u001b[39mself\u001b[39;49m\u001b[39m.\u001b[39;49m_nonvar_fields],\n\u001b[1;32m    408\u001b[0m     skip_fn\u001b[39m=\u001b[39;49m\u001b[39mlambda\u001b[39;49;00m _: \u001b[39mTrue\u001b[39;49;00m,\n\u001b[1;32m    409\u001b[0m )\n",
      "File \u001b[0;32m~/.conda/envs/cs8803drl_hw2/lib/python3.10/site-packages/torch/_dynamo/variables/base.py:187\u001b[0m, in \u001b[0;36mVariableTracker.apply\u001b[0;34m(cls, fn, value, cache, skip_fn)\u001b[0m\n\u001b[1;32m    184\u001b[0m \u001b[39mif\u001b[39;00m idx \u001b[39min\u001b[39;00m cache:\n\u001b[1;32m    185\u001b[0m     \u001b[39mreturn\u001b[39;00m cache[idx][\u001b[39m0\u001b[39m]\n\u001b[0;32m--> 187\u001b[0m \u001b[39mif\u001b[39;00m \u001b[39misinstance\u001b[39;49m(value, VariableTracker):\n\u001b[1;32m    188\u001b[0m     \u001b[39mif\u001b[39;00m \u001b[39mnot\u001b[39;00m skip_fn(value):\n\u001b[1;32m    190\u001b[0m         \u001b[39mdef\u001b[39;00m \u001b[39mupdate_object_dict\u001b[39m(v):\n",
      "File \u001b[0;32m~/.conda/envs/cs8803drl_hw2/lib/python3.10/site-packages/torch/_dynamo/variables/base.py:130\u001b[0m, in \u001b[0;36mVariableTrackerMeta.__instancecheck__\u001b[0;34m(cls, instance)\u001b[0m\n\u001b[1;32m    127\u001b[0m \u001b[39mdef\u001b[39;00m \u001b[39m__instancecheck__\u001b[39m(\u001b[39mcls\u001b[39m, instance) \u001b[39m-\u001b[39m\u001b[39m>\u001b[39m \u001b[39mbool\u001b[39m:\n\u001b[1;32m    128\u001b[0m \u001b[39m    \u001b[39m\u001b[39m\"\"\"Make isinstance work with LazyVariableTracker\"\"\"\u001b[39;00m\n\u001b[1;32m    129\u001b[0m     \u001b[39mif\u001b[39;00m \u001b[39mtype\u001b[39m\u001b[39m.\u001b[39m\u001b[39m__instancecheck__\u001b[39m(\n\u001b[0;32m--> 130\u001b[0m         variables\u001b[39m.\u001b[39;49mLazyVariableTracker, instance\n\u001b[1;32m    131\u001b[0m     ) \u001b[39mand\u001b[39;00m \u001b[39mcls\u001b[39m \u001b[39mnot\u001b[39;00m \u001b[39min\u001b[39;00m (\n\u001b[1;32m    132\u001b[0m         VariableTracker,\n\u001b[1;32m    133\u001b[0m         variables\u001b[39m.\u001b[39mLazyVariableTracker,\n\u001b[1;32m    134\u001b[0m     ):\n\u001b[1;32m    135\u001b[0m         instance \u001b[39m=\u001b[39m instance\u001b[39m.\u001b[39mrealize()\n\u001b[1;32m    136\u001b[0m     \u001b[39mreturn\u001b[39;00m \u001b[39mtype\u001b[39m\u001b[39m.\u001b[39m\u001b[39m__instancecheck__\u001b[39m(\u001b[39mcls\u001b[39m, instance)\n",
      "\u001b[0;31mAttributeError\u001b[0m: module 'torch._dynamo.variables' has no attribute 'LazyVariableTracker'"
     ]
    }
   ],
   "source": [
    "from mbexp import main\n",
    "\n",
    "main(\"finrl\",\"MPC\", [], [], \"./log\", env_train)\n"
   ]
  }
 ],
 "metadata": {
  "kernelspec": {
   "display_name": "cs8803drl_hw2",
   "language": "python",
   "name": "python3"
  },
  "language_info": {
   "codemirror_mode": {
    "name": "ipython",
    "version": 3
   },
   "file_extension": ".py",
   "mimetype": "text/x-python",
   "name": "python",
   "nbconvert_exporter": "python",
   "pygments_lexer": "ipython3",
   "version": "3.10.15"
  }
 },
 "nbformat": 4,
 "nbformat_minor": 2
}
